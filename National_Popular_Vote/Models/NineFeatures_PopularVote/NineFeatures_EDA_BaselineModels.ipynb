{
 "cells": [
  {
   "cell_type": "code",
   "execution_count": 1,
   "metadata": {},
   "outputs": [],
   "source": [
    "import numpy as np\n",
    "import pandas as pd\n",
    "import matplotlib.pyplot as plt\n",
    "\n",
    "from sklearn.metrics import mean_squared_error\n",
    "from sklearn.metrics import r2_score\n",
    "from sklearn.model_selection import cross_val_score\n",
    "from sklearn.model_selection import cross_validate\n",
    "from sklearn.utils import resample\n",
    "from sklearn.neighbors import KNeighborsRegressor\n",
    "from sklearn.linear_model import LinearRegression\n",
    "from sklearn.linear_model import Lasso\n",
    "from sklearn.linear_model import LassoCV\n",
    "from sklearn.tree import DecisionTreeRegressor\n",
    "from sklearn.ensemble import RandomForestRegressor\n",
    "from sklearn.ensemble import AdaBoostRegressor\n",
    "from sklearn.metrics import accuracy_score\n",
    "from sklearn.preprocessing import StandardScaler\n",
    "from sklearn.decomposition import PCA\n",
    "from sklearn.model_selection import GridSearchCV\n",
    "\n",
    "import sys\n",
    "import os\n",
    "\n",
    "%matplotlib inline\n",
    "\n",
    "import seaborn as sns\n",
    "sns.set(style='whitegrid')\n",
    "pd.set_option('display.width', 1500)\n",
    "pd.set_option('display.max_columns', 100)"
   ]
  },
  {
   "cell_type": "markdown",
   "metadata": {},
   "source": [
    "## 1. Read in the Data and Initial EDA"
   ]
  },
  {
   "cell_type": "code",
   "execution_count": 2,
   "metadata": {},
   "outputs": [],
   "source": [
    "# Reading in the data\n",
    "df = pd.read_csv('~/Desktop/cs209a-FinalProject/Harvard_G1/data/Merged_Fundamentals_and_Polls/Remastered_df_10pred.csv')\n",
    "df = df.drop(['Unnamed: 0'], axis = 1)"
   ]
  },
  {
   "cell_type": "code",
   "execution_count": 3,
   "metadata": {},
   "outputs": [
    {
     "data": {
      "text/html": [
       "<div>\n",
       "<style scoped>\n",
       "    .dataframe tbody tr th:only-of-type {\n",
       "        vertical-align: middle;\n",
       "    }\n",
       "\n",
       "    .dataframe tbody tr th {\n",
       "        vertical-align: top;\n",
       "    }\n",
       "\n",
       "    .dataframe thead th {\n",
       "        text-align: right;\n",
       "    }\n",
       "</style>\n",
       "<table border=\"1\" class=\"dataframe\">\n",
       "  <thead>\n",
       "    <tr style=\"text-align: right;\">\n",
       "      <th></th>\n",
       "      <th>popular_vote_percentage</th>\n",
       "      <th>NAP</th>\n",
       "      <th>payroll</th>\n",
       "      <th>stock</th>\n",
       "      <th>rdi</th>\n",
       "      <th>election</th>\n",
       "      <th>national_polls</th>\n",
       "      <th>gdp</th>\n",
       "      <th>state_election</th>\n",
       "      <th>Democrat_Republican</th>\n",
       "    </tr>\n",
       "  </thead>\n",
       "  <tbody>\n",
       "    <tr>\n",
       "      <th>0</th>\n",
       "      <td>49.55</td>\n",
       "      <td>0.825641</td>\n",
       "      <td>0.234242</td>\n",
       "      <td>-9.718823</td>\n",
       "      <td>-1.423503</td>\n",
       "      <td>0.031317</td>\n",
       "      <td>1.083528</td>\n",
       "      <td>-0.089281</td>\n",
       "      <td>0.0</td>\n",
       "      <td>1</td>\n",
       "    </tr>\n",
       "    <tr>\n",
       "      <th>1</th>\n",
       "      <td>45.07</td>\n",
       "      <td>0.825641</td>\n",
       "      <td>0.234242</td>\n",
       "      <td>-9.718823</td>\n",
       "      <td>-1.423503</td>\n",
       "      <td>0.031317</td>\n",
       "      <td>0.377789</td>\n",
       "      <td>-0.089281</td>\n",
       "      <td>0.0</td>\n",
       "      <td>0</td>\n",
       "    </tr>\n",
       "    <tr>\n",
       "      <th>2</th>\n",
       "      <td>55.18</td>\n",
       "      <td>-0.310126</td>\n",
       "      <td>0.261147</td>\n",
       "      <td>-1.243207</td>\n",
       "      <td>9.327366</td>\n",
       "      <td>0.115117</td>\n",
       "      <td>-0.339976</td>\n",
       "      <td>0.243113</td>\n",
       "      <td>-1.0</td>\n",
       "      <td>0</td>\n",
       "    </tr>\n",
       "    <tr>\n",
       "      <th>3</th>\n",
       "      <td>44.33</td>\n",
       "      <td>-0.310126</td>\n",
       "      <td>0.261147</td>\n",
       "      <td>-1.243207</td>\n",
       "      <td>9.327366</td>\n",
       "      <td>0.115117</td>\n",
       "      <td>0.145107</td>\n",
       "      <td>0.243113</td>\n",
       "      <td>-1.0</td>\n",
       "      <td>1</td>\n",
       "    </tr>\n",
       "    <tr>\n",
       "      <th>4</th>\n",
       "      <td>57.37</td>\n",
       "      <td>0.277996</td>\n",
       "      <td>0.160302</td>\n",
       "      <td>-16.387651</td>\n",
       "      <td>6.012349</td>\n",
       "      <td>0.055845</td>\n",
       "      <td>0.396180</td>\n",
       "      <td>0.158822</td>\n",
       "      <td>1.0</td>\n",
       "      <td>0</td>\n",
       "    </tr>\n",
       "  </tbody>\n",
       "</table>\n",
       "</div>"
      ],
      "text/plain": [
       "   popular_vote_percentage       NAP   payroll      stock       rdi  election  national_polls       gdp  state_election  Democrat_Republican\n",
       "0                    49.55  0.825641  0.234242  -9.718823 -1.423503  0.031317        1.083528 -0.089281             0.0                    1\n",
       "1                    45.07  0.825641  0.234242  -9.718823 -1.423503  0.031317        0.377789 -0.089281             0.0                    0\n",
       "2                    55.18 -0.310126  0.261147  -1.243207  9.327366  0.115117       -0.339976  0.243113            -1.0                    0\n",
       "3                    44.33 -0.310126  0.261147  -1.243207  9.327366  0.115117        0.145107  0.243113            -1.0                    1\n",
       "4                    57.37  0.277996  0.160302 -16.387651  6.012349  0.055845        0.396180  0.158822             1.0                    0"
      ]
     },
     "metadata": {},
     "output_type": "display_data"
    }
   ],
   "source": [
    "display(df.head())"
   ]
  },
  {
   "cell_type": "code",
   "execution_count": 5,
   "metadata": {},
   "outputs": [
    {
     "data": {
      "text/html": [
       "<div>\n",
       "<style scoped>\n",
       "    .dataframe tbody tr th:only-of-type {\n",
       "        vertical-align: middle;\n",
       "    }\n",
       "\n",
       "    .dataframe tbody tr th {\n",
       "        vertical-align: top;\n",
       "    }\n",
       "\n",
       "    .dataframe thead th {\n",
       "        text-align: right;\n",
       "    }\n",
       "</style>\n",
       "<table border=\"1\" class=\"dataframe\">\n",
       "  <thead>\n",
       "    <tr style=\"text-align: right;\">\n",
       "      <th></th>\n",
       "      <th>popular_vote_percentage</th>\n",
       "      <th>NAP</th>\n",
       "      <th>payroll</th>\n",
       "      <th>stock</th>\n",
       "      <th>rdi</th>\n",
       "      <th>election</th>\n",
       "      <th>national_polls</th>\n",
       "      <th>gdp</th>\n",
       "      <th>state_election</th>\n",
       "      <th>Democrat_Republican</th>\n",
       "    </tr>\n",
       "  </thead>\n",
       "  <tbody>\n",
       "    <tr>\n",
       "      <th>count</th>\n",
       "      <td>38.000000</td>\n",
       "      <td>38.000000</td>\n",
       "      <td>38.000000</td>\n",
       "      <td>38.000000</td>\n",
       "      <td>38.000000</td>\n",
       "      <td>38.000000</td>\n",
       "      <td>38.000000</td>\n",
       "      <td>38.000000</td>\n",
       "      <td>38.000000</td>\n",
       "      <td>38.000000</td>\n",
       "    </tr>\n",
       "    <tr>\n",
       "      <th>mean</th>\n",
       "      <td>47.888947</td>\n",
       "      <td>0.156816</td>\n",
       "      <td>0.080603</td>\n",
       "      <td>-6.943878</td>\n",
       "      <td>0.910273</td>\n",
       "      <td>0.033590</td>\n",
       "      <td>0.267359</td>\n",
       "      <td>0.093756</td>\n",
       "      <td>0.263158</td>\n",
       "      <td>0.500000</td>\n",
       "    </tr>\n",
       "    <tr>\n",
       "      <th>std</th>\n",
       "      <td>5.931859</td>\n",
       "      <td>0.292451</td>\n",
       "      <td>0.224088</td>\n",
       "      <td>14.691477</td>\n",
       "      <td>5.330156</td>\n",
       "      <td>0.053306</td>\n",
       "      <td>0.411531</td>\n",
       "      <td>0.065983</td>\n",
       "      <td>0.920758</td>\n",
       "      <td>0.506712</td>\n",
       "    </tr>\n",
       "    <tr>\n",
       "      <th>min</th>\n",
       "      <td>37.450000</td>\n",
       "      <td>-0.438399</td>\n",
       "      <td>-0.810255</td>\n",
       "      <td>-47.703968</td>\n",
       "      <td>-9.395652</td>\n",
       "      <td>-0.112869</td>\n",
       "      <td>-0.547339</td>\n",
       "      <td>-0.089281</td>\n",
       "      <td>-1.000000</td>\n",
       "      <td>0.000000</td>\n",
       "    </tr>\n",
       "    <tr>\n",
       "      <th>25%</th>\n",
       "      <td>43.647500</td>\n",
       "      <td>-0.023570</td>\n",
       "      <td>0.081262</td>\n",
       "      <td>-13.423767</td>\n",
       "      <td>-1.534151</td>\n",
       "      <td>0.031709</td>\n",
       "      <td>0.118346</td>\n",
       "      <td>0.066916</td>\n",
       "      <td>-1.000000</td>\n",
       "      <td>0.000000</td>\n",
       "    </tr>\n",
       "    <tr>\n",
       "      <th>50%</th>\n",
       "      <td>48.100000</td>\n",
       "      <td>0.160119</td>\n",
       "      <td>0.126141</td>\n",
       "      <td>-6.608670</td>\n",
       "      <td>0.577778</td>\n",
       "      <td>0.044007</td>\n",
       "      <td>0.185341</td>\n",
       "      <td>0.092272</td>\n",
       "      <td>1.000000</td>\n",
       "      <td>0.500000</td>\n",
       "    </tr>\n",
       "    <tr>\n",
       "      <th>75%</th>\n",
       "      <td>50.745000</td>\n",
       "      <td>0.290678</td>\n",
       "      <td>0.171749</td>\n",
       "      <td>-0.665031</td>\n",
       "      <td>3.717991</td>\n",
       "      <td>0.061724</td>\n",
       "      <td>0.333929</td>\n",
       "      <td>0.137343</td>\n",
       "      <td>1.000000</td>\n",
       "      <td>1.000000</td>\n",
       "    </tr>\n",
       "    <tr>\n",
       "      <th>max</th>\n",
       "      <td>61.050000</td>\n",
       "      <td>0.825641</td>\n",
       "      <td>0.261147</td>\n",
       "      <td>27.750394</td>\n",
       "      <td>13.389655</td>\n",
       "      <td>0.115117</td>\n",
       "      <td>1.700435</td>\n",
       "      <td>0.243113</td>\n",
       "      <td>1.000000</td>\n",
       "      <td>1.000000</td>\n",
       "    </tr>\n",
       "  </tbody>\n",
       "</table>\n",
       "</div>"
      ],
      "text/plain": [
       "       popular_vote_percentage        NAP    payroll      stock        rdi   election  national_polls        gdp  state_election  Democrat_Republican\n",
       "count                38.000000  38.000000  38.000000  38.000000  38.000000  38.000000       38.000000  38.000000       38.000000            38.000000\n",
       "mean                 47.888947   0.156816   0.080603  -6.943878   0.910273   0.033590        0.267359   0.093756        0.263158             0.500000\n",
       "std                   5.931859   0.292451   0.224088  14.691477   5.330156   0.053306        0.411531   0.065983        0.920758             0.506712\n",
       "min                  37.450000  -0.438399  -0.810255 -47.703968  -9.395652  -0.112869       -0.547339  -0.089281       -1.000000             0.000000\n",
       "25%                  43.647500  -0.023570   0.081262 -13.423767  -1.534151   0.031709        0.118346   0.066916       -1.000000             0.000000\n",
       "50%                  48.100000   0.160119   0.126141  -6.608670   0.577778   0.044007        0.185341   0.092272        1.000000             0.500000\n",
       "75%                  50.745000   0.290678   0.171749  -0.665031   3.717991   0.061724        0.333929   0.137343        1.000000             1.000000\n",
       "max                  61.050000   0.825641   0.261147  27.750394  13.389655   0.115117        1.700435   0.243113        1.000000             1.000000"
      ]
     },
     "metadata": {},
     "output_type": "display_data"
    }
   ],
   "source": [
    "display(df.describe())"
   ]
  },
  {
   "cell_type": "markdown",
   "metadata": {},
   "source": [
    "The only two features that are not engineered in this DataFrame are **popular_vote_percentage** and **Democrat_Republican**.\n",
    "- **popular_vote_percentage** - Shows the percentage of popular votes each presidentail candidate (Democrate or Republican) has won since 1948. As we observe from the data above, all the values seem reasonable, with $min = 37.45\\%$ and $max = 61.05\\%$. One thing worth poinitng out is that the mean of the **popular_vote_percentage** feature is not $\\mu = 50\\%$. This might seem confusing at first glance, but although the US political system is a two-party system, at each elections, there are some third-party or independent candidates that win some (usually) negligible vote percentage.\n",
    "- **Democrat_Republican** - Shows if a presidential candidate is Democrat or Republican. As we expect, this feature is balanced, as exactly $50\\%$ of the candidates are Democrats and the other $50\\%$ are Republicans.\n"
   ]
  },
  {
   "cell_type": "code",
   "execution_count": 8,
   "metadata": {},
   "outputs": [
    {
     "data": {
      "text/plain": [
       "<seaborn.axisgrid.PairGrid at 0x120ace7c0>"
      ]
     },
     "execution_count": 8,
     "metadata": {},
     "output_type": "execute_result"
    },
    {
     "data": {
      "image/png": "[encoded data removed]",
      "text/plain": [
       "<Figure size 1620x1620 with 90 Axes>"
      ]
     },
     "metadata": {},
     "output_type": "display_data"
    }
   ],
   "source": [
    "# Making a features pair-plot to investigate correlations between features\n",
    "df_pair_plot = df.drop(['popular_vote_percentage'], axis = 1)\n",
    "\n",
    "sns.set_style(\"whitegrid\", {'axes.grid' : False})\n",
    "sns.pairplot(df_pair_plot)"
   ]
  },
  {
   "cell_type": "code",
   "execution_count": 9,
   "metadata": {},
   "outputs": [
    {
     "data": {
      "text/html": [
       "<div>\n",
       "<style scoped>\n",
       "    .dataframe tbody tr th:only-of-type {\n",
       "        vertical-align: middle;\n",
       "    }\n",
       "\n",
       "    .dataframe tbody tr th {\n",
       "        vertical-align: top;\n",
       "    }\n",
       "\n",
       "    .dataframe thead th {\n",
       "        text-align: right;\n",
       "    }\n",
       "</style>\n",
       "<table border=\"1\" class=\"dataframe\">\n",
       "  <thead>\n",
       "    <tr style=\"text-align: right;\">\n",
       "      <th></th>\n",
       "      <th>NAP</th>\n",
       "      <th>payroll</th>\n",
       "      <th>stock</th>\n",
       "      <th>rdi</th>\n",
       "      <th>election</th>\n",
       "      <th>national_polls</th>\n",
       "      <th>gdp</th>\n",
       "      <th>state_election</th>\n",
       "      <th>Democrat_Republican</th>\n",
       "    </tr>\n",
       "  </thead>\n",
       "  <tbody>\n",
       "    <tr>\n",
       "      <th>NAP</th>\n",
       "      <td>1.000000</td>\n",
       "      <td>-0.260702</td>\n",
       "      <td>0.208599</td>\n",
       "      <td>-0.175240</td>\n",
       "      <td>-0.118891</td>\n",
       "      <td>0.245562</td>\n",
       "      <td>-0.634079</td>\n",
       "      <td>0.396063</td>\n",
       "      <td>0.000000</td>\n",
       "    </tr>\n",
       "    <tr>\n",
       "      <th>payroll</th>\n",
       "      <td>-0.260702</td>\n",
       "      <td>1.000000</td>\n",
       "      <td>0.260686</td>\n",
       "      <td>0.144824</td>\n",
       "      <td>0.764232</td>\n",
       "      <td>0.094932</td>\n",
       "      <td>0.154063</td>\n",
       "      <td>-0.217054</td>\n",
       "      <td>0.000000</td>\n",
       "    </tr>\n",
       "    <tr>\n",
       "      <th>stock</th>\n",
       "      <td>0.208599</td>\n",
       "      <td>0.260686</td>\n",
       "      <td>1.000000</td>\n",
       "      <td>0.025136</td>\n",
       "      <td>0.534316</td>\n",
       "      <td>-0.062951</td>\n",
       "      <td>0.159207</td>\n",
       "      <td>0.282587</td>\n",
       "      <td>0.000000</td>\n",
       "    </tr>\n",
       "    <tr>\n",
       "      <th>rdi</th>\n",
       "      <td>-0.175240</td>\n",
       "      <td>0.144824</td>\n",
       "      <td>0.025136</td>\n",
       "      <td>1.000000</td>\n",
       "      <td>0.338385</td>\n",
       "      <td>-0.082922</td>\n",
       "      <td>0.418721</td>\n",
       "      <td>-0.096106</td>\n",
       "      <td>0.000000</td>\n",
       "    </tr>\n",
       "    <tr>\n",
       "      <th>election</th>\n",
       "      <td>-0.118891</td>\n",
       "      <td>0.764232</td>\n",
       "      <td>0.534316</td>\n",
       "      <td>0.338385</td>\n",
       "      <td>1.000000</td>\n",
       "      <td>-0.055610</td>\n",
       "      <td>0.310715</td>\n",
       "      <td>0.109366</td>\n",
       "      <td>0.000000</td>\n",
       "    </tr>\n",
       "    <tr>\n",
       "      <th>national_polls</th>\n",
       "      <td>0.245562</td>\n",
       "      <td>0.094932</td>\n",
       "      <td>-0.062951</td>\n",
       "      <td>-0.082922</td>\n",
       "      <td>-0.055610</td>\n",
       "      <td>1.000000</td>\n",
       "      <td>-0.224071</td>\n",
       "      <td>0.079351</td>\n",
       "      <td>-0.131672</td>\n",
       "    </tr>\n",
       "    <tr>\n",
       "      <th>gdp</th>\n",
       "      <td>-0.634079</td>\n",
       "      <td>0.154063</td>\n",
       "      <td>0.159207</td>\n",
       "      <td>0.418721</td>\n",
       "      <td>0.310715</td>\n",
       "      <td>-0.224071</td>\n",
       "      <td>1.000000</td>\n",
       "      <td>-0.197311</td>\n",
       "      <td>0.000000</td>\n",
       "    </tr>\n",
       "    <tr>\n",
       "      <th>state_election</th>\n",
       "      <td>0.396063</td>\n",
       "      <td>-0.217054</td>\n",
       "      <td>0.282587</td>\n",
       "      <td>-0.096106</td>\n",
       "      <td>0.109366</td>\n",
       "      <td>0.079351</td>\n",
       "      <td>-0.197311</td>\n",
       "      <td>1.000000</td>\n",
       "      <td>0.000000</td>\n",
       "    </tr>\n",
       "    <tr>\n",
       "      <th>Democrat_Republican</th>\n",
       "      <td>0.000000</td>\n",
       "      <td>0.000000</td>\n",
       "      <td>0.000000</td>\n",
       "      <td>0.000000</td>\n",
       "      <td>0.000000</td>\n",
       "      <td>-0.131672</td>\n",
       "      <td>0.000000</td>\n",
       "      <td>0.000000</td>\n",
       "      <td>1.000000</td>\n",
       "    </tr>\n",
       "  </tbody>\n",
       "</table>\n",
       "</div>"
      ],
      "text/plain": [
       "                          NAP   payroll     stock       rdi  election  national_polls       gdp  state_election  Democrat_Republican\n",
       "NAP                  1.000000 -0.260702  0.208599 -0.175240 -0.118891        0.245562 -0.634079        0.396063             0.000000\n",
       "payroll             -0.260702  1.000000  0.260686  0.144824  0.764232        0.094932  0.154063       -0.217054             0.000000\n",
       "stock                0.208599  0.260686  1.000000  0.025136  0.534316       -0.062951  0.159207        0.282587             0.000000\n",
       "rdi                 -0.175240  0.144824  0.025136  1.000000  0.338385       -0.082922  0.418721       -0.096106             0.000000\n",
       "election            -0.118891  0.764232  0.534316  0.338385  1.000000       -0.055610  0.310715        0.109366             0.000000\n",
       "national_polls       0.245562  0.094932 -0.062951 -0.082922 -0.055610        1.000000 -0.224071        0.079351            -0.131672\n",
       "gdp                 -0.634079  0.154063  0.159207  0.418721  0.310715       -0.224071  1.000000       -0.197311             0.000000\n",
       "state_election       0.396063 -0.217054  0.282587 -0.096106  0.109366        0.079351 -0.197311        1.000000             0.000000\n",
       "Democrat_Republican  0.000000  0.000000  0.000000  0.000000  0.000000       -0.131672  0.000000        0.000000             1.000000"
      ]
     },
     "metadata": {},
     "output_type": "display_data"
    }
   ],
   "source": [
    "# Feature correlation matrix\n",
    "correlation_df = pd.DataFrame(df_pair_plot.corr())\n",
    "display(correlation_df)"
   ]
  },
  {
   "cell_type": "markdown",
   "metadata": {},
   "source": [
    "The pair-plot above does not display any evident correlation between features. This might seem like a good thing at first glance but actually is rather worrisome, as it might mean that our data is not expessive enough for the problem at hand. In adition we elaborate on some instances where strong features correlation was expected by did not occur:\n",
    "- Weak correlation between **NAP - natinal approval rating** and **national_polls - results from national polls**. A strogner correlation between these two features was expected as the national approval rating logically seems like a direct indicator of president's results in the national polls.\n",
    "- Rather strong negative correlation between **NAP - national approval rating** and **gdp - gross domestic product** $(-0.634)$. This observation is also rather surprising as it seems like in the years with lower **gdp** president's had higher **NAP**.\n",
    "- Negative correlation between **NAP - natinal approval rating** and **payroll**. This one seems pretty self explanatory, in years with higher **payroll** president's **NAP** seems to have been lower."
   ]
  },
  {
   "cell_type": "markdown",
   "metadata": {},
   "source": [
    "Now we are going to explore the distribution of the variables in the DataFrame. The intent is to look for potential outliers.\n",
    "\n",
    "Note, for this part we exclude the **Democrat_Republican** feature, as it has only two possible values, and we already know its distribution."
   ]
  },
  {
   "cell_type": "code",
   "execution_count": 153,
   "metadata": {},
   "outputs": [
    {
     "data": {
      "image/png": "[encoded data removed]",
      "text/plain": [
       "<Figure size 3600x1440 with 9 Axes>"
      ]
     },
     "metadata": {},
     "output_type": "display_data"
    }
   ],
   "source": [
    "fig, axs = plt.subplots(nrows=3, ncols=3, figsize=(50, 20), facecolor='w', edgecolor='k')\n",
    "fig.subplots_adjust(hspace = .5, wspace=.2)\n",
    "axs = axs.ravel()\n",
    "fontsize = 10\n",
    "\n",
    "variables = ['NAP', 'payroll', 'stock', 'rdi', 'election', 'national_polls', 'gdp', 'state_election', 'popular_vote_percentage']\n",
    "\n",
    "# Plot histograms\n",
    "for i, variable in enumerate(variables):\n",
    "    axs[i].hist(df[variable], alpha=0.7, color='royalblue', bins='auto', density=False, histtype = 'bar', edgecolor='k')\n",
    "    axs[i].set_title(\"Distribution of \" + variable + \" Variable\", fontsize=fontsize)\n",
    "    axs[i].set_xlabel(variable + \" Variable\", fontsize=fontsize)\n",
    "    axs[i].set_ylabel('Count', fontsize=fontsize)"
   ]
  },
  {
   "cell_type": "markdown",
   "metadata": {},
   "source": [
    "All of the variables, except for **payroll** seem pretty reasonable, with a nice spread of the values. However, we do observe something weird in the **payroll** variable. There seems to be two \"very\" negative $-0.81$ observations, where all the other **payroll** observations are either positive or \"slightly\" negative. Let's explore further to see if these values outliers, or they have appeared due to some logical sequence of factors."
   ]
  },
  {
   "cell_type": "code",
   "execution_count": 11,
   "metadata": {},
   "outputs": [
    {
     "data": {
      "text/html": [
       "<div>\n",
       "<style scoped>\n",
       "    .dataframe tbody tr th:only-of-type {\n",
       "        vertical-align: middle;\n",
       "    }\n",
       "\n",
       "    .dataframe tbody tr th {\n",
       "        vertical-align: top;\n",
       "    }\n",
       "\n",
       "    .dataframe thead th {\n",
       "        text-align: right;\n",
       "    }\n",
       "</style>\n",
       "<table border=\"1\" class=\"dataframe\">\n",
       "  <thead>\n",
       "    <tr style=\"text-align: right;\">\n",
       "      <th></th>\n",
       "      <th>popular_vote_percentage</th>\n",
       "      <th>NAP</th>\n",
       "      <th>payroll</th>\n",
       "      <th>stock</th>\n",
       "      <th>rdi</th>\n",
       "      <th>election</th>\n",
       "      <th>national_polls</th>\n",
       "      <th>gdp</th>\n",
       "      <th>state_election</th>\n",
       "      <th>Democrat_Republican</th>\n",
       "    </tr>\n",
       "  </thead>\n",
       "  <tbody>\n",
       "    <tr>\n",
       "      <th>36</th>\n",
       "      <td>47.4</td>\n",
       "      <td>0.55969</td>\n",
       "      <td>-0.810255</td>\n",
       "      <td>-14.658748</td>\n",
       "      <td>-1.571033</td>\n",
       "      <td>-0.112869</td>\n",
       "      <td>0.138836</td>\n",
       "      <td>0.071533</td>\n",
       "      <td>1.0</td>\n",
       "      <td>0</td>\n",
       "    </tr>\n",
       "    <tr>\n",
       "      <th>37</th>\n",
       "      <td>50.8</td>\n",
       "      <td>0.55969</td>\n",
       "      <td>-0.810255</td>\n",
       "      <td>-14.658748</td>\n",
       "      <td>-1.571033</td>\n",
       "      <td>-0.112869</td>\n",
       "      <td>0.116536</td>\n",
       "      <td>0.071533</td>\n",
       "      <td>1.0</td>\n",
       "      <td>1</td>\n",
       "    </tr>\n",
       "  </tbody>\n",
       "</table>\n",
       "</div>"
      ],
      "text/plain": [
       "    popular_vote_percentage      NAP   payroll      stock       rdi  election  national_polls       gdp  state_election  Democrat_Republican\n",
       "36                     47.4  0.55969 -0.810255 -14.658748 -1.571033 -0.112869        0.138836  0.071533             1.0                    0\n",
       "37                     50.8  0.55969 -0.810255 -14.658748 -1.571033 -0.112869        0.116536  0.071533             1.0                    1"
      ]
     },
     "execution_count": 11,
     "metadata": {},
     "output_type": "execute_result"
    }
   ],
   "source": [
    "df.loc[(df['payroll']<=-0.8)]"
   ]
  },
  {
   "cell_type": "markdown",
   "metadata": {},
   "source": [
    "From the data above, we observe that these two observation are from the 2020 elections. These values seems reasonable as there was an evident decline in the **payroll** as a result of the Covid-19 crisis. Therefore, we conclude that these values are not outliers and we continue further with our EDA.\n",
    "Although it would be worth keeping this information in mind as the value of the **payroll** variable for the 2020 elections might highly influence our prediction of the *popular vote*."
   ]
  },
  {
   "cell_type": "markdown",
   "metadata": {},
   "source": [
    "## 2. Bootstrapped LassoCV to Assess Feature Importance"
   ]
  },
  {
   "cell_type": "code",
   "execution_count": 12,
   "metadata": {},
   "outputs": [],
   "source": [
    "# Splitting into training and testing sets\n",
    "X = df.drop(['popular_vote_percentage'], axis=1)\n",
    "Y = df['popular_vote_percentage']\n",
    "X_train = X.drop([36,37]).values\n",
    "y_train = Y.drop([36,37]).values\n",
    "X_test = X.iloc[[36,37]].values\n",
    "y_test = Y.iloc[[36,37]].values"
   ]
  },
  {
   "cell_type": "code",
   "execution_count": 14,
   "metadata": {},
   "outputs": [
    {
     "data": {
      "text/html": [
       "<div>\n",
       "<style scoped>\n",
       "    .dataframe tbody tr th:only-of-type {\n",
       "        vertical-align: middle;\n",
       "    }\n",
       "\n",
       "    .dataframe tbody tr th {\n",
       "        vertical-align: top;\n",
       "    }\n",
       "\n",
       "    .dataframe thead th {\n",
       "        text-align: right;\n",
       "    }\n",
       "</style>\n",
       "<table border=\"1\" class=\"dataframe\">\n",
       "  <thead>\n",
       "    <tr style=\"text-align: right;\">\n",
       "      <th></th>\n",
       "      <th>NAP</th>\n",
       "      <th>payroll</th>\n",
       "      <th>stock</th>\n",
       "      <th>rdi</th>\n",
       "      <th>election</th>\n",
       "      <th>national_polls</th>\n",
       "      <th>gdp</th>\n",
       "      <th>Democrat_Republican</th>\n",
       "      <th>state_election</th>\n",
       "    </tr>\n",
       "  </thead>\n",
       "  <tbody>\n",
       "    <tr>\n",
       "      <th>0</th>\n",
       "      <td>2.317666</td>\n",
       "      <td>0.694822</td>\n",
       "      <td>-0.191417</td>\n",
       "      <td>-0.443721</td>\n",
       "      <td>-0.043218</td>\n",
       "      <td>2.009872</td>\n",
       "      <td>-2.811254</td>\n",
       "      <td>1</td>\n",
       "      <td>0.0</td>\n",
       "    </tr>\n",
       "    <tr>\n",
       "      <th>1</th>\n",
       "      <td>2.317666</td>\n",
       "      <td>0.694822</td>\n",
       "      <td>-0.191417</td>\n",
       "      <td>-0.443721</td>\n",
       "      <td>-0.043218</td>\n",
       "      <td>0.271941</td>\n",
       "      <td>-2.811254</td>\n",
       "      <td>0</td>\n",
       "      <td>0.0</td>\n",
       "    </tr>\n",
       "    <tr>\n",
       "      <th>2</th>\n",
       "      <td>-1.618086</td>\n",
       "      <td>0.816498</td>\n",
       "      <td>0.393234</td>\n",
       "      <td>1.600343</td>\n",
       "      <td>1.549956</td>\n",
       "      <td>-1.495606</td>\n",
       "      <td>2.293957</td>\n",
       "      <td>0</td>\n",
       "      <td>-1.0</td>\n",
       "    </tr>\n",
       "    <tr>\n",
       "      <th>3</th>\n",
       "      <td>-1.618086</td>\n",
       "      <td>0.816498</td>\n",
       "      <td>0.393234</td>\n",
       "      <td>1.600343</td>\n",
       "      <td>1.549956</td>\n",
       "      <td>-0.301056</td>\n",
       "      <td>2.293957</td>\n",
       "      <td>1</td>\n",
       "      <td>-1.0</td>\n",
       "    </tr>\n",
       "    <tr>\n",
       "      <th>4</th>\n",
       "      <td>0.419923</td>\n",
       "      <td>0.360434</td>\n",
       "      <td>-0.651435</td>\n",
       "      <td>0.970059</td>\n",
       "      <td>0.423092</td>\n",
       "      <td>0.317229</td>\n",
       "      <td>0.999344</td>\n",
       "      <td>0</td>\n",
       "      <td>1.0</td>\n",
       "    </tr>\n",
       "    <tr>\n",
       "      <th>5</th>\n",
       "      <td>0.419923</td>\n",
       "      <td>0.360434</td>\n",
       "      <td>-0.651435</td>\n",
       "      <td>0.970059</td>\n",
       "      <td>0.423092</td>\n",
       "      <td>-0.326338</td>\n",
       "      <td>0.999344</td>\n",
       "      <td>1</td>\n",
       "      <td>1.0</td>\n",
       "    </tr>\n",
       "    <tr>\n",
       "      <th>6</th>\n",
       "      <td>0.011446</td>\n",
       "      <td>0.036944</td>\n",
       "      <td>-0.169566</td>\n",
       "      <td>0.769470</td>\n",
       "      <td>-1.287107</td>\n",
       "      <td>0.063623</td>\n",
       "      <td>0.379243</td>\n",
       "      <td>1</td>\n",
       "      <td>-1.0</td>\n",
       "    </tr>\n",
       "    <tr>\n",
       "      <th>7</th>\n",
       "      <td>0.011446</td>\n",
       "      <td>0.036944</td>\n",
       "      <td>-0.169566</td>\n",
       "      <td>0.769470</td>\n",
       "      <td>-1.287107</td>\n",
       "      <td>0.013565</td>\n",
       "      <td>0.379243</td>\n",
       "      <td>0</td>\n",
       "      <td>-1.0</td>\n",
       "    </tr>\n",
       "    <tr>\n",
       "      <th>8</th>\n",
       "      <td>-0.744231</td>\n",
       "      <td>0.323772</td>\n",
       "      <td>-0.014344</td>\n",
       "      <td>0.312956</td>\n",
       "      <td>0.338592</td>\n",
       "      <td>-0.900030</td>\n",
       "      <td>0.806024</td>\n",
       "      <td>1</td>\n",
       "      <td>1.0</td>\n",
       "    </tr>\n",
       "    <tr>\n",
       "      <th>9</th>\n",
       "      <td>-0.744231</td>\n",
       "      <td>0.323772</td>\n",
       "      <td>-0.014344</td>\n",
       "      <td>0.312956</td>\n",
       "      <td>0.338592</td>\n",
       "      <td>3.529049</td>\n",
       "      <td>0.806024</td>\n",
       "      <td>0</td>\n",
       "      <td>1.0</td>\n",
       "    </tr>\n",
       "    <tr>\n",
       "      <th>10</th>\n",
       "      <td>-0.310866</td>\n",
       "      <td>0.606668</td>\n",
       "      <td>-0.107557</td>\n",
       "      <td>-0.252279</td>\n",
       "      <td>0.198035</td>\n",
       "      <td>0.906873</td>\n",
       "      <td>0.072359</td>\n",
       "      <td>1</td>\n",
       "      <td>0.0</td>\n",
       "    </tr>\n",
       "    <tr>\n",
       "      <th>11</th>\n",
       "      <td>-0.310866</td>\n",
       "      <td>0.606668</td>\n",
       "      <td>-0.107557</td>\n",
       "      <td>-0.252279</td>\n",
       "      <td>0.198035</td>\n",
       "      <td>0.149001</td>\n",
       "      <td>0.072359</td>\n",
       "      <td>0</td>\n",
       "      <td>0.0</td>\n",
       "    </tr>\n",
       "    <tr>\n",
       "      <th>12</th>\n",
       "      <td>0.034297</td>\n",
       "      <td>0.369203</td>\n",
       "      <td>0.711918</td>\n",
       "      <td>-0.081166</td>\n",
       "      <td>1.107026</td>\n",
       "      <td>-0.225820</td>\n",
       "      <td>-0.124084</td>\n",
       "      <td>1</td>\n",
       "      <td>1.0</td>\n",
       "    </tr>\n",
       "    <tr>\n",
       "      <th>13</th>\n",
       "      <td>0.034297</td>\n",
       "      <td>0.369203</td>\n",
       "      <td>0.711918</td>\n",
       "      <td>-0.081166</td>\n",
       "      <td>1.107026</td>\n",
       "      <td>-0.456783</td>\n",
       "      <td>-0.124084</td>\n",
       "      <td>0</td>\n",
       "      <td>1.0</td>\n",
       "    </tr>\n",
       "    <tr>\n",
       "      <th>14</th>\n",
       "      <td>0.578420</td>\n",
       "      <td>-0.003607</td>\n",
       "      <td>0.084509</td>\n",
       "      <td>-1.481712</td>\n",
       "      <td>0.122942</td>\n",
       "      <td>1.019268</td>\n",
       "      <td>-0.954256</td>\n",
       "      <td>0</td>\n",
       "      <td>1.0</td>\n",
       "    </tr>\n",
       "    <tr>\n",
       "      <th>15</th>\n",
       "      <td>0.578420</td>\n",
       "      <td>-0.003607</td>\n",
       "      <td>0.084509</td>\n",
       "      <td>-1.481712</td>\n",
       "      <td>0.122942</td>\n",
       "      <td>-1.567691</td>\n",
       "      <td>-0.954256</td>\n",
       "      <td>1</td>\n",
       "      <td>1.0</td>\n",
       "    </tr>\n",
       "    <tr>\n",
       "      <th>16</th>\n",
       "      <td>1.268752</td>\n",
       "      <td>0.154460</td>\n",
       "      <td>0.631563</td>\n",
       "      <td>-0.675783</td>\n",
       "      <td>-0.011863</td>\n",
       "      <td>2.261010</td>\n",
       "      <td>-0.022789</td>\n",
       "      <td>1</td>\n",
       "      <td>1.0</td>\n",
       "    </tr>\n",
       "    <tr>\n",
       "      <th>17</th>\n",
       "      <td>1.268752</td>\n",
       "      <td>0.154460</td>\n",
       "      <td>0.631563</td>\n",
       "      <td>-0.675783</td>\n",
       "      <td>-0.011863</td>\n",
       "      <td>0.168908</td>\n",
       "      <td>-0.022789</td>\n",
       "      <td>0</td>\n",
       "      <td>1.0</td>\n",
       "    </tr>\n",
       "    <tr>\n",
       "      <th>18</th>\n",
       "      <td>-0.502108</td>\n",
       "      <td>0.426535</td>\n",
       "      <td>0.023123</td>\n",
       "      <td>0.589878</td>\n",
       "      <td>0.524624</td>\n",
       "      <td>-0.135038</td>\n",
       "      <td>0.765058</td>\n",
       "      <td>0</td>\n",
       "      <td>1.0</td>\n",
       "    </tr>\n",
       "    <tr>\n",
       "      <th>19</th>\n",
       "      <td>-0.502108</td>\n",
       "      <td>0.426535</td>\n",
       "      <td>0.023123</td>\n",
       "      <td>0.589878</td>\n",
       "      <td>0.524624</td>\n",
       "      <td>-0.986547</td>\n",
       "      <td>0.765058</td>\n",
       "      <td>1</td>\n",
       "      <td>1.0</td>\n",
       "    </tr>\n",
       "    <tr>\n",
       "      <th>20</th>\n",
       "      <td>-0.150340</td>\n",
       "      <td>0.442678</td>\n",
       "      <td>1.220296</td>\n",
       "      <td>0.365692</td>\n",
       "      <td>0.593960</td>\n",
       "      <td>1.295891</td>\n",
       "      <td>0.382612</td>\n",
       "      <td>0</td>\n",
       "      <td>-1.0</td>\n",
       "    </tr>\n",
       "    <tr>\n",
       "      <th>21</th>\n",
       "      <td>-0.150340</td>\n",
       "      <td>0.442678</td>\n",
       "      <td>1.220296</td>\n",
       "      <td>0.365692</td>\n",
       "      <td>0.593960</td>\n",
       "      <td>-2.006252</td>\n",
       "      <td>0.382612</td>\n",
       "      <td>1</td>\n",
       "      <td>-1.0</td>\n",
       "    </tr>\n",
       "    <tr>\n",
       "      <th>22</th>\n",
       "      <td>0.478517</td>\n",
       "      <td>-0.296785</td>\n",
       "      <td>-0.549464</td>\n",
       "      <td>2.372707</td>\n",
       "      <td>0.538290</td>\n",
       "      <td>0.147710</td>\n",
       "      <td>-0.989096</td>\n",
       "      <td>1</td>\n",
       "      <td>1.0</td>\n",
       "    </tr>\n",
       "    <tr>\n",
       "      <th>23</th>\n",
       "      <td>0.478517</td>\n",
       "      <td>-0.296785</td>\n",
       "      <td>-0.549464</td>\n",
       "      <td>2.372707</td>\n",
       "      <td>0.538290</td>\n",
       "      <td>-0.194180</td>\n",
       "      <td>-0.989096</td>\n",
       "      <td>0</td>\n",
       "      <td>1.0</td>\n",
       "    </tr>\n",
       "    <tr>\n",
       "      <th>24</th>\n",
       "      <td>0.314950</td>\n",
       "      <td>0.316662</td>\n",
       "      <td>2.393224</td>\n",
       "      <td>0.005989</td>\n",
       "      <td>0.611786</td>\n",
       "      <td>-0.342111</td>\n",
       "      <td>-0.132163</td>\n",
       "      <td>1</td>\n",
       "      <td>1.0</td>\n",
       "    </tr>\n",
       "    <tr>\n",
       "      <th>25</th>\n",
       "      <td>0.314950</td>\n",
       "      <td>0.316662</td>\n",
       "      <td>2.393224</td>\n",
       "      <td>0.005989</td>\n",
       "      <td>0.611786</td>\n",
       "      <td>-0.337024</td>\n",
       "      <td>-0.132163</td>\n",
       "      <td>0</td>\n",
       "      <td>1.0</td>\n",
       "    </tr>\n",
       "    <tr>\n",
       "      <th>26</th>\n",
       "      <td>-0.925613</td>\n",
       "      <td>0.205943</td>\n",
       "      <td>0.279646</td>\n",
       "      <td>0.066245</td>\n",
       "      <td>0.115579</td>\n",
       "      <td>-0.163542</td>\n",
       "      <td>0.785885</td>\n",
       "      <td>1</td>\n",
       "      <td>-1.0</td>\n",
       "    </tr>\n",
       "    <tr>\n",
       "      <th>27</th>\n",
       "      <td>-0.925613</td>\n",
       "      <td>0.205943</td>\n",
       "      <td>0.279646</td>\n",
       "      <td>0.066245</td>\n",
       "      <td>0.115579</td>\n",
       "      <td>-0.209770</td>\n",
       "      <td>0.785885</td>\n",
       "      <td>0</td>\n",
       "      <td>-1.0</td>\n",
       "    </tr>\n",
       "    <tr>\n",
       "      <th>28</th>\n",
       "      <td>-0.163355</td>\n",
       "      <td>-0.168767</td>\n",
       "      <td>0.045264</td>\n",
       "      <td>-0.063217</td>\n",
       "      <td>0.437028</td>\n",
       "      <td>-0.353588</td>\n",
       "      <td>0.210672</td>\n",
       "      <td>0</td>\n",
       "      <td>1.0</td>\n",
       "    </tr>\n",
       "    <tr>\n",
       "      <th>29</th>\n",
       "      <td>-0.163355</td>\n",
       "      <td>-0.168767</td>\n",
       "      <td>0.045264</td>\n",
       "      <td>-0.063217</td>\n",
       "      <td>0.437028</td>\n",
       "      <td>-0.510705</td>\n",
       "      <td>0.210672</td>\n",
       "      <td>1</td>\n",
       "      <td>1.0</td>\n",
       "    </tr>\n",
       "    <tr>\n",
       "      <th>30</th>\n",
       "      <td>-2.062588</td>\n",
       "      <td>-0.437901</td>\n",
       "      <td>-2.811646</td>\n",
       "      <td>-0.371880</td>\n",
       "      <td>-1.980385</td>\n",
       "      <td>0.361135</td>\n",
       "      <td>-0.435877</td>\n",
       "      <td>1</td>\n",
       "      <td>-1.0</td>\n",
       "    </tr>\n",
       "    <tr>\n",
       "      <th>31</th>\n",
       "      <td>-2.062588</td>\n",
       "      <td>-0.437901</td>\n",
       "      <td>-2.811646</td>\n",
       "      <td>-0.371880</td>\n",
       "      <td>-1.980385</td>\n",
       "      <td>-0.494657</td>\n",
       "      <td>-0.435877</td>\n",
       "      <td>0</td>\n",
       "      <td>-1.0</td>\n",
       "    </tr>\n",
       "    <tr>\n",
       "      <th>32</th>\n",
       "      <td>-0.666081</td>\n",
       "      <td>0.022733</td>\n",
       "      <td>0.446411</td>\n",
       "      <td>-1.959467</td>\n",
       "      <td>-0.440551</td>\n",
       "      <td>-0.456966</td>\n",
       "      <td>-0.550994</td>\n",
       "      <td>1</td>\n",
       "      <td>1.0</td>\n",
       "    </tr>\n",
       "    <tr>\n",
       "      <th>33</th>\n",
       "      <td>-0.666081</td>\n",
       "      <td>0.022733</td>\n",
       "      <td>0.446411</td>\n",
       "      <td>-1.959467</td>\n",
       "      <td>-0.440551</td>\n",
       "      <td>-0.261482</td>\n",
       "      <td>-0.550994</td>\n",
       "      <td>0</td>\n",
       "      <td>1.0</td>\n",
       "    </tr>\n",
       "    <tr>\n",
       "      <th>34</th>\n",
       "      <td>0.323229</td>\n",
       "      <td>0.158559</td>\n",
       "      <td>-1.201586</td>\n",
       "      <td>-1.252343</td>\n",
       "      <td>-0.013384</td>\n",
       "      <td>-0.008449</td>\n",
       "      <td>-0.333316</td>\n",
       "      <td>0</td>\n",
       "      <td>-1.0</td>\n",
       "    </tr>\n",
       "    <tr>\n",
       "      <th>35</th>\n",
       "      <td>0.323229</td>\n",
       "      <td>0.158559</td>\n",
       "      <td>-1.201586</td>\n",
       "      <td>-1.252343</td>\n",
       "      <td>-0.013384</td>\n",
       "      <td>-0.093528</td>\n",
       "      <td>-0.333316</td>\n",
       "      <td>1</td>\n",
       "      <td>-1.0</td>\n",
       "    </tr>\n",
       "    <tr>\n",
       "      <th>36</th>\n",
       "      <td>1.396071</td>\n",
       "      <td>-4.028853</td>\n",
       "      <td>-0.532175</td>\n",
       "      <td>-0.471771</td>\n",
       "      <td>-2.784402</td>\n",
       "      <td>-0.316497</td>\n",
       "      <td>-0.341324</td>\n",
       "      <td>0</td>\n",
       "      <td>1.0</td>\n",
       "    </tr>\n",
       "    <tr>\n",
       "      <th>37</th>\n",
       "      <td>1.396071</td>\n",
       "      <td>-4.028853</td>\n",
       "      <td>-0.532175</td>\n",
       "      <td>-0.471771</td>\n",
       "      <td>-2.784402</td>\n",
       "      <td>-0.371412</td>\n",
       "      <td>-0.341324</td>\n",
       "      <td>1</td>\n",
       "      <td>1.0</td>\n",
       "    </tr>\n",
       "  </tbody>\n",
       "</table>\n",
       "</div>"
      ],
      "text/plain": [
       "         NAP   payroll     stock       rdi  election  national_polls       gdp  Democrat_Republican  state_election\n",
       "0   2.317666  0.694822 -0.191417 -0.443721 -0.043218        2.009872 -2.811254                    1             0.0\n",
       "1   2.317666  0.694822 -0.191417 -0.443721 -0.043218        0.271941 -2.811254                    0             0.0\n",
       "2  -1.618086  0.816498  0.393234  1.600343  1.549956       -1.495606  2.293957                    0            -1.0\n",
       "3  -1.618086  0.816498  0.393234  1.600343  1.549956       -0.301056  2.293957                    1            -1.0\n",
       "4   0.419923  0.360434 -0.651435  0.970059  0.423092        0.317229  0.999344                    0             1.0\n",
       "5   0.419923  0.360434 -0.651435  0.970059  0.423092       -0.326338  0.999344                    1             1.0\n",
       "6   0.011446  0.036944 -0.169566  0.769470 -1.287107        0.063623  0.379243                    1            -1.0\n",
       "7   0.011446  0.036944 -0.169566  0.769470 -1.287107        0.013565  0.379243                    0            -1.0\n",
       "8  -0.744231  0.323772 -0.014344  0.312956  0.338592       -0.900030  0.806024                    1             1.0\n",
       "9  -0.744231  0.323772 -0.014344  0.312956  0.338592        3.529049  0.806024                    0             1.0\n",
       "10 -0.310866  0.606668 -0.107557 -0.252279  0.198035        0.906873  0.072359                    1             0.0\n",
       "11 -0.310866  0.606668 -0.107557 -0.252279  0.198035        0.149001  0.072359                    0             0.0\n",
       "12  0.034297  0.369203  0.711918 -0.081166  1.107026       -0.225820 -0.124084                    1             1.0\n",
       "13  0.034297  0.369203  0.711918 -0.081166  1.107026       -0.456783 -0.124084                    0             1.0\n",
       "14  0.578420 -0.003607  0.084509 -1.481712  0.122942        1.019268 -0.954256                    0             1.0\n",
       "15  0.578420 -0.003607  0.084509 -1.481712  0.122942       -1.567691 -0.954256                    1             1.0\n",
       "16  1.268752  0.154460  0.631563 -0.675783 -0.011863        2.261010 -0.022789                    1             1.0\n",
       "17  1.268752  0.154460  0.631563 -0.675783 -0.011863        0.168908 -0.022789                    0             1.0\n",
       "18 -0.502108  0.426535  0.023123  0.589878  0.524624       -0.135038  0.765058                    0             1.0\n",
       "19 -0.502108  0.426535  0.023123  0.589878  0.524624       -0.986547  0.765058                    1             1.0\n",
       "20 -0.150340  0.442678  1.220296  0.365692  0.593960        1.295891  0.382612                    0            -1.0\n",
       "21 -0.150340  0.442678  1.220296  0.365692  0.593960       -2.006252  0.382612                    1            -1.0\n",
       "22  0.478517 -0.296785 -0.549464  2.372707  0.538290        0.147710 -0.989096                    1             1.0\n",
       "23  0.478517 -0.296785 -0.549464  2.372707  0.538290       -0.194180 -0.989096                    0             1.0\n",
       "24  0.314950  0.316662  2.393224  0.005989  0.611786       -0.342111 -0.132163                    1             1.0\n",
       "25  0.314950  0.316662  2.393224  0.005989  0.611786       -0.337024 -0.132163                    0             1.0\n",
       "26 -0.925613  0.205943  0.279646  0.066245  0.115579       -0.163542  0.785885                    1            -1.0\n",
       "27 -0.925613  0.205943  0.279646  0.066245  0.115579       -0.209770  0.785885                    0            -1.0\n",
       "28 -0.163355 -0.168767  0.045264 -0.063217  0.437028       -0.353588  0.210672                    0             1.0\n",
       "29 -0.163355 -0.168767  0.045264 -0.063217  0.437028       -0.510705  0.210672                    1             1.0\n",
       "30 -2.062588 -0.437901 -2.811646 -0.371880 -1.980385        0.361135 -0.435877                    1            -1.0\n",
       "31 -2.062588 -0.437901 -2.811646 -0.371880 -1.980385       -0.494657 -0.435877                    0            -1.0\n",
       "32 -0.666081  0.022733  0.446411 -1.959467 -0.440551       -0.456966 -0.550994                    1             1.0\n",
       "33 -0.666081  0.022733  0.446411 -1.959467 -0.440551       -0.261482 -0.550994                    0             1.0\n",
       "34  0.323229  0.158559 -1.201586 -1.252343 -0.013384       -0.008449 -0.333316                    0            -1.0\n",
       "35  0.323229  0.158559 -1.201586 -1.252343 -0.013384       -0.093528 -0.333316                    1            -1.0\n",
       "36  1.396071 -4.028853 -0.532175 -0.471771 -2.784402       -0.316497 -0.341324                    0             1.0\n",
       "37  1.396071 -4.028853 -0.532175 -0.471771 -2.784402       -0.371412 -0.341324                    1             1.0"
      ]
     },
     "metadata": {},
     "output_type": "display_data"
    }
   ],
   "source": [
    "# Standardizing the features\n",
    "X_1 = df.drop(['popular_vote_percentage', 'Democrat_Republican', 'state_election'], axis=1)\n",
    "scaler = StandardScaler()\n",
    "scaler.fit(X_1)\n",
    "x_2 = scaler.transform(X_1)\n",
    "X_2 = pd.DataFrame(x_2, columns = ['NAP', 'payroll','stock','rdi','election','national_polls','gdp'])\n",
    "X_2['Democrat_Republican'] = df['Democrat_Republican']\n",
    "X_2['state_election'] = df['state_election']\n",
    "X_train1 = X_2.drop([36,37]).values\n",
    "X_test1 = X_2.iloc[[36,37]].values\n",
    "display(X_2)"
   ]
  },
  {
   "cell_type": "code",
   "execution_count": 15,
   "metadata": {},
   "outputs": [],
   "source": [
    "X_2_y = X_2.copy()\n",
    "X_2_y['popular_vote_percentage'] = df['popular_vote_percentage']\n",
    "X_2_y = X_2_y.drop([36,37])"
   ]
  },
  {
   "cell_type": "code",
   "execution_count": 17,
   "metadata": {},
   "outputs": [],
   "source": [
    "# Function to generate bootstrapped DataFrames\n",
    "def bootstrap(df):\n",
    "    selectionIndex = np.random.randint(len(df), size = len(df))\n",
    "    new_df = df.iloc[selectionIndex]\n",
    "    return new_df"
   ]
  },
  {
   "cell_type": "code",
   "execution_count": 22,
   "metadata": {},
   "outputs": [],
   "source": [
    "# Bootstrapped LassoCV\n",
    "n_bootstraps = 100\n",
    "coefs = []\n",
    "intercepts = []\n",
    "for n in range(n_bootstraps):\n",
    "    df_new = bootstrap(X_2_y)\n",
    "    #display(df_new)\n",
    "    X_train_bootstrap = df_new.drop(['popular_vote_percentage'], axis = 1).values\n",
    "    y_train_bootstrap = df_new['popular_vote_percentage'].values\n",
    "    lassoCV = LassoCV(fit_intercept = True, cv = 5).fit(X_train_bootstrap, y_train_bootstrap)\n",
    "    coefs.append(lassoCV.coef_)\n",
    "    intercepts.append(lassoCV.intercept_)"
   ]
  },
  {
   "cell_type": "code",
   "execution_count": 23,
   "metadata": {},
   "outputs": [],
   "source": [
    "# Re-formatting the coefficients lists for plotting \n",
    "coef1 = []\n",
    "coef2 = []\n",
    "coef3 = []\n",
    "coef4 = []\n",
    "coef5 = []\n",
    "coef6 = []\n",
    "coef7 = []\n",
    "coef8 = []\n",
    "coef9 = []\n",
    "for coef in coefs:\n",
    "    if float(coef[0]) >= 0.1:\n",
    "        coef1.append(coef[0])\n",
    "    else:\n",
    "        coef1.append(0)\n",
    "    if coef[1] >= 0.1:\n",
    "        coef2.append(coef[1])\n",
    "    else:\n",
    "        coef2.append(0)\n",
    "    if coef[2] >= 0.1:\n",
    "        coef3.append(coef[2])\n",
    "    else:\n",
    "        coef3.append(0)\n",
    "    if coef[3] >= 0.1:\n",
    "        coef4.append(coef[3])\n",
    "    else:\n",
    "        coef4.append(0)\n",
    "    if coef[4] >= 0.1:\n",
    "        coef5.append(coef[4])\n",
    "    else:\n",
    "        coef5.append(0)\n",
    "    if coef[5] >= 0.1:\n",
    "        coef6.append(coef[5])\n",
    "    else:\n",
    "        coef6.append(0)\n",
    "    if coef[6] >= 0.1:\n",
    "        coef7.append(coef[6])\n",
    "    else:\n",
    "        coef7.append(0)\n",
    "    if coef[7] >= 0.1:\n",
    "        coef8.append(coef[7])\n",
    "    else:\n",
    "        coef8.append(0)\n",
    "    if coef[8] >= 0.1:\n",
    "        coef9.append(coef[8])\n",
    "    else:\n",
    "        coef9.append(0)"
   ]
  },
  {
   "cell_type": "code",
   "execution_count": 24,
   "metadata": {},
   "outputs": [],
   "source": [
    "coefs = pd.DataFrame((coef1,coef2,coef3,coef4,coef5,coef6,coef7,coef8,coef9), index = ['coef1', 'coef2', 'coef3', 'coef4', 'coef5', 'coef6', 'coef7', 'coef8', 'coef9'])\n",
    "coefs = coefs.T"
   ]
  },
  {
   "cell_type": "code",
   "execution_count": 154,
   "metadata": {},
   "outputs": [
    {
     "data": {
      "image/png": "[encoded data removed]",
      "text/plain": [
       "<Figure size 3600x1440 with 9 Axes>"
      ]
     },
     "metadata": {},
     "output_type": "display_data"
    }
   ],
   "source": [
    "# Plotting histograms from bootstrapped LassoCV feature importance using \n",
    "fig, axs = plt.subplots(nrows=3, ncols=3, figsize=(50, 20), facecolor='w', edgecolor='k')\n",
    "fig.subplots_adjust(hspace = .5, wspace=.2)\n",
    "axs = axs.ravel()\n",
    "fontsize = 10\n",
    "\n",
    "variables = ['coef1', 'coef2', 'coef3', 'coef4', 'coef5', 'coef6', 'coef7', 'coef8', 'coef9']\n",
    "\n",
    "# plot histograms\n",
    "for i, variable in enumerate(variables):\n",
    "    axs[i].hist(coefs[variable], alpha=0.7, color='royalblue', bins='auto', density=False, histtype = 'bar', edgecolor='k')\n",
    "    axs[i].set_title(\"Distribution of \" + variable, fontsize=fontsize)\n",
    "    axs[i].set_xlabel(variable, fontsize=fontsize)\n",
    "    axs[i].set_ylabel('Count', fontsize=fontsize)"
   ]
  },
  {
   "cell_type": "markdown",
   "metadata": {},
   "source": [
    "**From the figure above, we observe that in most of the simulated bootstraps, the LassoCV model zeroes all feature's coefficients, i.e. the model learns that the mean prediction (intercept) is a better predictor than all of the features and therefore the features are not relevant for predicting the problem at hand.**"
   ]
  },
  {
   "cell_type": "markdown",
   "metadata": {},
   "source": [
    "## 3. PCA"
   ]
  },
  {
   "cell_type": "code",
   "execution_count": 26,
   "metadata": {},
   "outputs": [
    {
     "name": "stdout",
     "output_type": "stream",
     "text": [
      "[0.31236123 0.2226887  0.13932112 0.11166227 0.08443899 0.0622966\n",
      " 0.03024289 0.02505786 0.01193034]\n"
     ]
    },
    {
     "data": {
      "text/html": [
       "<div>\n",
       "<style scoped>\n",
       "    .dataframe tbody tr th:only-of-type {\n",
       "        vertical-align: middle;\n",
       "    }\n",
       "\n",
       "    .dataframe tbody tr th {\n",
       "        vertical-align: top;\n",
       "    }\n",
       "\n",
       "    .dataframe thead tr th {\n",
       "        text-align: left;\n",
       "    }\n",
       "</style>\n",
       "<table border=\"1\" class=\"dataframe\">\n",
       "  <thead>\n",
       "    <tr>\n",
       "      <th></th>\n",
       "      <th>PCA1</th>\n",
       "      <th>PCA2</th>\n",
       "      <th>PCA3</th>\n",
       "      <th>PCA4</th>\n",
       "      <th>PCA5</th>\n",
       "      <th>PCA6</th>\n",
       "    </tr>\n",
       "  </thead>\n",
       "  <tbody>\n",
       "    <tr>\n",
       "      <th>0</th>\n",
       "      <td>2.316111</td>\n",
       "      <td>-2.372364</td>\n",
       "      <td>-2.244506</td>\n",
       "      <td>0.411688</td>\n",
       "      <td>-1.253257</td>\n",
       "      <td>0.479474</td>\n",
       "    </tr>\n",
       "    <tr>\n",
       "      <th>1</th>\n",
       "      <td>2.055887</td>\n",
       "      <td>-1.975623</td>\n",
       "      <td>-1.187277</td>\n",
       "      <td>-0.365806</td>\n",
       "      <td>-2.058805</td>\n",
       "      <td>0.337249</td>\n",
       "    </tr>\n",
       "    <tr>\n",
       "      <th>2</th>\n",
       "      <td>-3.810777</td>\n",
       "      <td>1.391599</td>\n",
       "      <td>0.691553</td>\n",
       "      <td>0.044185</td>\n",
       "      <td>-0.323877</td>\n",
       "      <td>0.427886</td>\n",
       "    </tr>\n",
       "    <tr>\n",
       "      <th>3</th>\n",
       "      <td>-3.633294</td>\n",
       "      <td>1.122014</td>\n",
       "      <td>-0.020166</td>\n",
       "      <td>0.563587</td>\n",
       "      <td>0.205593</td>\n",
       "      <td>0.517815</td>\n",
       "    </tr>\n",
       "    <tr>\n",
       "      <th>4</th>\n",
       "      <td>-0.696461</td>\n",
       "      <td>-0.112131</td>\n",
       "      <td>0.051944</td>\n",
       "      <td>1.287707</td>\n",
       "      <td>0.052392</td>\n",
       "      <td>-0.692427</td>\n",
       "    </tr>\n",
       "    <tr>\n",
       "      <th>5</th>\n",
       "      <td>-0.798868</td>\n",
       "      <td>0.048419</td>\n",
       "      <td>0.508995</td>\n",
       "      <td>0.934048</td>\n",
       "      <td>-0.352038</td>\n",
       "      <td>-0.779402</td>\n",
       "    </tr>\n",
       "    <tr>\n",
       "      <th>6</th>\n",
       "      <td>0.069391</td>\n",
       "      <td>1.226276</td>\n",
       "      <td>-0.301185</td>\n",
       "      <td>0.505179</td>\n",
       "      <td>-0.366204</td>\n",
       "      <td>1.177345</td>\n",
       "    </tr>\n",
       "    <tr>\n",
       "      <th>7</th>\n",
       "      <td>0.066180</td>\n",
       "      <td>1.228040</td>\n",
       "      <td>-0.317193</td>\n",
       "      <td>0.529383</td>\n",
       "      <td>-0.314186</td>\n",
       "      <td>1.197564</td>\n",
       "    </tr>\n",
       "    <tr>\n",
       "      <th>8</th>\n",
       "      <td>-1.095088</td>\n",
       "      <td>0.344331</td>\n",
       "      <td>0.854294</td>\n",
       "      <td>-0.190131</td>\n",
       "      <td>0.107043</td>\n",
       "      <td>-0.870348</td>\n",
       "    </tr>\n",
       "    <tr>\n",
       "      <th>9</th>\n",
       "      <td>-0.416260</td>\n",
       "      <td>-0.702062</td>\n",
       "      <td>-2.009782</td>\n",
       "      <td>1.961555</td>\n",
       "      <td>2.434797</td>\n",
       "      <td>-0.419048</td>\n",
       "    </tr>\n",
       "    <tr>\n",
       "      <th>10</th>\n",
       "      <td>-0.302026</td>\n",
       "      <td>-0.131808</td>\n",
       "      <td>-1.049748</td>\n",
       "      <td>-0.023188</td>\n",
       "      <td>0.416008</td>\n",
       "      <td>-0.027420</td>\n",
       "    </tr>\n",
       "    <tr>\n",
       "      <th>11</th>\n",
       "      <td>-0.413016</td>\n",
       "      <td>0.035590</td>\n",
       "      <td>-0.615691</td>\n",
       "      <td>-0.335178</td>\n",
       "      <td>0.108403</td>\n",
       "      <td>-0.075322</td>\n",
       "    </tr>\n",
       "    <tr>\n",
       "      <th>12</th>\n",
       "      <td>-0.721834</td>\n",
       "      <td>-1.172802</td>\n",
       "      <td>0.411793</td>\n",
       "      <td>-0.323621</td>\n",
       "      <td>-0.022702</td>\n",
       "      <td>-0.492316</td>\n",
       "    </tr>\n",
       "    <tr>\n",
       "      <th>13</th>\n",
       "      <td>-0.752591</td>\n",
       "      <td>-1.128705</td>\n",
       "      <td>0.510813</td>\n",
       "      <td>-0.385341</td>\n",
       "      <td>-0.062597</td>\n",
       "      <td>-0.489508</td>\n",
       "    </tr>\n",
       "    <tr>\n",
       "      <th>14</th>\n",
       "      <td>1.331455</td>\n",
       "      <td>-1.300415</td>\n",
       "      <td>-0.743972</td>\n",
       "      <td>-0.556015</td>\n",
       "      <td>0.715952</td>\n",
       "      <td>-0.430290</td>\n",
       "    </tr>\n",
       "    <tr>\n",
       "      <th>15</th>\n",
       "      <td>0.933127</td>\n",
       "      <td>-0.685093</td>\n",
       "      <td>0.948789</td>\n",
       "      <td>-1.832739</td>\n",
       "      <td>-0.675866</td>\n",
       "      <td>-0.704300</td>\n",
       "    </tr>\n",
       "    <tr>\n",
       "      <th>16</th>\n",
       "      <td>0.938696</td>\n",
       "      <td>-1.845492</td>\n",
       "      <td>-0.960927</td>\n",
       "      <td>0.767399</td>\n",
       "      <td>1.305400</td>\n",
       "      <td>0.318660</td>\n",
       "    </tr>\n",
       "    <tr>\n",
       "      <th>17</th>\n",
       "      <td>0.624543</td>\n",
       "      <td>-1.365872</td>\n",
       "      <td>0.321502</td>\n",
       "      <td>-0.178317</td>\n",
       "      <td>0.319906</td>\n",
       "      <td>0.142349</td>\n",
       "    </tr>\n",
       "    <tr>\n",
       "      <th>18</th>\n",
       "      <td>-1.107531</td>\n",
       "      <td>-0.064890</td>\n",
       "      <td>0.327019</td>\n",
       "      <td>0.436334</td>\n",
       "      <td>0.322262</td>\n",
       "      <td>-0.726909</td>\n",
       "    </tr>\n",
       "    <tr>\n",
       "      <th>19</th>\n",
       "      <td>-1.241602</td>\n",
       "      <td>0.144321</td>\n",
       "      <td>0.916291</td>\n",
       "      <td>-0.016094</td>\n",
       "      <td>-0.187818</td>\n",
       "      <td>-0.833897</td>\n",
       "    </tr>\n",
       "    <tr>\n",
       "      <th>20</th>\n",
       "      <td>-1.107038</td>\n",
       "      <td>-0.581188</td>\n",
       "      <td>-1.038482</td>\n",
       "      <td>0.404292</td>\n",
       "      <td>0.600246</td>\n",
       "      <td>1.533433</td>\n",
       "    </tr>\n",
       "    <tr>\n",
       "      <th>21</th>\n",
       "      <td>-1.614267</td>\n",
       "      <td>0.201493</td>\n",
       "      <td>1.109029</td>\n",
       "      <td>-1.212127</td>\n",
       "      <td>-1.154940</td>\n",
       "      <td>1.190592</td>\n",
       "    </tr>\n",
       "    <tr>\n",
       "      <th>22</th>\n",
       "      <td>-0.067254</td>\n",
       "      <td>-0.454931</td>\n",
       "      <td>0.295715</td>\n",
       "      <td>2.074840</td>\n",
       "      <td>-1.561966</td>\n",
       "      <td>-0.749289</td>\n",
       "    </tr>\n",
       "    <tr>\n",
       "      <th>23</th>\n",
       "      <td>-0.114902</td>\n",
       "      <td>-0.384876</td>\n",
       "      <td>0.465269</td>\n",
       "      <td>1.960431</td>\n",
       "      <td>-1.658222</td>\n",
       "      <td>-0.757156</td>\n",
       "    </tr>\n",
       "    <tr>\n",
       "      <th>24</th>\n",
       "      <td>-0.789964</td>\n",
       "      <td>-1.932977</td>\n",
       "      <td>1.155434</td>\n",
       "      <td>-0.491958</td>\n",
       "      <td>0.316695</td>\n",
       "      <td>0.594592</td>\n",
       "    </tr>\n",
       "    <tr>\n",
       "      <th>25</th>\n",
       "      <td>-0.784778</td>\n",
       "      <td>-1.944117</td>\n",
       "      <td>1.104361</td>\n",
       "      <td>-0.441561</td>\n",
       "      <td>0.396731</td>\n",
       "      <td>0.620118</td>\n",
       "    </tr>\n",
       "    <tr>\n",
       "      <th>26</th>\n",
       "      <td>-1.135942</td>\n",
       "      <td>0.959686</td>\n",
       "      <td>-0.269294</td>\n",
       "      <td>-0.428988</td>\n",
       "      <td>0.220031</td>\n",
       "      <td>0.810115</td>\n",
       "    </tr>\n",
       "    <tr>\n",
       "      <th>27</th>\n",
       "      <td>-1.138570</td>\n",
       "      <td>0.960553</td>\n",
       "      <td>-0.287738</td>\n",
       "      <td>-0.402964</td>\n",
       "      <td>0.273994</td>\n",
       "      <td>0.830703</td>\n",
       "    </tr>\n",
       "    <tr>\n",
       "      <th>28</th>\n",
       "      <td>-0.239997</td>\n",
       "      <td>-0.223749</td>\n",
       "      <td>0.579857</td>\n",
       "      <td>-0.043928</td>\n",
       "      <td>0.232591</td>\n",
       "      <td>-0.623524</td>\n",
       "    </tr>\n",
       "    <tr>\n",
       "      <th>29</th>\n",
       "      <td>-0.268333</td>\n",
       "      <td>-0.177032</td>\n",
       "      <td>0.727598</td>\n",
       "      <td>-0.166536</td>\n",
       "      <td>0.075313</td>\n",
       "      <td>-0.663682</td>\n",
       "    </tr>\n",
       "    <tr>\n",
       "      <th>30</th>\n",
       "      <td>1.291720</td>\n",
       "      <td>3.570488</td>\n",
       "      <td>-1.693195</td>\n",
       "      <td>-0.203538</td>\n",
       "      <td>0.011339</td>\n",
       "      <td>-0.752705</td>\n",
       "    </tr>\n",
       "    <tr>\n",
       "      <th>31</th>\n",
       "      <td>1.165820</td>\n",
       "      <td>3.760801</td>\n",
       "      <td>-1.196876</td>\n",
       "      <td>-0.562037</td>\n",
       "      <td>-0.346017</td>\n",
       "      <td>-0.810031</td>\n",
       "    </tr>\n",
       "    <tr>\n",
       "      <th>32</th>\n",
       "      <td>0.806472</td>\n",
       "      <td>-0.246866</td>\n",
       "      <td>0.284101</td>\n",
       "      <td>-1.893718</td>\n",
       "      <td>0.865898</td>\n",
       "      <td>-0.630702</td>\n",
       "    </tr>\n",
       "    <tr>\n",
       "      <th>33</th>\n",
       "      <td>0.840650</td>\n",
       "      <td>-0.302562</td>\n",
       "      <td>0.111964</td>\n",
       "      <td>-1.752886</td>\n",
       "      <td>1.042669</td>\n",
       "      <td>-0.586851</td>\n",
       "    </tr>\n",
       "    <tr>\n",
       "      <th>34</th>\n",
       "      <td>0.747223</td>\n",
       "      <td>0.697020</td>\n",
       "      <td>-1.216537</td>\n",
       "      <td>-1.002537</td>\n",
       "      <td>-0.416006</td>\n",
       "      <td>0.253422</td>\n",
       "    </tr>\n",
       "    <tr>\n",
       "      <th>35</th>\n",
       "      <td>0.729856</td>\n",
       "      <td>0.726879</td>\n",
       "      <td>-1.114601</td>\n",
       "      <td>-1.090929</td>\n",
       "      <td>-0.536683</td>\n",
       "      <td>0.220197</td>\n",
       "    </tr>\n",
       "    <tr>\n",
       "      <th>36</th>\n",
       "      <td>4.173017</td>\n",
       "      <td>1.332622</td>\n",
       "      <td>2.404048</td>\n",
       "      <td>1.046787</td>\n",
       "      <td>0.686636</td>\n",
       "      <td>0.746967</td>\n",
       "    </tr>\n",
       "    <tr>\n",
       "      <th>37</th>\n",
       "      <td>4.160243</td>\n",
       "      <td>1.355423</td>\n",
       "      <td>2.486803</td>\n",
       "      <td>0.972722</td>\n",
       "      <td>0.581285</td>\n",
       "      <td>0.716645</td>\n",
       "    </tr>\n",
       "  </tbody>\n",
       "</table>\n",
       "</div>"
      ],
      "text/plain": [
       "        PCA1      PCA2      PCA3      PCA4      PCA5      PCA6\n",
       "0   2.316111 -2.372364 -2.244506  0.411688 -1.253257  0.479474\n",
       "1   2.055887 -1.975623 -1.187277 -0.365806 -2.058805  0.337249\n",
       "2  -3.810777  1.391599  0.691553  0.044185 -0.323877  0.427886\n",
       "3  -3.633294  1.122014 -0.020166  0.563587  0.205593  0.517815\n",
       "4  -0.696461 -0.112131  0.051944  1.287707  0.052392 -0.692427\n",
       "5  -0.798868  0.048419  0.508995  0.934048 -0.352038 -0.779402\n",
       "6   0.069391  1.226276 -0.301185  0.505179 -0.366204  1.177345\n",
       "7   0.066180  1.228040 -0.317193  0.529383 -0.314186  1.197564\n",
       "8  -1.095088  0.344331  0.854294 -0.190131  0.107043 -0.870348\n",
       "9  -0.416260 -0.702062 -2.009782  1.961555  2.434797 -0.419048\n",
       "10 -0.302026 -0.131808 -1.049748 -0.023188  0.416008 -0.027420\n",
       "11 -0.413016  0.035590 -0.615691 -0.335178  0.108403 -0.075322\n",
       "12 -0.721834 -1.172802  0.411793 -0.323621 -0.022702 -0.492316\n",
       "13 -0.752591 -1.128705  0.510813 -0.385341 -0.062597 -0.489508\n",
       "14  1.331455 -1.300415 -0.743972 -0.556015  0.715952 -0.430290\n",
       "15  0.933127 -0.685093  0.948789 -1.832739 -0.675866 -0.704300\n",
       "16  0.938696 -1.845492 -0.960927  0.767399  1.305400  0.318660\n",
       "17  0.624543 -1.365872  0.321502 -0.178317  0.319906  0.142349\n",
       "18 -1.107531 -0.064890  0.327019  0.436334  0.322262 -0.726909\n",
       "19 -1.241602  0.144321  0.916291 -0.016094 -0.187818 -0.833897\n",
       "20 -1.107038 -0.581188 -1.038482  0.404292  0.600246  1.533433\n",
       "21 -1.614267  0.201493  1.109029 -1.212127 -1.154940  1.190592\n",
       "22 -0.067254 -0.454931  0.295715  2.074840 -1.561966 -0.749289\n",
       "23 -0.114902 -0.384876  0.465269  1.960431 -1.658222 -0.757156\n",
       "24 -0.789964 -1.932977  1.155434 -0.491958  0.316695  0.594592\n",
       "25 -0.784778 -1.944117  1.104361 -0.441561  0.396731  0.620118\n",
       "26 -1.135942  0.959686 -0.269294 -0.428988  0.220031  0.810115\n",
       "27 -1.138570  0.960553 -0.287738 -0.402964  0.273994  0.830703\n",
       "28 -0.239997 -0.223749  0.579857 -0.043928  0.232591 -0.623524\n",
       "29 -0.268333 -0.177032  0.727598 -0.166536  0.075313 -0.663682\n",
       "30  1.291720  3.570488 -1.693195 -0.203538  0.011339 -0.752705\n",
       "31  1.165820  3.760801 -1.196876 -0.562037 -0.346017 -0.810031\n",
       "32  0.806472 -0.246866  0.284101 -1.893718  0.865898 -0.630702\n",
       "33  0.840650 -0.302562  0.111964 -1.752886  1.042669 -0.586851\n",
       "34  0.747223  0.697020 -1.216537 -1.002537 -0.416006  0.253422\n",
       "35  0.729856  0.726879 -1.114601 -1.090929 -0.536683  0.220197\n",
       "36  4.173017  1.332622  2.404048  1.046787  0.686636  0.746967\n",
       "37  4.160243  1.355423  2.486803  0.972722  0.581285  0.716645"
      ]
     },
     "metadata": {},
     "output_type": "display_data"
    }
   ],
   "source": [
    "X_pca = X_2.values\n",
    "pca = PCA().fit(X_pca)\n",
    "X_2_PCA = pca.transform(X_pca)\n",
    "print(pca.explained_variance_ratio_)\n",
    "df_PCA = pd.DataFrame(X_2_PCA[:,0:6], columns = [['PCA1' , 'PCA2', 'PCA3', 'PCA4', 'PCA5', 'PCA6']])\n",
    "display(df_PCA)\n",
    "X_train_pca = df_PCA.drop([36,37]).values\n",
    "X_test_pca = df_PCA.iloc[[36,37]].values"
   ]
  },
  {
   "cell_type": "markdown",
   "metadata": {},
   "source": [
    "When deciding on the number of principle components to be included, the main consideration was that the new DataFrame accomodates over $90\\%$ of the variance contained within the original DataFrame."
   ]
  },
  {
   "cell_type": "markdown",
   "metadata": {},
   "source": [
    "## 4. Modeling"
   ]
  },
  {
   "cell_type": "markdown",
   "metadata": {},
   "source": [
    "### 4.1. Linear Regression\n",
    "#### - Initial DataSet"
   ]
  },
  {
   "cell_type": "code",
   "execution_count": 33,
   "metadata": {},
   "outputs": [
    {
     "name": "stdout",
     "output_type": "stream",
     "text": [
      "-66.84317868024239\n"
     ]
    }
   ],
   "source": [
    "lreg = LinearRegression()\n",
    "cv_lreg1 = cross_validate(lreg, X_train, y_train, cv = 3, scoring = 'neg_mean_squared_error')\n",
    "cv_lreg = np.mean(cv_lreg1['test_score'])\n",
    "print(cv_lreg)\n"
   ]
  },
  {
   "cell_type": "markdown",
   "metadata": {},
   "source": [
    "#### - PCA DataSet"
   ]
  },
  {
   "cell_type": "code",
   "execution_count": 34,
   "metadata": {},
   "outputs": [
    {
     "name": "stdout",
     "output_type": "stream",
     "text": [
      "-57.03121647973162\n"
     ]
    }
   ],
   "source": [
    "lreg_pca = LinearRegression()\n",
    "cv_lreg1_pca = cross_validate(lreg_pca, X_train_pca, y_train, cv = 3, scoring = 'neg_mean_squared_error')\n",
    "cv_lreg_pca = np.mean(cv_lreg1_pca['test_score'])\n",
    "print(cv_lreg_pca)"
   ]
  },
  {
   "cell_type": "code",
   "execution_count": 35,
   "metadata": {},
   "outputs": [
    {
     "data": {
      "text/html": [
       "<div>\n",
       "<style scoped>\n",
       "    .dataframe tbody tr th:only-of-type {\n",
       "        vertical-align: middle;\n",
       "    }\n",
       "\n",
       "    .dataframe tbody tr th {\n",
       "        vertical-align: top;\n",
       "    }\n",
       "\n",
       "    .dataframe thead th {\n",
       "        text-align: right;\n",
       "    }\n",
       "</style>\n",
       "<table border=\"1\" class=\"dataframe\">\n",
       "  <thead>\n",
       "    <tr style=\"text-align: right;\">\n",
       "      <th></th>\n",
       "      <th>regressor</th>\n",
       "      <th>Negative MSE</th>\n",
       "    </tr>\n",
       "  </thead>\n",
       "  <tbody>\n",
       "    <tr>\n",
       "      <th>0</th>\n",
       "      <td>Linear Regression Initial Data</td>\n",
       "      <td>-66.843179</td>\n",
       "    </tr>\n",
       "    <tr>\n",
       "      <th>1</th>\n",
       "      <td>Linear Regression PCA</td>\n",
       "      <td>-57.031216</td>\n",
       "    </tr>\n",
       "  </tbody>\n",
       "</table>\n",
       "</div>"
      ],
      "text/plain": [
       "                        regressor  Negative MSE\n",
       "0  Linear Regression Initial Data    -66.843179\n",
       "1           Linear Regression PCA    -57.031216"
      ]
     },
     "metadata": {},
     "output_type": "display_data"
    }
   ],
   "source": [
    "results_df = pd.DataFrame({'regressor':['Linear Regression Initial Data', 'Linear Regression PCA'],\n",
    "                          'Negative MSE':[cv_lreg, cv_lreg_pca]})\n",
    "display(results_df)"
   ]
  },
  {
   "cell_type": "markdown",
   "metadata": {},
   "source": [
    "### 4.2. Lasso Regression\n",
    "#### - Standardized DataSet"
   ]
  },
  {
   "cell_type": "code",
   "execution_count": 52,
   "metadata": {},
   "outputs": [],
   "source": [
    "lassoCV = LassoCV(fit_intercept = True, cv = 3).fit(X_train1, y_train)\n",
    "alpha = lassoCV.alpha_"
   ]
  },
  {
   "cell_type": "code",
   "execution_count": 53,
   "metadata": {},
   "outputs": [
    {
     "name": "stdout",
     "output_type": "stream",
     "text": [
      "-36.46044117310111\n"
     ]
    }
   ],
   "source": [
    "lasso = Lasso(alpha = float(alpha), fit_intercept = True)\n",
    "cv_lasso1 = cross_validate(lasso, X_train1, y_train, cv = 3, scoring = 'neg_mean_squared_error')\n",
    "cv_lasso = np.mean(cv_lasso1['test_score'])\n",
    "print(cv_lasso)"
   ]
  },
  {
   "cell_type": "markdown",
   "metadata": {},
   "source": [
    "#### - PCA DataSet"
   ]
  },
  {
   "cell_type": "code",
   "execution_count": 54,
   "metadata": {},
   "outputs": [],
   "source": [
    "lassoCV_pca = LassoCV(fit_intercept = True, cv = 3).fit(X_train_pca, y_train)\n",
    "alpha_pca = lassoCV_pca.alpha_"
   ]
  },
  {
   "cell_type": "code",
   "execution_count": 55,
   "metadata": {},
   "outputs": [
    {
     "name": "stdout",
     "output_type": "stream",
     "text": [
      "-36.12287614656399\n"
     ]
    }
   ],
   "source": [
    "lasso_pca = Lasso(alpha = float(alpha_pca), fit_intercept = True)\n",
    "cv_lasso1_pca = cross_validate(lasso_pca, X_train_pca, y_train, cv = 3, scoring = 'neg_mean_squared_error')\n",
    "cv_lasso_pca = np.mean(cv_lasso1_pca['test_score'])\n",
    "print(cv_lasso_pca)"
   ]
  },
  {
   "cell_type": "code",
   "execution_count": 56,
   "metadata": {},
   "outputs": [
    {
     "data": {
      "text/html": [
       "<div>\n",
       "<style scoped>\n",
       "    .dataframe tbody tr th:only-of-type {\n",
       "        vertical-align: middle;\n",
       "    }\n",
       "\n",
       "    .dataframe tbody tr th {\n",
       "        vertical-align: top;\n",
       "    }\n",
       "\n",
       "    .dataframe thead th {\n",
       "        text-align: right;\n",
       "    }\n",
       "</style>\n",
       "<table border=\"1\" class=\"dataframe\">\n",
       "  <thead>\n",
       "    <tr style=\"text-align: right;\">\n",
       "      <th></th>\n",
       "      <th>regressor</th>\n",
       "      <th>Negative MSE</th>\n",
       "    </tr>\n",
       "  </thead>\n",
       "  <tbody>\n",
       "    <tr>\n",
       "      <th>0</th>\n",
       "      <td>Linear Regression Initial Data</td>\n",
       "      <td>-66.843179</td>\n",
       "    </tr>\n",
       "    <tr>\n",
       "      <th>1</th>\n",
       "      <td>Linear Regression PCA</td>\n",
       "      <td>-57.031216</td>\n",
       "    </tr>\n",
       "    <tr>\n",
       "      <th>2</th>\n",
       "      <td>Lasso Standardized DataSet</td>\n",
       "      <td>-36.460441</td>\n",
       "    </tr>\n",
       "    <tr>\n",
       "      <th>3</th>\n",
       "      <td>Lasso PCA</td>\n",
       "      <td>-36.122876</td>\n",
       "    </tr>\n",
       "  </tbody>\n",
       "</table>\n",
       "</div>"
      ],
      "text/plain": [
       "                        regressor  Negative MSE\n",
       "0  Linear Regression Initial Data    -66.843179\n",
       "1           Linear Regression PCA    -57.031216\n",
       "2      Lasso Standardized DataSet    -36.460441\n",
       "3                       Lasso PCA    -36.122876"
      ]
     },
     "metadata": {},
     "output_type": "display_data"
    }
   ],
   "source": [
    "results_df = pd.DataFrame({'regressor':['Linear Regression Initial Data', 'Linear Regression PCA', 'Lasso Standardized DataSet', 'Lasso PCA'],\n",
    "                          'Negative MSE':[cv_lreg, cv_lreg_pca, cv_lasso, cv_lasso_pca]})\n",
    "display(results_df)"
   ]
  },
  {
   "cell_type": "markdown",
   "metadata": {},
   "source": [
    "### 4.3. kNN\n",
    "#### - Standardized DataSet"
   ]
  },
  {
   "cell_type": "code",
   "execution_count": 75,
   "metadata": {},
   "outputs": [
    {
     "name": "stdout",
     "output_type": "stream",
     "text": [
      "NN with lowest MSE: -35.58701679166666 using n: 20.0\n"
     ]
    }
   ],
   "source": [
    "n = np.linspace(1,20,20)\n",
    "mse_knn11 = []\n",
    "mse_knn1 = []\n",
    "\n",
    "for ni in n:\n",
    "    knn = KNeighborsRegressor(n_neighbors=int(ni))\n",
    "    mse_knn11 = cross_validate(knn, X_train1, y_train, cv = 3, scoring = 'neg_mean_squared_error')\n",
    "    mse_knn1.append(np.mean(mse_knn11['test_score']))\n",
    "\n",
    "print(f\"NN with lowest MSE: {np.max(mse_knn1)} using n: {n[np.argmax(mse_knn1)]}\")"
   ]
  },
  {
   "cell_type": "code",
   "execution_count": 77,
   "metadata": {},
   "outputs": [
    {
     "name": "stdout",
     "output_type": "stream",
     "text": [
      "-35.58701679166666\n"
     ]
    }
   ],
   "source": [
    "knn = KNeighborsRegressor(n_neighbors=20)\n",
    "cv_knn1 = cross_validate(knn, X_train1, y_train, cv = 3, scoring = 'neg_mean_squared_error')\n",
    "cv_knn = np.mean(cv_knn1['test_score'])\n",
    "print(cv_knn)"
   ]
  },
  {
   "cell_type": "markdown",
   "metadata": {},
   "source": [
    "#### - PCA DataSet"
   ]
  },
  {
   "cell_type": "code",
   "execution_count": 85,
   "metadata": {},
   "outputs": [
    {
     "name": "stdout",
     "output_type": "stream",
     "text": [
      "NN with lowest MSE: -36.098865368055556 using n: 20.0\n"
     ]
    }
   ],
   "source": [
    "n = np.linspace(1,20,20)\n",
    "mse_knn_pca = []\n",
    "mse_knn1_pca = []\n",
    "\n",
    "for ni in n:\n",
    "    knn_pca = KNeighborsRegressor(n_neighbors=int(ni))\n",
    "    mse_knn11_pca = cross_validate(knn_pca, X_train_pca, y_train, cv = 3, scoring = 'neg_mean_squared_error')\n",
    "    mse_knn1_pca.append(np.mean(mse_knn11_pca['test_score']))\n",
    "\n",
    "print(f\"NN with lowest MSE: {np.max(mse_knn1_pca)} using n: {n[np.argmax(mse_knn1_pca)]}\")"
   ]
  },
  {
   "cell_type": "code",
   "execution_count": 86,
   "metadata": {},
   "outputs": [
    {
     "name": "stdout",
     "output_type": "stream",
     "text": [
      "-36.098865368055556\n"
     ]
    }
   ],
   "source": [
    "knn_pca = KNeighborsRegressor(n_neighbors=20)\n",
    "cv_knn1_pca = cross_validate(knn_pca, X_train_pca, y_train, cv = 3, scoring = 'neg_mean_squared_error')\n",
    "cv_knn_pca = np.mean(cv_knn1_pca['test_score'])\n",
    "print(cv_knn_pca)"
   ]
  },
  {
   "cell_type": "code",
   "execution_count": 87,
   "metadata": {},
   "outputs": [
    {
     "data": {
      "text/html": [
       "<div>\n",
       "<style scoped>\n",
       "    .dataframe tbody tr th:only-of-type {\n",
       "        vertical-align: middle;\n",
       "    }\n",
       "\n",
       "    .dataframe tbody tr th {\n",
       "        vertical-align: top;\n",
       "    }\n",
       "\n",
       "    .dataframe thead th {\n",
       "        text-align: right;\n",
       "    }\n",
       "</style>\n",
       "<table border=\"1\" class=\"dataframe\">\n",
       "  <thead>\n",
       "    <tr style=\"text-align: right;\">\n",
       "      <th></th>\n",
       "      <th>regressor</th>\n",
       "      <th>Negative MSE</th>\n",
       "    </tr>\n",
       "  </thead>\n",
       "  <tbody>\n",
       "    <tr>\n",
       "      <th>0</th>\n",
       "      <td>Linear Regression Initial Data</td>\n",
       "      <td>-66.843179</td>\n",
       "    </tr>\n",
       "    <tr>\n",
       "      <th>1</th>\n",
       "      <td>Linear Regression PCA</td>\n",
       "      <td>-57.031216</td>\n",
       "    </tr>\n",
       "    <tr>\n",
       "      <th>2</th>\n",
       "      <td>Lasso Standardized DataSet</td>\n",
       "      <td>-36.460441</td>\n",
       "    </tr>\n",
       "    <tr>\n",
       "      <th>3</th>\n",
       "      <td>Lasso PCA</td>\n",
       "      <td>-36.122876</td>\n",
       "    </tr>\n",
       "    <tr>\n",
       "      <th>4</th>\n",
       "      <td>kNN Standardized DataSet</td>\n",
       "      <td>-35.587017</td>\n",
       "    </tr>\n",
       "    <tr>\n",
       "      <th>5</th>\n",
       "      <td>kNN PCA</td>\n",
       "      <td>-36.098865</td>\n",
       "    </tr>\n",
       "  </tbody>\n",
       "</table>\n",
       "</div>"
      ],
      "text/plain": [
       "                        regressor  Negative MSE\n",
       "0  Linear Regression Initial Data    -66.843179\n",
       "1           Linear Regression PCA    -57.031216\n",
       "2      Lasso Standardized DataSet    -36.460441\n",
       "3                       Lasso PCA    -36.122876\n",
       "4        kNN Standardized DataSet    -35.587017\n",
       "5                         kNN PCA    -36.098865"
      ]
     },
     "metadata": {},
     "output_type": "display_data"
    }
   ],
   "source": [
    "results_df = pd.DataFrame({'regressor':['Linear Regression Initial Data', 'Linear Regression PCA', 'Lasso Standardized DataSet', 'Lasso PCA', 'kNN Standardized DataSet', 'kNN PCA'],\n",
    "                          'Negative MSE':[cv_lreg, cv_lreg_pca, cv_lasso, cv_lasso_pca, cv_knn, cv_knn_pca]})\n",
    "display(results_df)"
   ]
  },
  {
   "cell_type": "markdown",
   "metadata": {},
   "source": [
    "### 4.4. Decision Tree\n",
    "#### - Initial DataSet"
   ]
  },
  {
   "cell_type": "code",
   "execution_count": 108,
   "metadata": {},
   "outputs": [
    {
     "name": "stdout",
     "output_type": "stream",
     "text": [
      "The lowest MSE: -55.775957881848775, with max_tree depth: 1.0\n"
     ]
    }
   ],
   "source": [
    "max_depths = np.linspace(1,20,20)\n",
    "mse_dtree = []\n",
    "\n",
    "for max_depth in max_depths:\n",
    "    dtree =  DecisionTreeRegressor(max_depth = max_depth)\n",
    "    mse_dtree1 = cross_validate(dtree, X_train, y_train, cv = 3, scoring = 'neg_mean_squared_error')\n",
    "    mse_dtree.append(np.mean(mse_dtree1['test_score']))\n",
    "\n",
    "print(f\"The lowest MSE: {np.max(mse_dtree)}, with max_tree depth: {max_depths[np.argmax(mse_dtree)]}\")"
   ]
  },
  {
   "cell_type": "code",
   "execution_count": 109,
   "metadata": {},
   "outputs": [
    {
     "name": "stdout",
     "output_type": "stream",
     "text": [
      "-55.77595788184876\n"
     ]
    }
   ],
   "source": [
    "dtree =  DecisionTreeRegressor(max_depth = 1)\n",
    "cv_dtree1 = cross_validate(dtree, X_train, y_train, cv = 3, scoring = 'neg_mean_squared_error')\n",
    "cv_dtree = np.mean(cv_dtree1['test_score'])\n",
    "print(cv_dtree)"
   ]
  },
  {
   "cell_type": "markdown",
   "metadata": {},
   "source": [
    "#### - PCA DataSet"
   ]
  },
  {
   "cell_type": "code",
   "execution_count": 110,
   "metadata": {},
   "outputs": [
    {
     "name": "stdout",
     "output_type": "stream",
     "text": [
      "The lowest MSE: -37.9396293410748, with max_tree depth: 1.0\n"
     ]
    }
   ],
   "source": [
    "max_depths = np.linspace(1,20,20)\n",
    "mse_dtree_pca = []\n",
    "\n",
    "for max_depth in max_depths:\n",
    "    dtree_pca =  DecisionTreeRegressor(max_depth = max_depth)\n",
    "    mse_dtree1_pca = cross_validate(dtree_pca, X_train_pca, y_train, cv = 3, scoring = 'neg_mean_squared_error')\n",
    "    mse_dtree_pca.append(np.mean(mse_dtree1_pca['test_score']))\n",
    "\n",
    "print(f\"The lowest MSE: {np.max(mse_dtree_pca)}, with max_tree depth: {max_depths[np.argmax(mse_dtree_pca)]}\")"
   ]
  },
  {
   "cell_type": "code",
   "execution_count": 111,
   "metadata": {},
   "outputs": [
    {
     "name": "stdout",
     "output_type": "stream",
     "text": [
      "-37.9396293410748\n"
     ]
    }
   ],
   "source": [
    "dtree_pca =  DecisionTreeRegressor(max_depth = 1)\n",
    "cv_dtree1_pca = cross_validate(dtree_pca, X_train_pca, y_train, cv = 3, scoring = 'neg_mean_squared_error')\n",
    "cv_dtree_pca = np.mean(cv_dtree1_pca['test_score'])\n",
    "print(cv_dtree_pca)"
   ]
  },
  {
   "cell_type": "code",
   "execution_count": 112,
   "metadata": {},
   "outputs": [
    {
     "data": {
      "text/html": [
       "<div>\n",
       "<style scoped>\n",
       "    .dataframe tbody tr th:only-of-type {\n",
       "        vertical-align: middle;\n",
       "    }\n",
       "\n",
       "    .dataframe tbody tr th {\n",
       "        vertical-align: top;\n",
       "    }\n",
       "\n",
       "    .dataframe thead th {\n",
       "        text-align: right;\n",
       "    }\n",
       "</style>\n",
       "<table border=\"1\" class=\"dataframe\">\n",
       "  <thead>\n",
       "    <tr style=\"text-align: right;\">\n",
       "      <th></th>\n",
       "      <th>regressor</th>\n",
       "      <th>Negative MSE</th>\n",
       "    </tr>\n",
       "  </thead>\n",
       "  <tbody>\n",
       "    <tr>\n",
       "      <th>0</th>\n",
       "      <td>Linear Regression Initial Data</td>\n",
       "      <td>-66.843179</td>\n",
       "    </tr>\n",
       "    <tr>\n",
       "      <th>1</th>\n",
       "      <td>Linear Regression PCA</td>\n",
       "      <td>-57.031216</td>\n",
       "    </tr>\n",
       "    <tr>\n",
       "      <th>2</th>\n",
       "      <td>Lasso Standardized DataSet</td>\n",
       "      <td>-36.460441</td>\n",
       "    </tr>\n",
       "    <tr>\n",
       "      <th>3</th>\n",
       "      <td>Lasso PCA</td>\n",
       "      <td>-36.122876</td>\n",
       "    </tr>\n",
       "    <tr>\n",
       "      <th>4</th>\n",
       "      <td>kNN Standardized DataSet</td>\n",
       "      <td>-35.587017</td>\n",
       "    </tr>\n",
       "    <tr>\n",
       "      <th>5</th>\n",
       "      <td>kNN PCA</td>\n",
       "      <td>-36.098865</td>\n",
       "    </tr>\n",
       "    <tr>\n",
       "      <th>6</th>\n",
       "      <td>Decision Tree Initial Data</td>\n",
       "      <td>-55.775958</td>\n",
       "    </tr>\n",
       "    <tr>\n",
       "      <th>7</th>\n",
       "      <td>Decision Tree PCA</td>\n",
       "      <td>-37.939629</td>\n",
       "    </tr>\n",
       "  </tbody>\n",
       "</table>\n",
       "</div>"
      ],
      "text/plain": [
       "                        regressor  Negative MSE\n",
       "0  Linear Regression Initial Data    -66.843179\n",
       "1           Linear Regression PCA    -57.031216\n",
       "2      Lasso Standardized DataSet    -36.460441\n",
       "3                       Lasso PCA    -36.122876\n",
       "4        kNN Standardized DataSet    -35.587017\n",
       "5                         kNN PCA    -36.098865\n",
       "6      Decision Tree Initial Data    -55.775958\n",
       "7               Decision Tree PCA    -37.939629"
      ]
     },
     "metadata": {},
     "output_type": "display_data"
    }
   ],
   "source": [
    "results_df = pd.DataFrame({'regressor':['Linear Regression Initial Data', 'Linear Regression PCA', 'Lasso Standardized DataSet', 'Lasso PCA', 'kNN Standardized DataSet', 'kNN PCA', 'Decision Tree Initial Data', 'Decision Tree PCA'],\n",
    "                          'Negative MSE':[cv_lreg, cv_lreg_pca, cv_lasso, cv_lasso_pca, cv_knn, cv_knn_pca, cv_dtree, cv_dtree_pca]})\n",
    "display(results_df)"
   ]
  },
  {
   "cell_type": "markdown",
   "metadata": {},
   "source": [
    "### 4.5. Random Forrest\n",
    "#### - Initial DataSet"
   ]
  },
  {
   "cell_type": "code",
   "execution_count": 120,
   "metadata": {},
   "outputs": [
    {
     "name": "stdout",
     "output_type": "stream",
     "text": [
      "Fitting 3 folds for each of 200 candidates, totalling 600 fits\n"
     ]
    },
    {
     "name": "stderr",
     "output_type": "stream",
     "text": [
      "[Parallel(n_jobs=-1)]: Using backend LokyBackend with 8 concurrent workers.\n",
      "[Parallel(n_jobs=-1)]: Done  25 tasks      | elapsed:    4.5s\n",
      "[Parallel(n_jobs=-1)]: Done 146 tasks      | elapsed:   21.8s\n",
      "[Parallel(n_jobs=-1)]: Done 349 tasks      | elapsed:   51.4s\n",
      "[Parallel(n_jobs=-1)]: Done 600 out of 600 | elapsed:  1.5min finished\n"
     ]
    },
    {
     "data": {
      "text/plain": [
       "{'max_depth': 1, 'n_estimators': 800}"
      ]
     },
     "execution_count": 120,
     "metadata": {},
     "output_type": "execute_result"
    }
   ],
   "source": [
    "# Number of trees in random forest\n",
    "n_estimators = [int(x) for x in np.linspace(start = 100, stop = 1000, num = 10)]\n",
    "# Maximum number of levels in tree\n",
    "max_depth = [int(x) for x in np.linspace(1, 20, 20)]\n",
    "# Create the random grid\n",
    "param_grid = {'n_estimators': n_estimators,\n",
    "               'max_depth': max_depth}\n",
    "\n",
    "# Create a based model\n",
    "rf = RandomForestRegressor(random_state = 42)\n",
    "# Instantiate the grid search model\n",
    "grid_search = GridSearchCV(estimator = rf, param_grid = param_grid, \n",
    "                          cv = 3, scoring = 'neg_mean_squared_error', n_jobs = -1, verbose = 2)\n",
    "grid_search.fit(X_train, y_train)\n",
    "\n",
    "grid_search.best_params_\n"
   ]
  },
  {
   "cell_type": "code",
   "execution_count": 125,
   "metadata": {},
   "outputs": [
    {
     "name": "stdout",
     "output_type": "stream",
     "text": [
      "-44.29615891084703\n"
     ]
    }
   ],
   "source": [
    "rf = RandomForestRegressor(n_estimators = 800, max_depth = 1, random_state = 42)\n",
    "cv_rf1 = cross_validate(rf, X_train, y_train, cv = 3, scoring = 'neg_mean_squared_error')\n",
    "cv_rf = np.mean(cv_rf1['test_score'])\n",
    "print(cv_rf)"
   ]
  },
  {
   "cell_type": "markdown",
   "metadata": {},
   "source": [
    "#### - PCA DataSet"
   ]
  },
  {
   "cell_type": "code",
   "execution_count": 126,
   "metadata": {},
   "outputs": [
    {
     "name": "stdout",
     "output_type": "stream",
     "text": [
      "Fitting 3 folds for each of 200 candidates, totalling 600 fits\n"
     ]
    },
    {
     "name": "stderr",
     "output_type": "stream",
     "text": [
      "[Parallel(n_jobs=-1)]: Using backend LokyBackend with 8 concurrent workers.\n",
      "[Parallel(n_jobs=-1)]: Done  25 tasks      | elapsed:    5.1s\n",
      "[Parallel(n_jobs=-1)]: Done 146 tasks      | elapsed:   24.8s\n",
      "[Parallel(n_jobs=-1)]: Done 349 tasks      | elapsed:   55.9s\n",
      "[Parallel(n_jobs=-1)]: Done 600 out of 600 | elapsed:  1.6min finished\n"
     ]
    },
    {
     "data": {
      "text/plain": [
       "{'max_depth': 1, 'n_estimators': 900}"
      ]
     },
     "execution_count": 126,
     "metadata": {},
     "output_type": "execute_result"
    }
   ],
   "source": [
    "# Number of trees in random forest\n",
    "n_estimators = [int(x) for x in np.linspace(start = 100, stop = 1000, num = 10)]\n",
    "# Maximum number of levels in tree\n",
    "max_depth = [int(x) for x in np.linspace(1, 20, 20)]\n",
    "# Create the random grid\n",
    "param_grid = {'n_estimators': n_estimators,\n",
    "               'max_depth': max_depth}\n",
    "\n",
    "# Create a based model\n",
    "rf = RandomForestRegressor(random_state = 42)\n",
    "# Instantiate the grid search model\n",
    "grid_search = GridSearchCV(estimator = rf, param_grid = param_grid, \n",
    "                          cv = 3, scoring = 'neg_mean_squared_error', n_jobs = -1, verbose = 2)\n",
    "grid_search.fit(X_train_pca, y_train)\n",
    "\n",
    "grid_search.best_params_\n"
   ]
  },
  {
   "cell_type": "code",
   "execution_count": 127,
   "metadata": {},
   "outputs": [
    {
     "name": "stdout",
     "output_type": "stream",
     "text": [
      "-39.74266473515445\n"
     ]
    }
   ],
   "source": [
    "rf_pca = RandomForestRegressor(n_estimators = 900, max_depth = 1, random_state = 42)\n",
    "cv_rf1_pca = cross_validate(rf_pca, X_train_pca, y_train, cv = 3, scoring = 'neg_mean_squared_error')\n",
    "cv_rf_pca = np.mean(cv_rf1_pca['test_score'])\n",
    "print(cv_rf_pca)"
   ]
  },
  {
   "cell_type": "code",
   "execution_count": 128,
   "metadata": {},
   "outputs": [
    {
     "data": {
      "text/html": [
       "<div>\n",
       "<style scoped>\n",
       "    .dataframe tbody tr th:only-of-type {\n",
       "        vertical-align: middle;\n",
       "    }\n",
       "\n",
       "    .dataframe tbody tr th {\n",
       "        vertical-align: top;\n",
       "    }\n",
       "\n",
       "    .dataframe thead th {\n",
       "        text-align: right;\n",
       "    }\n",
       "</style>\n",
       "<table border=\"1\" class=\"dataframe\">\n",
       "  <thead>\n",
       "    <tr style=\"text-align: right;\">\n",
       "      <th></th>\n",
       "      <th>regressor</th>\n",
       "      <th>Negative MSE</th>\n",
       "    </tr>\n",
       "  </thead>\n",
       "  <tbody>\n",
       "    <tr>\n",
       "      <th>0</th>\n",
       "      <td>Linear Regression Initial Data</td>\n",
       "      <td>-66.843179</td>\n",
       "    </tr>\n",
       "    <tr>\n",
       "      <th>1</th>\n",
       "      <td>Linear Regression PCA</td>\n",
       "      <td>-57.031216</td>\n",
       "    </tr>\n",
       "    <tr>\n",
       "      <th>2</th>\n",
       "      <td>Lasso Standardized DataSet</td>\n",
       "      <td>-36.460441</td>\n",
       "    </tr>\n",
       "    <tr>\n",
       "      <th>3</th>\n",
       "      <td>Lasso PCA</td>\n",
       "      <td>-36.122876</td>\n",
       "    </tr>\n",
       "    <tr>\n",
       "      <th>4</th>\n",
       "      <td>kNN Standardized DataSet</td>\n",
       "      <td>-35.587017</td>\n",
       "    </tr>\n",
       "    <tr>\n",
       "      <th>5</th>\n",
       "      <td>kNN PCA</td>\n",
       "      <td>-36.098865</td>\n",
       "    </tr>\n",
       "    <tr>\n",
       "      <th>6</th>\n",
       "      <td>Decision Tree Initial Data</td>\n",
       "      <td>-55.775958</td>\n",
       "    </tr>\n",
       "    <tr>\n",
       "      <th>7</th>\n",
       "      <td>Decision Tree PCA</td>\n",
       "      <td>-37.939629</td>\n",
       "    </tr>\n",
       "    <tr>\n",
       "      <th>8</th>\n",
       "      <td>Random Forest Initial DataSet</td>\n",
       "      <td>-44.296159</td>\n",
       "    </tr>\n",
       "    <tr>\n",
       "      <th>9</th>\n",
       "      <td>Random Forest PCA</td>\n",
       "      <td>-39.742665</td>\n",
       "    </tr>\n",
       "  </tbody>\n",
       "</table>\n",
       "</div>"
      ],
      "text/plain": [
       "                        regressor  Negative MSE\n",
       "0  Linear Regression Initial Data    -66.843179\n",
       "1           Linear Regression PCA    -57.031216\n",
       "2      Lasso Standardized DataSet    -36.460441\n",
       "3                       Lasso PCA    -36.122876\n",
       "4        kNN Standardized DataSet    -35.587017\n",
       "5                         kNN PCA    -36.098865\n",
       "6      Decision Tree Initial Data    -55.775958\n",
       "7               Decision Tree PCA    -37.939629\n",
       "8   Random Forest Initial DataSet    -44.296159\n",
       "9               Random Forest PCA    -39.742665"
      ]
     },
     "metadata": {},
     "output_type": "display_data"
    }
   ],
   "source": [
    "results_df = pd.DataFrame({'regressor':['Linear Regression Initial Data', 'Linear Regression PCA', 'Lasso Standardized DataSet', 'Lasso PCA', 'kNN Standardized DataSet', 'kNN PCA', 'Decision Tree Initial Data', 'Decision Tree PCA','Random Forest Initial DataSet', 'Random Forest PCA'],\n",
    "                          'Negative MSE':[cv_lreg, cv_lreg_pca, cv_lasso, cv_lasso_pca, cv_knn, cv_knn_pca, cv_dtree, cv_dtree_pca, cv_rf, cv_rf_pca]})\n",
    "display(results_df)"
   ]
  },
  {
   "cell_type": "markdown",
   "metadata": {},
   "source": [
    "### 4.6. Boosting\n",
    "#### - Initial DataSet"
   ]
  },
  {
   "cell_type": "code",
   "execution_count": 130,
   "metadata": {},
   "outputs": [
    {
     "name": "stdout",
     "output_type": "stream",
     "text": [
      "Fitting 3 folds for each of 100 candidates, totalling 300 fits\n"
     ]
    },
    {
     "name": "stderr",
     "output_type": "stream",
     "text": [
      "[Parallel(n_jobs=-1)]: Using backend LokyBackend with 8 concurrent workers.\n",
      "[Parallel(n_jobs=-1)]: Done  34 tasks      | elapsed:    1.1s\n",
      "[Parallel(n_jobs=-1)]: Done 285 out of 300 | elapsed:    7.9s remaining:    0.4s\n",
      "[Parallel(n_jobs=-1)]: Done 300 out of 300 | elapsed:    8.6s finished\n",
      "[Parallel(n_jobs=-1)]: Using backend LokyBackend with 8 concurrent workers.\n"
     ]
    },
    {
     "name": "stdout",
     "output_type": "stream",
     "text": [
      "{'learning_rate': 0.1, 'n_estimators': 88}\n",
      "Fitting 3 folds for each of 100 candidates, totalling 300 fits\n"
     ]
    },
    {
     "name": "stderr",
     "output_type": "stream",
     "text": [
      "[Parallel(n_jobs=-1)]: Done  34 tasks      | elapsed:    1.7s\n",
      "[Parallel(n_jobs=-1)]: Done 194 tasks      | elapsed:    8.7s\n",
      "[Parallel(n_jobs=-1)]: Done 300 out of 300 | elapsed:   12.8s finished\n"
     ]
    },
    {
     "name": "stdout",
     "output_type": "stream",
     "text": [
      "{'learning_rate': 0.01, 'n_estimators': 294}\n",
      "Fitting 3 folds for each of 100 candidates, totalling 300 fits\n"
     ]
    },
    {
     "name": "stderr",
     "output_type": "stream",
     "text": [
      "[Parallel(n_jobs=-1)]: Using backend LokyBackend with 8 concurrent workers.\n",
      "[Parallel(n_jobs=-1)]: Done  34 tasks      | elapsed:    1.9s\n",
      "[Parallel(n_jobs=-1)]: Done 194 tasks      | elapsed:   11.2s\n",
      "[Parallel(n_jobs=-1)]: Done 300 out of 300 | elapsed:   17.9s finished\n",
      "[Parallel(n_jobs=-1)]: Using backend LokyBackend with 8 concurrent workers.\n"
     ]
    },
    {
     "name": "stdout",
     "output_type": "stream",
     "text": [
      "{'learning_rate': 1, 'n_estimators': 11}\n",
      "Fitting 3 folds for each of 100 candidates, totalling 300 fits\n"
     ]
    },
    {
     "name": "stderr",
     "output_type": "stream",
     "text": [
      "[Parallel(n_jobs=-1)]: Done  34 tasks      | elapsed:    1.8s\n",
      "[Parallel(n_jobs=-1)]: Done 194 tasks      | elapsed:   11.4s\n",
      "[Parallel(n_jobs=-1)]: Done 300 out of 300 | elapsed:   18.6s finished\n",
      "[Parallel(n_jobs=-1)]: Using backend LokyBackend with 8 concurrent workers.\n"
     ]
    },
    {
     "name": "stdout",
     "output_type": "stream",
     "text": [
      "{'learning_rate': 0.01, 'n_estimators': 139}\n",
      "Fitting 3 folds for each of 100 candidates, totalling 300 fits\n"
     ]
    },
    {
     "name": "stderr",
     "output_type": "stream",
     "text": [
      "[Parallel(n_jobs=-1)]: Done  34 tasks      | elapsed:    1.7s\n",
      "[Parallel(n_jobs=-1)]: Done 194 tasks      | elapsed:   11.4s\n",
      "[Parallel(n_jobs=-1)]: Done 300 out of 300 | elapsed:   18.7s finished\n",
      "[Parallel(n_jobs=-1)]: Using backend LokyBackend with 8 concurrent workers.\n"
     ]
    },
    {
     "name": "stdout",
     "output_type": "stream",
     "text": [
      "{'learning_rate': 0.01, 'n_estimators': 114}\n",
      "Fitting 3 folds for each of 100 candidates, totalling 300 fits\n"
     ]
    },
    {
     "name": "stderr",
     "output_type": "stream",
     "text": [
      "[Parallel(n_jobs=-1)]: Done  34 tasks      | elapsed:    2.0s\n",
      "[Parallel(n_jobs=-1)]: Done 178 tasks      | elapsed:   11.1s\n",
      "[Parallel(n_jobs=-1)]: Done 300 out of 300 | elapsed:   18.9s finished\n",
      "[Parallel(n_jobs=-1)]: Using backend LokyBackend with 8 concurrent workers.\n"
     ]
    },
    {
     "name": "stdout",
     "output_type": "stream",
     "text": [
      "{'learning_rate': 0.1, 'n_estimators': 62}\n",
      "Fitting 3 folds for each of 100 candidates, totalling 300 fits\n"
     ]
    },
    {
     "name": "stderr",
     "output_type": "stream",
     "text": [
      "[Parallel(n_jobs=-1)]: Done  34 tasks      | elapsed:    1.8s\n",
      "[Parallel(n_jobs=-1)]: Done 194 tasks      | elapsed:   11.5s\n",
      "[Parallel(n_jobs=-1)]: Done 300 out of 300 | elapsed:   18.7s finished\n",
      "[Parallel(n_jobs=-1)]: Using backend LokyBackend with 8 concurrent workers.\n"
     ]
    },
    {
     "name": "stdout",
     "output_type": "stream",
     "text": [
      "{'learning_rate': 1, 'n_estimators': 11}\n",
      "Fitting 3 folds for each of 100 candidates, totalling 300 fits\n"
     ]
    },
    {
     "name": "stderr",
     "output_type": "stream",
     "text": [
      "[Parallel(n_jobs=-1)]: Done  34 tasks      | elapsed:    1.8s\n",
      "[Parallel(n_jobs=-1)]: Done 194 tasks      | elapsed:   11.7s\n",
      "[Parallel(n_jobs=-1)]: Done 300 out of 300 | elapsed:   18.8s finished\n",
      "[Parallel(n_jobs=-1)]: Using backend LokyBackend with 8 concurrent workers.\n"
     ]
    },
    {
     "name": "stdout",
     "output_type": "stream",
     "text": [
      "{'learning_rate': 1, 'n_estimators': 11}\n",
      "Fitting 3 folds for each of 100 candidates, totalling 300 fits\n"
     ]
    },
    {
     "name": "stderr",
     "output_type": "stream",
     "text": [
      "[Parallel(n_jobs=-1)]: Done  34 tasks      | elapsed:    1.8s\n",
      "[Parallel(n_jobs=-1)]: Done 194 tasks      | elapsed:   11.4s\n",
      "[Parallel(n_jobs=-1)]: Done 300 out of 300 | elapsed:   18.6s finished\n",
      "[Parallel(n_jobs=-1)]: Using backend LokyBackend with 8 concurrent workers.\n"
     ]
    },
    {
     "name": "stdout",
     "output_type": "stream",
     "text": [
      "{'learning_rate': 1, 'n_estimators': 11}\n",
      "Fitting 3 folds for each of 100 candidates, totalling 300 fits\n"
     ]
    },
    {
     "name": "stderr",
     "output_type": "stream",
     "text": [
      "[Parallel(n_jobs=-1)]: Done  34 tasks      | elapsed:    1.7s\n",
      "[Parallel(n_jobs=-1)]: Done 194 tasks      | elapsed:   11.4s\n"
     ]
    },
    {
     "name": "stdout",
     "output_type": "stream",
     "text": [
      "{'learning_rate': 1, 'n_estimators': 11}\n"
     ]
    },
    {
     "name": "stderr",
     "output_type": "stream",
     "text": [
      "[Parallel(n_jobs=-1)]: Done 300 out of 300 | elapsed:   18.5s finished\n"
     ]
    }
   ],
   "source": [
    "depths = np.linspace(1,10,10)\n",
    "\n",
    "# Number of trees in random forest\n",
    "n_estimators = [int(x) for x in np.linspace(start = 11, stop = 501, num = 20)]\n",
    "# Learning Rate\n",
    "learning_rate = [1e-3,1e-2,1e-1,1,10]\n",
    "\n",
    "# Create the random grid\n",
    "param_grid = {'n_estimators': n_estimators,\n",
    "               'learning_rate': learning_rate}\n",
    "\n",
    "scores = []\n",
    "params = []\n",
    "for depth in depths:\n",
    "    # Create a based model\n",
    "    ada = AdaBoostRegressor(base_estimator = DecisionTreeRegressor(max_depth = depth), random_state = 0)\n",
    "    # Instantiate the grid search model\n",
    "    grid_search = GridSearchCV(estimator = ada, param_grid = param_grid, cv = 3, n_jobs = -1, verbose = 2, scoring = 'neg_mean_squared_error')\n",
    "    grid_search.fit(X_train, y_train)\n",
    "    \n",
    "    params.append(grid_search.best_params_)\n",
    "    print(grid_search.best_params_)"
   ]
  },
  {
   "cell_type": "code",
   "execution_count": 142,
   "metadata": {},
   "outputs": [
    {
     "name": "stdout",
     "output_type": "stream",
     "text": [
      "-41.213962407020816\n"
     ]
    }
   ],
   "source": [
    "learning_rate = 0.1\n",
    "depth = 1\n",
    "n_estimators = 88\n",
    "\n",
    "ada = AdaBoostRegressor(base_estimator = DecisionTreeRegressor(max_depth = depth), n_estimators = n_estimators, learning_rate = learning_rate, random_state = 0)\n",
    "cv_boosting1 = cross_validate(ada, X_train, y_train, cv = 3, scoring = 'neg_mean_squared_error')\n",
    "cv_boosting = np.mean(cv_boosting1['test_score'])\n",
    "print(cv_boosting)"
   ]
  },
  {
   "cell_type": "markdown",
   "metadata": {},
   "source": [
    "#### - PCA DataSet"
   ]
  },
  {
   "cell_type": "code",
   "execution_count": 143,
   "metadata": {},
   "outputs": [
    {
     "name": "stdout",
     "output_type": "stream",
     "text": [
      "Fitting 3 folds for each of 100 candidates, totalling 300 fits\n"
     ]
    },
    {
     "name": "stderr",
     "output_type": "stream",
     "text": [
      "[Parallel(n_jobs=-1)]: Using backend LokyBackend with 8 concurrent workers.\n",
      "[Parallel(n_jobs=-1)]: Done  25 tasks      | elapsed:    2.7s\n",
      "[Parallel(n_jobs=-1)]: Done 146 tasks      | elapsed:    5.6s\n",
      "[Parallel(n_jobs=-1)]: Done 285 out of 300 | elapsed:    9.7s remaining:    0.5s\n",
      "[Parallel(n_jobs=-1)]: Done 300 out of 300 | elapsed:   10.7s finished\n",
      "[Parallel(n_jobs=-1)]: Using backend LokyBackend with 8 concurrent workers.\n"
     ]
    },
    {
     "name": "stdout",
     "output_type": "stream",
     "text": [
      "{'learning_rate': 0.01, 'n_estimators': 88}\n",
      "Fitting 3 folds for each of 100 candidates, totalling 300 fits\n"
     ]
    },
    {
     "name": "stderr",
     "output_type": "stream",
     "text": [
      "[Parallel(n_jobs=-1)]: Done  34 tasks      | elapsed:    1.8s\n",
      "[Parallel(n_jobs=-1)]: Done 194 tasks      | elapsed:    8.1s\n",
      "[Parallel(n_jobs=-1)]: Done 300 out of 300 | elapsed:   13.1s finished\n"
     ]
    },
    {
     "name": "stdout",
     "output_type": "stream",
     "text": [
      "{'learning_rate': 0.001, 'n_estimators': 320}\n",
      "Fitting 3 folds for each of 100 candidates, totalling 300 fits\n"
     ]
    },
    {
     "name": "stderr",
     "output_type": "stream",
     "text": [
      "[Parallel(n_jobs=-1)]: Using backend LokyBackend with 8 concurrent workers.\n",
      "[Parallel(n_jobs=-1)]: Done  34 tasks      | elapsed:    1.9s\n",
      "[Parallel(n_jobs=-1)]: Done 178 tasks      | elapsed:   11.3s\n",
      "[Parallel(n_jobs=-1)]: Done 300 out of 300 | elapsed:   19.2s finished\n"
     ]
    },
    {
     "name": "stdout",
     "output_type": "stream",
     "text": [
      "{'learning_rate': 0.001, 'n_estimators': 320}\n",
      "Fitting 3 folds for each of 100 candidates, totalling 300 fits\n"
     ]
    },
    {
     "name": "stderr",
     "output_type": "stream",
     "text": [
      "[Parallel(n_jobs=-1)]: Using backend LokyBackend with 8 concurrent workers.\n",
      "[Parallel(n_jobs=-1)]: Done  34 tasks      | elapsed:    1.9s\n",
      "[Parallel(n_jobs=-1)]: Done 178 tasks      | elapsed:   11.4s\n",
      "[Parallel(n_jobs=-1)]: Done 300 out of 300 | elapsed:   19.3s finished\n",
      "[Parallel(n_jobs=-1)]: Using backend LokyBackend with 8 concurrent workers.\n"
     ]
    },
    {
     "name": "stdout",
     "output_type": "stream",
     "text": [
      "{'learning_rate': 0.1, 'n_estimators': 62}\n",
      "Fitting 3 folds for each of 100 candidates, totalling 300 fits\n"
     ]
    },
    {
     "name": "stderr",
     "output_type": "stream",
     "text": [
      "[Parallel(n_jobs=-1)]: Done  34 tasks      | elapsed:    1.8s\n",
      "[Parallel(n_jobs=-1)]: Done 194 tasks      | elapsed:   14.6s\n",
      "[Parallel(n_jobs=-1)]: Done 300 out of 300 | elapsed:   21.9s finished\n"
     ]
    },
    {
     "name": "stdout",
     "output_type": "stream",
     "text": [
      "{'learning_rate': 0.01, 'n_estimators': 165}\n",
      "Fitting 3 folds for each of 100 candidates, totalling 300 fits\n"
     ]
    },
    {
     "name": "stderr",
     "output_type": "stream",
     "text": [
      "[Parallel(n_jobs=-1)]: Using backend LokyBackend with 8 concurrent workers.\n",
      "[Parallel(n_jobs=-1)]: Done  34 tasks      | elapsed:    2.1s\n",
      "[Parallel(n_jobs=-1)]: Done 194 tasks      | elapsed:   12.0s\n",
      "[Parallel(n_jobs=-1)]: Done 300 out of 300 | elapsed:   19.2s finished\n"
     ]
    },
    {
     "name": "stdout",
     "output_type": "stream",
     "text": [
      "{'learning_rate': 0.01, 'n_estimators': 320}\n",
      "Fitting 3 folds for each of 100 candidates, totalling 300 fits\n"
     ]
    },
    {
     "name": "stderr",
     "output_type": "stream",
     "text": [
      "[Parallel(n_jobs=-1)]: Using backend LokyBackend with 8 concurrent workers.\n",
      "[Parallel(n_jobs=-1)]: Done  34 tasks      | elapsed:    1.8s\n",
      "[Parallel(n_jobs=-1)]: Done 194 tasks      | elapsed:   11.6s\n",
      "[Parallel(n_jobs=-1)]: Done 300 out of 300 | elapsed:   19.5s finished\n"
     ]
    },
    {
     "name": "stdout",
     "output_type": "stream",
     "text": [
      "{'learning_rate': 0.01, 'n_estimators': 294}\n"
     ]
    }
   ],
   "source": [
    "depths = np.linspace(1,7,7)\n",
    "\n",
    "# Number of trees in random forest\n",
    "n_estimators = [int(x) for x in np.linspace(start = 11, stop = 501, num = 20)]\n",
    "# Learning Rate\n",
    "learning_rate = [1e-3,1e-2,1e-1,1,10]\n",
    "\n",
    "# Create the random grid\n",
    "param_grid = {'n_estimators': n_estimators,\n",
    "               'learning_rate': learning_rate}\n",
    "\n",
    "scores = []\n",
    "params = []\n",
    "for depth in depths:\n",
    "    # Create a based model\n",
    "    ada_pca = AdaBoostRegressor(base_estimator = DecisionTreeRegressor(max_depth = depth), random_state = 0)\n",
    "    # Instantiate the grid search model\n",
    "    grid_search_ada = GridSearchCV(estimator = ada_pca, param_grid = param_grid, cv = 3, n_jobs = -1, verbose = 2, scoring = 'neg_mean_squared_error')\n",
    "    grid_search_ada.fit(X_train_pca, y_train)\n",
    "    \n",
    "    params.append(grid_search_ada.best_params_)\n",
    "    print(grid_search_ada.best_params_)"
   ]
  },
  {
   "cell_type": "code",
   "execution_count": 151,
   "metadata": {},
   "outputs": [
    {
     "name": "stdout",
     "output_type": "stream",
     "text": [
      "-37.23086646631513\n"
     ]
    }
   ],
   "source": [
    "learning_rate = 0.01\n",
    "depth = 1\n",
    "n_estimators = 88\n",
    "\n",
    "ada_pca = AdaBoostRegressor(base_estimator = DecisionTreeRegressor(max_depth = depth), n_estimators = n_estimators, learning_rate = learning_rate, random_state = 0)\n",
    "cv_boosting1_pca = cross_validate(ada_pca, X_train_pca, y_train, cv = 3, scoring = 'neg_mean_squared_error')\n",
    "cv_boosting_pca = np.mean(cv_boosting1_pca['test_score'])\n",
    "print(cv_boosting_pca)"
   ]
  },
  {
   "cell_type": "code",
   "execution_count": 152,
   "metadata": {},
   "outputs": [
    {
     "data": {
      "text/html": [
       "<div>\n",
       "<style scoped>\n",
       "    .dataframe tbody tr th:only-of-type {\n",
       "        vertical-align: middle;\n",
       "    }\n",
       "\n",
       "    .dataframe tbody tr th {\n",
       "        vertical-align: top;\n",
       "    }\n",
       "\n",
       "    .dataframe thead th {\n",
       "        text-align: right;\n",
       "    }\n",
       "</style>\n",
       "<table border=\"1\" class=\"dataframe\">\n",
       "  <thead>\n",
       "    <tr style=\"text-align: right;\">\n",
       "      <th></th>\n",
       "      <th>regressor</th>\n",
       "      <th>Negative MSE</th>\n",
       "    </tr>\n",
       "  </thead>\n",
       "  <tbody>\n",
       "    <tr>\n",
       "      <th>0</th>\n",
       "      <td>Linear Regression Initial Data</td>\n",
       "      <td>-66.843179</td>\n",
       "    </tr>\n",
       "    <tr>\n",
       "      <th>1</th>\n",
       "      <td>Linear Regression PCA</td>\n",
       "      <td>-57.031216</td>\n",
       "    </tr>\n",
       "    <tr>\n",
       "      <th>2</th>\n",
       "      <td>Lasso Standardized DataSet</td>\n",
       "      <td>-36.460441</td>\n",
       "    </tr>\n",
       "    <tr>\n",
       "      <th>3</th>\n",
       "      <td>Lasso PCA</td>\n",
       "      <td>-36.122876</td>\n",
       "    </tr>\n",
       "    <tr>\n",
       "      <th>4</th>\n",
       "      <td>kNN Standardized DataSet</td>\n",
       "      <td>-35.587017</td>\n",
       "    </tr>\n",
       "    <tr>\n",
       "      <th>5</th>\n",
       "      <td>kNN PCA</td>\n",
       "      <td>-36.098865</td>\n",
       "    </tr>\n",
       "    <tr>\n",
       "      <th>6</th>\n",
       "      <td>Decision Tree Initial Data</td>\n",
       "      <td>-55.775958</td>\n",
       "    </tr>\n",
       "    <tr>\n",
       "      <th>7</th>\n",
       "      <td>Decision Tree PCA</td>\n",
       "      <td>-37.939629</td>\n",
       "    </tr>\n",
       "    <tr>\n",
       "      <th>8</th>\n",
       "      <td>Random Forest Initial DataSet</td>\n",
       "      <td>-44.296159</td>\n",
       "    </tr>\n",
       "    <tr>\n",
       "      <th>9</th>\n",
       "      <td>Random Forest PCA</td>\n",
       "      <td>-39.742665</td>\n",
       "    </tr>\n",
       "    <tr>\n",
       "      <th>10</th>\n",
       "      <td>Boosting Initial DataSet</td>\n",
       "      <td>-41.213962</td>\n",
       "    </tr>\n",
       "    <tr>\n",
       "      <th>11</th>\n",
       "      <td>Boosting PCA</td>\n",
       "      <td>-37.230866</td>\n",
       "    </tr>\n",
       "  </tbody>\n",
       "</table>\n",
       "</div>"
      ],
      "text/plain": [
       "                         regressor  Negative MSE\n",
       "0   Linear Regression Initial Data    -66.843179\n",
       "1            Linear Regression PCA    -57.031216\n",
       "2       Lasso Standardized DataSet    -36.460441\n",
       "3                        Lasso PCA    -36.122876\n",
       "4         kNN Standardized DataSet    -35.587017\n",
       "5                          kNN PCA    -36.098865\n",
       "6       Decision Tree Initial Data    -55.775958\n",
       "7                Decision Tree PCA    -37.939629\n",
       "8    Random Forest Initial DataSet    -44.296159\n",
       "9                Random Forest PCA    -39.742665\n",
       "10        Boosting Initial DataSet    -41.213962\n",
       "11                    Boosting PCA    -37.230866"
      ]
     },
     "metadata": {},
     "output_type": "display_data"
    }
   ],
   "source": [
    "results_df = pd.DataFrame({'regressor':['Linear Regression Initial Data', 'Linear Regression PCA', 'Lasso Standardized DataSet', 'Lasso PCA', 'kNN Standardized DataSet', 'kNN PCA', 'Decision Tree Initial Data', 'Decision Tree PCA','Random Forest Initial DataSet', 'Random Forest PCA', 'Boosting Initial DataSet', 'Boosting PCA'],\n",
    "                          'Negative MSE':[cv_lreg, cv_lreg_pca, cv_lasso, cv_lasso_pca, cv_knn, cv_knn_pca, cv_dtree, cv_dtree_pca, cv_rf, cv_rf_pca, cv_boosting, cv_boosting_pca]})\n",
    "display(results_df)"
   ]
  },
  {
   "cell_type": "code",
   "execution_count": null,
   "metadata": {},
   "outputs": [],
   "source": []
  }
 ],
 "metadata": {
  "kernelspec": {
   "display_name": "Python 3",
   "language": "python",
   "name": "python3"
  },
  "language_info": {
   "codemirror_mode": {
    "name": "ipython",
    "version": 3
   },
   "file_extension": ".py",
   "mimetype": "text/x-python",
   "name": "python",
   "nbconvert_exporter": "python",
   "pygments_lexer": "ipython3",
   "version": "3.8.3"
  }
 },
 "nbformat": 4,
 "nbformat_minor": 4
}
