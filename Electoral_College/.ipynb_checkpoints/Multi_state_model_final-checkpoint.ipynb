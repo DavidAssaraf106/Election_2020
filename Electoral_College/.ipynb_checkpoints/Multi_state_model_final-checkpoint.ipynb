{
 "cells": [
  {
   "cell_type": "code",
   "execution_count": 1,
   "metadata": {},
   "outputs": [],
   "source": [
    "import pandas as pd\n",
    "import numpy as np\n",
    "import os\n",
    "from sklearn.model_selection import train_test_split\n",
    "from sklearn.preprocessing import PolynomialFeatures, MinMaxScaler\n",
    "from sklearn.decomposition import PCA\n",
    "from sklearn.metrics import accuracy_score, f1_score, roc_auc_score\n",
    "from sklearn.linear_model import LogisticRegression\n",
    "from sklearn.tree import DecisionTreeClassifier\n",
    "from sklearn.ensemble import RandomForestClassifier\n",
    "from sklearn.model_selection import GridSearchCV, KFold\n",
    "from sklearn.neighbors import KNeighborsClassifier"
   ]
  },
  {
   "cell_type": "markdown",
   "metadata": {},
   "source": [
    "First, we are going to start working on modelling the states without the gdp index. We will try to keep to approach as modular as possible, in case we need to change the selected dataframe."
   ]
  },
  {
   "cell_type": "code",
   "execution_count": 2,
   "metadata": {},
   "outputs": [],
   "source": [
    "correlation_matrix = abs(pd.read_csv('Correlation_matrix.csv'))*10"
   ]
  },
  {
   "cell_type": "markdown",
   "metadata": {},
   "source": [
    "We will always take the absolute value of the round of 10 correlation between states. First let us focus on swing states. We will need to select the swing state based on sources **previous to the 2020 election**. Source selected: https://fr.wikipedia.org/wiki/Swing_state#Historique (last modification: 24 october 2020).  "
   ]
  },
  {
   "cell_type": "markdown",
   "metadata": {},
   "source": [
    "#### Construct the data"
   ]
  },
  {
   "cell_type": "markdown",
   "metadata": {},
   "source": [
    "One big problem will be the way we will construct the validation set. It needs to be from the swing state considered. How can we prevent the creation of a deterministic validation set while imposing such a constraint ? "
   ]
  },
  {
   "cell_type": "markdown",
   "metadata": {},
   "source": [
    "###### Getting a list of states and swing states"
   ]
  },
  {
   "cell_type": "code",
   "execution_count": 3,
   "metadata": {},
   "outputs": [],
   "source": [
    "swing_states = ['Texas', 'Florida', 'Ohio', 'Georgia', 'North Carolina', 'Arizona', 'Iowa', 'Pennsylvania', 'Michigan', 'Virginia', 'Wisconsin', 'Colorado', 'Nevada', 'New Hampshire']\n",
    "all_states = []\n",
    "index_swing_states = []\n",
    "for i, file in enumerate(os.listdir('states/')):\n",
    "    state = file.split('.')[0]\n",
    "    all_states.append(state)\n",
    "    if state in swing_states:\n",
    "        index_swing_states.append(i)"
   ]
  },
  {
   "cell_type": "markdown",
   "metadata": {},
   "source": [
    "##### Construct the base dataframe"
   ]
  },
  {
   "cell_type": "code",
   "execution_count": 4,
   "metadata": {},
   "outputs": [],
   "source": [
    "final_df = pd.concat([pd.read_csv('states/'+file) for file in os.listdir('states/')])"
   ]
  },
  {
   "cell_type": "markdown",
   "metadata": {},
   "source": [
    "##### Important modification to prevent information leakage"
   ]
  },
  {
   "cell_type": "code",
   "execution_count": 5,
   "metadata": {},
   "outputs": [],
   "source": [
    "final_df = final_df[final_df['republican']==1]"
   ]
  },
  {
   "cell_type": "code",
   "execution_count": 6,
   "metadata": {},
   "outputs": [
    {
     "data": {
      "text/html": [
       "<div>\n",
       "<style scoped>\n",
       "    .dataframe tbody tr th:only-of-type {\n",
       "        vertical-align: middle;\n",
       "    }\n",
       "\n",
       "    .dataframe tbody tr th {\n",
       "        vertical-align: top;\n",
       "    }\n",
       "\n",
       "    .dataframe thead th {\n",
       "        text-align: right;\n",
       "    }\n",
       "</style>\n",
       "<table border=\"1\" class=\"dataframe\">\n",
       "  <thead>\n",
       "    <tr style=\"text-align: right;\">\n",
       "      <th></th>\n",
       "      <th>month_10</th>\n",
       "      <th>month_11</th>\n",
       "      <th>month_9</th>\n",
       "      <th>republican</th>\n",
       "      <th>Year</th>\n",
       "      <th>Rep_House_Prop</th>\n",
       "      <th>State</th>\n",
       "      <th>Result</th>\n",
       "      <th>rep_loyalty</th>\n",
       "      <th>popular_vote_percentage</th>\n",
       "      <th>density</th>\n",
       "      <th>RDI</th>\n",
       "    </tr>\n",
       "  </thead>\n",
       "  <tbody>\n",
       "    <tr>\n",
       "      <td>0</td>\n",
       "      <td>51.797513</td>\n",
       "      <td>51.909088</td>\n",
       "      <td>51.657848</td>\n",
       "      <td>1</td>\n",
       "      <td>1988</td>\n",
       "      <td>0.200000</td>\n",
       "      <td>Georgia</td>\n",
       "      <td>1</td>\n",
       "      <td>0.5</td>\n",
       "      <td>53.370</td>\n",
       "      <td>106.259013</td>\n",
       "      <td>93086.74</td>\n",
       "    </tr>\n",
       "    <tr>\n",
       "      <td>3</td>\n",
       "      <td>35.651345</td>\n",
       "      <td>35.969860</td>\n",
       "      <td>38.271617</td>\n",
       "      <td>1</td>\n",
       "      <td>1992</td>\n",
       "      <td>0.100000</td>\n",
       "      <td>Georgia</td>\n",
       "      <td>0</td>\n",
       "      <td>0.7</td>\n",
       "      <td>37.450</td>\n",
       "      <td>113.717367</td>\n",
       "      <td>100758.19</td>\n",
       "    </tr>\n",
       "    <tr>\n",
       "      <td>5</td>\n",
       "      <td>40.574781</td>\n",
       "      <td>41.630290</td>\n",
       "      <td>40.888825</td>\n",
       "      <td>1</td>\n",
       "      <td>1996</td>\n",
       "      <td>0.363636</td>\n",
       "      <td>Georgia</td>\n",
       "      <td>1</td>\n",
       "      <td>0.5</td>\n",
       "      <td>40.720</td>\n",
       "      <td>123.352989</td>\n",
       "      <td>108448.50</td>\n",
       "    </tr>\n",
       "    <tr>\n",
       "      <td>7</td>\n",
       "      <td>48.459137</td>\n",
       "      <td>50.952625</td>\n",
       "      <td>44.657240</td>\n",
       "      <td>1</td>\n",
       "      <td>2000</td>\n",
       "      <td>0.727273</td>\n",
       "      <td>Georgia</td>\n",
       "      <td>1</td>\n",
       "      <td>0.7</td>\n",
       "      <td>47.870</td>\n",
       "      <td>138.411248</td>\n",
       "      <td>115406.50</td>\n",
       "    </tr>\n",
       "    <tr>\n",
       "      <td>8</td>\n",
       "      <td>54.915037</td>\n",
       "      <td>54.194542</td>\n",
       "      <td>55.351526</td>\n",
       "      <td>1</td>\n",
       "      <td>2004</td>\n",
       "      <td>0.727273</td>\n",
       "      <td>Georgia</td>\n",
       "      <td>1</td>\n",
       "      <td>0.8</td>\n",
       "      <td>50.730</td>\n",
       "      <td>147.528675</td>\n",
       "      <td>123452.01</td>\n",
       "    </tr>\n",
       "    <tr>\n",
       "      <td>...</td>\n",
       "      <td>...</td>\n",
       "      <td>...</td>\n",
       "      <td>...</td>\n",
       "      <td>...</td>\n",
       "      <td>...</td>\n",
       "      <td>...</td>\n",
       "      <td>...</td>\n",
       "      <td>...</td>\n",
       "      <td>...</td>\n",
       "      <td>...</td>\n",
       "      <td>...</td>\n",
       "      <td>...</td>\n",
       "    </tr>\n",
       "    <tr>\n",
       "      <td>8</td>\n",
       "      <td>33.548488</td>\n",
       "      <td>36.403905</td>\n",
       "      <td>32.340723</td>\n",
       "      <td>1</td>\n",
       "      <td>2004</td>\n",
       "      <td>0.000000</td>\n",
       "      <td>Rhode Island</td>\n",
       "      <td>0</td>\n",
       "      <td>0.0</td>\n",
       "      <td>50.730</td>\n",
       "      <td>695.520388</td>\n",
       "      <td>20902.54</td>\n",
       "    </tr>\n",
       "    <tr>\n",
       "      <td>11</td>\n",
       "      <td>31.364580</td>\n",
       "      <td>35.565489</td>\n",
       "      <td>34.538435</td>\n",
       "      <td>1</td>\n",
       "      <td>2008</td>\n",
       "      <td>0.000000</td>\n",
       "      <td>Rhode Island</td>\n",
       "      <td>0</td>\n",
       "      <td>0.0</td>\n",
       "      <td>45.660</td>\n",
       "      <td>682.849838</td>\n",
       "      <td>21656.08</td>\n",
       "    </tr>\n",
       "    <tr>\n",
       "      <td>13</td>\n",
       "      <td>34.297437</td>\n",
       "      <td>34.454458</td>\n",
       "      <td>33.094150</td>\n",
       "      <td>1</td>\n",
       "      <td>2012</td>\n",
       "      <td>0.000000</td>\n",
       "      <td>Rhode Island</td>\n",
       "      <td>0</td>\n",
       "      <td>0.0</td>\n",
       "      <td>47.200</td>\n",
       "      <td>681.318447</td>\n",
       "      <td>22373.87</td>\n",
       "    </tr>\n",
       "    <tr>\n",
       "      <td>14</td>\n",
       "      <td>35.844058</td>\n",
       "      <td>36.953955</td>\n",
       "      <td>39.107901</td>\n",
       "      <td>1</td>\n",
       "      <td>2016</td>\n",
       "      <td>0.000000</td>\n",
       "      <td>Rhode Island</td>\n",
       "      <td>0</td>\n",
       "      <td>0.0</td>\n",
       "      <td>46.090</td>\n",
       "      <td>683.770874</td>\n",
       "      <td>23319.69</td>\n",
       "    </tr>\n",
       "    <tr>\n",
       "      <td>16</td>\n",
       "      <td>33.695833</td>\n",
       "      <td>32.449547</td>\n",
       "      <td>31.383580</td>\n",
       "      <td>1</td>\n",
       "      <td>2020</td>\n",
       "      <td>0.000000</td>\n",
       "      <td>Rhode Island</td>\n",
       "      <td>0</td>\n",
       "      <td>0.0</td>\n",
       "      <td>46.525</td>\n",
       "      <td>683.598706</td>\n",
       "      <td>24235.81</td>\n",
       "    </tr>\n",
       "  </tbody>\n",
       "</table>\n",
       "<p>444 rows × 12 columns</p>\n",
       "</div>"
      ],
      "text/plain": [
       "     month_10   month_11    month_9  republican  Year  Rep_House_Prop  \\\n",
       "0   51.797513  51.909088  51.657848           1  1988        0.200000   \n",
       "3   35.651345  35.969860  38.271617           1  1992        0.100000   \n",
       "5   40.574781  41.630290  40.888825           1  1996        0.363636   \n",
       "7   48.459137  50.952625  44.657240           1  2000        0.727273   \n",
       "8   54.915037  54.194542  55.351526           1  2004        0.727273   \n",
       "..        ...        ...        ...         ...   ...             ...   \n",
       "8   33.548488  36.403905  32.340723           1  2004        0.000000   \n",
       "11  31.364580  35.565489  34.538435           1  2008        0.000000   \n",
       "13  34.297437  34.454458  33.094150           1  2012        0.000000   \n",
       "14  35.844058  36.953955  39.107901           1  2016        0.000000   \n",
       "16  33.695833  32.449547  31.383580           1  2020        0.000000   \n",
       "\n",
       "           State  Result  rep_loyalty  popular_vote_percentage     density  \\\n",
       "0        Georgia       1          0.5                   53.370  106.259013   \n",
       "3        Georgia       0          0.7                   37.450  113.717367   \n",
       "5        Georgia       1          0.5                   40.720  123.352989   \n",
       "7        Georgia       1          0.7                   47.870  138.411248   \n",
       "8        Georgia       1          0.8                   50.730  147.528675   \n",
       "..           ...     ...          ...                      ...         ...   \n",
       "8   Rhode Island       0          0.0                   50.730  695.520388   \n",
       "11  Rhode Island       0          0.0                   45.660  682.849838   \n",
       "13  Rhode Island       0          0.0                   47.200  681.318447   \n",
       "14  Rhode Island       0          0.0                   46.090  683.770874   \n",
       "16  Rhode Island       0          0.0                   46.525  683.598706   \n",
       "\n",
       "          RDI  \n",
       "0    93086.74  \n",
       "3   100758.19  \n",
       "5   108448.50  \n",
       "7   115406.50  \n",
       "8   123452.01  \n",
       "..        ...  \n",
       "8    20902.54  \n",
       "11   21656.08  \n",
       "13   22373.87  \n",
       "14   23319.69  \n",
       "16   24235.81  \n",
       "\n",
       "[444 rows x 12 columns]"
      ]
     },
     "execution_count": 6,
     "metadata": {},
     "output_type": "execute_result"
    }
   ],
   "source": [
    "final_df"
   ]
  },
  {
   "cell_type": "code",
   "execution_count": 7,
   "metadata": {},
   "outputs": [],
   "source": [
    "final_importance_dfs = {}\n",
    "for index_state in index_swing_states:  # model only for the swing states\n",
    "    data_swing_state = []\n",
    "    for i, state in enumerate(all_states):  \n",
    "        if state == all_states[index_state]:\n",
    "            continue\n",
    "        if state != all_states[index_state]:   # for all the state but the swing state, remove the 2020 election\n",
    "            data_state = final_df[final_df['State'] == state]\n",
    "            data_state = data_state.iloc[:-1, :]\n",
    "        correlation = int(correlation_matrix.iloc[index_state, i])\n",
    "        if correlation > 0:  # add correlation * the dataframe for the state (where we removed the 2020 election)\n",
    "            data_state_importance = pd.concat([data_state for _ in range(correlation)])\n",
    "            if data_state.values.tolist():\n",
    "                try:\n",
    "                    data_swing_state = pd.concat([data_swing_state, data_state_importance])\n",
    "                except:\n",
    "                    data_swing_state = data_state_importance\n",
    "    final_importance_dfs[all_states[index_state]] = data_swing_state\n",
    "# for every swing state, the corresponding values are missing, this is in order to help for the validation"
   ]
  },
  {
   "cell_type": "code",
   "execution_count": 8,
   "metadata": {},
   "outputs": [
    {
     "data": {
      "text/html": [
       "<div>\n",
       "<style scoped>\n",
       "    .dataframe tbody tr th:only-of-type {\n",
       "        vertical-align: middle;\n",
       "    }\n",
       "\n",
       "    .dataframe tbody tr th {\n",
       "        vertical-align: top;\n",
       "    }\n",
       "\n",
       "    .dataframe thead th {\n",
       "        text-align: right;\n",
       "    }\n",
       "</style>\n",
       "<table border=\"1\" class=\"dataframe\">\n",
       "  <thead>\n",
       "    <tr style=\"text-align: right;\">\n",
       "      <th></th>\n",
       "      <th>month_10</th>\n",
       "      <th>month_11</th>\n",
       "      <th>month_9</th>\n",
       "      <th>republican</th>\n",
       "      <th>Year</th>\n",
       "      <th>Rep_House_Prop</th>\n",
       "      <th>State</th>\n",
       "      <th>Result</th>\n",
       "      <th>rep_loyalty</th>\n",
       "      <th>popular_vote_percentage</th>\n",
       "      <th>density</th>\n",
       "      <th>RDI</th>\n",
       "    </tr>\n",
       "  </thead>\n",
       "  <tbody>\n",
       "    <tr>\n",
       "      <td>0</td>\n",
       "      <td>51.797513</td>\n",
       "      <td>51.909088</td>\n",
       "      <td>51.657848</td>\n",
       "      <td>1</td>\n",
       "      <td>1988</td>\n",
       "      <td>0.200000</td>\n",
       "      <td>Georgia</td>\n",
       "      <td>1</td>\n",
       "      <td>0.5</td>\n",
       "      <td>53.37</td>\n",
       "      <td>106.259013</td>\n",
       "      <td>93086.74</td>\n",
       "    </tr>\n",
       "    <tr>\n",
       "      <td>3</td>\n",
       "      <td>35.651345</td>\n",
       "      <td>35.969860</td>\n",
       "      <td>38.271617</td>\n",
       "      <td>1</td>\n",
       "      <td>1992</td>\n",
       "      <td>0.100000</td>\n",
       "      <td>Georgia</td>\n",
       "      <td>0</td>\n",
       "      <td>0.7</td>\n",
       "      <td>37.45</td>\n",
       "      <td>113.717367</td>\n",
       "      <td>100758.19</td>\n",
       "    </tr>\n",
       "    <tr>\n",
       "      <td>5</td>\n",
       "      <td>40.574781</td>\n",
       "      <td>41.630290</td>\n",
       "      <td>40.888825</td>\n",
       "      <td>1</td>\n",
       "      <td>1996</td>\n",
       "      <td>0.363636</td>\n",
       "      <td>Georgia</td>\n",
       "      <td>1</td>\n",
       "      <td>0.5</td>\n",
       "      <td>40.72</td>\n",
       "      <td>123.352989</td>\n",
       "      <td>108448.50</td>\n",
       "    </tr>\n",
       "    <tr>\n",
       "      <td>7</td>\n",
       "      <td>48.459137</td>\n",
       "      <td>50.952625</td>\n",
       "      <td>44.657240</td>\n",
       "      <td>1</td>\n",
       "      <td>2000</td>\n",
       "      <td>0.727273</td>\n",
       "      <td>Georgia</td>\n",
       "      <td>1</td>\n",
       "      <td>0.7</td>\n",
       "      <td>47.87</td>\n",
       "      <td>138.411248</td>\n",
       "      <td>115406.50</td>\n",
       "    </tr>\n",
       "    <tr>\n",
       "      <td>8</td>\n",
       "      <td>54.915037</td>\n",
       "      <td>54.194542</td>\n",
       "      <td>55.351526</td>\n",
       "      <td>1</td>\n",
       "      <td>2004</td>\n",
       "      <td>0.727273</td>\n",
       "      <td>Georgia</td>\n",
       "      <td>1</td>\n",
       "      <td>0.8</td>\n",
       "      <td>50.73</td>\n",
       "      <td>147.528675</td>\n",
       "      <td>123452.01</td>\n",
       "    </tr>\n",
       "    <tr>\n",
       "      <td>...</td>\n",
       "      <td>...</td>\n",
       "      <td>...</td>\n",
       "      <td>...</td>\n",
       "      <td>...</td>\n",
       "      <td>...</td>\n",
       "      <td>...</td>\n",
       "      <td>...</td>\n",
       "      <td>...</td>\n",
       "      <td>...</td>\n",
       "      <td>...</td>\n",
       "      <td>...</td>\n",
       "      <td>...</td>\n",
       "    </tr>\n",
       "    <tr>\n",
       "      <td>7</td>\n",
       "      <td>29.539093</td>\n",
       "      <td>31.266380</td>\n",
       "      <td>25.226051</td>\n",
       "      <td>1</td>\n",
       "      <td>2000</td>\n",
       "      <td>0.000000</td>\n",
       "      <td>Rhode Island</td>\n",
       "      <td>0</td>\n",
       "      <td>0.1</td>\n",
       "      <td>47.87</td>\n",
       "      <td>679.785113</td>\n",
       "      <td>20180.30</td>\n",
       "    </tr>\n",
       "    <tr>\n",
       "      <td>8</td>\n",
       "      <td>33.548488</td>\n",
       "      <td>36.403905</td>\n",
       "      <td>32.340723</td>\n",
       "      <td>1</td>\n",
       "      <td>2004</td>\n",
       "      <td>0.000000</td>\n",
       "      <td>Rhode Island</td>\n",
       "      <td>0</td>\n",
       "      <td>0.0</td>\n",
       "      <td>50.73</td>\n",
       "      <td>695.520388</td>\n",
       "      <td>20902.54</td>\n",
       "    </tr>\n",
       "    <tr>\n",
       "      <td>11</td>\n",
       "      <td>31.364580</td>\n",
       "      <td>35.565489</td>\n",
       "      <td>34.538435</td>\n",
       "      <td>1</td>\n",
       "      <td>2008</td>\n",
       "      <td>0.000000</td>\n",
       "      <td>Rhode Island</td>\n",
       "      <td>0</td>\n",
       "      <td>0.0</td>\n",
       "      <td>45.66</td>\n",
       "      <td>682.849838</td>\n",
       "      <td>21656.08</td>\n",
       "    </tr>\n",
       "    <tr>\n",
       "      <td>13</td>\n",
       "      <td>34.297437</td>\n",
       "      <td>34.454458</td>\n",
       "      <td>33.094150</td>\n",
       "      <td>1</td>\n",
       "      <td>2012</td>\n",
       "      <td>0.000000</td>\n",
       "      <td>Rhode Island</td>\n",
       "      <td>0</td>\n",
       "      <td>0.0</td>\n",
       "      <td>47.20</td>\n",
       "      <td>681.318447</td>\n",
       "      <td>22373.87</td>\n",
       "    </tr>\n",
       "    <tr>\n",
       "      <td>14</td>\n",
       "      <td>35.844058</td>\n",
       "      <td>36.953955</td>\n",
       "      <td>39.107901</td>\n",
       "      <td>1</td>\n",
       "      <td>2016</td>\n",
       "      <td>0.000000</td>\n",
       "      <td>Rhode Island</td>\n",
       "      <td>0</td>\n",
       "      <td>0.0</td>\n",
       "      <td>46.09</td>\n",
       "      <td>683.770874</td>\n",
       "      <td>23319.69</td>\n",
       "    </tr>\n",
       "  </tbody>\n",
       "</table>\n",
       "<p>1140 rows × 12 columns</p>\n",
       "</div>"
      ],
      "text/plain": [
       "     month_10   month_11    month_9  republican  Year  Rep_House_Prop  \\\n",
       "0   51.797513  51.909088  51.657848           1  1988        0.200000   \n",
       "3   35.651345  35.969860  38.271617           1  1992        0.100000   \n",
       "5   40.574781  41.630290  40.888825           1  1996        0.363636   \n",
       "7   48.459137  50.952625  44.657240           1  2000        0.727273   \n",
       "8   54.915037  54.194542  55.351526           1  2004        0.727273   \n",
       "..        ...        ...        ...         ...   ...             ...   \n",
       "7   29.539093  31.266380  25.226051           1  2000        0.000000   \n",
       "8   33.548488  36.403905  32.340723           1  2004        0.000000   \n",
       "11  31.364580  35.565489  34.538435           1  2008        0.000000   \n",
       "13  34.297437  34.454458  33.094150           1  2012        0.000000   \n",
       "14  35.844058  36.953955  39.107901           1  2016        0.000000   \n",
       "\n",
       "           State  Result  rep_loyalty  popular_vote_percentage     density  \\\n",
       "0        Georgia       1          0.5                    53.37  106.259013   \n",
       "3        Georgia       0          0.7                    37.45  113.717367   \n",
       "5        Georgia       1          0.5                    40.72  123.352989   \n",
       "7        Georgia       1          0.7                    47.87  138.411248   \n",
       "8        Georgia       1          0.8                    50.73  147.528675   \n",
       "..           ...     ...          ...                      ...         ...   \n",
       "7   Rhode Island       0          0.1                    47.87  679.785113   \n",
       "8   Rhode Island       0          0.0                    50.73  695.520388   \n",
       "11  Rhode Island       0          0.0                    45.66  682.849838   \n",
       "13  Rhode Island       0          0.0                    47.20  681.318447   \n",
       "14  Rhode Island       0          0.0                    46.09  683.770874   \n",
       "\n",
       "          RDI  \n",
       "0    93086.74  \n",
       "3   100758.19  \n",
       "5   108448.50  \n",
       "7   115406.50  \n",
       "8   123452.01  \n",
       "..        ...  \n",
       "7    20180.30  \n",
       "8    20902.54  \n",
       "11   21656.08  \n",
       "13   22373.87  \n",
       "14   23319.69  \n",
       "\n",
       "[1140 rows x 12 columns]"
      ]
     },
     "execution_count": 8,
     "metadata": {},
     "output_type": "execute_result"
    }
   ],
   "source": [
    "final_importance_dfs['Texas']"
   ]
  },
  {
   "cell_type": "markdown",
   "metadata": {},
   "source": [
    "#### Modelling part : swing state"
   ]
  },
  {
   "cell_type": "markdown",
   "metadata": {},
   "source": [
    "Enter the swing state you wish to study"
   ]
  },
  {
   "cell_type": "code",
   "execution_count": 9,
   "metadata": {},
   "outputs": [],
   "source": [
    "swing_state = 'Texas'"
   ]
  },
  {
   "cell_type": "code",
   "execution_count": 10,
   "metadata": {},
   "outputs": [],
   "source": [
    "def split(initial_df, final_importance_df, swing_state): # particular state missing\n",
    "    swing_state_data = initial_df[initial_df['State'] == swing_state]  # data to be protected\n",
    "    data_test = swing_state_data[swing_state_data['Year'] == 2020].iloc[:1, :] # test data\n",
    "    X_test, y_test = data_test.drop('Result', axis=1), data_test['Result'] # X test and test labels  \n",
    "    swing_state_data = swing_state_data[swing_state_data['Year'] != 2020] # we remove the test data\n",
    "    kf = KFold(n_splits=3, random_state=1, shuffle=True)\n",
    "    Xs, X_vals, ys, yvals = [], [], [], []\n",
    "    for train_index, val_index in kf.split(swing_state_data):\n",
    "        X_train, X_val = swing_state_data.iloc[train_index, :], swing_state_data.iloc[val_index, :]\n",
    "        X_val, y_val = X_val.drop('Result', axis=1), X_val['Result']\n",
    "        X_vals.append(X_val)\n",
    "        yvals.append(y_val)\n",
    "        df_corr_to_concat = pd.concat([X_train for _ in range(10)])\n",
    "        X_values = pd.concat((final_importance_df[final_importance_df['State'] != swing_state], df_corr_to_concat))\n",
    "        X_values = X_values.sample(frac=1, replace=False) \n",
    "        X, y = X_values.drop('Result', axis=1), X_values['Result']\n",
    "        Xs.append(X)\n",
    "        ys.append(y)\n",
    "    return Xs, X_vals, X_test, ys, yvals, y_test"
   ]
  },
  {
   "cell_type": "code",
   "execution_count": 11,
   "metadata": {},
   "outputs": [],
   "source": [
    "X_trains, X_vals, X_test, y_trains, y_vals, y_test = split(final_df, final_importance_dfs[swing_state], swing_state)"
   ]
  },
  {
   "cell_type": "code",
   "execution_count": 12,
   "metadata": {},
   "outputs": [],
   "source": [
    "def modelling(X_train, X_val, y_train, y_val, models, scaler=True, Poly=1, PCA_comp=0):\n",
    "    # pca is the total variance explained required. 0 means that we do not want to perform pca\n",
    "    if 'State' in X_train.columns:\n",
    "        X_train = X_train.drop('State', axis=1)\n",
    "        X_val = X_val.drop('State', axis=1)\n",
    "    if 'Year' in X_train.columns:\n",
    "        X_train = X_train.drop('Year', axis=1)\n",
    "        X_val = X_val.drop('Year', axis=1)\n",
    "    if 'republican' in X_train.columns:\n",
    "        X_train = X_train.drop('republican', axis=1)\n",
    "        X_val = X_val.drop('republican', axis=1)\n",
    "    if PCA_comp > 0 and not scaler:\n",
    "        raise ValueError('We must normalize before performing PCA')\n",
    "    # if PCA_comp > 1 and Poly > 1:\n",
    "        # print('Performing Polynomial Transformation on top of PCA ...')\n",
    "    if scaler:\n",
    "        # print('Normalizing the data ...')\n",
    "        scaler = MinMaxScaler().fit(X_train)\n",
    "        X_train = scaler.transform(X_train)\n",
    "        X_val = scaler.transform(X_val)\n",
    "    if PCA_comp > 0:\n",
    "        # print('Performing PCA ...')\n",
    "        pca = PCA(n_components=X_train.shape[1])\n",
    "        pca.fit(X_train)\n",
    "        X_train = pca.transform(X_train)\n",
    "        X_val = pca.transform(X_val)\n",
    "        total_variance = np.cumsum(pca.explained_variance_ratio_)\n",
    "        for i, variance in enumerate(total_variance):\n",
    "            if variance > PCA_comp:\n",
    "                break \n",
    "        X_train, X_val = X_train[:, :i+1], X_val[:, :i+1]\n",
    "    if Poly > 1:\n",
    "        # print('Polynomial transformation ...')\n",
    "        poly_features = PolynomialFeatures(degree=Poly, include_bias=False).fit(X_train)\n",
    "        X_train = poly_features.transform(X_train)\n",
    "        X_val = poly_features.transform(X_val)\n",
    "    accuracies = []\n",
    "    # print('Modelling and gathering the predictions ..')\n",
    "    for i, model in enumerate(models.copy()):\n",
    "        model.fit(X_train, y_train)\n",
    "        predictions = model.predict(X_val)\n",
    "        accuracies.append(accuracy_score(y_val, predictions))\n",
    "    return accuracies"
   ]
  },
  {
   "cell_type": "markdown",
   "metadata": {},
   "source": [
    "##### Cross-Validation performances: do not overfit any training/validation anymore\n",
    "##### Tying it all together for the modelling framework\n",
    "\n",
    "With gridSearch"
   ]
  },
  {
   "cell_type": "code",
   "execution_count": 34,
   "metadata": {},
   "outputs": [
    {
     "name": "stdout",
     "output_type": "stream",
     "text": [
      "Fitting 2 folds for each of 720 candidates, totalling 1440 fits\n"
     ]
    },
    {
     "name": "stderr",
     "output_type": "stream",
     "text": [
      "[Parallel(n_jobs=-1)]: Using backend LokyBackend with 4 concurrent workers.\n",
      "[Parallel(n_jobs=-1)]: Done  42 tasks      | elapsed:    8.0s\n",
      "[Parallel(n_jobs=-1)]: Done 292 tasks      | elapsed:   15.5s\n",
      "[Parallel(n_jobs=-1)]: Done 792 tasks      | elapsed:   33.3s\n",
      "[Parallel(n_jobs=-1)]: Done 1440 out of 1440 | elapsed:   54.8s finished\n"
     ]
    },
    {
     "name": "stdout",
     "output_type": "stream",
     "text": [
      "Fitting 2 folds for each of 720 candidates, totalling 1440 fits\n"
     ]
    },
    {
     "name": "stderr",
     "output_type": "stream",
     "text": [
      "[Parallel(n_jobs=-1)]: Using backend LokyBackend with 4 concurrent workers.\n",
      "[Parallel(n_jobs=-1)]: Done 248 tasks      | elapsed:    7.4s\n",
      "[Parallel(n_jobs=-1)]: Done 732 tasks      | elapsed:   28.2s\n",
      "[Parallel(n_jobs=-1)]: Done 1232 tasks      | elapsed:   43.0s\n",
      "[Parallel(n_jobs=-1)]: Done 1440 out of 1440 | elapsed:   50.6s finished\n"
     ]
    },
    {
     "name": "stdout",
     "output_type": "stream",
     "text": [
      "Fitting 2 folds for each of 720 candidates, totalling 1440 fits\n"
     ]
    },
    {
     "name": "stderr",
     "output_type": "stream",
     "text": [
      "[Parallel(n_jobs=-1)]: Using backend LokyBackend with 4 concurrent workers.\n",
      "[Parallel(n_jobs=-1)]: Done 492 tasks      | elapsed:   15.3s\n",
      "[Parallel(n_jobs=-1)]: Done 1092 tasks      | elapsed:   33.1s\n",
      "[Parallel(n_jobs=-1)]: Done 1440 out of 1440 | elapsed:   43.0s finished\n"
     ]
    },
    {
     "name": "stdout",
     "output_type": "stream",
     "text": [
      "Fitting 2 folds for each of 720 candidates, totalling 1440 fits\n"
     ]
    },
    {
     "name": "stderr",
     "output_type": "stream",
     "text": [
      "[Parallel(n_jobs=-1)]: Using backend LokyBackend with 4 concurrent workers.\n",
      "[Parallel(n_jobs=-1)]: Done 297 tasks      | elapsed:    8.4s\n",
      "[Parallel(n_jobs=-1)]: Done 600 tasks      | elapsed:   19.0s\n",
      "[Parallel(n_jobs=-1)]: Done 1100 tasks      | elapsed:   32.7s\n",
      "[Parallel(n_jobs=-1)]: Done 1440 out of 1440 | elapsed:   44.2s finished\n"
     ]
    },
    {
     "name": "stdout",
     "output_type": "stream",
     "text": [
      "Fitting 2 folds for each of 720 candidates, totalling 1440 fits\n"
     ]
    },
    {
     "name": "stderr",
     "output_type": "stream",
     "text": [
      "[Parallel(n_jobs=-1)]: Using backend LokyBackend with 4 concurrent workers.\n",
      "[Parallel(n_jobs=-1)]: Done 371 tasks      | elapsed:   11.4s\n",
      "[Parallel(n_jobs=-1)]: Done 821 tasks      | elapsed:   29.7s\n",
      "[Parallel(n_jobs=-1)]: Done 1433 out of 1440 | elapsed:   46.1s remaining:    0.2s\n",
      "[Parallel(n_jobs=-1)]: Done 1440 out of 1440 | elapsed:   46.3s finished\n"
     ]
    },
    {
     "name": "stdout",
     "output_type": "stream",
     "text": [
      "Fitting 2 folds for each of 720 candidates, totalling 1440 fits\n"
     ]
    },
    {
     "name": "stderr",
     "output_type": "stream",
     "text": [
      "[Parallel(n_jobs=-1)]: Using backend LokyBackend with 4 concurrent workers.\n",
      "[Parallel(n_jobs=-1)]: Done 280 tasks      | elapsed:    7.8s\n",
      "[Parallel(n_jobs=-1)]: Done 782 tasks      | elapsed:   32.0s\n",
      "[Parallel(n_jobs=-1)]: Done 1282 tasks      | elapsed:   46.6s\n",
      "[Parallel(n_jobs=-1)]: Done 1440 out of 1440 | elapsed:   51.9s finished\n"
     ]
    },
    {
     "name": "stdout",
     "output_type": "stream",
     "text": [
      "Fitting 2 folds for each of 720 candidates, totalling 1440 fits\n"
     ]
    },
    {
     "name": "stderr",
     "output_type": "stream",
     "text": [
      "[Parallel(n_jobs=-1)]: Using backend LokyBackend with 4 concurrent workers.\n",
      "[Parallel(n_jobs=-1)]: Done 421 tasks      | elapsed:   11.9s\n",
      "[Parallel(n_jobs=-1)]: Done 1204 tasks      | elapsed:   38.2s\n",
      "[Parallel(n_jobs=-1)]: Done 1440 out of 1440 | elapsed:   47.4s finished\n"
     ]
    },
    {
     "name": "stdout",
     "output_type": "stream",
     "text": [
      "Fitting 2 folds for each of 720 candidates, totalling 1440 fits\n"
     ]
    },
    {
     "name": "stderr",
     "output_type": "stream",
     "text": [
      "[Parallel(n_jobs=-1)]: Using backend LokyBackend with 4 concurrent workers.\n",
      "[Parallel(n_jobs=-1)]: Done 404 tasks      | elapsed:   11.2s\n",
      "[Parallel(n_jobs=-1)]: Done 1304 tasks      | elapsed:   34.8s\n",
      "[Parallel(n_jobs=-1)]: Done 1433 out of 1440 | elapsed:   39.4s remaining:    0.2s\n",
      "[Parallel(n_jobs=-1)]: Done 1440 out of 1440 | elapsed:   39.6s finished\n"
     ]
    },
    {
     "name": "stdout",
     "output_type": "stream",
     "text": [
      "Fitting 2 folds for each of 720 candidates, totalling 1440 fits\n"
     ]
    },
    {
     "name": "stderr",
     "output_type": "stream",
     "text": [
      "[Parallel(n_jobs=-1)]: Using backend LokyBackend with 4 concurrent workers.\n",
      "[Parallel(n_jobs=-1)]: Done 450 tasks      | elapsed:   12.2s\n",
      "[Parallel(n_jobs=-1)]: Done 900 tasks      | elapsed:   24.2s\n",
      "[Parallel(n_jobs=-1)]: Done 1440 out of 1440 | elapsed:   39.3s finished\n"
     ]
    },
    {
     "name": "stdout",
     "output_type": "stream",
     "text": [
      "Fitting 2 folds for each of 720 candidates, totalling 1440 fits\n"
     ]
    },
    {
     "name": "stderr",
     "output_type": "stream",
     "text": [
      "[Parallel(n_jobs=-1)]: Using backend LokyBackend with 4 concurrent workers.\n",
      "[Parallel(n_jobs=-1)]: Done 260 tasks      | elapsed:    8.1s\n",
      "[Parallel(n_jobs=-1)]: Done 1160 tasks      | elapsed:   34.5s\n",
      "[Parallel(n_jobs=-1)]: Done 1440 out of 1440 | elapsed:   43.5s finished\n"
     ]
    },
    {
     "name": "stdout",
     "output_type": "stream",
     "text": [
      "Fitting 2 folds for each of 720 candidates, totalling 1440 fits\n"
     ]
    },
    {
     "name": "stderr",
     "output_type": "stream",
     "text": [
      "[Parallel(n_jobs=-1)]: Using backend LokyBackend with 4 concurrent workers.\n",
      "[Parallel(n_jobs=-1)]: Done 362 tasks      | elapsed:   10.3s\n",
      "[Parallel(n_jobs=-1)]: Done 1112 tasks      | elapsed:   32.3s\n",
      "[Parallel(n_jobs=-1)]: Done 1440 out of 1440 | elapsed:   42.6s finished\n"
     ]
    },
    {
     "name": "stdout",
     "output_type": "stream",
     "text": [
      "Fitting 2 folds for each of 720 candidates, totalling 1440 fits\n"
     ]
    },
    {
     "name": "stderr",
     "output_type": "stream",
     "text": [
      "[Parallel(n_jobs=-1)]: Using backend LokyBackend with 4 concurrent workers.\n",
      "[Parallel(n_jobs=-1)]: Done 268 tasks      | elapsed:    7.9s\n",
      "[Parallel(n_jobs=-1)]: Done 1018 tasks      | elapsed:   29.8s\n",
      "[Parallel(n_jobs=-1)]: Done 1433 out of 1440 | elapsed:   42.3s remaining:    0.2s\n",
      "[Parallel(n_jobs=-1)]: Done 1440 out of 1440 | elapsed:   42.5s finished\n"
     ]
    },
    {
     "name": "stdout",
     "output_type": "stream",
     "text": [
      "Fitting 2 folds for each of 720 candidates, totalling 1440 fits\n"
     ]
    },
    {
     "name": "stderr",
     "output_type": "stream",
     "text": [
      "[Parallel(n_jobs=-1)]: Using backend LokyBackend with 4 concurrent workers.\n",
      "[Parallel(n_jobs=-1)]: Done 352 tasks      | elapsed:    9.9s\n",
      "[Parallel(n_jobs=-1)]: Done 952 tasks      | elapsed:   27.3s\n",
      "[Parallel(n_jobs=-1)]: Done 1440 out of 1440 | elapsed:   41.4s finished\n"
     ]
    },
    {
     "name": "stdout",
     "output_type": "stream",
     "text": [
      "Fitting 2 folds for each of 720 candidates, totalling 1440 fits\n"
     ]
    },
    {
     "name": "stderr",
     "output_type": "stream",
     "text": [
      "[Parallel(n_jobs=-1)]: Using backend LokyBackend with 4 concurrent workers.\n",
      "[Parallel(n_jobs=-1)]: Done 421 tasks      | elapsed:   11.8s\n",
      "[Parallel(n_jobs=-1)]: Done 1321 tasks      | elapsed:   36.9s\n",
      "[Parallel(n_jobs=-1)]: Done 1440 out of 1440 | elapsed:   40.4s finished\n"
     ]
    },
    {
     "name": "stdout",
     "output_type": "stream",
     "text": [
      "Fitting 2 folds for each of 720 candidates, totalling 1440 fits\n"
     ]
    },
    {
     "name": "stderr",
     "output_type": "stream",
     "text": [
      "[Parallel(n_jobs=-1)]: Using backend LokyBackend with 4 concurrent workers.\n",
      "[Parallel(n_jobs=-1)]: Done 292 tasks      | elapsed:    8.3s\n",
      "[Parallel(n_jobs=-1)]: Done 742 tasks      | elapsed:   22.4s\n",
      "[Parallel(n_jobs=-1)]: Done 1440 out of 1440 | elapsed:   41.2s finished\n"
     ]
    },
    {
     "name": "stdout",
     "output_type": "stream",
     "text": [
      "Fitting 2 folds for each of 720 candidates, totalling 1440 fits\n"
     ]
    },
    {
     "name": "stderr",
     "output_type": "stream",
     "text": [
      "[Parallel(n_jobs=-1)]: Using backend LokyBackend with 4 concurrent workers.\n",
      "[Parallel(n_jobs=-1)]: Done 212 tasks      | elapsed:    5.6s\n",
      "[Parallel(n_jobs=-1)]: Done 1112 tasks      | elapsed:   30.2s\n",
      "[Parallel(n_jobs=-1)]: Done 1440 out of 1440 | elapsed:   39.3s finished\n"
     ]
    },
    {
     "name": "stdout",
     "output_type": "stream",
     "text": [
      "Fitting 2 folds for each of 720 candidates, totalling 1440 fits\n"
     ]
    },
    {
     "name": "stderr",
     "output_type": "stream",
     "text": [
      "[Parallel(n_jobs=-1)]: Using backend LokyBackend with 4 concurrent workers.\n",
      "[Parallel(n_jobs=-1)]: Done 383 tasks      | elapsed:   10.7s\n",
      "[Parallel(n_jobs=-1)]: Done 1133 tasks      | elapsed:   31.0s\n",
      "[Parallel(n_jobs=-1)]: Done 1433 out of 1440 | elapsed:   40.2s remaining:    0.2s\n",
      "[Parallel(n_jobs=-1)]: Done 1440 out of 1440 | elapsed:   40.3s finished\n"
     ]
    },
    {
     "name": "stdout",
     "output_type": "stream",
     "text": [
      "Fitting 2 folds for each of 720 candidates, totalling 1440 fits\n"
     ]
    },
    {
     "name": "stderr",
     "output_type": "stream",
     "text": [
      "[Parallel(n_jobs=-1)]: Using backend LokyBackend with 4 concurrent workers.\n",
      "[Parallel(n_jobs=-1)]: Done 280 tasks      | elapsed:    8.5s\n",
      "[Parallel(n_jobs=-1)]: Done 904 tasks      | elapsed:   25.7s\n",
      "[Parallel(n_jobs=-1)]: Done 1440 out of 1440 | elapsed:   40.1s finished\n"
     ]
    },
    {
     "name": "stdout",
     "output_type": "stream",
     "text": [
      "Fitting 2 folds for each of 720 candidates, totalling 1440 fits\n"
     ]
    },
    {
     "name": "stderr",
     "output_type": "stream",
     "text": [
      "[Parallel(n_jobs=-1)]: Using backend LokyBackend with 4 concurrent workers.\n",
      "[Parallel(n_jobs=-1)]: Done 324 tasks      | elapsed:    9.1s\n",
      "[Parallel(n_jobs=-1)]: Done 924 tasks      | elapsed:   26.8s\n",
      "[Parallel(n_jobs=-1)]: Done 1440 out of 1440 | elapsed:   41.6s finished\n"
     ]
    },
    {
     "name": "stdout",
     "output_type": "stream",
     "text": [
      "Fitting 2 folds for each of 720 candidates, totalling 1440 fits\n"
     ]
    },
    {
     "name": "stderr",
     "output_type": "stream",
     "text": [
      "[Parallel(n_jobs=-1)]: Using backend LokyBackend with 4 concurrent workers.\n",
      "[Parallel(n_jobs=-1)]: Done 382 tasks      | elapsed:   13.7s\n",
      "[Parallel(n_jobs=-1)]: Done 832 tasks      | elapsed:   32.1s\n",
      "[Parallel(n_jobs=-1)]: Done 1440 out of 1440 | elapsed:   52.2s finished\n"
     ]
    },
    {
     "name": "stdout",
     "output_type": "stream",
     "text": [
      "Fitting 2 folds for each of 720 candidates, totalling 1440 fits\n"
     ]
    },
    {
     "name": "stderr",
     "output_type": "stream",
     "text": [
      "[Parallel(n_jobs=-1)]: Using backend LokyBackend with 4 concurrent workers.\n",
      "[Parallel(n_jobs=-1)]: Done 496 tasks      | elapsed:   14.9s\n",
      "[Parallel(n_jobs=-1)]: Done 1096 tasks      | elapsed:   32.0s\n",
      "[Parallel(n_jobs=-1)]: Done 1440 out of 1440 | elapsed:   44.3s finished\n"
     ]
    },
    {
     "name": "stdout",
     "output_type": "stream",
     "text": [
      "Fitting 2 folds for each of 720 candidates, totalling 1440 fits\n"
     ]
    },
    {
     "name": "stderr",
     "output_type": "stream",
     "text": [
      "[Parallel(n_jobs=-1)]: Using backend LokyBackend with 4 concurrent workers.\n",
      "[Parallel(n_jobs=-1)]: Done 169 tasks      | elapsed:    7.2s\n",
      "[Parallel(n_jobs=-1)]: Done 469 tasks      | elapsed:   16.1s\n",
      "[Parallel(n_jobs=-1)]: Done 969 tasks      | elapsed:   29.5s\n",
      "[Parallel(n_jobs=-1)]: Done 1433 out of 1440 | elapsed:   43.8s remaining:    0.2s\n",
      "[Parallel(n_jobs=-1)]: Done 1440 out of 1440 | elapsed:   43.9s finished\n"
     ]
    },
    {
     "name": "stdout",
     "output_type": "stream",
     "text": [
      "Fitting 2 folds for each of 720 candidates, totalling 1440 fits\n"
     ]
    },
    {
     "name": "stderr",
     "output_type": "stream",
     "text": [
      "[Parallel(n_jobs=-1)]: Using backend LokyBackend with 4 concurrent workers.\n",
      "[Parallel(n_jobs=-1)]: Done 520 tasks      | elapsed:   15.4s\n",
      "[Parallel(n_jobs=-1)]: Done 1120 tasks      | elapsed:   32.0s\n",
      "[Parallel(n_jobs=-1)]: Done 1440 out of 1440 | elapsed:   41.9s finished\n"
     ]
    },
    {
     "name": "stdout",
     "output_type": "stream",
     "text": [
      "Fitting 2 folds for each of 720 candidates, totalling 1440 fits\n"
     ]
    },
    {
     "name": "stderr",
     "output_type": "stream",
     "text": [
      "[Parallel(n_jobs=-1)]: Using backend LokyBackend with 4 concurrent workers.\n",
      "[Parallel(n_jobs=-1)]: Done 280 tasks      | elapsed:    8.0s\n",
      "[Parallel(n_jobs=-1)]: Done 1440 out of 1440 | elapsed:   37.1s finished\n"
     ]
    },
    {
     "name": "stdout",
     "output_type": "stream",
     "text": [
      "Fitting 2 folds for each of 720 candidates, totalling 1440 fits\n"
     ]
    },
    {
     "name": "stderr",
     "output_type": "stream",
     "text": [
      "[Parallel(n_jobs=-1)]: Using backend LokyBackend with 4 concurrent workers.\n",
      "[Parallel(n_jobs=-1)]: Done 450 tasks      | elapsed:   12.7s\n",
      "[Parallel(n_jobs=-1)]: Done 900 tasks      | elapsed:   28.2s\n",
      "[Parallel(n_jobs=-1)]: Done 1440 out of 1440 | elapsed:   44.4s finished\n"
     ]
    },
    {
     "name": "stdout",
     "output_type": "stream",
     "text": [
      "Fitting 2 folds for each of 720 candidates, totalling 1440 fits\n"
     ]
    },
    {
     "name": "stderr",
     "output_type": "stream",
     "text": [
      "[Parallel(n_jobs=-1)]: Using backend LokyBackend with 4 concurrent workers.\n",
      "[Parallel(n_jobs=-1)]: Done 280 tasks      | elapsed:    7.8s\n",
      "[Parallel(n_jobs=-1)]: Done 940 tasks      | elapsed:   27.2s\n",
      "[Parallel(n_jobs=-1)]: Done 1440 out of 1440 | elapsed:   42.8s finished\n"
     ]
    },
    {
     "name": "stdout",
     "output_type": "stream",
     "text": [
      "Fitting 2 folds for each of 720 candidates, totalling 1440 fits\n"
     ]
    },
    {
     "name": "stderr",
     "output_type": "stream",
     "text": [
      "[Parallel(n_jobs=-1)]: Using backend LokyBackend with 4 concurrent workers.\n",
      "[Parallel(n_jobs=-1)]: Done 499 tasks      | elapsed:   15.1s\n",
      "[Parallel(n_jobs=-1)]: Done 1099 tasks      | elapsed:   32.4s\n",
      "[Parallel(n_jobs=-1)]: Done 1440 out of 1440 | elapsed:   47.3s finished\n"
     ]
    },
    {
     "name": "stdout",
     "output_type": "stream",
     "text": [
      "Fitting 2 folds for each of 720 candidates, totalling 1440 fits\n"
     ]
    },
    {
     "name": "stderr",
     "output_type": "stream",
     "text": [
      "[Parallel(n_jobs=-1)]: Using backend LokyBackend with 4 concurrent workers.\n",
      "[Parallel(n_jobs=-1)]: Done 281 tasks      | elapsed:    9.1s\n",
      "[Parallel(n_jobs=-1)]: Done 581 tasks      | elapsed:   17.7s\n",
      "[Parallel(n_jobs=-1)]: Done 1081 tasks      | elapsed:   33.7s\n",
      "[Parallel(n_jobs=-1)]: Done 1433 out of 1440 | elapsed:   44.7s remaining:    0.2s\n",
      "[Parallel(n_jobs=-1)]: Done 1440 out of 1440 | elapsed:   44.9s finished\n"
     ]
    },
    {
     "name": "stdout",
     "output_type": "stream",
     "text": [
      "Fitting 2 folds for each of 720 candidates, totalling 1440 fits\n"
     ]
    },
    {
     "name": "stderr",
     "output_type": "stream",
     "text": [
      "[Parallel(n_jobs=-1)]: Using backend LokyBackend with 4 concurrent workers.\n",
      "[Parallel(n_jobs=-1)]: Done 411 tasks      | elapsed:   11.6s\n",
      "[Parallel(n_jobs=-1)]: Done 861 tasks      | elapsed:   24.4s\n",
      "[Parallel(n_jobs=-1)]: Done 1440 out of 1440 | elapsed:   38.6s finished\n"
     ]
    },
    {
     "name": "stdout",
     "output_type": "stream",
     "text": [
      "Fitting 2 folds for each of 720 candidates, totalling 1440 fits\n"
     ]
    },
    {
     "name": "stderr",
     "output_type": "stream",
     "text": [
      "[Parallel(n_jobs=-1)]: Using backend LokyBackend with 4 concurrent workers.\n",
      "[Parallel(n_jobs=-1)]: Done 492 tasks      | elapsed:   12.8s\n",
      "[Parallel(n_jobs=-1)]: Done 1092 tasks      | elapsed:   29.3s\n",
      "[Parallel(n_jobs=-1)]: Done 1440 out of 1440 | elapsed:   39.6s finished\n"
     ]
    },
    {
     "name": "stdout",
     "output_type": "stream",
     "text": [
      "Fitting 2 folds for each of 720 candidates, totalling 1440 fits\n"
     ]
    },
    {
     "name": "stderr",
     "output_type": "stream",
     "text": [
      "[Parallel(n_jobs=-1)]: Using backend LokyBackend with 4 concurrent workers.\n",
      "[Parallel(n_jobs=-1)]: Done 411 tasks      | elapsed:   11.1s\n",
      "[Parallel(n_jobs=-1)]: Done 861 tasks      | elapsed:   24.1s\n",
      "[Parallel(n_jobs=-1)]: Done 1440 out of 1440 | elapsed:   40.6s finished\n"
     ]
    },
    {
     "name": "stdout",
     "output_type": "stream",
     "text": [
      "Fitting 2 folds for each of 720 candidates, totalling 1440 fits\n"
     ]
    },
    {
     "name": "stderr",
     "output_type": "stream",
     "text": [
      "[Parallel(n_jobs=-1)]: Using backend LokyBackend with 4 concurrent workers.\n",
      "[Parallel(n_jobs=-1)]: Done 382 tasks      | elapsed:   11.6s\n",
      "[Parallel(n_jobs=-1)]: Done 832 tasks      | elapsed:   26.5s\n",
      "[Parallel(n_jobs=-1)]: Done 1440 out of 1440 | elapsed:   51.5s finished\n"
     ]
    },
    {
     "name": "stdout",
     "output_type": "stream",
     "text": [
      "Fitting 2 folds for each of 720 candidates, totalling 1440 fits\n"
     ]
    },
    {
     "name": "stderr",
     "output_type": "stream",
     "text": [
      "[Parallel(n_jobs=-1)]: Using backend LokyBackend with 4 concurrent workers.\n",
      "[Parallel(n_jobs=-1)]: Done 212 tasks      | elapsed:    7.2s\n",
      "[Parallel(n_jobs=-1)]: Done 701 tasks      | elapsed:   28.7s\n",
      "[Parallel(n_jobs=-1)]: Done 1162 tasks      | elapsed:   45.4s\n",
      "[Parallel(n_jobs=-1)]: Done 1440 out of 1440 | elapsed:   57.7s finished\n"
     ]
    },
    {
     "name": "stdout",
     "output_type": "stream",
     "text": [
      "Fitting 2 folds for each of 720 candidates, totalling 1440 fits\n"
     ]
    },
    {
     "name": "stderr",
     "output_type": "stream",
     "text": [
      "[Parallel(n_jobs=-1)]: Using backend LokyBackend with 4 concurrent workers.\n",
      "[Parallel(n_jobs=-1)]: Done 262 tasks      | elapsed:   12.6s\n",
      "[Parallel(n_jobs=-1)]: Done 548 tasks      | elapsed:   24.1s\n",
      "[Parallel(n_jobs=-1)]: Done 1048 tasks      | elapsed:   39.1s\n",
      "[Parallel(n_jobs=-1)]: Done 1440 out of 1440 | elapsed:   54.4s finished\n"
     ]
    },
    {
     "name": "stdout",
     "output_type": "stream",
     "text": [
      "Fitting 2 folds for each of 720 candidates, totalling 1440 fits\n"
     ]
    },
    {
     "name": "stderr",
     "output_type": "stream",
     "text": [
      "[Parallel(n_jobs=-1)]: Using backend LokyBackend with 4 concurrent workers.\n",
      "[Parallel(n_jobs=-1)]: Done 298 tasks      | elapsed:    8.1s\n",
      "[Parallel(n_jobs=-1)]: Done 1048 tasks      | elapsed:   31.3s\n",
      "[Parallel(n_jobs=-1)]: Done 1440 out of 1440 | elapsed:   45.3s finished\n"
     ]
    },
    {
     "name": "stdout",
     "output_type": "stream",
     "text": [
      "Fitting 2 folds for each of 720 candidates, totalling 1440 fits\n"
     ]
    },
    {
     "name": "stderr",
     "output_type": "stream",
     "text": [
      "[Parallel(n_jobs=-1)]: Using backend LokyBackend with 4 concurrent workers.\n",
      "[Parallel(n_jobs=-1)]: Done 248 tasks      | elapsed:    9.5s\n",
      "[Parallel(n_jobs=-1)]: Done 683 tasks      | elapsed:   27.4s\n",
      "[Parallel(n_jobs=-1)]: Done 1183 tasks      | elapsed:   40.0s\n",
      "[Parallel(n_jobs=-1)]: Done 1433 out of 1440 | elapsed:   47.8s remaining:    0.2s\n",
      "[Parallel(n_jobs=-1)]: Done 1440 out of 1440 | elapsed:   48.1s finished\n"
     ]
    },
    {
     "name": "stdout",
     "output_type": "stream",
     "text": [
      "Fitting 2 folds for each of 720 candidates, totalling 1440 fits\n"
     ]
    },
    {
     "name": "stderr",
     "output_type": "stream",
     "text": [
      "[Parallel(n_jobs=-1)]: Using backend LokyBackend with 4 concurrent workers.\n",
      "[Parallel(n_jobs=-1)]: Done 454 tasks      | elapsed:   12.8s\n",
      "[Parallel(n_jobs=-1)]: Done 904 tasks      | elapsed:   27.1s\n",
      "[Parallel(n_jobs=-1)]: Done 1440 out of 1440 | elapsed:   42.7s finished\n"
     ]
    },
    {
     "name": "stdout",
     "output_type": "stream",
     "text": [
      "Fitting 2 folds for each of 720 candidates, totalling 1440 fits\n"
     ]
    },
    {
     "name": "stderr",
     "output_type": "stream",
     "text": [
      "[Parallel(n_jobs=-1)]: Using backend LokyBackend with 4 concurrent workers.\n",
      "[Parallel(n_jobs=-1)]: Done 290 tasks      | elapsed:    8.7s\n",
      "[Parallel(n_jobs=-1)]: Done 1190 tasks      | elapsed:   34.2s\n",
      "[Parallel(n_jobs=-1)]: Done 1440 out of 1440 | elapsed:   42.0s finished\n"
     ]
    },
    {
     "name": "stdout",
     "output_type": "stream",
     "text": [
      "Fitting 2 folds for each of 720 candidates, totalling 1440 fits\n"
     ]
    },
    {
     "name": "stderr",
     "output_type": "stream",
     "text": [
      "[Parallel(n_jobs=-1)]: Using backend LokyBackend with 4 concurrent workers.\n",
      "[Parallel(n_jobs=-1)]: Done 374 tasks      | elapsed:   11.8s\n",
      "[Parallel(n_jobs=-1)]: Done 824 tasks      | elapsed:   27.2s\n",
      "[Parallel(n_jobs=-1)]: Done 1433 out of 1440 | elapsed:   47.2s remaining:    0.2s\n",
      "[Parallel(n_jobs=-1)]: Done 1440 out of 1440 | elapsed:   47.9s finished\n"
     ]
    },
    {
     "name": "stdout",
     "output_type": "stream",
     "text": [
      "Fitting 2 folds for each of 720 candidates, totalling 1440 fits\n"
     ]
    },
    {
     "name": "stderr",
     "output_type": "stream",
     "text": [
      "[Parallel(n_jobs=-1)]: Using backend LokyBackend with 4 concurrent workers.\n",
      "[Parallel(n_jobs=-1)]: Done 198 tasks      | elapsed:    8.1s\n",
      "[Parallel(n_jobs=-1)]: Done 498 tasks      | elapsed:   17.3s\n",
      "[Parallel(n_jobs=-1)]: Done 998 tasks      | elapsed:   33.6s\n",
      "[Parallel(n_jobs=-1)]: Done 1440 out of 1440 | elapsed:   48.9s finished\n"
     ]
    },
    {
     "name": "stdout",
     "output_type": "stream",
     "text": [
      "Fitting 2 folds for each of 720 candidates, totalling 1440 fits\n"
     ]
    },
    {
     "name": "stderr",
     "output_type": "stream",
     "text": [
      "[Parallel(n_jobs=-1)]: Using backend LokyBackend with 4 concurrent workers.\n",
      "[Parallel(n_jobs=-1)]: Done 192 tasks      | elapsed:    8.5s\n",
      "[Parallel(n_jobs=-1)]: Done 792 tasks      | elapsed:   27.9s\n",
      "[Parallel(n_jobs=-1)]: Done 1440 out of 1440 | elapsed:   43.8s finished\n"
     ]
    },
    {
     "name": "stdout",
     "output_type": "stream",
     "text": [
      "Fitting 2 folds for each of 720 candidates, totalling 1440 fits\n"
     ]
    },
    {
     "name": "stderr",
     "output_type": "stream",
     "text": [
      "[Parallel(n_jobs=-1)]: Using backend LokyBackend with 4 concurrent workers.\n",
      "[Parallel(n_jobs=-1)]: Done 404 tasks      | elapsed:   10.8s\n",
      "[Parallel(n_jobs=-1)]: Done 1304 tasks      | elapsed:   33.4s\n",
      "[Parallel(n_jobs=-1)]: Done 1440 out of 1440 | elapsed:   37.0s finished\n"
     ]
    },
    {
     "name": "stdout",
     "output_type": "stream",
     "text": [
      "Fitting 2 folds for each of 720 candidates, totalling 1440 fits\n"
     ]
    },
    {
     "name": "stderr",
     "output_type": "stream",
     "text": [
      "[Parallel(n_jobs=-1)]: Using backend LokyBackend with 4 concurrent workers.\n",
      "[Parallel(n_jobs=-1)]: Done 314 tasks      | elapsed:    8.1s\n",
      "[Parallel(n_jobs=-1)]: Done 1214 tasks      | elapsed:   31.0s\n",
      "[Parallel(n_jobs=-1)]: Done 1440 out of 1440 | elapsed:   37.1s finished\n"
     ]
    },
    {
     "name": "stdout",
     "output_type": "stream",
     "text": [
      "Fitting 2 folds for each of 720 candidates, totalling 1440 fits\n"
     ]
    },
    {
     "name": "stderr",
     "output_type": "stream",
     "text": [
      "[Parallel(n_jobs=-1)]: Using backend LokyBackend with 4 concurrent workers.\n",
      "[Parallel(n_jobs=-1)]: Done 310 tasks      | elapsed:    7.7s\n",
      "[Parallel(n_jobs=-1)]: Done 760 tasks      | elapsed:   20.1s\n",
      "[Parallel(n_jobs=-1)]: Done 1440 out of 1440 | elapsed:   36.8s finished\n"
     ]
    },
    {
     "name": "stdout",
     "output_type": "stream",
     "text": [
      "Fitting 2 folds for each of 720 candidates, totalling 1440 fits\n"
     ]
    },
    {
     "name": "stderr",
     "output_type": "stream",
     "text": [
      "[Parallel(n_jobs=-1)]: Using backend LokyBackend with 4 concurrent workers.\n",
      "[Parallel(n_jobs=-1)]: Done 446 tasks      | elapsed:   11.9s\n",
      "[Parallel(n_jobs=-1)]: Done 896 tasks      | elapsed:   23.5s\n",
      "[Parallel(n_jobs=-1)]: Done 1433 out of 1440 | elapsed:   36.9s remaining:    0.2s\n"
     ]
    },
    {
     "name": "stdout",
     "output_type": "stream",
     "text": [
      "The best accuracy over all of the swing states is 0.7629629629629628 and is obtained with LogisticRegression(C=0.1, max_iter=10000, penalty='l1', solver='liblinear') index 6\n"
     ]
    },
    {
     "name": "stderr",
     "output_type": "stream",
     "text": [
      "[Parallel(n_jobs=-1)]: Done 1440 out of 1440 | elapsed:   37.2s finished\n"
     ]
    }
   ],
   "source": [
    "# Number of trees in random forest\n",
    "n_estimators_over = [10, 30, 50, 90]\n",
    "# Number of features to consider at every split\n",
    "max_features = ['auto', 'sqrt']\n",
    "# Maximum number of levels in tree\n",
    "max_depth_over = [int(x) for x in np.linspace(1, 8, num=5)]\n",
    "# Minimum number of samples required to split a node\n",
    "min_samples_split = [1, 2, 3]\n",
    "# Minimum number of samples required at each leaf node\n",
    "min_samples_leaf = [1, 4, 5]\n",
    "# Method of selecting samples for training each tree\n",
    "bootstrap = [True, False]\n",
    "# Create the random grid\n",
    "random_grid = {'n_estimators': n_estimators_over,\n",
    "               'max_features': max_features,\n",
    "               'max_depth': max_depth_over,\n",
    "               'min_samples_split': min_samples_split,\n",
    "               'min_samples_leaf': min_samples_leaf,\n",
    "               'bootstrap': bootstrap,\n",
    "\n",
    "               }\n",
    "# Use the random grid to search for best hyperparameters\n",
    "\n",
    "rf = RandomForestClassifier()\n",
    "random_model = GridSearchCV(estimator=rf, \n",
    "                            param_grid=random_grid, \n",
    "                            verbose=1,\n",
    "                            scoring='neg_mean_squared_error',\n",
    "                            n_jobs=-1, \n",
    "                            return_train_score=True, \n",
    "                            cv=2, \n",
    "                            refit=True)\n",
    "\n",
    "models_considered = [LogisticRegression(penalty='none', max_iter=10000), \n",
    "                     LogisticRegression(C=0.001, penalty='l2',solver='lbfgs', max_iter = 10000),\n",
    "                     LogisticRegression(C=0.001, penalty='l1', solver='liblinear', max_iter=10000),\n",
    "                     LogisticRegression(C=0.0001, penalty='l2',solver='lbfgs', max_iter = 10000),\n",
    "                     LogisticRegression(C=0.0001, penalty='l1', solver='liblinear', max_iter=10000),\n",
    "                     LogisticRegression(C=0.1,penalty='l2',solver='lbfgs', max_iter=10000), \n",
    "                     LogisticRegression(C=0.1, penalty='l1', solver='liblinear', max_iter=10000),\n",
    "                     LogisticRegression(C=1,penalty='l2',solver='lbfgs', max_iter=10000), \n",
    "                     LogisticRegression(C=1, penalty='l1', solver='liblinear', max_iter=10000),\n",
    "                     LogisticRegression(C=10,penalty='l2',solver='lbfgs', max_iter=10000), \n",
    "                     LogisticRegression(C=10, penalty='l1', solver='liblinear', max_iter=10000),\n",
    "                     LogisticRegression(C=100,penalty='l2',solver='lbfgs', max_iter=10000), \n",
    "                     LogisticRegression(C=100, penalty='l1', solver='liblinear', max_iter=10000), \n",
    "                     LogisticRegression(C=200,penalty='l2',solver='lbfgs', max_iter=10000),\n",
    "                     DecisionTreeClassifier(max_depth=1),\n",
    "                     DecisionTreeClassifier(max_depth=2),\n",
    "                     DecisionTreeClassifier(max_depth=3),\n",
    "                     DecisionTreeClassifier(max_depth=4),\n",
    "                     DecisionTreeClassifier(max_depth=5),\n",
    "                     DecisionTreeClassifier(max_depth=6),\n",
    "                     DecisionTreeClassifier(max_depth=7),\n",
    "                     DecisionTreeClassifier(max_depth=8),\n",
    "                     DecisionTreeClassifier(max_depth=9),\n",
    "                     DecisionTreeClassifier(max_depth=10), \n",
    "                     random_model\n",
    "                    ]\n",
    "\n",
    "acc = []\n",
    "for state in swing_states:\n",
    "    X_trains, X_vals, X_test, y_trains, y_vals, y_test = split(final_df, final_importance_dfs[state], state)\n",
    "    acc_model = []\n",
    "    for X_train, y_train, X_val, y_val in zip(X_trains, y_trains, X_vals, y_vals):\n",
    "        accuracies = modelling(X_train, X_val, y_train, y_val, models=models_considered, scaler=True, Poly=3, PCA_comp=0.80)\n",
    "        acc_model.append(accuracies)\n",
    "    acc.append(np.mean(acc_model, axis=0))\n",
    "    \n",
    "acc_mean = np.mean(np.array(acc), axis=0)\n",
    "print('The best accuracy over all of the swing states is ' + str(np.max(acc_mean)) + ' and is obtained with ' + str(models_considered[np.argmax(acc_mean)]) + ' index ' + str(np.argmax(acc_mean)))"
   ]
  },
  {
   "cell_type": "markdown",
   "metadata": {},
   "source": [
    "Trying with different rf models by hand"
   ]
  },
  {
   "cell_type": "code",
   "execution_count": 58,
   "metadata": {},
   "outputs": [],
   "source": [
    "models_considered = [LogisticRegression(penalty='none', max_iter=10000), \n",
    "                     LogisticRegression(C=0.001, penalty='l2',solver='lbfgs', max_iter = 10000),\n",
    "                     LogisticRegression(C=0.001, penalty='l1', solver='liblinear', max_iter=10000),\n",
    "                     LogisticRegression(C=0.0001, penalty='l2',solver='lbfgs', max_iter = 10000),\n",
    "                     LogisticRegression(C=0.0001, penalty='l1', solver='liblinear', max_iter=10000),\n",
    "                     LogisticRegression(C=0.1,penalty='l2',solver='lbfgs', max_iter=10000), \n",
    "                     LogisticRegression(C=0.1, penalty='l1', solver='liblinear', max_iter=10000),\n",
    "                     LogisticRegression(C=1,penalty='l2',solver='lbfgs', max_iter=10000), \n",
    "                     LogisticRegression(C=1, penalty='l1', solver='liblinear', max_iter=10000),\n",
    "                     LogisticRegression(C=10,penalty='l2',solver='lbfgs', max_iter=10000), \n",
    "                     LogisticRegression(C=10, penalty='l1', solver='liblinear', max_iter=10000),\n",
    "                     LogisticRegression(C=100,penalty='l2',solver='lbfgs', max_iter=10000), \n",
    "                     LogisticRegression(C=100, penalty='l1', solver='liblinear', max_iter=10000), \n",
    "                     LogisticRegression(C=200,penalty='l2',solver='lbfgs', max_iter=10000),\n",
    "                     KNeighborsClassifier(n_neighbors=5),\n",
    "                     KNeighborsClassifier(n_neighbors=10),\n",
    "                     KNeighborsClassifier(n_neighbors=30),\n",
    "                     RandomForestClassifier(max_depth=1, n_estimators=10),\n",
    "                     RandomForestClassifier(max_depth=3, n_estimators=10),\n",
    "                     RandomForestClassifier(max_depth=6, n_estimators=10),\n",
    "                     RandomForestClassifier(max_depth=9, n_estimators=10),\n",
    "                     RandomForestClassifier(max_depth=1, n_estimators=30),\n",
    "                     RandomForestClassifier(max_depth=3, n_estimators=30),\n",
    "                     RandomForestClassifier(max_depth=6, n_estimators=30),\n",
    "                     RandomForestClassifier(max_depth=9, n_estimators=30),\n",
    "                     RandomForestClassifier(max_depth=1, n_estimators=50),\n",
    "                     RandomForestClassifier(max_depth=3, n_estimators=50),\n",
    "                     RandomForestClassifier(max_depth=6, n_estimators=50),\n",
    "                     RandomForestClassifier(max_depth=9, n_estimators=50),\n",
    "                     RandomForestClassifier(max_depth=1, n_estimators=90),\n",
    "                     RandomForestClassifier(max_depth=3, n_estimators=90),\n",
    "                     RandomForestClassifier(max_depth=6, n_estimators=90),\n",
    "                     RandomForestClassifier(max_depth=9, n_estimators=90),\n",
    "                     RandomForestClassifier(n_estimators=10, max_depth=1, min_samples_split=2),\n",
    "                     RandomForestClassifier(max_depth=3, n_estimators=10, min_samples_split=2),\n",
    "                     RandomForestClassifier(max_depth=6, n_estimators=10, min_samples_split=2),\n",
    "                     RandomForestClassifier(max_depth=9, n_estimators=10, min_samples_split=2),\n",
    "                     RandomForestClassifier(max_depth=1, n_estimators=30, min_samples_split=2),\n",
    "                     RandomForestClassifier(max_depth=3, n_estimators=30, min_samples_split=2),\n",
    "                     RandomForestClassifier(max_depth=6, n_estimators=30, min_samples_split=2),\n",
    "                     RandomForestClassifier(max_depth=9, n_estimators=30, min_samples_split=2),\n",
    "                     RandomForestClassifier(max_depth=1, n_estimators=50, min_samples_split=2),\n",
    "                     RandomForestClassifier(max_depth=3, n_estimators=50, min_samples_split=2),\n",
    "                     RandomForestClassifier(max_depth=6, n_estimators=50, min_samples_split=2),\n",
    "                     RandomForestClassifier(max_depth=9, n_estimators=50, min_samples_split=2),\n",
    "                     RandomForestClassifier(max_depth=1, n_estimators=90, min_samples_split=2),\n",
    "                     RandomForestClassifier(max_depth=3, n_estimators=90, min_samples_split=2),\n",
    "                     RandomForestClassifier(max_depth=6, n_estimators=90, min_samples_split=2),\n",
    "                     RandomForestClassifier(max_depth=9, n_estimators=90, min_samples_split=2),\n",
    "                     RandomForestClassifier(max_depth=1, n_estimators=10, min_samples_split=3),\n",
    "                     RandomForestClassifier(max_depth=3, n_estimators=10, min_samples_split=3),\n",
    "                     RandomForestClassifier(max_depth=6, n_estimators=10, min_samples_split=3),\n",
    "                     RandomForestClassifier(max_depth=9, n_estimators=10, min_samples_split=3),\n",
    "                     RandomForestClassifier(max_depth=1, n_estimators=30, min_samples_split=3),\n",
    "                     RandomForestClassifier(max_depth=3, n_estimators=30, min_samples_split=3),\n",
    "                     RandomForestClassifier(max_depth=6, n_estimators=30, min_samples_split=3),\n",
    "                     RandomForestClassifier(max_depth=9, n_estimators=30, min_samples_split=3),\n",
    "                     RandomForestClassifier(max_depth=1, n_estimators=50, min_samples_split=3),\n",
    "                     RandomForestClassifier(max_depth=3, n_estimators=50, min_samples_split=3),\n",
    "                     RandomForestClassifier(max_depth=6, n_estimators=50, min_samples_split=3),\n",
    "                     RandomForestClassifier(max_depth=9, n_estimators=50, min_samples_split=3),\n",
    "                     RandomForestClassifier(max_depth=1, n_estimators=90, min_samples_split=3),\n",
    "                     RandomForestClassifier(max_depth=3, n_estimators=90, min_samples_split=3),\n",
    "                     RandomForestClassifier(max_depth=6, n_estimators=90, min_samples_split=3),\n",
    "                     RandomForestClassifier(max_depth=9, n_estimators=90, min_samples_split=3)\n",
    "                    ]\n",
    "\n",
    "acc=pd.DataFrame(columns = swing_states)\n",
    "for state in swing_states:\n",
    "    X_trains, X_vals, X_test, y_trains, y_vals, y_test = split(final_df, final_importance_dfs[state], state)\n",
    "    acc_model = []\n",
    "    for X_train, y_train, X_val, y_val in zip(X_trains, y_trains, X_vals, y_vals):\n",
    "        accuracies = modelling(X_train, X_val, y_train, y_val, models=models_considered, scaler=True, Poly=3, PCA_comp=0.80)\n",
    "        acc_model.append(accuracies)\n",
    "    acc[state]=np.mean(acc_model, axis=0)\n",
    "    \n",
    "#acc_mean = np.mean(np.array(acc), axis=0)\n",
    "#print('The best accuracy over all of the swing states is ' + str(np.max(acc_mean)) + ' and is obtained with ' + str(models_considered[np.argmax(acc_mean)]) + ' index ' + str(np.argmax(acc_mean)))"
   ]
  },
  {
   "cell_type": "code",
   "execution_count": 59,
   "metadata": {},
   "outputs": [],
   "source": [
    "index_dict={}\n",
    "for i in range (len(models_considered)):\n",
    "    index_dict[i]=str(models_considered[i])"
   ]
  },
  {
   "cell_type": "code",
   "execution_count": 60,
   "metadata": {},
   "outputs": [],
   "source": [
    "acc=acc.rename(index_dict)"
   ]
  },
  {
   "cell_type": "code",
   "execution_count": 61,
   "metadata": {},
   "outputs": [
    {
     "data": {
      "text/html": [
       "<div>\n",
       "<style scoped>\n",
       "    .dataframe tbody tr th:only-of-type {\n",
       "        vertical-align: middle;\n",
       "    }\n",
       "\n",
       "    .dataframe tbody tr th {\n",
       "        vertical-align: top;\n",
       "    }\n",
       "\n",
       "    .dataframe thead th {\n",
       "        text-align: right;\n",
       "    }\n",
       "</style>\n",
       "<table border=\"1\" class=\"dataframe\">\n",
       "  <thead>\n",
       "    <tr style=\"text-align: right;\">\n",
       "      <th></th>\n",
       "      <th>Texas</th>\n",
       "      <th>Florida</th>\n",
       "      <th>Ohio</th>\n",
       "      <th>Georgia</th>\n",
       "      <th>North Carolina</th>\n",
       "      <th>Arizona</th>\n",
       "      <th>Iowa</th>\n",
       "      <th>Pennsylvania</th>\n",
       "      <th>Michigan</th>\n",
       "      <th>Virginia</th>\n",
       "      <th>Wisconsin</th>\n",
       "      <th>Colorado</th>\n",
       "      <th>Nevada</th>\n",
       "      <th>New Hampshire</th>\n",
       "    </tr>\n",
       "  </thead>\n",
       "  <tbody>\n",
       "    <tr>\n",
       "      <td>LogisticRegression(max_iter=10000, penalty='none')</td>\n",
       "      <td>0.888889</td>\n",
       "      <td>0.555556</td>\n",
       "      <td>0.611111</td>\n",
       "      <td>0.888889</td>\n",
       "      <td>0.500000</td>\n",
       "      <td>0.777778</td>\n",
       "      <td>0.555556</td>\n",
       "      <td>0.777778</td>\n",
       "      <td>0.888889</td>\n",
       "      <td>0.888889</td>\n",
       "      <td>0.777778</td>\n",
       "      <td>0.611111</td>\n",
       "      <td>0.666667</td>\n",
       "      <td>0.611111</td>\n",
       "    </tr>\n",
       "    <tr>\n",
       "      <td>LogisticRegression(C=0.001, max_iter=10000)</td>\n",
       "      <td>0.888889</td>\n",
       "      <td>0.611111</td>\n",
       "      <td>0.500000</td>\n",
       "      <td>0.888889</td>\n",
       "      <td>0.833333</td>\n",
       "      <td>0.888889</td>\n",
       "      <td>0.666667</td>\n",
       "      <td>0.888889</td>\n",
       "      <td>0.111111</td>\n",
       "      <td>0.777778</td>\n",
       "      <td>0.777778</td>\n",
       "      <td>0.722222</td>\n",
       "      <td>0.722222</td>\n",
       "      <td>0.833333</td>\n",
       "    </tr>\n",
       "    <tr>\n",
       "      <td>LogisticRegression(C=0.001, max_iter=10000, penalty='l1', solver='liblinear')</td>\n",
       "      <td>0.000000</td>\n",
       "      <td>0.388889</td>\n",
       "      <td>0.500000</td>\n",
       "      <td>0.111111</td>\n",
       "      <td>0.166667</td>\n",
       "      <td>0.111111</td>\n",
       "      <td>0.777778</td>\n",
       "      <td>0.777778</td>\n",
       "      <td>0.777778</td>\n",
       "      <td>0.222222</td>\n",
       "      <td>0.888889</td>\n",
       "      <td>0.500000</td>\n",
       "      <td>0.611111</td>\n",
       "      <td>0.722222</td>\n",
       "    </tr>\n",
       "    <tr>\n",
       "      <td>LogisticRegression(C=0.0001, max_iter=10000)</td>\n",
       "      <td>0.888889</td>\n",
       "      <td>0.611111</td>\n",
       "      <td>0.500000</td>\n",
       "      <td>0.888889</td>\n",
       "      <td>0.833333</td>\n",
       "      <td>0.888889</td>\n",
       "      <td>0.777778</td>\n",
       "      <td>0.222222</td>\n",
       "      <td>0.222222</td>\n",
       "      <td>0.777778</td>\n",
       "      <td>0.888889</td>\n",
       "      <td>0.500000</td>\n",
       "      <td>0.277778</td>\n",
       "      <td>0.722222</td>\n",
       "    </tr>\n",
       "    <tr>\n",
       "      <td>LogisticRegression(C=0.0001, max_iter=10000, penalty='l1', solver='liblinear')</td>\n",
       "      <td>0.000000</td>\n",
       "      <td>0.388889</td>\n",
       "      <td>0.500000</td>\n",
       "      <td>0.111111</td>\n",
       "      <td>0.166667</td>\n",
       "      <td>0.111111</td>\n",
       "      <td>0.777778</td>\n",
       "      <td>0.777778</td>\n",
       "      <td>0.777778</td>\n",
       "      <td>0.222222</td>\n",
       "      <td>0.888889</td>\n",
       "      <td>0.500000</td>\n",
       "      <td>0.611111</td>\n",
       "      <td>0.722222</td>\n",
       "    </tr>\n",
       "    <tr>\n",
       "      <td>...</td>\n",
       "      <td>...</td>\n",
       "      <td>...</td>\n",
       "      <td>...</td>\n",
       "      <td>...</td>\n",
       "      <td>...</td>\n",
       "      <td>...</td>\n",
       "      <td>...</td>\n",
       "      <td>...</td>\n",
       "      <td>...</td>\n",
       "      <td>...</td>\n",
       "      <td>...</td>\n",
       "      <td>...</td>\n",
       "      <td>...</td>\n",
       "      <td>...</td>\n",
       "    </tr>\n",
       "    <tr>\n",
       "      <td>RandomForestClassifier(max_depth=9, min_samples_split=3, n_estimators=50)</td>\n",
       "      <td>0.777778</td>\n",
       "      <td>0.500000</td>\n",
       "      <td>0.833333</td>\n",
       "      <td>0.777778</td>\n",
       "      <td>0.722222</td>\n",
       "      <td>0.777778</td>\n",
       "      <td>0.555556</td>\n",
       "      <td>0.888889</td>\n",
       "      <td>0.888889</td>\n",
       "      <td>0.888889</td>\n",
       "      <td>0.666667</td>\n",
       "      <td>0.611111</td>\n",
       "      <td>0.888889</td>\n",
       "      <td>0.611111</td>\n",
       "    </tr>\n",
       "    <tr>\n",
       "      <td>RandomForestClassifier(max_depth=1, min_samples_split=3, n_estimators=90)</td>\n",
       "      <td>0.888889</td>\n",
       "      <td>0.500000</td>\n",
       "      <td>0.611111</td>\n",
       "      <td>0.888889</td>\n",
       "      <td>0.722222</td>\n",
       "      <td>0.888889</td>\n",
       "      <td>0.500000</td>\n",
       "      <td>0.888889</td>\n",
       "      <td>0.888889</td>\n",
       "      <td>0.777778</td>\n",
       "      <td>0.666667</td>\n",
       "      <td>0.611111</td>\n",
       "      <td>0.722222</td>\n",
       "      <td>0.611111</td>\n",
       "    </tr>\n",
       "    <tr>\n",
       "      <td>RandomForestClassifier(max_depth=3, min_samples_split=3, n_estimators=90)</td>\n",
       "      <td>0.888889</td>\n",
       "      <td>0.500000</td>\n",
       "      <td>0.611111</td>\n",
       "      <td>0.888889</td>\n",
       "      <td>0.722222</td>\n",
       "      <td>0.888889</td>\n",
       "      <td>0.500000</td>\n",
       "      <td>0.888889</td>\n",
       "      <td>0.888889</td>\n",
       "      <td>0.888889</td>\n",
       "      <td>0.666667</td>\n",
       "      <td>0.611111</td>\n",
       "      <td>0.722222</td>\n",
       "      <td>0.611111</td>\n",
       "    </tr>\n",
       "    <tr>\n",
       "      <td>RandomForestClassifier(max_depth=6, min_samples_split=3, n_estimators=90)</td>\n",
       "      <td>0.777778</td>\n",
       "      <td>0.500000</td>\n",
       "      <td>0.833333</td>\n",
       "      <td>0.777778</td>\n",
       "      <td>0.722222</td>\n",
       "      <td>0.777778</td>\n",
       "      <td>0.388889</td>\n",
       "      <td>0.888889</td>\n",
       "      <td>0.888889</td>\n",
       "      <td>0.888889</td>\n",
       "      <td>0.666667</td>\n",
       "      <td>0.611111</td>\n",
       "      <td>0.722222</td>\n",
       "      <td>0.611111</td>\n",
       "    </tr>\n",
       "    <tr>\n",
       "      <td>RandomForestClassifier(max_depth=9, min_samples_split=3, n_estimators=90)</td>\n",
       "      <td>0.777778</td>\n",
       "      <td>0.500000</td>\n",
       "      <td>0.833333</td>\n",
       "      <td>0.777778</td>\n",
       "      <td>0.722222</td>\n",
       "      <td>0.777778</td>\n",
       "      <td>0.555556</td>\n",
       "      <td>0.888889</td>\n",
       "      <td>0.888889</td>\n",
       "      <td>0.888889</td>\n",
       "      <td>0.666667</td>\n",
       "      <td>0.611111</td>\n",
       "      <td>0.888889</td>\n",
       "      <td>0.611111</td>\n",
       "    </tr>\n",
       "  </tbody>\n",
       "</table>\n",
       "<p>65 rows × 14 columns</p>\n",
       "</div>"
      ],
      "text/plain": [
       "                                                       Texas   Florida  \\\n",
       "LogisticRegression(max_iter=10000, penalty='none')  0.888889  0.555556   \n",
       "LogisticRegression(C=0.001, max_iter=10000)         0.888889  0.611111   \n",
       "LogisticRegression(C=0.001, max_iter=10000, pen...  0.000000  0.388889   \n",
       "LogisticRegression(C=0.0001, max_iter=10000)        0.888889  0.611111   \n",
       "LogisticRegression(C=0.0001, max_iter=10000, pe...  0.000000  0.388889   \n",
       "...                                                      ...       ...   \n",
       "RandomForestClassifier(max_depth=9, min_samples...  0.777778  0.500000   \n",
       "RandomForestClassifier(max_depth=1, min_samples...  0.888889  0.500000   \n",
       "RandomForestClassifier(max_depth=3, min_samples...  0.888889  0.500000   \n",
       "RandomForestClassifier(max_depth=6, min_samples...  0.777778  0.500000   \n",
       "RandomForestClassifier(max_depth=9, min_samples...  0.777778  0.500000   \n",
       "\n",
       "                                                        Ohio   Georgia  \\\n",
       "LogisticRegression(max_iter=10000, penalty='none')  0.611111  0.888889   \n",
       "LogisticRegression(C=0.001, max_iter=10000)         0.500000  0.888889   \n",
       "LogisticRegression(C=0.001, max_iter=10000, pen...  0.500000  0.111111   \n",
       "LogisticRegression(C=0.0001, max_iter=10000)        0.500000  0.888889   \n",
       "LogisticRegression(C=0.0001, max_iter=10000, pe...  0.500000  0.111111   \n",
       "...                                                      ...       ...   \n",
       "RandomForestClassifier(max_depth=9, min_samples...  0.833333  0.777778   \n",
       "RandomForestClassifier(max_depth=1, min_samples...  0.611111  0.888889   \n",
       "RandomForestClassifier(max_depth=3, min_samples...  0.611111  0.888889   \n",
       "RandomForestClassifier(max_depth=6, min_samples...  0.833333  0.777778   \n",
       "RandomForestClassifier(max_depth=9, min_samples...  0.833333  0.777778   \n",
       "\n",
       "                                                    North Carolina   Arizona  \\\n",
       "LogisticRegression(max_iter=10000, penalty='none')        0.500000  0.777778   \n",
       "LogisticRegression(C=0.001, max_iter=10000)               0.833333  0.888889   \n",
       "LogisticRegression(C=0.001, max_iter=10000, pen...        0.166667  0.111111   \n",
       "LogisticRegression(C=0.0001, max_iter=10000)              0.833333  0.888889   \n",
       "LogisticRegression(C=0.0001, max_iter=10000, pe...        0.166667  0.111111   \n",
       "...                                                            ...       ...   \n",
       "RandomForestClassifier(max_depth=9, min_samples...        0.722222  0.777778   \n",
       "RandomForestClassifier(max_depth=1, min_samples...        0.722222  0.888889   \n",
       "RandomForestClassifier(max_depth=3, min_samples...        0.722222  0.888889   \n",
       "RandomForestClassifier(max_depth=6, min_samples...        0.722222  0.777778   \n",
       "RandomForestClassifier(max_depth=9, min_samples...        0.722222  0.777778   \n",
       "\n",
       "                                                        Iowa  Pennsylvania  \\\n",
       "LogisticRegression(max_iter=10000, penalty='none')  0.555556      0.777778   \n",
       "LogisticRegression(C=0.001, max_iter=10000)         0.666667      0.888889   \n",
       "LogisticRegression(C=0.001, max_iter=10000, pen...  0.777778      0.777778   \n",
       "LogisticRegression(C=0.0001, max_iter=10000)        0.777778      0.222222   \n",
       "LogisticRegression(C=0.0001, max_iter=10000, pe...  0.777778      0.777778   \n",
       "...                                                      ...           ...   \n",
       "RandomForestClassifier(max_depth=9, min_samples...  0.555556      0.888889   \n",
       "RandomForestClassifier(max_depth=1, min_samples...  0.500000      0.888889   \n",
       "RandomForestClassifier(max_depth=3, min_samples...  0.500000      0.888889   \n",
       "RandomForestClassifier(max_depth=6, min_samples...  0.388889      0.888889   \n",
       "RandomForestClassifier(max_depth=9, min_samples...  0.555556      0.888889   \n",
       "\n",
       "                                                    Michigan  Virginia  \\\n",
       "LogisticRegression(max_iter=10000, penalty='none')  0.888889  0.888889   \n",
       "LogisticRegression(C=0.001, max_iter=10000)         0.111111  0.777778   \n",
       "LogisticRegression(C=0.001, max_iter=10000, pen...  0.777778  0.222222   \n",
       "LogisticRegression(C=0.0001, max_iter=10000)        0.222222  0.777778   \n",
       "LogisticRegression(C=0.0001, max_iter=10000, pe...  0.777778  0.222222   \n",
       "...                                                      ...       ...   \n",
       "RandomForestClassifier(max_depth=9, min_samples...  0.888889  0.888889   \n",
       "RandomForestClassifier(max_depth=1, min_samples...  0.888889  0.777778   \n",
       "RandomForestClassifier(max_depth=3, min_samples...  0.888889  0.888889   \n",
       "RandomForestClassifier(max_depth=6, min_samples...  0.888889  0.888889   \n",
       "RandomForestClassifier(max_depth=9, min_samples...  0.888889  0.888889   \n",
       "\n",
       "                                                    Wisconsin  Colorado  \\\n",
       "LogisticRegression(max_iter=10000, penalty='none')   0.777778  0.611111   \n",
       "LogisticRegression(C=0.001, max_iter=10000)          0.777778  0.722222   \n",
       "LogisticRegression(C=0.001, max_iter=10000, pen...   0.888889  0.500000   \n",
       "LogisticRegression(C=0.0001, max_iter=10000)         0.888889  0.500000   \n",
       "LogisticRegression(C=0.0001, max_iter=10000, pe...   0.888889  0.500000   \n",
       "...                                                       ...       ...   \n",
       "RandomForestClassifier(max_depth=9, min_samples...   0.666667  0.611111   \n",
       "RandomForestClassifier(max_depth=1, min_samples...   0.666667  0.611111   \n",
       "RandomForestClassifier(max_depth=3, min_samples...   0.666667  0.611111   \n",
       "RandomForestClassifier(max_depth=6, min_samples...   0.666667  0.611111   \n",
       "RandomForestClassifier(max_depth=9, min_samples...   0.666667  0.611111   \n",
       "\n",
       "                                                      Nevada  New Hampshire  \n",
       "LogisticRegression(max_iter=10000, penalty='none')  0.666667       0.611111  \n",
       "LogisticRegression(C=0.001, max_iter=10000)         0.722222       0.833333  \n",
       "LogisticRegression(C=0.001, max_iter=10000, pen...  0.611111       0.722222  \n",
       "LogisticRegression(C=0.0001, max_iter=10000)        0.277778       0.722222  \n",
       "LogisticRegression(C=0.0001, max_iter=10000, pe...  0.611111       0.722222  \n",
       "...                                                      ...            ...  \n",
       "RandomForestClassifier(max_depth=9, min_samples...  0.888889       0.611111  \n",
       "RandomForestClassifier(max_depth=1, min_samples...  0.722222       0.611111  \n",
       "RandomForestClassifier(max_depth=3, min_samples...  0.722222       0.611111  \n",
       "RandomForestClassifier(max_depth=6, min_samples...  0.722222       0.611111  \n",
       "RandomForestClassifier(max_depth=9, min_samples...  0.888889       0.611111  \n",
       "\n",
       "[65 rows x 14 columns]"
      ]
     },
     "execution_count": 61,
     "metadata": {},
     "output_type": "execute_result"
    }
   ],
   "source": [
    "acc"
   ]
  },
  {
   "cell_type": "code",
   "execution_count": 62,
   "metadata": {},
   "outputs": [],
   "source": [
    "acc['Means']=acc.mean(axis=1)"
   ]
  },
  {
   "cell_type": "code",
   "execution_count": 63,
   "metadata": {},
   "outputs": [],
   "source": [
    "acc.to_csv('/Users/raphaelletoubiana/Desktop/Harvard/CS109A/project/accuracies_wo_minnesota.csv')"
   ]
  },
  {
   "cell_type": "code",
   "execution_count": 72,
   "metadata": {},
   "outputs": [
    {
     "data": {
      "text/plain": [
       "array([7, 8, 4, 7, 4, 7, 9, 8, 8, 8, 8, 8, 7, 7, 7, 6, 7, 5, 7, 7, 7, 6,\n",
       "       6, 7, 7, 7, 6, 7, 8, 7, 6, 7, 8, 6, 7, 6, 6, 7, 6, 6, 8, 6, 6, 6,\n",
       "       8, 6, 6, 7, 7, 9, 6, 7, 8, 7, 7, 7, 5, 6, 6, 6, 8, 6, 6, 7, 8])"
      ]
     },
     "execution_count": 72,
     "metadata": {},
     "output_type": "execute_result"
    }
   ],
   "source": [
    "np.sum(acc.values > 0.75, axis=1)"
   ]
  },
  {
   "cell_type": "code",
   "execution_count": 73,
   "metadata": {},
   "outputs": [
    {
     "data": {
      "text/plain": [
       "Texas             0.888889\n",
       "Florida           0.388889\n",
       "Ohio              0.555556\n",
       "Georgia           0.888889\n",
       "North Carolina    0.722222\n",
       "Arizona           0.777778\n",
       "Iowa              0.666667\n",
       "Pennsylvania      0.888889\n",
       "Michigan          0.888889\n",
       "Virginia          0.777778\n",
       "Wisconsin         0.777778\n",
       "Colorado          0.611111\n",
       "Nevada            0.833333\n",
       "New Hampshire     0.777778\n",
       "Means             0.746032\n",
       "Name: LogisticRegression(C=0.1, max_iter=10000, penalty='l1', solver='liblinear'), dtype: float64"
      ]
     },
     "execution_count": 73,
     "metadata": {},
     "output_type": "execute_result"
    }
   ],
   "source": [
    "acc.iloc[6]"
   ]
  },
  {
   "cell_type": "code",
   "execution_count": 77,
   "metadata": {},
   "outputs": [
    {
     "data": {
      "text/plain": [
       "Texas             0.888889\n",
       "Florida           0.500000\n",
       "Ohio              0.611111\n",
       "Georgia           0.888889\n",
       "North Carolina    0.722222\n",
       "Arizona           0.888889\n",
       "Iowa              0.666667\n",
       "Pennsylvania      0.888889\n",
       "Michigan          0.888889\n",
       "Virginia          0.888889\n",
       "Wisconsin         0.777778\n",
       "Colorado          0.611111\n",
       "Nevada            0.833333\n",
       "New Hampshire     0.611111\n",
       "Means             0.761905\n",
       "Name: RandomForestClassifier(max_depth=1, min_samples_split=3, n_estimators=10), dtype: float64"
      ]
     },
     "execution_count": 77,
     "metadata": {},
     "output_type": "execute_result"
    }
   ],
   "source": [
    "acc.iloc[49]"
   ]
  },
  {
   "cell_type": "markdown",
   "metadata": {},
   "source": [
    "Select logistic reggression "
   ]
  },
  {
   "cell_type": "markdown",
   "metadata": {},
   "source": [
    "Work on Florida, Ohio, Iowa, Colorado, North Carolina"
   ]
  },
  {
   "cell_type": "code",
   "execution_count": 74,
   "metadata": {},
   "outputs": [],
   "source": [
    "Florida_maxi=acc[acc.Florida==acc.Florida.max()]\n",
    "Ohio_maxi=acc[acc.Ohio==acc.Ohio.max()]\n",
    "North_Carolina_maxi=acc[acc['North Carolina']==acc['North Carolina'].max()]\n",
    "Iowa_maxi=acc[acc.Iowa==acc.Iowa.max()]\n",
    "Colorado_maxi=acc[acc.Colorado==acc.Colorado.max()]"
   ]
  },
  {
   "cell_type": "code",
   "execution_count": 75,
   "metadata": {},
   "outputs": [
    {
     "name": "stdout",
     "output_type": "stream",
     "text": [
      "Florida\n"
     ]
    },
    {
     "data": {
      "text/html": [
       "<div>\n",
       "<style scoped>\n",
       "    .dataframe tbody tr th:only-of-type {\n",
       "        vertical-align: middle;\n",
       "    }\n",
       "\n",
       "    .dataframe tbody tr th {\n",
       "        vertical-align: top;\n",
       "    }\n",
       "\n",
       "    .dataframe thead th {\n",
       "        text-align: right;\n",
       "    }\n",
       "</style>\n",
       "<table border=\"1\" class=\"dataframe\">\n",
       "  <thead>\n",
       "    <tr style=\"text-align: right;\">\n",
       "      <th></th>\n",
       "      <th>Texas</th>\n",
       "      <th>Florida</th>\n",
       "      <th>Ohio</th>\n",
       "      <th>Georgia</th>\n",
       "      <th>North Carolina</th>\n",
       "      <th>Arizona</th>\n",
       "      <th>Iowa</th>\n",
       "      <th>Pennsylvania</th>\n",
       "      <th>Michigan</th>\n",
       "      <th>Virginia</th>\n",
       "      <th>Wisconsin</th>\n",
       "      <th>Colorado</th>\n",
       "      <th>Nevada</th>\n",
       "      <th>New Hampshire</th>\n",
       "      <th>Means</th>\n",
       "    </tr>\n",
       "  </thead>\n",
       "  <tbody>\n",
       "    <tr>\n",
       "      <td>LogisticRegression(C=0.001, max_iter=10000)</td>\n",
       "      <td>0.888889</td>\n",
       "      <td>0.611111</td>\n",
       "      <td>0.500000</td>\n",
       "      <td>0.888889</td>\n",
       "      <td>0.833333</td>\n",
       "      <td>0.888889</td>\n",
       "      <td>0.666667</td>\n",
       "      <td>0.888889</td>\n",
       "      <td>0.111111</td>\n",
       "      <td>0.777778</td>\n",
       "      <td>0.777778</td>\n",
       "      <td>0.722222</td>\n",
       "      <td>0.722222</td>\n",
       "      <td>0.833333</td>\n",
       "      <td>0.722222</td>\n",
       "    </tr>\n",
       "    <tr>\n",
       "      <td>LogisticRegression(C=0.0001, max_iter=10000)</td>\n",
       "      <td>0.888889</td>\n",
       "      <td>0.611111</td>\n",
       "      <td>0.500000</td>\n",
       "      <td>0.888889</td>\n",
       "      <td>0.833333</td>\n",
       "      <td>0.888889</td>\n",
       "      <td>0.777778</td>\n",
       "      <td>0.222222</td>\n",
       "      <td>0.222222</td>\n",
       "      <td>0.777778</td>\n",
       "      <td>0.888889</td>\n",
       "      <td>0.500000</td>\n",
       "      <td>0.277778</td>\n",
       "      <td>0.722222</td>\n",
       "      <td>0.642857</td>\n",
       "    </tr>\n",
       "    <tr>\n",
       "      <td>KNeighborsClassifier()</td>\n",
       "      <td>1.000000</td>\n",
       "      <td>0.611111</td>\n",
       "      <td>0.888889</td>\n",
       "      <td>0.777778</td>\n",
       "      <td>0.611111</td>\n",
       "      <td>0.777778</td>\n",
       "      <td>0.388889</td>\n",
       "      <td>0.722222</td>\n",
       "      <td>0.888889</td>\n",
       "      <td>0.722222</td>\n",
       "      <td>0.777778</td>\n",
       "      <td>0.333333</td>\n",
       "      <td>0.777778</td>\n",
       "      <td>0.611111</td>\n",
       "      <td>0.706349</td>\n",
       "    </tr>\n",
       "    <tr>\n",
       "      <td>KNeighborsClassifier(n_neighbors=10)</td>\n",
       "      <td>0.777778</td>\n",
       "      <td>0.611111</td>\n",
       "      <td>0.777778</td>\n",
       "      <td>0.777778</td>\n",
       "      <td>0.500000</td>\n",
       "      <td>0.777778</td>\n",
       "      <td>0.500000</td>\n",
       "      <td>0.722222</td>\n",
       "      <td>0.611111</td>\n",
       "      <td>0.888889</td>\n",
       "      <td>0.611111</td>\n",
       "      <td>0.555556</td>\n",
       "      <td>0.611111</td>\n",
       "      <td>0.777778</td>\n",
       "      <td>0.678571</td>\n",
       "    </tr>\n",
       "    <tr>\n",
       "      <td>RandomForestClassifier(max_depth=6, n_estimators=10)</td>\n",
       "      <td>0.777778</td>\n",
       "      <td>0.611111</td>\n",
       "      <td>0.833333</td>\n",
       "      <td>0.611111</td>\n",
       "      <td>0.722222</td>\n",
       "      <td>0.777778</td>\n",
       "      <td>0.388889</td>\n",
       "      <td>0.888889</td>\n",
       "      <td>0.888889</td>\n",
       "      <td>0.888889</td>\n",
       "      <td>0.666667</td>\n",
       "      <td>0.500000</td>\n",
       "      <td>0.833333</td>\n",
       "      <td>0.611111</td>\n",
       "      <td>0.714286</td>\n",
       "    </tr>\n",
       "  </tbody>\n",
       "</table>\n",
       "</div>"
      ],
      "text/plain": [
       "                                                       Texas   Florida  \\\n",
       "LogisticRegression(C=0.001, max_iter=10000)         0.888889  0.611111   \n",
       "LogisticRegression(C=0.0001, max_iter=10000)        0.888889  0.611111   \n",
       "KNeighborsClassifier()                              1.000000  0.611111   \n",
       "KNeighborsClassifier(n_neighbors=10)                0.777778  0.611111   \n",
       "RandomForestClassifier(max_depth=6, n_estimator...  0.777778  0.611111   \n",
       "\n",
       "                                                        Ohio   Georgia  \\\n",
       "LogisticRegression(C=0.001, max_iter=10000)         0.500000  0.888889   \n",
       "LogisticRegression(C=0.0001, max_iter=10000)        0.500000  0.888889   \n",
       "KNeighborsClassifier()                              0.888889  0.777778   \n",
       "KNeighborsClassifier(n_neighbors=10)                0.777778  0.777778   \n",
       "RandomForestClassifier(max_depth=6, n_estimator...  0.833333  0.611111   \n",
       "\n",
       "                                                    North Carolina   Arizona  \\\n",
       "LogisticRegression(C=0.001, max_iter=10000)               0.833333  0.888889   \n",
       "LogisticRegression(C=0.0001, max_iter=10000)              0.833333  0.888889   \n",
       "KNeighborsClassifier()                                    0.611111  0.777778   \n",
       "KNeighborsClassifier(n_neighbors=10)                      0.500000  0.777778   \n",
       "RandomForestClassifier(max_depth=6, n_estimator...        0.722222  0.777778   \n",
       "\n",
       "                                                        Iowa  Pennsylvania  \\\n",
       "LogisticRegression(C=0.001, max_iter=10000)         0.666667      0.888889   \n",
       "LogisticRegression(C=0.0001, max_iter=10000)        0.777778      0.222222   \n",
       "KNeighborsClassifier()                              0.388889      0.722222   \n",
       "KNeighborsClassifier(n_neighbors=10)                0.500000      0.722222   \n",
       "RandomForestClassifier(max_depth=6, n_estimator...  0.388889      0.888889   \n",
       "\n",
       "                                                    Michigan  Virginia  \\\n",
       "LogisticRegression(C=0.001, max_iter=10000)         0.111111  0.777778   \n",
       "LogisticRegression(C=0.0001, max_iter=10000)        0.222222  0.777778   \n",
       "KNeighborsClassifier()                              0.888889  0.722222   \n",
       "KNeighborsClassifier(n_neighbors=10)                0.611111  0.888889   \n",
       "RandomForestClassifier(max_depth=6, n_estimator...  0.888889  0.888889   \n",
       "\n",
       "                                                    Wisconsin  Colorado  \\\n",
       "LogisticRegression(C=0.001, max_iter=10000)          0.777778  0.722222   \n",
       "LogisticRegression(C=0.0001, max_iter=10000)         0.888889  0.500000   \n",
       "KNeighborsClassifier()                               0.777778  0.333333   \n",
       "KNeighborsClassifier(n_neighbors=10)                 0.611111  0.555556   \n",
       "RandomForestClassifier(max_depth=6, n_estimator...   0.666667  0.500000   \n",
       "\n",
       "                                                      Nevada  New Hampshire  \\\n",
       "LogisticRegression(C=0.001, max_iter=10000)         0.722222       0.833333   \n",
       "LogisticRegression(C=0.0001, max_iter=10000)        0.277778       0.722222   \n",
       "KNeighborsClassifier()                              0.777778       0.611111   \n",
       "KNeighborsClassifier(n_neighbors=10)                0.611111       0.777778   \n",
       "RandomForestClassifier(max_depth=6, n_estimator...  0.833333       0.611111   \n",
       "\n",
       "                                                       Means  \n",
       "LogisticRegression(C=0.001, max_iter=10000)         0.722222  \n",
       "LogisticRegression(C=0.0001, max_iter=10000)        0.642857  \n",
       "KNeighborsClassifier()                              0.706349  \n",
       "KNeighborsClassifier(n_neighbors=10)                0.678571  \n",
       "RandomForestClassifier(max_depth=6, n_estimator...  0.714286  "
      ]
     },
     "metadata": {},
     "output_type": "display_data"
    },
    {
     "name": "stdout",
     "output_type": "stream",
     "text": [
      "Ohio\n"
     ]
    },
    {
     "data": {
      "text/html": [
       "<div>\n",
       "<style scoped>\n",
       "    .dataframe tbody tr th:only-of-type {\n",
       "        vertical-align: middle;\n",
       "    }\n",
       "\n",
       "    .dataframe tbody tr th {\n",
       "        vertical-align: top;\n",
       "    }\n",
       "\n",
       "    .dataframe thead th {\n",
       "        text-align: right;\n",
       "    }\n",
       "</style>\n",
       "<table border=\"1\" class=\"dataframe\">\n",
       "  <thead>\n",
       "    <tr style=\"text-align: right;\">\n",
       "      <th></th>\n",
       "      <th>Texas</th>\n",
       "      <th>Florida</th>\n",
       "      <th>Ohio</th>\n",
       "      <th>Georgia</th>\n",
       "      <th>North Carolina</th>\n",
       "      <th>Arizona</th>\n",
       "      <th>Iowa</th>\n",
       "      <th>Pennsylvania</th>\n",
       "      <th>Michigan</th>\n",
       "      <th>Virginia</th>\n",
       "      <th>Wisconsin</th>\n",
       "      <th>Colorado</th>\n",
       "      <th>Nevada</th>\n",
       "      <th>New Hampshire</th>\n",
       "      <th>Means</th>\n",
       "    </tr>\n",
       "  </thead>\n",
       "  <tbody>\n",
       "    <tr>\n",
       "      <td>KNeighborsClassifier()</td>\n",
       "      <td>1.0</td>\n",
       "      <td>0.611111</td>\n",
       "      <td>0.888889</td>\n",
       "      <td>0.777778</td>\n",
       "      <td>0.611111</td>\n",
       "      <td>0.777778</td>\n",
       "      <td>0.388889</td>\n",
       "      <td>0.722222</td>\n",
       "      <td>0.888889</td>\n",
       "      <td>0.722222</td>\n",
       "      <td>0.777778</td>\n",
       "      <td>0.333333</td>\n",
       "      <td>0.777778</td>\n",
       "      <td>0.611111</td>\n",
       "      <td>0.706349</td>\n",
       "    </tr>\n",
       "  </tbody>\n",
       "</table>\n",
       "</div>"
      ],
      "text/plain": [
       "                        Texas   Florida      Ohio   Georgia  North Carolina  \\\n",
       "KNeighborsClassifier()    1.0  0.611111  0.888889  0.777778        0.611111   \n",
       "\n",
       "                         Arizona      Iowa  Pennsylvania  Michigan  Virginia  \\\n",
       "KNeighborsClassifier()  0.777778  0.388889      0.722222  0.888889  0.722222   \n",
       "\n",
       "                        Wisconsin  Colorado    Nevada  New Hampshire     Means  \n",
       "KNeighborsClassifier()   0.777778  0.333333  0.777778       0.611111  0.706349  "
      ]
     },
     "metadata": {},
     "output_type": "display_data"
    },
    {
     "name": "stdout",
     "output_type": "stream",
     "text": [
      "North Carolina\n"
     ]
    },
    {
     "data": {
      "text/html": [
       "<div>\n",
       "<style scoped>\n",
       "    .dataframe tbody tr th:only-of-type {\n",
       "        vertical-align: middle;\n",
       "    }\n",
       "\n",
       "    .dataframe tbody tr th {\n",
       "        vertical-align: top;\n",
       "    }\n",
       "\n",
       "    .dataframe thead th {\n",
       "        text-align: right;\n",
       "    }\n",
       "</style>\n",
       "<table border=\"1\" class=\"dataframe\">\n",
       "  <thead>\n",
       "    <tr style=\"text-align: right;\">\n",
       "      <th></th>\n",
       "      <th>Texas</th>\n",
       "      <th>Florida</th>\n",
       "      <th>Ohio</th>\n",
       "      <th>Georgia</th>\n",
       "      <th>North Carolina</th>\n",
       "      <th>Arizona</th>\n",
       "      <th>Iowa</th>\n",
       "      <th>Pennsylvania</th>\n",
       "      <th>Michigan</th>\n",
       "      <th>Virginia</th>\n",
       "      <th>Wisconsin</th>\n",
       "      <th>Colorado</th>\n",
       "      <th>Nevada</th>\n",
       "      <th>New Hampshire</th>\n",
       "      <th>Means</th>\n",
       "    </tr>\n",
       "  </thead>\n",
       "  <tbody>\n",
       "    <tr>\n",
       "      <td>LogisticRegression(C=0.001, max_iter=10000)</td>\n",
       "      <td>0.888889</td>\n",
       "      <td>0.611111</td>\n",
       "      <td>0.500000</td>\n",
       "      <td>0.888889</td>\n",
       "      <td>0.833333</td>\n",
       "      <td>0.888889</td>\n",
       "      <td>0.666667</td>\n",
       "      <td>0.888889</td>\n",
       "      <td>0.111111</td>\n",
       "      <td>0.777778</td>\n",
       "      <td>0.777778</td>\n",
       "      <td>0.722222</td>\n",
       "      <td>0.722222</td>\n",
       "      <td>0.833333</td>\n",
       "      <td>0.722222</td>\n",
       "    </tr>\n",
       "    <tr>\n",
       "      <td>LogisticRegression(C=0.0001, max_iter=10000)</td>\n",
       "      <td>0.888889</td>\n",
       "      <td>0.611111</td>\n",
       "      <td>0.500000</td>\n",
       "      <td>0.888889</td>\n",
       "      <td>0.833333</td>\n",
       "      <td>0.888889</td>\n",
       "      <td>0.777778</td>\n",
       "      <td>0.222222</td>\n",
       "      <td>0.222222</td>\n",
       "      <td>0.777778</td>\n",
       "      <td>0.888889</td>\n",
       "      <td>0.500000</td>\n",
       "      <td>0.277778</td>\n",
       "      <td>0.722222</td>\n",
       "      <td>0.642857</td>\n",
       "    </tr>\n",
       "    <tr>\n",
       "      <td>RandomForestClassifier(max_depth=9, n_estimators=10)</td>\n",
       "      <td>0.777778</td>\n",
       "      <td>0.500000</td>\n",
       "      <td>0.444444</td>\n",
       "      <td>0.777778</td>\n",
       "      <td>0.833333</td>\n",
       "      <td>0.611111</td>\n",
       "      <td>0.777778</td>\n",
       "      <td>0.888889</td>\n",
       "      <td>0.777778</td>\n",
       "      <td>0.722222</td>\n",
       "      <td>0.666667</td>\n",
       "      <td>0.611111</td>\n",
       "      <td>0.888889</td>\n",
       "      <td>0.611111</td>\n",
       "      <td>0.706349</td>\n",
       "    </tr>\n",
       "    <tr>\n",
       "      <td>RandomForestClassifier(max_depth=6, n_estimators=30)</td>\n",
       "      <td>0.777778</td>\n",
       "      <td>0.500000</td>\n",
       "      <td>0.722222</td>\n",
       "      <td>0.777778</td>\n",
       "      <td>0.833333</td>\n",
       "      <td>0.777778</td>\n",
       "      <td>0.388889</td>\n",
       "      <td>0.888889</td>\n",
       "      <td>0.888889</td>\n",
       "      <td>0.888889</td>\n",
       "      <td>0.666667</td>\n",
       "      <td>0.611111</td>\n",
       "      <td>0.611111</td>\n",
       "      <td>0.611111</td>\n",
       "      <td>0.710317</td>\n",
       "    </tr>\n",
       "    <tr>\n",
       "      <td>RandomForestClassifier(max_depth=6, n_estimators=50)</td>\n",
       "      <td>0.777778</td>\n",
       "      <td>0.500000</td>\n",
       "      <td>0.722222</td>\n",
       "      <td>0.888889</td>\n",
       "      <td>0.833333</td>\n",
       "      <td>0.777778</td>\n",
       "      <td>0.555556</td>\n",
       "      <td>0.888889</td>\n",
       "      <td>0.888889</td>\n",
       "      <td>0.888889</td>\n",
       "      <td>0.666667</td>\n",
       "      <td>0.611111</td>\n",
       "      <td>0.722222</td>\n",
       "      <td>0.611111</td>\n",
       "      <td>0.738095</td>\n",
       "    </tr>\n",
       "  </tbody>\n",
       "</table>\n",
       "</div>"
      ],
      "text/plain": [
       "                                                       Texas   Florida  \\\n",
       "LogisticRegression(C=0.001, max_iter=10000)         0.888889  0.611111   \n",
       "LogisticRegression(C=0.0001, max_iter=10000)        0.888889  0.611111   \n",
       "RandomForestClassifier(max_depth=9, n_estimator...  0.777778  0.500000   \n",
       "RandomForestClassifier(max_depth=6, n_estimator...  0.777778  0.500000   \n",
       "RandomForestClassifier(max_depth=6, n_estimator...  0.777778  0.500000   \n",
       "\n",
       "                                                        Ohio   Georgia  \\\n",
       "LogisticRegression(C=0.001, max_iter=10000)         0.500000  0.888889   \n",
       "LogisticRegression(C=0.0001, max_iter=10000)        0.500000  0.888889   \n",
       "RandomForestClassifier(max_depth=9, n_estimator...  0.444444  0.777778   \n",
       "RandomForestClassifier(max_depth=6, n_estimator...  0.722222  0.777778   \n",
       "RandomForestClassifier(max_depth=6, n_estimator...  0.722222  0.888889   \n",
       "\n",
       "                                                    North Carolina   Arizona  \\\n",
       "LogisticRegression(C=0.001, max_iter=10000)               0.833333  0.888889   \n",
       "LogisticRegression(C=0.0001, max_iter=10000)              0.833333  0.888889   \n",
       "RandomForestClassifier(max_depth=9, n_estimator...        0.833333  0.611111   \n",
       "RandomForestClassifier(max_depth=6, n_estimator...        0.833333  0.777778   \n",
       "RandomForestClassifier(max_depth=6, n_estimator...        0.833333  0.777778   \n",
       "\n",
       "                                                        Iowa  Pennsylvania  \\\n",
       "LogisticRegression(C=0.001, max_iter=10000)         0.666667      0.888889   \n",
       "LogisticRegression(C=0.0001, max_iter=10000)        0.777778      0.222222   \n",
       "RandomForestClassifier(max_depth=9, n_estimator...  0.777778      0.888889   \n",
       "RandomForestClassifier(max_depth=6, n_estimator...  0.388889      0.888889   \n",
       "RandomForestClassifier(max_depth=6, n_estimator...  0.555556      0.888889   \n",
       "\n",
       "                                                    Michigan  Virginia  \\\n",
       "LogisticRegression(C=0.001, max_iter=10000)         0.111111  0.777778   \n",
       "LogisticRegression(C=0.0001, max_iter=10000)        0.222222  0.777778   \n",
       "RandomForestClassifier(max_depth=9, n_estimator...  0.777778  0.722222   \n",
       "RandomForestClassifier(max_depth=6, n_estimator...  0.888889  0.888889   \n",
       "RandomForestClassifier(max_depth=6, n_estimator...  0.888889  0.888889   \n",
       "\n",
       "                                                    Wisconsin  Colorado  \\\n",
       "LogisticRegression(C=0.001, max_iter=10000)          0.777778  0.722222   \n",
       "LogisticRegression(C=0.0001, max_iter=10000)         0.888889  0.500000   \n",
       "RandomForestClassifier(max_depth=9, n_estimator...   0.666667  0.611111   \n",
       "RandomForestClassifier(max_depth=6, n_estimator...   0.666667  0.611111   \n",
       "RandomForestClassifier(max_depth=6, n_estimator...   0.666667  0.611111   \n",
       "\n",
       "                                                      Nevada  New Hampshire  \\\n",
       "LogisticRegression(C=0.001, max_iter=10000)         0.722222       0.833333   \n",
       "LogisticRegression(C=0.0001, max_iter=10000)        0.277778       0.722222   \n",
       "RandomForestClassifier(max_depth=9, n_estimator...  0.888889       0.611111   \n",
       "RandomForestClassifier(max_depth=6, n_estimator...  0.611111       0.611111   \n",
       "RandomForestClassifier(max_depth=6, n_estimator...  0.722222       0.611111   \n",
       "\n",
       "                                                       Means  \n",
       "LogisticRegression(C=0.001, max_iter=10000)         0.722222  \n",
       "LogisticRegression(C=0.0001, max_iter=10000)        0.642857  \n",
       "RandomForestClassifier(max_depth=9, n_estimator...  0.706349  \n",
       "RandomForestClassifier(max_depth=6, n_estimator...  0.710317  \n",
       "RandomForestClassifier(max_depth=6, n_estimator...  0.738095  "
      ]
     },
     "metadata": {},
     "output_type": "display_data"
    },
    {
     "name": "stdout",
     "output_type": "stream",
     "text": [
      "Iowa\n"
     ]
    },
    {
     "data": {
      "text/html": [
       "<div>\n",
       "<style scoped>\n",
       "    .dataframe tbody tr th:only-of-type {\n",
       "        vertical-align: middle;\n",
       "    }\n",
       "\n",
       "    .dataframe tbody tr th {\n",
       "        vertical-align: top;\n",
       "    }\n",
       "\n",
       "    .dataframe thead th {\n",
       "        text-align: right;\n",
       "    }\n",
       "</style>\n",
       "<table border=\"1\" class=\"dataframe\">\n",
       "  <thead>\n",
       "    <tr style=\"text-align: right;\">\n",
       "      <th></th>\n",
       "      <th>Texas</th>\n",
       "      <th>Florida</th>\n",
       "      <th>Ohio</th>\n",
       "      <th>Georgia</th>\n",
       "      <th>North Carolina</th>\n",
       "      <th>Arizona</th>\n",
       "      <th>Iowa</th>\n",
       "      <th>Pennsylvania</th>\n",
       "      <th>Michigan</th>\n",
       "      <th>Virginia</th>\n",
       "      <th>Wisconsin</th>\n",
       "      <th>Colorado</th>\n",
       "      <th>Nevada</th>\n",
       "      <th>New Hampshire</th>\n",
       "      <th>Means</th>\n",
       "    </tr>\n",
       "  </thead>\n",
       "  <tbody>\n",
       "    <tr>\n",
       "      <td>LogisticRegression(C=0.001, max_iter=10000, penalty='l1', solver='liblinear')</td>\n",
       "      <td>0.000000</td>\n",
       "      <td>0.388889</td>\n",
       "      <td>0.500000</td>\n",
       "      <td>0.111111</td>\n",
       "      <td>0.166667</td>\n",
       "      <td>0.111111</td>\n",
       "      <td>0.777778</td>\n",
       "      <td>0.777778</td>\n",
       "      <td>0.777778</td>\n",
       "      <td>0.222222</td>\n",
       "      <td>0.888889</td>\n",
       "      <td>0.500000</td>\n",
       "      <td>0.611111</td>\n",
       "      <td>0.722222</td>\n",
       "      <td>0.468254</td>\n",
       "    </tr>\n",
       "    <tr>\n",
       "      <td>LogisticRegression(C=0.0001, max_iter=10000)</td>\n",
       "      <td>0.888889</td>\n",
       "      <td>0.611111</td>\n",
       "      <td>0.500000</td>\n",
       "      <td>0.888889</td>\n",
       "      <td>0.833333</td>\n",
       "      <td>0.888889</td>\n",
       "      <td>0.777778</td>\n",
       "      <td>0.222222</td>\n",
       "      <td>0.222222</td>\n",
       "      <td>0.777778</td>\n",
       "      <td>0.888889</td>\n",
       "      <td>0.500000</td>\n",
       "      <td>0.277778</td>\n",
       "      <td>0.722222</td>\n",
       "      <td>0.642857</td>\n",
       "    </tr>\n",
       "    <tr>\n",
       "      <td>LogisticRegression(C=0.0001, max_iter=10000, penalty='l1', solver='liblinear')</td>\n",
       "      <td>0.000000</td>\n",
       "      <td>0.388889</td>\n",
       "      <td>0.500000</td>\n",
       "      <td>0.111111</td>\n",
       "      <td>0.166667</td>\n",
       "      <td>0.111111</td>\n",
       "      <td>0.777778</td>\n",
       "      <td>0.777778</td>\n",
       "      <td>0.777778</td>\n",
       "      <td>0.222222</td>\n",
       "      <td>0.888889</td>\n",
       "      <td>0.500000</td>\n",
       "      <td>0.611111</td>\n",
       "      <td>0.722222</td>\n",
       "      <td>0.468254</td>\n",
       "    </tr>\n",
       "    <tr>\n",
       "      <td>RandomForestClassifier(max_depth=9, n_estimators=10)</td>\n",
       "      <td>0.777778</td>\n",
       "      <td>0.500000</td>\n",
       "      <td>0.444444</td>\n",
       "      <td>0.777778</td>\n",
       "      <td>0.833333</td>\n",
       "      <td>0.611111</td>\n",
       "      <td>0.777778</td>\n",
       "      <td>0.888889</td>\n",
       "      <td>0.777778</td>\n",
       "      <td>0.722222</td>\n",
       "      <td>0.666667</td>\n",
       "      <td>0.611111</td>\n",
       "      <td>0.888889</td>\n",
       "      <td>0.611111</td>\n",
       "      <td>0.706349</td>\n",
       "    </tr>\n",
       "    <tr>\n",
       "      <td>RandomForestClassifier(max_depth=9, n_estimators=10)</td>\n",
       "      <td>0.777778</td>\n",
       "      <td>0.444444</td>\n",
       "      <td>0.833333</td>\n",
       "      <td>0.444444</td>\n",
       "      <td>0.722222</td>\n",
       "      <td>0.777778</td>\n",
       "      <td>0.777778</td>\n",
       "      <td>0.888889</td>\n",
       "      <td>0.777778</td>\n",
       "      <td>0.722222</td>\n",
       "      <td>0.666667</td>\n",
       "      <td>0.722222</td>\n",
       "      <td>0.555556</td>\n",
       "      <td>0.611111</td>\n",
       "      <td>0.694444</td>\n",
       "    </tr>\n",
       "  </tbody>\n",
       "</table>\n",
       "</div>"
      ],
      "text/plain": [
       "                                                       Texas   Florida  \\\n",
       "LogisticRegression(C=0.001, max_iter=10000, pen...  0.000000  0.388889   \n",
       "LogisticRegression(C=0.0001, max_iter=10000)        0.888889  0.611111   \n",
       "LogisticRegression(C=0.0001, max_iter=10000, pe...  0.000000  0.388889   \n",
       "RandomForestClassifier(max_depth=9, n_estimator...  0.777778  0.500000   \n",
       "RandomForestClassifier(max_depth=9, n_estimator...  0.777778  0.444444   \n",
       "\n",
       "                                                        Ohio   Georgia  \\\n",
       "LogisticRegression(C=0.001, max_iter=10000, pen...  0.500000  0.111111   \n",
       "LogisticRegression(C=0.0001, max_iter=10000)        0.500000  0.888889   \n",
       "LogisticRegression(C=0.0001, max_iter=10000, pe...  0.500000  0.111111   \n",
       "RandomForestClassifier(max_depth=9, n_estimator...  0.444444  0.777778   \n",
       "RandomForestClassifier(max_depth=9, n_estimator...  0.833333  0.444444   \n",
       "\n",
       "                                                    North Carolina   Arizona  \\\n",
       "LogisticRegression(C=0.001, max_iter=10000, pen...        0.166667  0.111111   \n",
       "LogisticRegression(C=0.0001, max_iter=10000)              0.833333  0.888889   \n",
       "LogisticRegression(C=0.0001, max_iter=10000, pe...        0.166667  0.111111   \n",
       "RandomForestClassifier(max_depth=9, n_estimator...        0.833333  0.611111   \n",
       "RandomForestClassifier(max_depth=9, n_estimator...        0.722222  0.777778   \n",
       "\n",
       "                                                        Iowa  Pennsylvania  \\\n",
       "LogisticRegression(C=0.001, max_iter=10000, pen...  0.777778      0.777778   \n",
       "LogisticRegression(C=0.0001, max_iter=10000)        0.777778      0.222222   \n",
       "LogisticRegression(C=0.0001, max_iter=10000, pe...  0.777778      0.777778   \n",
       "RandomForestClassifier(max_depth=9, n_estimator...  0.777778      0.888889   \n",
       "RandomForestClassifier(max_depth=9, n_estimator...  0.777778      0.888889   \n",
       "\n",
       "                                                    Michigan  Virginia  \\\n",
       "LogisticRegression(C=0.001, max_iter=10000, pen...  0.777778  0.222222   \n",
       "LogisticRegression(C=0.0001, max_iter=10000)        0.222222  0.777778   \n",
       "LogisticRegression(C=0.0001, max_iter=10000, pe...  0.777778  0.222222   \n",
       "RandomForestClassifier(max_depth=9, n_estimator...  0.777778  0.722222   \n",
       "RandomForestClassifier(max_depth=9, n_estimator...  0.777778  0.722222   \n",
       "\n",
       "                                                    Wisconsin  Colorado  \\\n",
       "LogisticRegression(C=0.001, max_iter=10000, pen...   0.888889  0.500000   \n",
       "LogisticRegression(C=0.0001, max_iter=10000)         0.888889  0.500000   \n",
       "LogisticRegression(C=0.0001, max_iter=10000, pe...   0.888889  0.500000   \n",
       "RandomForestClassifier(max_depth=9, n_estimator...   0.666667  0.611111   \n",
       "RandomForestClassifier(max_depth=9, n_estimator...   0.666667  0.722222   \n",
       "\n",
       "                                                      Nevada  New Hampshire  \\\n",
       "LogisticRegression(C=0.001, max_iter=10000, pen...  0.611111       0.722222   \n",
       "LogisticRegression(C=0.0001, max_iter=10000)        0.277778       0.722222   \n",
       "LogisticRegression(C=0.0001, max_iter=10000, pe...  0.611111       0.722222   \n",
       "RandomForestClassifier(max_depth=9, n_estimator...  0.888889       0.611111   \n",
       "RandomForestClassifier(max_depth=9, n_estimator...  0.555556       0.611111   \n",
       "\n",
       "                                                       Means  \n",
       "LogisticRegression(C=0.001, max_iter=10000, pen...  0.468254  \n",
       "LogisticRegression(C=0.0001, max_iter=10000)        0.642857  \n",
       "LogisticRegression(C=0.0001, max_iter=10000, pe...  0.468254  \n",
       "RandomForestClassifier(max_depth=9, n_estimator...  0.706349  \n",
       "RandomForestClassifier(max_depth=9, n_estimator...  0.694444  "
      ]
     },
     "metadata": {},
     "output_type": "display_data"
    },
    {
     "name": "stdout",
     "output_type": "stream",
     "text": [
      "Colorado\n"
     ]
    },
    {
     "data": {
      "text/html": [
       "<div>\n",
       "<style scoped>\n",
       "    .dataframe tbody tr th:only-of-type {\n",
       "        vertical-align: middle;\n",
       "    }\n",
       "\n",
       "    .dataframe tbody tr th {\n",
       "        vertical-align: top;\n",
       "    }\n",
       "\n",
       "    .dataframe thead th {\n",
       "        text-align: right;\n",
       "    }\n",
       "</style>\n",
       "<table border=\"1\" class=\"dataframe\">\n",
       "  <thead>\n",
       "    <tr style=\"text-align: right;\">\n",
       "      <th></th>\n",
       "      <th>Texas</th>\n",
       "      <th>Florida</th>\n",
       "      <th>Ohio</th>\n",
       "      <th>Georgia</th>\n",
       "      <th>North Carolina</th>\n",
       "      <th>Arizona</th>\n",
       "      <th>Iowa</th>\n",
       "      <th>Pennsylvania</th>\n",
       "      <th>Michigan</th>\n",
       "      <th>Virginia</th>\n",
       "      <th>Wisconsin</th>\n",
       "      <th>Colorado</th>\n",
       "      <th>Nevada</th>\n",
       "      <th>New Hampshire</th>\n",
       "      <th>Means</th>\n",
       "    </tr>\n",
       "  </thead>\n",
       "  <tbody>\n",
       "    <tr>\n",
       "      <td>LogisticRegression(C=0.001, max_iter=10000)</td>\n",
       "      <td>0.888889</td>\n",
       "      <td>0.611111</td>\n",
       "      <td>0.500000</td>\n",
       "      <td>0.888889</td>\n",
       "      <td>0.833333</td>\n",
       "      <td>0.888889</td>\n",
       "      <td>0.666667</td>\n",
       "      <td>0.888889</td>\n",
       "      <td>0.111111</td>\n",
       "      <td>0.777778</td>\n",
       "      <td>0.777778</td>\n",
       "      <td>0.722222</td>\n",
       "      <td>0.722222</td>\n",
       "      <td>0.833333</td>\n",
       "      <td>0.722222</td>\n",
       "    </tr>\n",
       "    <tr>\n",
       "      <td>RandomForestClassifier(max_depth=9, n_estimators=10)</td>\n",
       "      <td>0.777778</td>\n",
       "      <td>0.444444</td>\n",
       "      <td>0.833333</td>\n",
       "      <td>0.444444</td>\n",
       "      <td>0.722222</td>\n",
       "      <td>0.777778</td>\n",
       "      <td>0.777778</td>\n",
       "      <td>0.888889</td>\n",
       "      <td>0.777778</td>\n",
       "      <td>0.722222</td>\n",
       "      <td>0.666667</td>\n",
       "      <td>0.722222</td>\n",
       "      <td>0.555556</td>\n",
       "      <td>0.611111</td>\n",
       "      <td>0.694444</td>\n",
       "    </tr>\n",
       "  </tbody>\n",
       "</table>\n",
       "</div>"
      ],
      "text/plain": [
       "                                                       Texas   Florida  \\\n",
       "LogisticRegression(C=0.001, max_iter=10000)         0.888889  0.611111   \n",
       "RandomForestClassifier(max_depth=9, n_estimator...  0.777778  0.444444   \n",
       "\n",
       "                                                        Ohio   Georgia  \\\n",
       "LogisticRegression(C=0.001, max_iter=10000)         0.500000  0.888889   \n",
       "RandomForestClassifier(max_depth=9, n_estimator...  0.833333  0.444444   \n",
       "\n",
       "                                                    North Carolina   Arizona  \\\n",
       "LogisticRegression(C=0.001, max_iter=10000)               0.833333  0.888889   \n",
       "RandomForestClassifier(max_depth=9, n_estimator...        0.722222  0.777778   \n",
       "\n",
       "                                                        Iowa  Pennsylvania  \\\n",
       "LogisticRegression(C=0.001, max_iter=10000)         0.666667      0.888889   \n",
       "RandomForestClassifier(max_depth=9, n_estimator...  0.777778      0.888889   \n",
       "\n",
       "                                                    Michigan  Virginia  \\\n",
       "LogisticRegression(C=0.001, max_iter=10000)         0.111111  0.777778   \n",
       "RandomForestClassifier(max_depth=9, n_estimator...  0.777778  0.722222   \n",
       "\n",
       "                                                    Wisconsin  Colorado  \\\n",
       "LogisticRegression(C=0.001, max_iter=10000)          0.777778  0.722222   \n",
       "RandomForestClassifier(max_depth=9, n_estimator...   0.666667  0.722222   \n",
       "\n",
       "                                                      Nevada  New Hampshire  \\\n",
       "LogisticRegression(C=0.001, max_iter=10000)         0.722222       0.833333   \n",
       "RandomForestClassifier(max_depth=9, n_estimator...  0.555556       0.611111   \n",
       "\n",
       "                                                       Means  \n",
       "LogisticRegression(C=0.001, max_iter=10000)         0.722222  \n",
       "RandomForestClassifier(max_depth=9, n_estimator...  0.694444  "
      ]
     },
     "metadata": {},
     "output_type": "display_data"
    }
   ],
   "source": [
    "print('Florida')\n",
    "display(Florida_maxi)\n",
    "print('Ohio')\n",
    "display(Ohio_maxi)\n",
    "print('North Carolina')\n",
    "display(North_Carolina_maxi)\n",
    "print('Iowa')\n",
    "display(Iowa_maxi)\n",
    "print('Colorado')\n",
    "display(Colorado_maxi)"
   ]
  },
  {
   "cell_type": "markdown",
   "metadata": {},
   "source": [
    "All swing states excetp Colorado, Iowa and North Carolina: LogisticRegression(C=0.1, max_iter=10000, penalty='l1', solver='liblinear')\n",
    "\n",
    "Colorado (0.722222), Iowa(0.777778) and North Carolina(0.833333): LogisticRegression(C=0.001, max_iter=10000)\n",
    "\n",
    "Florida(0.611111) and Ohio(0.888889): KNeighborsClassifier(n=5)"
   ]
  },
  {
   "cell_type": "markdown",
   "metadata": {},
   "source": [
    "### Predictions"
   ]
  },
  {
   "cell_type": "code",
   "execution_count": 13,
   "metadata": {},
   "outputs": [],
   "source": [
    "def train_test_split(initial_df, final_importance_df, swing_state): # particular state missing\n",
    "    swing_state_data = initial_df[initial_df['State'] == swing_state]  # data to be protected\n",
    "    data_test = swing_state_data[swing_state_data['Year'] == 2020].iloc[:1, :] # test data\n",
    "    X_test, y_test = data_test.drop('Result', axis=1), data_test['Result'] # X test and test labels  \n",
    "    \n",
    "    swing_state_data = swing_state_data[swing_state_data['Year'] != 2020] # we remove the test data\n",
    "    values_swing_state = final_importance_df[swing_state]\n",
    "    df_corr_to_concat = pd.concat([swing_state_data for _ in range(10)])\n",
    "    X_values = pd.concat((final_importance_df[swing_state], df_corr_to_concat))\n",
    "    X_values = X_values.sample(frac=1, replace=False) \n",
    "    X_train, y_train = X_values.drop('Result', axis=1), X_values['Result']\n",
    "    return X_train, X_test, y_train, y_test"
   ]
  },
  {
   "cell_type": "code",
   "execution_count": 14,
   "metadata": {},
   "outputs": [],
   "source": [
    "import numpy as np\n",
    "import pandas as pd\n",
    "import seaborn as sns\n",
    "import matplotlib\n",
    "import matplotlib.pyplot as plt"
   ]
  },
  {
   "cell_type": "code",
   "execution_count": 15,
   "metadata": {},
   "outputs": [],
   "source": [
    "swing_states_9 = ['Texas', 'Georgia', 'Arizona', 'Pennsylvania', 'Michigan', 'Virginia', 'Wisconsin', 'Nevada', 'New Hampshire']\n",
    "swing_states_3=['Colorado', 'Iowa', 'North Carolina']\n",
    "swing_states_2=['Florida', 'Ohio']\n",
    "\n",
    "predictions={}"
   ]
  },
  {
   "cell_type": "markdown",
   "metadata": {},
   "source": [
    "Predictions with the first model: LogisticRegression(C=0.1, max_iter=10000, penalty='l1', solver='liblinear')"
   ]
  },
  {
   "cell_type": "code",
   "execution_count": 37,
   "metadata": {},
   "outputs": [
    {
     "data": {
      "image/png": "[encoded data removed]",
      "text/plain": [
       "<Figure size 360x720 with 2 Axes>"
      ]
     },
     "metadata": {
      "needs_background": "light"
     },
     "output_type": "display_data"
    }
   ],
   "source": [
    "for i in range(len(swing_states_9)):\n",
    "    X_train, X_test, y_train, y_test=train_test_split(final_df,final_importance_dfs, swing_states_9[i])\n",
    "    \n",
    "    if 'State' in X_train.columns:\n",
    "        X_train = X_train.drop('State', axis=1)\n",
    "        X_test = X_test.drop('State', axis=1)\n",
    "    if 'Year' in X_train.columns:\n",
    "        X_train = X_train.drop('Year', axis=1)\n",
    "        X_test = X_test.drop('Year', axis=1)\n",
    "    if 'republican' in X_train.columns:\n",
    "        X_train = X_train.drop('republican', axis=1)\n",
    "        X_test = X_test.drop('republican', axis=1)\n",
    "        \n",
    "    #scale data\n",
    "    scaler = MinMaxScaler().fit(X_train)\n",
    "    X_train = scaler.transform(X_train)\n",
    "    X_test = scaler.transform(X_test)\n",
    "    \n",
    "    #pca\n",
    "    pca = PCA(n_components=X_train.shape[1])\n",
    "    pca.fit(X_train)\n",
    "    X_train = pca.transform(X_train)\n",
    "    X_test = pca.transform(X_test)\n",
    "    total_variance = np.cumsum(pca.explained_variance_ratio_)\n",
    "    for j, variance in enumerate(total_variance):\n",
    "            if variance > 0.8:\n",
    "                break \n",
    "    X_train, X_test = X_train[:, :j+1], X_test[:, :j+1]\n",
    "    \n",
    "    #poly\n",
    "    poly_features = PolynomialFeatures(degree=3, include_bias=False).fit(X_train)\n",
    "    X_train = poly_features.transform(X_train)\n",
    "    X_test = poly_features.transform(X_test)\n",
    "    \n",
    "    #Modelling\n",
    "    model=LogisticRegression(C=0.1, max_iter=10000, penalty='l1', solver='liblinear')\n",
    "    model.fit(X_train, y_train)\n",
    "    predictions[swing_states_9[i]]=model.predict(X_test)[0]\n",
    "    \n",
    "    #Plot\n",
    "    if i==1:\n",
    "        fig, ax = plt.subplots(2, 1,  figsize=(5, 10))\n",
    "        \n",
    "        ax[0].scatter(X_train[:,0], X_train[:,1], color='blue', label='train data points')\n",
    "        ax[0].scatter(X_test[:,0], X_test[:,1], color='red', label='train data points')\n",
    "        ax[0].set_xlabel(\"PCA Dimension 1\")\n",
    "        ax[0].set_ylabel(\"PCA Dimention 2\")\n",
    "        ax[0].set_title('Representation of '+swing_states_9[i]+' in the 2 PCs space')\n",
    "        ax[0].legend()\n",
    "        \n",
    "        feature_weights_0=pca.components_[0]\n",
    "        feature_weights_1=pca.components_[1]\n",
    "        feature_weights_2=pca.components_[2]\n",
    "        x=np.asarray(range(len(feature_weights_0)))\n",
    "        idx = np.argsort(feature_weights_0)\n",
    "        feature_weights_0 = feature_weights_0[idx]\n",
    "        ax[1].bar(range(len(feature_weights_0)),feature_weights_0, color='blue', alpha=0.5, label='Feature weighs for PC 1')\n",
    "        ax[1].bar(range(len(feature_weights_0)),feature_weights_1, color='red', alpha=0.5, label='Feature weighs for PC 2')\n",
    "        ax[1].bar(range(len(feature_weights_0)),feature_weights_2, color='yellow', alpha=0.5, label='Feature weighs for PC 3')\n",
    "        ax[1].set_xlabel('Number of the feature')\n",
    "        ax[1].set_ylabel('Weight')\n",
    "        ax[1].legend()\n",
    "        ax[1].set_title(\"Weights of features in the 2 first PCs for \"+swing_states_9[i])\n",
    "        \n",
    "        "
   ]
  },
  {
   "cell_type": "markdown",
   "metadata": {},
   "source": [
    "Predictions for the second model: LogisticRegression(C=0.001, max_iter=10000)"
   ]
  },
  {
   "cell_type": "code",
   "execution_count": 38,
   "metadata": {},
   "outputs": [
    {
     "data": {
      "image/png": "[encoded data removed]",
      "text/plain": [
       "<Figure size 360x720 with 2 Axes>"
      ]
     },
     "metadata": {
      "needs_background": "light"
     },
     "output_type": "display_data"
    }
   ],
   "source": [
    "for i in range(len(swing_states_3)):\n",
    "    X_train, X_test, y_train, y_test=train_test_split(final_df,final_importance_dfs, swing_states_3[i])\n",
    "    \n",
    "    if 'State' in X_train.columns:\n",
    "        X_train = X_train.drop('State', axis=1)\n",
    "        X_test = X_test.drop('State', axis=1)\n",
    "    if 'Year' in X_train.columns:\n",
    "        X_train = X_train.drop('Year', axis=1)\n",
    "        X_test = X_test.drop('Year', axis=1)\n",
    "    if 'republican' in X_train.columns:\n",
    "        X_train = X_train.drop('republican', axis=1)\n",
    "        X_test = X_test.drop('republican', axis=1)\n",
    "        \n",
    "    #scale data\n",
    "    scaler = MinMaxScaler().fit(X_train)\n",
    "    X_train = scaler.transform(X_train)\n",
    "    X_test = scaler.transform(X_test)\n",
    "    \n",
    "    #pca\n",
    "    pca = PCA(n_components=X_train.shape[1])\n",
    "    pca.fit(X_train)\n",
    "    X_train = pca.transform(X_train)\n",
    "    X_test = pca.transform(X_test)\n",
    "    total_variance = np.cumsum(pca.explained_variance_ratio_)\n",
    "    for j, variance in enumerate(total_variance):\n",
    "            if variance > 0.8:\n",
    "                break \n",
    "    X_train, X_test = X_train[:, :j+1], X_test[:, :j+1]\n",
    "    \n",
    "    #poly\n",
    "    poly_features = PolynomialFeatures(degree=3, include_bias=False).fit(X_train)\n",
    "    X_train = poly_features.transform(X_train)\n",
    "    X_test = poly_features.transform(X_test)\n",
    "    \n",
    "    #Modelling\n",
    "    model=LogisticRegression(C=0.001, max_iter=10000)\n",
    "    model.fit(X_train, y_train)\n",
    "    predictions[swing_states_3[i]]=model.predict(X_test)[0]\n",
    "    \n",
    "    if i==1:\n",
    "        fig, ax = plt.subplots(2, 1,  figsize=(5, 10))\n",
    "        \n",
    "        ax[0].scatter(X_train[:,0], X_train[:,1], color='blue', label='train data points')\n",
    "        ax[0].scatter(X_test[:,0], X_test[:,1], color='red', label='train data points')\n",
    "        ax[0].set_xlabel(\"PCA Dimension 1\")\n",
    "        ax[0].set_ylabel(\"PCA Dimention 2\")\n",
    "        ax[0].set_title('Representation of '+swing_states_3[i]+' in the 2 PCs space')\n",
    "        ax[0].legend()\n",
    "        \n",
    "        feature_weights_0=pca.components_[0]\n",
    "        feature_weights_1=pca.components_[1]\n",
    "        feature_weights_2=pca.components_[2]\n",
    "        x=np.asarray(range(len(feature_weights_0)))\n",
    "        idx = np.argsort(feature_weights_0)\n",
    "        feature_weights_0 = feature_weights_0[idx]\n",
    "        ax[1].bar(range(len(feature_weights_0)),feature_weights_0, color='blue', alpha=0.5, label='Feature weighs for PC 1')\n",
    "        ax[1].bar(range(len(feature_weights_0)),feature_weights_1, color='red', alpha=0.5, label='Feature weighs for PC 2')\n",
    "        ax[1].bar(range(len(feature_weights_0)),feature_weights_2, color='yellow', alpha=0.5, label='Feature weighs for PC 3')\n",
    "        ax[1].set_xlabel('Number of the feature')\n",
    "        ax[1].set_ylabel('Weight')\n",
    "        ax[1].legend()\n",
    "        ax[1].set_title(\"Weights of features in the 2 first PCs for \"+swing_states_3[i])"
   ]
  },
  {
   "cell_type": "raw",
   "metadata": {},
   "source": [
    "Predictions for the last model: KNN"
   ]
  },
  {
   "cell_type": "code",
   "execution_count": 40,
   "metadata": {},
   "outputs": [
    {
     "data": {
      "image/png": "[encoded data removed]",
      "text/plain": [
       "<Figure size 360x720 with 2 Axes>"
      ]
     },
     "metadata": {
      "needs_background": "light"
     },
     "output_type": "display_data"
    }
   ],
   "source": [
    "for i in range(len(swing_states_2)):\n",
    "    X_train, X_test, y_train, y_test=train_test_split(final_df,final_importance_dfs, swing_states_2[i])\n",
    "    \n",
    "    if 'State' in X_train.columns:\n",
    "        X_train = X_train.drop('State', axis=1)\n",
    "        X_test = X_test.drop('State', axis=1)\n",
    "    if 'Year' in X_train.columns:\n",
    "        X_train = X_train.drop('Year', axis=1)\n",
    "        X_test = X_test.drop('Year', axis=1)\n",
    "    if 'republican' in X_train.columns:\n",
    "        X_train = X_train.drop('republican', axis=1)\n",
    "        X_test = X_test.drop('republican', axis=1)\n",
    "        \n",
    "    #scale data\n",
    "    scaler = MinMaxScaler().fit(X_train)\n",
    "    X_train = scaler.transform(X_train)\n",
    "    X_test = scaler.transform(X_test)\n",
    "    \n",
    "    #pca\n",
    "    pca = PCA(n_components=X_train.shape[1])\n",
    "    pca.fit(X_train)\n",
    "    X_train = pca.transform(X_train)\n",
    "    X_test = pca.transform(X_test)\n",
    "    total_variance = np.cumsum(pca.explained_variance_ratio_)\n",
    "    for j, variance in enumerate(total_variance):\n",
    "            if variance > 0.8:\n",
    "                break \n",
    "    X_train, X_test = X_train[:, :j+1], X_test[:, :j+1]\n",
    "    \n",
    "    #poly\n",
    "    poly_features = PolynomialFeatures(degree=3, include_bias=False).fit(X_train)\n",
    "    X_train = poly_features.transform(X_train)\n",
    "    X_test = poly_features.transform(X_test)\n",
    "    \n",
    "    #Modelling\n",
    "    model=KNeighborsClassifier()\n",
    "    model.fit(X_train, y_train)\n",
    "    predictions[swing_states_2[i]]=model.predict(X_test)[0]  \n",
    "    \n",
    "    #Plots\n",
    "    if i==1:\n",
    "        fig, ax = plt.subplots(2, 1,  figsize=(5, 10))\n",
    "        \n",
    "        ax[0].scatter(X_train[:,0], X_train[:,1], color='blue', label='train data points')\n",
    "        ax[0].scatter(X_test[:,0], X_test[:,1], color='red', label='train data points')\n",
    "        ax[0].set_xlabel(\"PCA Dimension 1\")\n",
    "        ax[0].set_ylabel(\"PCA Dimention 2\")\n",
    "        ax[0].set_title('Representation of '+swing_states_2[i]+' in the 2 PCs space')\n",
    "        ax[0].legend()\n",
    "        \n",
    "        feature_weights_0=pca.components_[0]\n",
    "        feature_weights_1=pca.components_[1]\n",
    "        feature_weights_2=pca.components_[2]\n",
    "        x=np.asarray(range(len(feature_weights_0)))\n",
    "        idx = np.argsort(feature_weights_0)\n",
    "        feature_weights_0 = feature_weights_0[idx]\n",
    "        ax[1].bar(range(len(feature_weights_0)),feature_weights_0, color='blue', alpha=0.5, label='Feature weighs for PC 1')\n",
    "        ax[1].bar(range(len(feature_weights_0)),feature_weights_1, color='red', alpha=0.5, label='Feature weighs for PC 2')\n",
    "        ax[1].bar(range(len(feature_weights_0)),feature_weights_2, color='yellow', alpha=0.5, label='Feature weighs for PC 3')\n",
    "        ax[1].set_xlabel('Number of the feature')\n",
    "        ax[1].set_ylabel('Weight')\n",
    "        ax[1].legend()\n",
    "        ax[1].set_title(\"Weights of features in the 2 first PCs for \"+swing_states_2[i])"
   ]
  },
  {
   "cell_type": "code",
   "execution_count": 41,
   "metadata": {},
   "outputs": [
    {
     "data": {
      "text/plain": [
       "{'Texas': 1,\n",
       " 'Georgia': 1,\n",
       " 'Arizona': 1,\n",
       " 'Pennsylvania': 0,\n",
       " 'Michigan': 0,\n",
       " 'Virginia': 0,\n",
       " 'Wisconsin': 0,\n",
       " 'Nevada': 0,\n",
       " 'New Hampshire': 0,\n",
       " 'Colorado': 0,\n",
       " 'Iowa': 1,\n",
       " 'North Carolina': 1,\n",
       " 'Florida': 0,\n",
       " 'Ohio': 1}"
      ]
     },
     "execution_count": 41,
     "metadata": {},
     "output_type": "execute_result"
    }
   ],
   "source": [
    "predictions"
   ]
  },
  {
   "cell_type": "code",
   "execution_count": 98,
   "metadata": {},
   "outputs": [],
   "source": [
    "X_train, X_test, y_train, y_test=train_test_split(final_df,final_importance_dfs, swing_states_2[1])"
   ]
  },
  {
   "cell_type": "code",
   "execution_count": 102,
   "metadata": {},
   "outputs": [],
   "source": [
    "if 'State' in X_train.columns:\n",
    "    X_train = X_train.drop('State', axis=1)\n",
    "    X_test = X_test.drop('State', axis=1)\n",
    "if 'Year' in X_train.columns:\n",
    "    X_train = X_train.drop('Year', axis=1)\n",
    "    X_test = X_test.drop('Year', axis=1)\n",
    "if 'republican' in X_train.columns:\n",
    "    X_train = X_train.drop('republican', axis=1)\n",
    "    X_test = X_test.drop('republican', axis=1)"
   ]
  },
  {
   "cell_type": "code",
   "execution_count": 103,
   "metadata": {},
   "outputs": [
    {
     "data": {
      "text/html": [
       "<div>\n",
       "<style scoped>\n",
       "    .dataframe tbody tr th:only-of-type {\n",
       "        vertical-align: middle;\n",
       "    }\n",
       "\n",
       "    .dataframe tbody tr th {\n",
       "        vertical-align: top;\n",
       "    }\n",
       "\n",
       "    .dataframe thead th {\n",
       "        text-align: right;\n",
       "    }\n",
       "</style>\n",
       "<table border=\"1\" class=\"dataframe\">\n",
       "  <thead>\n",
       "    <tr style=\"text-align: right;\">\n",
       "      <th></th>\n",
       "      <th>month_10</th>\n",
       "      <th>month_11</th>\n",
       "      <th>month_9</th>\n",
       "      <th>Rep_House_Prop</th>\n",
       "      <th>rep_loyalty</th>\n",
       "      <th>popular_vote_percentage</th>\n",
       "      <th>density</th>\n",
       "      <th>RDI</th>\n",
       "    </tr>\n",
       "  </thead>\n",
       "  <tbody>\n",
       "    <tr>\n",
       "      <td>11</td>\n",
       "      <td>59.699963</td>\n",
       "      <td>58.905110</td>\n",
       "      <td>60.933467</td>\n",
       "      <td>0.666667</td>\n",
       "      <td>1.0</td>\n",
       "      <td>45.66</td>\n",
       "      <td>31.365177</td>\n",
       "      <td>30205.46</td>\n",
       "    </tr>\n",
       "    <tr>\n",
       "      <td>7</td>\n",
       "      <td>49.738999</td>\n",
       "      <td>50.016750</td>\n",
       "      <td>49.560048</td>\n",
       "      <td>0.454545</td>\n",
       "      <td>1.0</td>\n",
       "      <td>47.87</td>\n",
       "      <td>166.144100</td>\n",
       "      <td>128923.12</td>\n",
       "    </tr>\n",
       "    <tr>\n",
       "      <td>0</td>\n",
       "      <td>51.593576</td>\n",
       "      <td>54.129657</td>\n",
       "      <td>48.723546</td>\n",
       "      <td>0.500000</td>\n",
       "      <td>1.0</td>\n",
       "      <td>53.37</td>\n",
       "      <td>9.722811</td>\n",
       "      <td>17856.91</td>\n",
       "    </tr>\n",
       "    <tr>\n",
       "      <td>13</td>\n",
       "      <td>48.714681</td>\n",
       "      <td>49.136085</td>\n",
       "      <td>46.719991</td>\n",
       "      <td>0.600000</td>\n",
       "      <td>0.5</td>\n",
       "      <td>47.20</td>\n",
       "      <td>294.340719</td>\n",
       "      <td>301178.46</td>\n",
       "    </tr>\n",
       "    <tr>\n",
       "      <td>8</td>\n",
       "      <td>54.971773</td>\n",
       "      <td>54.928796</td>\n",
       "      <td>54.517428</td>\n",
       "      <td>0.666667</td>\n",
       "      <td>1.0</td>\n",
       "      <td>50.73</td>\n",
       "      <td>131.562502</td>\n",
       "      <td>59276.12</td>\n",
       "    </tr>\n",
       "    <tr>\n",
       "      <td>...</td>\n",
       "      <td>...</td>\n",
       "      <td>...</td>\n",
       "      <td>...</td>\n",
       "      <td>...</td>\n",
       "      <td>...</td>\n",
       "      <td>...</td>\n",
       "      <td>...</td>\n",
       "      <td>...</td>\n",
       "    </tr>\n",
       "    <tr>\n",
       "      <td>8</td>\n",
       "      <td>60.133697</td>\n",
       "      <td>58.220533</td>\n",
       "      <td>62.166219</td>\n",
       "      <td>0.000000</td>\n",
       "      <td>1.0</td>\n",
       "      <td>50.73</td>\n",
       "      <td>9.118367</td>\n",
       "      <td>10672.70</td>\n",
       "    </tr>\n",
       "    <tr>\n",
       "      <td>0</td>\n",
       "      <td>46.733945</td>\n",
       "      <td>46.672036</td>\n",
       "      <td>43.708007</td>\n",
       "      <td>0.388889</td>\n",
       "      <td>1.0</td>\n",
       "      <td>53.37</td>\n",
       "      <td>95.217416</td>\n",
       "      <td>149047.13</td>\n",
       "    </tr>\n",
       "    <tr>\n",
       "      <td>8</td>\n",
       "      <td>48.759772</td>\n",
       "      <td>47.974412</td>\n",
       "      <td>49.539745</td>\n",
       "      <td>0.652174</td>\n",
       "      <td>0.7</td>\n",
       "      <td>50.73</td>\n",
       "      <td>264.839533</td>\n",
       "      <td>269847.53</td>\n",
       "    </tr>\n",
       "    <tr>\n",
       "      <td>11</td>\n",
       "      <td>49.903200</td>\n",
       "      <td>49.571503</td>\n",
       "      <td>51.789697</td>\n",
       "      <td>0.750000</td>\n",
       "      <td>0.8</td>\n",
       "      <td>45.66</td>\n",
       "      <td>55.087995</td>\n",
       "      <td>72141.05</td>\n",
       "    </tr>\n",
       "    <tr>\n",
       "      <td>13</td>\n",
       "      <td>71.171146</td>\n",
       "      <td>70.903879</td>\n",
       "      <td>68.892594</td>\n",
       "      <td>0.666667</td>\n",
       "      <td>1.0</td>\n",
       "      <td>47.20</td>\n",
       "      <td>33.628498</td>\n",
       "      <td>32621.61</td>\n",
       "    </tr>\n",
       "  </tbody>\n",
       "</table>\n",
       "<p>1022 rows × 8 columns</p>\n",
       "</div>"
      ],
      "text/plain": [
       "     month_10   month_11    month_9  Rep_House_Prop  rep_loyalty  \\\n",
       "11  59.699963  58.905110  60.933467        0.666667          1.0   \n",
       "7   49.738999  50.016750  49.560048        0.454545          1.0   \n",
       "0   51.593576  54.129657  48.723546        0.500000          1.0   \n",
       "13  48.714681  49.136085  46.719991        0.600000          0.5   \n",
       "8   54.971773  54.928796  54.517428        0.666667          1.0   \n",
       "..        ...        ...        ...             ...          ...   \n",
       "8   60.133697  58.220533  62.166219        0.000000          1.0   \n",
       "0   46.733945  46.672036  43.708007        0.388889          1.0   \n",
       "8   48.759772  47.974412  49.539745        0.652174          0.7   \n",
       "11  49.903200  49.571503  51.789697        0.750000          0.8   \n",
       "13  71.171146  70.903879  68.892594        0.666667          1.0   \n",
       "\n",
       "    popular_vote_percentage     density        RDI  \n",
       "11                    45.66   31.365177   30205.46  \n",
       "7                     47.87  166.144100  128923.12  \n",
       "0                     53.37    9.722811   17856.91  \n",
       "13                    47.20  294.340719  301178.46  \n",
       "8                     50.73  131.562502   59276.12  \n",
       "..                      ...         ...        ...  \n",
       "8                     50.73    9.118367   10672.70  \n",
       "0                     53.37   95.217416  149047.13  \n",
       "8                     50.73  264.839533  269847.53  \n",
       "11                    45.66   55.087995   72141.05  \n",
       "13                    47.20   33.628498   32621.61  \n",
       "\n",
       "[1022 rows x 8 columns]"
      ]
     },
     "execution_count": 103,
     "metadata": {},
     "output_type": "execute_result"
    }
   ],
   "source": [
    "X_train"
   ]
  },
  {
   "cell_type": "code",
   "execution_count": null,
   "metadata": {},
   "outputs": [],
   "source": []
  }
 ],
 "metadata": {
  "kernelspec": {
   "display_name": "Python 3",
   "language": "python",
   "name": "python3"
  },
  "language_info": {
   "codemirror_mode": {
    "name": "ipython",
    "version": 3
   },
   "file_extension": ".py",
   "mimetype": "text/x-python",
   "name": "python",
   "nbconvert_exporter": "python",
   "pygments_lexer": "ipython3",
   "version": "3.7.8"
  }
 },
 "nbformat": 4,
 "nbformat_minor": 4
}
