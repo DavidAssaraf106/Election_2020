{
 "cells": [
  {
   "cell_type": "code",
   "execution_count": 89,
   "metadata": {},
   "outputs": [],
   "source": [
    "import pandas as pd\n",
    "import numpy as np\n",
    "import os\n",
    "from sklearn.model_selection import train_test_split\n",
    "from sklearn.preprocessing import PolynomialFeatures, MinMaxScaler, StandardScaler\n",
    "from sklearn.decomposition import PCA\n",
    "from sklearn.metrics import accuracy_score, f1_score, roc_auc_score\n",
    "from sklearn.linear_model import LogisticRegression\n",
    "from sklearn.linear_model import LogisticRegressionCV\n",
    "from sklearn.tree import DecisionTreeClassifier\n",
    "from sklearn.ensemble import RandomForestClassifier\n",
    "from sklearn.ensemble import AdaBoostClassifier\n",
    "from sklearn.model_selection import cross_validate\n",
    "from sklearn.model_selection import GridSearchCV\n"
   ]
  },
  {
   "cell_type": "markdown",
   "metadata": {},
   "source": [
    "#### First we will start by importing the data\n",
    "\n",
    "In the notebook we work with the ghost state approach. Therefore our dataframe will consist of all the data for the previous elections for all states, concatenated in a single dataframe.\n",
    "\n",
    "We will begin by reading the .csv files for the different states and concatenate them into a single dataframe."
   ]
  },
  {
   "cell_type": "markdown",
   "metadata": {},
   "source": [
    "#### Construct the base dataframe"
   ]
  },
  {
   "cell_type": "code",
   "execution_count": 90,
   "metadata": {},
   "outputs": [],
   "source": [
    "base_df = pd.concat([pd.read_csv('states/'+file) for file in os.listdir('states/')])"
   ]
  },
  {
   "cell_type": "code",
   "execution_count": 91,
   "metadata": {},
   "outputs": [
    {
     "data": {
      "text/html": [
       "<div>\n",
       "<style scoped>\n",
       "    .dataframe tbody tr th:only-of-type {\n",
       "        vertical-align: middle;\n",
       "    }\n",
       "\n",
       "    .dataframe tbody tr th {\n",
       "        vertical-align: top;\n",
       "    }\n",
       "\n",
       "    .dataframe thead th {\n",
       "        text-align: right;\n",
       "    }\n",
       "</style>\n",
       "<table border=\"1\" class=\"dataframe\">\n",
       "  <thead>\n",
       "    <tr style=\"text-align: right;\">\n",
       "      <th></th>\n",
       "      <th>month_10</th>\n",
       "      <th>month_11</th>\n",
       "      <th>month_9</th>\n",
       "      <th>republican</th>\n",
       "      <th>Year</th>\n",
       "      <th>Rep_House_Prop</th>\n",
       "      <th>State</th>\n",
       "      <th>Result</th>\n",
       "      <th>rep_loyalty</th>\n",
       "      <th>popular_vote_percentage</th>\n",
       "      <th>density</th>\n",
       "      <th>RDI</th>\n",
       "    </tr>\n",
       "  </thead>\n",
       "  <tbody>\n",
       "    <tr>\n",
       "      <th>0</th>\n",
       "      <td>51.797513</td>\n",
       "      <td>51.909088</td>\n",
       "      <td>51.657848</td>\n",
       "      <td>1</td>\n",
       "      <td>1988</td>\n",
       "      <td>0.200000</td>\n",
       "      <td>Georgia</td>\n",
       "      <td>1</td>\n",
       "      <td>0.5</td>\n",
       "      <td>53.37</td>\n",
       "      <td>106.259013</td>\n",
       "      <td>93086.74</td>\n",
       "    </tr>\n",
       "    <tr>\n",
       "      <th>1</th>\n",
       "      <td>37.538311</td>\n",
       "      <td>38.412820</td>\n",
       "      <td>37.298773</td>\n",
       "      <td>0</td>\n",
       "      <td>1988</td>\n",
       "      <td>0.800000</td>\n",
       "      <td>Georgia</td>\n",
       "      <td>0</td>\n",
       "      <td>0.5</td>\n",
       "      <td>45.65</td>\n",
       "      <td>106.259013</td>\n",
       "      <td>93086.74</td>\n",
       "    </tr>\n",
       "    <tr>\n",
       "      <th>2</th>\n",
       "      <td>41.056567</td>\n",
       "      <td>39.511030</td>\n",
       "      <td>39.876493</td>\n",
       "      <td>0</td>\n",
       "      <td>1992</td>\n",
       "      <td>0.900000</td>\n",
       "      <td>Georgia</td>\n",
       "      <td>1</td>\n",
       "      <td>0.7</td>\n",
       "      <td>43.01</td>\n",
       "      <td>113.717367</td>\n",
       "      <td>100758.19</td>\n",
       "    </tr>\n",
       "    <tr>\n",
       "      <th>3</th>\n",
       "      <td>35.651345</td>\n",
       "      <td>35.969860</td>\n",
       "      <td>38.271617</td>\n",
       "      <td>1</td>\n",
       "      <td>1992</td>\n",
       "      <td>0.100000</td>\n",
       "      <td>Georgia</td>\n",
       "      <td>0</td>\n",
       "      <td>0.7</td>\n",
       "      <td>37.45</td>\n",
       "      <td>113.717367</td>\n",
       "      <td>100758.19</td>\n",
       "    </tr>\n",
       "    <tr>\n",
       "      <th>4</th>\n",
       "      <td>46.538179</td>\n",
       "      <td>44.819709</td>\n",
       "      <td>45.546053</td>\n",
       "      <td>0</td>\n",
       "      <td>1996</td>\n",
       "      <td>0.636364</td>\n",
       "      <td>Georgia</td>\n",
       "      <td>0</td>\n",
       "      <td>0.5</td>\n",
       "      <td>49.23</td>\n",
       "      <td>123.352989</td>\n",
       "      <td>108448.50</td>\n",
       "    </tr>\n",
       "  </tbody>\n",
       "</table>\n",
       "</div>"
      ],
      "text/plain": [
       "    month_10   month_11    month_9  republican  Year  Rep_House_Prop    State  \\\n",
       "0  51.797513  51.909088  51.657848           1  1988        0.200000  Georgia   \n",
       "1  37.538311  38.412820  37.298773           0  1988        0.800000  Georgia   \n",
       "2  41.056567  39.511030  39.876493           0  1992        0.900000  Georgia   \n",
       "3  35.651345  35.969860  38.271617           1  1992        0.100000  Georgia   \n",
       "4  46.538179  44.819709  45.546053           0  1996        0.636364  Georgia   \n",
       "\n",
       "   Result  rep_loyalty  popular_vote_percentage     density        RDI  \n",
       "0       1          0.5                    53.37  106.259013   93086.74  \n",
       "1       0          0.5                    45.65  106.259013   93086.74  \n",
       "2       1          0.7                    43.01  113.717367  100758.19  \n",
       "3       0          0.7                    37.45  113.717367  100758.19  \n",
       "4       0          0.5                    49.23  123.352989  108448.50  "
      ]
     },
     "metadata": {},
     "output_type": "display_data"
    },
    {
     "data": {
      "text/plain": [
       "(888, 12)"
      ]
     },
     "metadata": {},
     "output_type": "display_data"
    }
   ],
   "source": [
    "display(base_df.head())\n",
    "display(base_df.shape)"
   ]
  },
  {
   "cell_type": "markdown",
   "metadata": {},
   "source": [
    "#### Splitting the data into train and test data (test data 2020 observations)."
   ]
  },
  {
   "cell_type": "code",
   "execution_count": 4,
   "metadata": {},
   "outputs": [],
   "source": [
    "train_df = base_df[base_df.Year != 2020]\n",
    "test_df = base_df[base_df.Year == 2020]"
   ]
  },
  {
   "cell_type": "code",
   "execution_count": 5,
   "metadata": {},
   "outputs": [
    {
     "data": {
      "text/html": [
       "<div>\n",
       "<style scoped>\n",
       "    .dataframe tbody tr th:only-of-type {\n",
       "        vertical-align: middle;\n",
       "    }\n",
       "\n",
       "    .dataframe tbody tr th {\n",
       "        vertical-align: top;\n",
       "    }\n",
       "\n",
       "    .dataframe thead th {\n",
       "        text-align: right;\n",
       "    }\n",
       "</style>\n",
       "<table border=\"1\" class=\"dataframe\">\n",
       "  <thead>\n",
       "    <tr style=\"text-align: right;\">\n",
       "      <th></th>\n",
       "      <th>month_10</th>\n",
       "      <th>month_11</th>\n",
       "      <th>month_9</th>\n",
       "      <th>republican</th>\n",
       "      <th>Year</th>\n",
       "      <th>Rep_House_Prop</th>\n",
       "      <th>State</th>\n",
       "      <th>Result</th>\n",
       "      <th>rep_loyalty</th>\n",
       "      <th>popular_vote_percentage</th>\n",
       "      <th>density</th>\n",
       "      <th>RDI</th>\n",
       "    </tr>\n",
       "  </thead>\n",
       "  <tbody>\n",
       "    <tr>\n",
       "      <th>0</th>\n",
       "      <td>51.797513</td>\n",
       "      <td>51.909088</td>\n",
       "      <td>51.657848</td>\n",
       "      <td>1</td>\n",
       "      <td>1988</td>\n",
       "      <td>0.200000</td>\n",
       "      <td>Georgia</td>\n",
       "      <td>1</td>\n",
       "      <td>0.5</td>\n",
       "      <td>53.37</td>\n",
       "      <td>106.259013</td>\n",
       "      <td>93086.74</td>\n",
       "    </tr>\n",
       "    <tr>\n",
       "      <th>1</th>\n",
       "      <td>37.538311</td>\n",
       "      <td>38.412820</td>\n",
       "      <td>37.298773</td>\n",
       "      <td>0</td>\n",
       "      <td>1988</td>\n",
       "      <td>0.800000</td>\n",
       "      <td>Georgia</td>\n",
       "      <td>0</td>\n",
       "      <td>0.5</td>\n",
       "      <td>45.65</td>\n",
       "      <td>106.259013</td>\n",
       "      <td>93086.74</td>\n",
       "    </tr>\n",
       "    <tr>\n",
       "      <th>2</th>\n",
       "      <td>41.056567</td>\n",
       "      <td>39.511030</td>\n",
       "      <td>39.876493</td>\n",
       "      <td>0</td>\n",
       "      <td>1992</td>\n",
       "      <td>0.900000</td>\n",
       "      <td>Georgia</td>\n",
       "      <td>1</td>\n",
       "      <td>0.7</td>\n",
       "      <td>43.01</td>\n",
       "      <td>113.717367</td>\n",
       "      <td>100758.19</td>\n",
       "    </tr>\n",
       "    <tr>\n",
       "      <th>3</th>\n",
       "      <td>35.651345</td>\n",
       "      <td>35.969860</td>\n",
       "      <td>38.271617</td>\n",
       "      <td>1</td>\n",
       "      <td>1992</td>\n",
       "      <td>0.100000</td>\n",
       "      <td>Georgia</td>\n",
       "      <td>0</td>\n",
       "      <td>0.7</td>\n",
       "      <td>37.45</td>\n",
       "      <td>113.717367</td>\n",
       "      <td>100758.19</td>\n",
       "    </tr>\n",
       "    <tr>\n",
       "      <th>4</th>\n",
       "      <td>46.538179</td>\n",
       "      <td>44.819709</td>\n",
       "      <td>45.546053</td>\n",
       "      <td>0</td>\n",
       "      <td>1996</td>\n",
       "      <td>0.636364</td>\n",
       "      <td>Georgia</td>\n",
       "      <td>0</td>\n",
       "      <td>0.5</td>\n",
       "      <td>49.23</td>\n",
       "      <td>123.352989</td>\n",
       "      <td>108448.50</td>\n",
       "    </tr>\n",
       "  </tbody>\n",
       "</table>\n",
       "</div>"
      ],
      "text/plain": [
       "    month_10   month_11    month_9  republican  Year  Rep_House_Prop    State  \\\n",
       "0  51.797513  51.909088  51.657848           1  1988        0.200000  Georgia   \n",
       "1  37.538311  38.412820  37.298773           0  1988        0.800000  Georgia   \n",
       "2  41.056567  39.511030  39.876493           0  1992        0.900000  Georgia   \n",
       "3  35.651345  35.969860  38.271617           1  1992        0.100000  Georgia   \n",
       "4  46.538179  44.819709  45.546053           0  1996        0.636364  Georgia   \n",
       "\n",
       "   Result  rep_loyalty  popular_vote_percentage     density        RDI  \n",
       "0       1          0.5                    53.37  106.259013   93086.74  \n",
       "1       0          0.5                    45.65  106.259013   93086.74  \n",
       "2       1          0.7                    43.01  113.717367  100758.19  \n",
       "3       0          0.7                    37.45  113.717367  100758.19  \n",
       "4       0          0.5                    49.23  123.352989  108448.50  "
      ]
     },
     "metadata": {},
     "output_type": "display_data"
    },
    {
     "data": {
      "text/html": [
       "<div>\n",
       "<style scoped>\n",
       "    .dataframe tbody tr th:only-of-type {\n",
       "        vertical-align: middle;\n",
       "    }\n",
       "\n",
       "    .dataframe tbody tr th {\n",
       "        vertical-align: top;\n",
       "    }\n",
       "\n",
       "    .dataframe thead th {\n",
       "        text-align: right;\n",
       "    }\n",
       "</style>\n",
       "<table border=\"1\" class=\"dataframe\">\n",
       "  <thead>\n",
       "    <tr style=\"text-align: right;\">\n",
       "      <th></th>\n",
       "      <th>month_10</th>\n",
       "      <th>month_11</th>\n",
       "      <th>month_9</th>\n",
       "      <th>republican</th>\n",
       "      <th>Year</th>\n",
       "      <th>Rep_House_Prop</th>\n",
       "      <th>State</th>\n",
       "      <th>Result</th>\n",
       "      <th>rep_loyalty</th>\n",
       "      <th>popular_vote_percentage</th>\n",
       "      <th>density</th>\n",
       "      <th>RDI</th>\n",
       "    </tr>\n",
       "  </thead>\n",
       "  <tbody>\n",
       "    <tr>\n",
       "      <th>16</th>\n",
       "      <td>46.657139</td>\n",
       "      <td>47.298710</td>\n",
       "      <td>47.170450</td>\n",
       "      <td>1</td>\n",
       "      <td>2020</td>\n",
       "      <td>0.714286</td>\n",
       "      <td>Georgia</td>\n",
       "      <td>1</td>\n",
       "      <td>1.0</td>\n",
       "      <td>46.525</td>\n",
       "      <td>180.617755</td>\n",
       "      <td>163524.50</td>\n",
       "    </tr>\n",
       "    <tr>\n",
       "      <th>17</th>\n",
       "      <td>47.604381</td>\n",
       "      <td>48.407587</td>\n",
       "      <td>45.906192</td>\n",
       "      <td>0</td>\n",
       "      <td>2020</td>\n",
       "      <td>0.285714</td>\n",
       "      <td>Georgia</td>\n",
       "      <td>0</td>\n",
       "      <td>1.0</td>\n",
       "      <td>52.460</td>\n",
       "      <td>180.617755</td>\n",
       "      <td>163524.50</td>\n",
       "    </tr>\n",
       "    <tr>\n",
       "      <th>16</th>\n",
       "      <td>46.311941</td>\n",
       "      <td>47.027987</td>\n",
       "      <td>46.593060</td>\n",
       "      <td>1</td>\n",
       "      <td>2020</td>\n",
       "      <td>0.785714</td>\n",
       "      <td>North Carolina</td>\n",
       "      <td>1</td>\n",
       "      <td>0.8</td>\n",
       "      <td>46.525</td>\n",
       "      <td>197.170250</td>\n",
       "      <td>161835.04</td>\n",
       "    </tr>\n",
       "    <tr>\n",
       "      <th>17</th>\n",
       "      <td>48.855849</td>\n",
       "      <td>48.848577</td>\n",
       "      <td>47.920197</td>\n",
       "      <td>0</td>\n",
       "      <td>2020</td>\n",
       "      <td>0.214286</td>\n",
       "      <td>North Carolina</td>\n",
       "      <td>0</td>\n",
       "      <td>0.8</td>\n",
       "      <td>52.460</td>\n",
       "      <td>197.170250</td>\n",
       "      <td>161835.04</td>\n",
       "    </tr>\n",
       "    <tr>\n",
       "      <th>12</th>\n",
       "      <td>66.209900</td>\n",
       "      <td>62.336910</td>\n",
       "      <td>66.226278</td>\n",
       "      <td>1</td>\n",
       "      <td>2020</td>\n",
       "      <td>1.000000</td>\n",
       "      <td>Wyoming</td>\n",
       "      <td>1</td>\n",
       "      <td>1.0</td>\n",
       "      <td>46.525</td>\n",
       "      <td>5.796735</td>\n",
       "      <td>10593.19</td>\n",
       "    </tr>\n",
       "  </tbody>\n",
       "</table>\n",
       "</div>"
      ],
      "text/plain": [
       "     month_10   month_11    month_9  republican  Year  Rep_House_Prop  \\\n",
       "16  46.657139  47.298710  47.170450           1  2020        0.714286   \n",
       "17  47.604381  48.407587  45.906192           0  2020        0.285714   \n",
       "16  46.311941  47.027987  46.593060           1  2020        0.785714   \n",
       "17  48.855849  48.848577  47.920197           0  2020        0.214286   \n",
       "12  66.209900  62.336910  66.226278           1  2020        1.000000   \n",
       "\n",
       "             State  Result  rep_loyalty  popular_vote_percentage     density  \\\n",
       "16         Georgia       1          1.0                   46.525  180.617755   \n",
       "17         Georgia       0          1.0                   52.460  180.617755   \n",
       "16  North Carolina       1          0.8                   46.525  197.170250   \n",
       "17  North Carolina       0          0.8                   52.460  197.170250   \n",
       "12         Wyoming       1          1.0                   46.525    5.796735   \n",
       "\n",
       "          RDI  \n",
       "16  163524.50  \n",
       "17  163524.50  \n",
       "16  161835.04  \n",
       "17  161835.04  \n",
       "12   10593.19  "
      ]
     },
     "metadata": {},
     "output_type": "display_data"
    }
   ],
   "source": [
    "display(train_df.head())\n",
    "display(test_df.head())"
   ]
  },
  {
   "cell_type": "code",
   "execution_count": 6,
   "metadata": {},
   "outputs": [],
   "source": [
    "train_df = train_df.drop(['Year', 'State'], axis = 1)\n",
    "test_df = test_df.drop(['Year', 'State'], axis = 1)"
   ]
  },
  {
   "cell_type": "code",
   "execution_count": 7,
   "metadata": {},
   "outputs": [
    {
     "data": {
      "text/html": [
       "<div>\n",
       "<style scoped>\n",
       "    .dataframe tbody tr th:only-of-type {\n",
       "        vertical-align: middle;\n",
       "    }\n",
       "\n",
       "    .dataframe tbody tr th {\n",
       "        vertical-align: top;\n",
       "    }\n",
       "\n",
       "    .dataframe thead th {\n",
       "        text-align: right;\n",
       "    }\n",
       "</style>\n",
       "<table border=\"1\" class=\"dataframe\">\n",
       "  <thead>\n",
       "    <tr style=\"text-align: right;\">\n",
       "      <th></th>\n",
       "      <th>month_10</th>\n",
       "      <th>month_11</th>\n",
       "      <th>month_9</th>\n",
       "      <th>republican</th>\n",
       "      <th>Rep_House_Prop</th>\n",
       "      <th>Result</th>\n",
       "      <th>rep_loyalty</th>\n",
       "      <th>popular_vote_percentage</th>\n",
       "      <th>density</th>\n",
       "      <th>RDI</th>\n",
       "    </tr>\n",
       "  </thead>\n",
       "  <tbody>\n",
       "    <tr>\n",
       "      <th>0</th>\n",
       "      <td>51.797513</td>\n",
       "      <td>51.909088</td>\n",
       "      <td>51.657848</td>\n",
       "      <td>1</td>\n",
       "      <td>0.200000</td>\n",
       "      <td>1</td>\n",
       "      <td>0.5</td>\n",
       "      <td>53.37</td>\n",
       "      <td>106.259013</td>\n",
       "      <td>93086.74</td>\n",
       "    </tr>\n",
       "    <tr>\n",
       "      <th>1</th>\n",
       "      <td>37.538311</td>\n",
       "      <td>38.412820</td>\n",
       "      <td>37.298773</td>\n",
       "      <td>0</td>\n",
       "      <td>0.800000</td>\n",
       "      <td>0</td>\n",
       "      <td>0.5</td>\n",
       "      <td>45.65</td>\n",
       "      <td>106.259013</td>\n",
       "      <td>93086.74</td>\n",
       "    </tr>\n",
       "    <tr>\n",
       "      <th>2</th>\n",
       "      <td>41.056567</td>\n",
       "      <td>39.511030</td>\n",
       "      <td>39.876493</td>\n",
       "      <td>0</td>\n",
       "      <td>0.900000</td>\n",
       "      <td>1</td>\n",
       "      <td>0.7</td>\n",
       "      <td>43.01</td>\n",
       "      <td>113.717367</td>\n",
       "      <td>100758.19</td>\n",
       "    </tr>\n",
       "    <tr>\n",
       "      <th>3</th>\n",
       "      <td>35.651345</td>\n",
       "      <td>35.969860</td>\n",
       "      <td>38.271617</td>\n",
       "      <td>1</td>\n",
       "      <td>0.100000</td>\n",
       "      <td>0</td>\n",
       "      <td>0.7</td>\n",
       "      <td>37.45</td>\n",
       "      <td>113.717367</td>\n",
       "      <td>100758.19</td>\n",
       "    </tr>\n",
       "    <tr>\n",
       "      <th>4</th>\n",
       "      <td>46.538179</td>\n",
       "      <td>44.819709</td>\n",
       "      <td>45.546053</td>\n",
       "      <td>0</td>\n",
       "      <td>0.636364</td>\n",
       "      <td>0</td>\n",
       "      <td>0.5</td>\n",
       "      <td>49.23</td>\n",
       "      <td>123.352989</td>\n",
       "      <td>108448.50</td>\n",
       "    </tr>\n",
       "  </tbody>\n",
       "</table>\n",
       "</div>"
      ],
      "text/plain": [
       "    month_10   month_11    month_9  republican  Rep_House_Prop  Result  \\\n",
       "0  51.797513  51.909088  51.657848           1        0.200000       1   \n",
       "1  37.538311  38.412820  37.298773           0        0.800000       0   \n",
       "2  41.056567  39.511030  39.876493           0        0.900000       1   \n",
       "3  35.651345  35.969860  38.271617           1        0.100000       0   \n",
       "4  46.538179  44.819709  45.546053           0        0.636364       0   \n",
       "\n",
       "   rep_loyalty  popular_vote_percentage     density        RDI  \n",
       "0          0.5                    53.37  106.259013   93086.74  \n",
       "1          0.5                    45.65  106.259013   93086.74  \n",
       "2          0.7                    43.01  113.717367  100758.19  \n",
       "3          0.7                    37.45  113.717367  100758.19  \n",
       "4          0.5                    49.23  123.352989  108448.50  "
      ]
     },
     "metadata": {},
     "output_type": "display_data"
    },
    {
     "data": {
      "text/html": [
       "<div>\n",
       "<style scoped>\n",
       "    .dataframe tbody tr th:only-of-type {\n",
       "        vertical-align: middle;\n",
       "    }\n",
       "\n",
       "    .dataframe tbody tr th {\n",
       "        vertical-align: top;\n",
       "    }\n",
       "\n",
       "    .dataframe thead th {\n",
       "        text-align: right;\n",
       "    }\n",
       "</style>\n",
       "<table border=\"1\" class=\"dataframe\">\n",
       "  <thead>\n",
       "    <tr style=\"text-align: right;\">\n",
       "      <th></th>\n",
       "      <th>month_10</th>\n",
       "      <th>month_11</th>\n",
       "      <th>month_9</th>\n",
       "      <th>republican</th>\n",
       "      <th>Rep_House_Prop</th>\n",
       "      <th>Result</th>\n",
       "      <th>rep_loyalty</th>\n",
       "      <th>popular_vote_percentage</th>\n",
       "      <th>density</th>\n",
       "      <th>RDI</th>\n",
       "    </tr>\n",
       "  </thead>\n",
       "  <tbody>\n",
       "    <tr>\n",
       "      <th>16</th>\n",
       "      <td>46.657139</td>\n",
       "      <td>47.298710</td>\n",
       "      <td>47.170450</td>\n",
       "      <td>1</td>\n",
       "      <td>0.714286</td>\n",
       "      <td>1</td>\n",
       "      <td>1.0</td>\n",
       "      <td>46.525</td>\n",
       "      <td>180.617755</td>\n",
       "      <td>163524.50</td>\n",
       "    </tr>\n",
       "    <tr>\n",
       "      <th>17</th>\n",
       "      <td>47.604381</td>\n",
       "      <td>48.407587</td>\n",
       "      <td>45.906192</td>\n",
       "      <td>0</td>\n",
       "      <td>0.285714</td>\n",
       "      <td>0</td>\n",
       "      <td>1.0</td>\n",
       "      <td>52.460</td>\n",
       "      <td>180.617755</td>\n",
       "      <td>163524.50</td>\n",
       "    </tr>\n",
       "    <tr>\n",
       "      <th>16</th>\n",
       "      <td>46.311941</td>\n",
       "      <td>47.027987</td>\n",
       "      <td>46.593060</td>\n",
       "      <td>1</td>\n",
       "      <td>0.785714</td>\n",
       "      <td>1</td>\n",
       "      <td>0.8</td>\n",
       "      <td>46.525</td>\n",
       "      <td>197.170250</td>\n",
       "      <td>161835.04</td>\n",
       "    </tr>\n",
       "    <tr>\n",
       "      <th>17</th>\n",
       "      <td>48.855849</td>\n",
       "      <td>48.848577</td>\n",
       "      <td>47.920197</td>\n",
       "      <td>0</td>\n",
       "      <td>0.214286</td>\n",
       "      <td>0</td>\n",
       "      <td>0.8</td>\n",
       "      <td>52.460</td>\n",
       "      <td>197.170250</td>\n",
       "      <td>161835.04</td>\n",
       "    </tr>\n",
       "    <tr>\n",
       "      <th>12</th>\n",
       "      <td>66.209900</td>\n",
       "      <td>62.336910</td>\n",
       "      <td>66.226278</td>\n",
       "      <td>1</td>\n",
       "      <td>1.000000</td>\n",
       "      <td>1</td>\n",
       "      <td>1.0</td>\n",
       "      <td>46.525</td>\n",
       "      <td>5.796735</td>\n",
       "      <td>10593.19</td>\n",
       "    </tr>\n",
       "  </tbody>\n",
       "</table>\n",
       "</div>"
      ],
      "text/plain": [
       "     month_10   month_11    month_9  republican  Rep_House_Prop  Result  \\\n",
       "16  46.657139  47.298710  47.170450           1        0.714286       1   \n",
       "17  47.604381  48.407587  45.906192           0        0.285714       0   \n",
       "16  46.311941  47.027987  46.593060           1        0.785714       1   \n",
       "17  48.855849  48.848577  47.920197           0        0.214286       0   \n",
       "12  66.209900  62.336910  66.226278           1        1.000000       1   \n",
       "\n",
       "    rep_loyalty  popular_vote_percentage     density        RDI  \n",
       "16          1.0                   46.525  180.617755  163524.50  \n",
       "17          1.0                   52.460  180.617755  163524.50  \n",
       "16          0.8                   46.525  197.170250  161835.04  \n",
       "17          0.8                   52.460  197.170250  161835.04  \n",
       "12          1.0                   46.525    5.796735   10593.19  "
      ]
     },
     "metadata": {},
     "output_type": "display_data"
    }
   ],
   "source": [
    "display(train_df.head())\n",
    "display(test_df.head())"
   ]
  },
  {
   "cell_type": "code",
   "execution_count": 8,
   "metadata": {},
   "outputs": [],
   "source": [
    "train, val = train_test_split(train_df, train_size = 0.8, random_state=56)\n",
    "X_train = train.drop('Result', axis=1)#.values\n",
    "y_train = train['Result']#.values\n",
    "X_val = val.drop('Result', axis=1)#.values\n",
    "y_val = val['Result']#.values\n",
    "X_test = test_df.drop('Result', axis=1)#.values\n",
    "y_test = test_df['Result']#.values"
   ]
  },
  {
   "cell_type": "markdown",
   "metadata": {},
   "source": [
    "#### Modelling phase"
   ]
  },
  {
   "cell_type": "code",
   "execution_count": 9,
   "metadata": {},
   "outputs": [],
   "source": [
    "def modelling(X_train, X_val, y_train, y_val, models, scaler=True, Poly=1, PCA_comp=0):\n",
    "    # pca is the total variance explained required. 0 means that we do not want to perform pca\n",
    "    if 'State' in X_train.columns:\n",
    "        X_train = X_train.drop('State', axis=1)\n",
    "        X_val = X_val.drop('State', axis=1)\n",
    "    if 'Year' in X_train.columns:\n",
    "        X_train = X_train.drop('Year', axis=1)\n",
    "        X_val = X_val.drop('Year', axis=1)\n",
    "    if PCA_comp > 0 and not scaler:\n",
    "        raise ValueError('We must normalize before performing PCA')\n",
    "    if scaler:\n",
    "        # print('Normalizing the data ...')\n",
    "        scaler = MinMaxScaler().fit(X_train)\n",
    "        X_train = scaler.transform(X_train)\n",
    "        X_val = scaler.transform(X_val)\n",
    "    if PCA_comp > 0:\n",
    "        # print('Performing PCA ...')\n",
    "        pca = PCA(n_components=X_train.shape[1])\n",
    "        pca.fit(X_train)\n",
    "        X_train = pca.transform(X_train)\n",
    "        X_val = pca.transform(X_val)\n",
    "        total_variance = np.cumsum(pca.explained_variance_ratio_)\n",
    "        for i, variance in enumerate(total_variance):\n",
    "            if variance > PCA_comp:\n",
    "                break \n",
    "        X_train, X_val = X_train[:, :i+1], X_val[:, :i+1]\n",
    "    if Poly > 1:\n",
    "        # print('Polynomial transformation ...')\n",
    "        poly_features = PolynomialFeatures(degree=Poly, include_bias=False).fit(X_train)\n",
    "        X_train = poly_features.transform(X_train)\n",
    "        X_val = poly_features.transform(X_val)\n",
    "    accuracies = []\n",
    "    auc = []\n",
    "    # print('Modelling and gathering the predictions ..')\n",
    "    for i, model in enumerate(models):\n",
    "        model.fit(X_train, y_train)\n",
    "        predictions = model.predict(X_val)\n",
    "        accuracies.append(accuracy_score(y_val, predictions))\n",
    "        try:\n",
    "            auc.append(roc_auc_score(y_val, predictions))\n",
    "        except ValueError:\n",
    "            auc.append(1)\n",
    "    return models, accuracies, auc, predictions"
   ]
  },
  {
   "cell_type": "markdown",
   "metadata": {},
   "source": [
    "#### 1. Logistic Regression\n",
    "- PolynomialFeatures = 1, PCA = 0\n",
    "- PolynomialFeatures = 2, PCA = 0\n",
    "- PolynomialFeatures = 2, PCA = 0.9\n",
    "- PolynomialFeatures = 1, PCA = 0.9"
   ]
  },
  {
   "cell_type": "markdown",
   "metadata": {},
   "source": [
    "PolynomialFeatures = 1, PCA = 0"
   ]
  },
  {
   "cell_type": "code",
   "execution_count": 61,
   "metadata": {},
   "outputs": [
    {
     "ename": "ValueError",
     "evalue": "not enough values to unpack (expected 4, got 2)",
     "output_type": "error",
     "traceback": [
      "\u001b[0;31m---------------------------------------------------------------------------\u001b[0m",
      "\u001b[0;31mValueError\u001b[0m                                Traceback (most recent call last)",
      "\u001b[0;32m<ipython-input-61-7fe71a2d006a>\u001b[0m in \u001b[0;36m<module>\u001b[0;34m\u001b[0m\n\u001b[1;32m      1\u001b[0m \u001b[0mmodels_considered\u001b[0m \u001b[0;34m=\u001b[0m \u001b[0;34m[\u001b[0m\u001b[0mLogisticRegressionCV\u001b[0m\u001b[0;34m(\u001b[0m\u001b[0mmax_iter\u001b[0m\u001b[0;34m=\u001b[0m\u001b[0;36m1000\u001b[0m\u001b[0;34m,\u001b[0m \u001b[0mpenalty\u001b[0m\u001b[0;34m=\u001b[0m\u001b[0;34m'l1'\u001b[0m\u001b[0;34m,\u001b[0m \u001b[0msolver\u001b[0m\u001b[0;34m=\u001b[0m\u001b[0;34m'saga'\u001b[0m\u001b[0;34m)\u001b[0m\u001b[0;34m]\u001b[0m\u001b[0;34m\u001b[0m\u001b[0;34m\u001b[0m\u001b[0m\n\u001b[0;32m----> 2\u001b[0;31m \u001b[0mmodels_11\u001b[0m\u001b[0;34m,\u001b[0m \u001b[0maccuracies_11\u001b[0m\u001b[0;34m,\u001b[0m \u001b[0maucs_11\u001b[0m\u001b[0;34m,\u001b[0m \u001b[0mpredictions_11\u001b[0m \u001b[0;34m=\u001b[0m \u001b[0mmodelling\u001b[0m\u001b[0;34m(\u001b[0m\u001b[0mX_train\u001b[0m\u001b[0;34m,\u001b[0m \u001b[0mX_val\u001b[0m\u001b[0;34m,\u001b[0m \u001b[0my_train\u001b[0m\u001b[0;34m,\u001b[0m \u001b[0my_val\u001b[0m\u001b[0;34m,\u001b[0m \u001b[0mmodels\u001b[0m\u001b[0;34m=\u001b[0m\u001b[0mmodels_considered\u001b[0m\u001b[0;34m,\u001b[0m \u001b[0mscaler\u001b[0m\u001b[0;34m=\u001b[0m\u001b[0;32mTrue\u001b[0m\u001b[0;34m,\u001b[0m \u001b[0mPoly\u001b[0m\u001b[0;34m=\u001b[0m\u001b[0;36m1\u001b[0m\u001b[0;34m,\u001b[0m \u001b[0mPCA_comp\u001b[0m\u001b[0;34m=\u001b[0m\u001b[0;36m0\u001b[0m\u001b[0;34m)\u001b[0m\u001b[0;34m\u001b[0m\u001b[0;34m\u001b[0m\u001b[0m\n\u001b[0m",
      "\u001b[0;31mValueError\u001b[0m: not enough values to unpack (expected 4, got 2)"
     ]
    }
   ],
   "source": [
    "models_considered = [LogisticRegressionCV(max_iter=1000, penalty='l1', solver='saga')]\n",
    "models_11, accuracies_11, aucs_11, predictions_11 = modelling(X_train, X_val, y_train, y_val, models=models_considered, scaler=True, Poly=1, PCA_comp=0)"
   ]
  },
  {
   "cell_type": "code",
   "execution_count": null,
   "metadata": {},
   "outputs": [],
   "source": [
    "print(\"{0}: {1}\".format(models_11[0], accuracies_11[0]))"
   ]
  },
  {
   "cell_type": "markdown",
   "metadata": {},
   "source": [
    "PolynomialFeatures = 2, PCA = 0"
   ]
  },
  {
   "cell_type": "code",
   "execution_count": 12,
   "metadata": {},
   "outputs": [],
   "source": [
    "models_considered = [LogisticRegressionCV(max_iter=5000, penalty='l1', solver='saga')]\n",
    "models_12, accuracies_12, aucs_12, predictions_12 = modelling(X_train, X_val, y_train, y_val, models=models_considered, scaler=True, Poly=2, PCA_comp=0)"
   ]
  },
  {
   "cell_type": "code",
   "execution_count": 13,
   "metadata": {},
   "outputs": [
    {
     "name": "stdout",
     "output_type": "stream",
     "text": [
      "LogisticRegressionCV(max_iter=5000, penalty='l1', solver='saga'): 0.8860759493670886\n"
     ]
    }
   ],
   "source": [
    "print(\"{0}: {1}\".format(models_12[0], accuracies_12[0]))"
   ]
  },
  {
   "cell_type": "code",
   "execution_count": 14,
   "metadata": {},
   "outputs": [
    {
     "name": "stdout",
     "output_type": "stream",
     "text": [
      "0.8860759493670886\n",
      "0.96\n",
      "0.96\n"
     ]
    }
   ],
   "source": [
    "poly_features = PolynomialFeatures(degree=2, include_bias=False).fit(X_train)\n",
    "scaler = MinMaxScaler().fit(X_train)\n",
    "X_train1 = scaler.transform(X_train)\n",
    "X_val1 = scaler.transform(X_val)\n",
    "X_test1 = scaler.transform(X_test)\n",
    "\n",
    "X_train_poly = poly_features.transform(X_train1)\n",
    "X_val_poly = poly_features.transform(X_val1)\n",
    "X_test_poly = poly_features.transform(X_test1)\n",
    "model = LogisticRegressionCV(max_iter=5000, penalty='l1', solver='saga').fit(X_train_poly, y_train)\n",
    "print(accuracy_score(y_val, model.predict(X_val_poly)))\n",
    "print(accuracy_score(y_test, model.predict(X_test_poly)))\n",
    "print(model.score(X_test_poly, y_test))"
   ]
  },
  {
   "cell_type": "markdown",
   "metadata": {},
   "source": [
    "PolynomialFeatures = 2, PCA = 0.9"
   ]
  },
  {
   "cell_type": "code",
   "execution_count": 15,
   "metadata": {},
   "outputs": [],
   "source": [
    "models_considered = [LogisticRegressionCV(max_iter=5000, penalty='l1', solver='saga')]\n",
    "models_13, accuracies_13, aucs_13, predictions_13 = modelling(X_train, X_val, y_train, y_val, models=models_considered, scaler=True, Poly=2, PCA_comp=0.9)"
   ]
  },
  {
   "cell_type": "code",
   "execution_count": 16,
   "metadata": {},
   "outputs": [
    {
     "name": "stdout",
     "output_type": "stream",
     "text": [
      "LogisticRegressionCV(max_iter=5000, penalty='l1', solver='saga'): 0.8860759493670886\n"
     ]
    }
   ],
   "source": [
    "print(\"{0}: {1}\".format(models_13[0], accuracies_13[0]))"
   ]
  },
  {
   "cell_type": "markdown",
   "metadata": {},
   "source": [
    "PolynomialFeatures = 1, PCA = 0.9"
   ]
  },
  {
   "cell_type": "code",
   "execution_count": 17,
   "metadata": {},
   "outputs": [],
   "source": [
    "models_considered = [LogisticRegressionCV(max_iter=1000, penalty='l1', solver='saga')]\n",
    "models_14, accuracies_14, aucs_14, predictions_14 = modelling(X_train, X_val, y_train, y_val, models=models_considered, scaler=True, Poly=1, PCA_comp=0.9)"
   ]
  },
  {
   "cell_type": "code",
   "execution_count": 18,
   "metadata": {},
   "outputs": [
    {
     "name": "stdout",
     "output_type": "stream",
     "text": [
      "LogisticRegressionCV(max_iter=1000, penalty='l1', solver='saga'): 0.7911392405063291\n"
     ]
    }
   ],
   "source": [
    "print(\"{0}: {1}\".format(models_14[0], accuracies_14[0]))"
   ]
  },
  {
   "cell_type": "markdown",
   "metadata": {},
   "source": [
    "#### 2. Decision Tree Classifier\n",
    "- PolynomialFeatures = 1, PCA = 0\n",
    "- PolynomialFeatures = 2, PCA = 0\n",
    "- PolynomialFeatures = 2, PCA = 0.9\n",
    "- PolynomialFeatures = 1, PCA = 0.9"
   ]
  },
  {
   "cell_type": "markdown",
   "metadata": {},
   "source": [
    "PolynomialFeatures = 1, PCA = 0"
   ]
  },
  {
   "cell_type": "code",
   "execution_count": 25,
   "metadata": {},
   "outputs": [
    {
     "name": "stdout",
     "output_type": "stream",
     "text": [
      "DecisionTreeClassifier(max_depth=1): 0.810126582278481\n",
      "-------------------------------------------------------\n",
      "DecisionTreeClassifier(max_depth=2): 0.810126582278481\n",
      "-------------------------------------------------------\n",
      "DecisionTreeClassifier(max_depth=3): 0.8544303797468354\n",
      "-------------------------------------------------------\n",
      "DecisionTreeClassifier(max_depth=4): 0.8734177215189873\n",
      "-------------------------------------------------------\n",
      "DecisionTreeClassifier(max_depth=5): 0.879746835443038\n",
      "-------------------------------------------------------\n",
      "DecisionTreeClassifier(max_depth=6): 0.8987341772151899\n",
      "-------------------------------------------------------\n",
      "DecisionTreeClassifier(max_depth=7): 0.8734177215189873\n",
      "-------------------------------------------------------\n",
      "DecisionTreeClassifier(max_depth=8): 0.879746835443038\n",
      "-------------------------------------------------------\n",
      "DecisionTreeClassifier(max_depth=9): 0.8860759493670886\n",
      "-------------------------------------------------------\n"
     ]
    }
   ],
   "source": [
    "depths = np.arange(1, 10, 1)\n",
    "for depth in depths:\n",
    "    models_considered = [DecisionTreeClassifier(max_depth=depth)]\n",
    "    models_21, accuracies_21, aucs_21, predictions_21 = modelling(X_train, X_val, y_train, y_val, models=models_considered, scaler=True, Poly=1, PCA_comp=0)\n",
    "    print(\"{0}: {1}\".format(models_21[0], accuracies_21[0]))\n",
    "    print('-'*55)"
   ]
  },
  {
   "cell_type": "markdown",
   "metadata": {},
   "source": [
    "PolynomialFeatures = 2, PCA = 0"
   ]
  },
  {
   "cell_type": "code",
   "execution_count": 26,
   "metadata": {},
   "outputs": [
    {
     "name": "stdout",
     "output_type": "stream",
     "text": [
      "DecisionTreeClassifier(max_depth=1): 0.810126582278481\n",
      "-------------------------------------------------------\n",
      "DecisionTreeClassifier(max_depth=2): 0.810126582278481\n",
      "-------------------------------------------------------\n",
      "DecisionTreeClassifier(max_depth=3): 0.8544303797468354\n",
      "-------------------------------------------------------\n",
      "DecisionTreeClassifier(max_depth=4): 0.8481012658227848\n",
      "-------------------------------------------------------\n",
      "DecisionTreeClassifier(max_depth=5): 0.8544303797468354\n",
      "-------------------------------------------------------\n",
      "DecisionTreeClassifier(max_depth=6): 0.8670886075949367\n",
      "-------------------------------------------------------\n",
      "DecisionTreeClassifier(max_depth=7): 0.8544303797468354\n",
      "-------------------------------------------------------\n",
      "DecisionTreeClassifier(max_depth=8): 0.8734177215189873\n",
      "-------------------------------------------------------\n",
      "DecisionTreeClassifier(max_depth=9): 0.8670886075949367\n",
      "-------------------------------------------------------\n"
     ]
    }
   ],
   "source": [
    "depths = np.arange(1, 10, 1)\n",
    "for depth in depths:\n",
    "    models_considered = [DecisionTreeClassifier(max_depth=depth)]\n",
    "    models_22, accuracies_22, aucs_22, predictions_22 = modelling(X_train, X_val, y_train, y_val, models=models_considered, scaler=True, Poly=2, PCA_comp=0)\n",
    "    print(\"{0}: {1}\".format(models_22[0], accuracies_22[0]))\n",
    "    print('-'*55)"
   ]
  },
  {
   "cell_type": "markdown",
   "metadata": {},
   "source": [
    "PolynomialFeatures = 2, PCA = 0.9"
   ]
  },
  {
   "cell_type": "code",
   "execution_count": 27,
   "metadata": {},
   "outputs": [
    {
     "name": "stdout",
     "output_type": "stream",
     "text": [
      "DecisionTreeClassifier(max_depth=1): 0.7911392405063291\n",
      "-------------------------------------------------------\n",
      "DecisionTreeClassifier(max_depth=2): 0.8164556962025317\n",
      "-------------------------------------------------------\n",
      "DecisionTreeClassifier(max_depth=3): 0.8227848101265823\n",
      "-------------------------------------------------------\n",
      "DecisionTreeClassifier(max_depth=4): 0.8354430379746836\n",
      "-------------------------------------------------------\n",
      "DecisionTreeClassifier(max_depth=5): 0.8924050632911392\n",
      "-------------------------------------------------------\n",
      "DecisionTreeClassifier(max_depth=6): 0.8481012658227848\n",
      "-------------------------------------------------------\n",
      "DecisionTreeClassifier(max_depth=7): 0.8607594936708861\n",
      "-------------------------------------------------------\n",
      "DecisionTreeClassifier(max_depth=8): 0.8481012658227848\n",
      "-------------------------------------------------------\n",
      "DecisionTreeClassifier(max_depth=9): 0.8544303797468354\n",
      "-------------------------------------------------------\n"
     ]
    }
   ],
   "source": [
    "depths = np.arange(1, 10, 1)\n",
    "for depth in depths:\n",
    "    models_considered = [DecisionTreeClassifier(max_depth=depth)]\n",
    "    models_23, accuracies_23, aucs_23, predictions_23 = modelling(X_train, X_val, y_train, y_val, models=models_considered, scaler=True, Poly=2, PCA_comp=0.9)\n",
    "    print(\"{0}: {1}\".format(models_23[0], accuracies_23[0]))\n",
    "    print('-'*55)"
   ]
  },
  {
   "cell_type": "markdown",
   "metadata": {},
   "source": [
    "PolynomialFeatures = 1, PCA = 0.9"
   ]
  },
  {
   "cell_type": "code",
   "execution_count": 28,
   "metadata": {},
   "outputs": [
    {
     "name": "stdout",
     "output_type": "stream",
     "text": [
      "DecisionTreeClassifier(max_depth=1): 0.7848101265822784\n",
      "-------------------------------------------------------\n",
      "DecisionTreeClassifier(max_depth=2): 0.7848101265822784\n",
      "-------------------------------------------------------\n",
      "DecisionTreeClassifier(max_depth=3): 0.8227848101265823\n",
      "-------------------------------------------------------\n",
      "DecisionTreeClassifier(max_depth=4): 0.8481012658227848\n",
      "-------------------------------------------------------\n",
      "DecisionTreeClassifier(max_depth=5): 0.8481012658227848\n",
      "-------------------------------------------------------\n",
      "DecisionTreeClassifier(max_depth=6): 0.8481012658227848\n",
      "-------------------------------------------------------\n",
      "DecisionTreeClassifier(max_depth=7): 0.8227848101265823\n",
      "-------------------------------------------------------\n",
      "DecisionTreeClassifier(max_depth=8): 0.8291139240506329\n",
      "-------------------------------------------------------\n",
      "DecisionTreeClassifier(max_depth=9): 0.8544303797468354\n",
      "-------------------------------------------------------\n"
     ]
    }
   ],
   "source": [
    "depths = np.arange(1, 10, 1)\n",
    "for depth in depths:\n",
    "    models_considered = [DecisionTreeClassifier(max_depth=depth)]\n",
    "    models_24, accuracies_24, aucs_24, predictions_24 = modelling(X_train, X_val, y_train, y_val, models=models_considered, scaler=True, Poly=1, PCA_comp=0.9)\n",
    "    print(\"{0}: {1}\".format(models_24[0], accuracies_24[0]))\n",
    "    print('-'*55)"
   ]
  },
  {
   "cell_type": "markdown",
   "metadata": {},
   "source": [
    "#### 3. Random Forrest Classifier"
   ]
  },
  {
   "cell_type": "code",
   "execution_count": 41,
   "metadata": {},
   "outputs": [
    {
     "name": "stdout",
     "output_type": "stream",
     "text": [
      "Fitting 2 folds for each of 1728 candidates, totalling 3456 fits\n"
     ]
    },
    {
     "name": "stderr",
     "output_type": "stream",
     "text": [
      "[Parallel(n_jobs=-1)]: Using backend LokyBackend with 8 concurrent workers.\n",
      "[Parallel(n_jobs=-1)]: Done  52 tasks      | elapsed:    2.6s\n",
      "[Parallel(n_jobs=-1)]: Done 280 tasks      | elapsed:   15.8s\n",
      "[Parallel(n_jobs=-1)]: Done 530 tasks      | elapsed:   31.1s\n",
      "[Parallel(n_jobs=-1)]: Done 880 tasks      | elapsed:   53.4s\n",
      "[Parallel(n_jobs=-1)]: Done 1330 tasks      | elapsed:  1.4min\n",
      "[Parallel(n_jobs=-1)]: Done 1880 tasks      | elapsed:  2.0min\n",
      "[Parallel(n_jobs=-1)]: Done 2530 tasks      | elapsed:  2.5min\n",
      "[Parallel(n_jobs=-1)]: Done 3280 tasks      | elapsed:  3.2min\n",
      "[Parallel(n_jobs=-1)]: Done 3456 out of 3456 | elapsed:  3.4min finished\n"
     ]
    }
   ],
   "source": [
    "# Number of trees in random forest\n",
    "n_estimators_over = [50, 90, 110, 150, 200, 300, 400, 500]\n",
    "# Number of features to consider at every split\n",
    "max_features = ['auto', 'sqrt']\n",
    "# Maximum number of levels in tree\n",
    "max_depth_over = [int(x) for x in np.linspace(1, 10, num=6)]\n",
    "# Minimum number of samples required to split a node\n",
    "min_samples_split = [1, 2, 3]\n",
    "# Minimum number of samples required at each leaf node\n",
    "min_samples_leaf = [1, 4, 5]\n",
    "# Method of selecting samples for training each tree\n",
    "bootstrap = [True, False]\n",
    "# Create the random grid\n",
    "random_grid = {'n_estimators': n_estimators_over,\n",
    "               'max_features': max_features,\n",
    "               'max_depth': max_depth_over,\n",
    "               'min_samples_split': min_samples_split,\n",
    "               'min_samples_leaf': min_samples_leaf,\n",
    "               'bootstrap': bootstrap,\n",
    "\n",
    "               }\n",
    "# Use the random grid to search for best hyperparameters\n",
    "\n",
    "rf = RandomForestClassifier()\n",
    "random_model = GridSearchCV(estimator=rf, param_grid=random_grid, verbose=1,\n",
    "                                    scoring='accuracy',\n",
    "                                    n_jobs=-1, return_train_score=True, cv=2, refit=True)\n",
    "random_model.fit(X_train, y_train)\n",
    "dict_rf = cross_validate(RandomForestClassifier(**random_model.best_params_), X_train, y_train, cv=9, scoring='accuracy')\n",
    "rf_initial_accuracy = np.mean(dict_rf['test_score'])"
   ]
  },
  {
   "cell_type": "code",
   "execution_count": 42,
   "metadata": {},
   "outputs": [
    {
     "data": {
      "text/plain": [
       "{'bootstrap': False,\n",
       " 'max_depth': 10,\n",
       " 'max_features': 'sqrt',\n",
       " 'min_samples_leaf': 1,\n",
       " 'min_samples_split': 2,\n",
       " 'n_estimators': 110}"
      ]
     },
     "execution_count": 42,
     "metadata": {},
     "output_type": "execute_result"
    }
   ],
   "source": [
    "random_model.best_params_"
   ]
  },
  {
   "cell_type": "code",
   "execution_count": 43,
   "metadata": {},
   "outputs": [
    {
     "data": {
      "text/plain": [
       "0.8904761904761904"
      ]
     },
     "execution_count": 43,
     "metadata": {},
     "output_type": "execute_result"
    }
   ],
   "source": [
    "rf_initial_accuracy"
   ]
  },
  {
   "cell_type": "markdown",
   "metadata": {},
   "source": [
    "#### 4. Ada Boost Classifier"
   ]
  },
  {
   "cell_type": "code",
   "execution_count": 53,
   "metadata": {},
   "outputs": [
    {
     "name": "stdout",
     "output_type": "stream",
     "text": [
      "Fitting 2 folds for each of 75 candidates, totalling 150 fits\n"
     ]
    },
    {
     "name": "stderr",
     "output_type": "stream",
     "text": [
      "[Parallel(n_jobs=-1)]: Using backend LokyBackend with 8 concurrent workers.\n",
      "[Parallel(n_jobs=-1)]: Done  34 tasks      | elapsed:    1.3s\n",
      "[Parallel(n_jobs=-1)]: Done 150 out of 150 | elapsed:    5.1s finished\n"
     ]
    },
    {
     "name": "stdout",
     "output_type": "stream",
     "text": [
      "With components  1.0 the CV score is  0.8746031746031746\n",
      "{'learning_rate': 0.1, 'n_estimators': 64}\n",
      "Fitting 2 folds for each of 75 candidates, totalling 150 fits\n"
     ]
    },
    {
     "name": "stderr",
     "output_type": "stream",
     "text": [
      "[Parallel(n_jobs=-1)]: Using backend LokyBackend with 8 concurrent workers.\n",
      "[Parallel(n_jobs=-1)]: Done  34 tasks      | elapsed:    1.3s\n",
      "[Parallel(n_jobs=-1)]: Done 150 out of 150 | elapsed:    5.9s finished\n"
     ]
    },
    {
     "name": "stdout",
     "output_type": "stream",
     "text": [
      "With components  2.0 the CV score is  0.8285714285714286\n",
      "{'learning_rate': 0.01, 'n_estimators': 159}\n",
      "Fitting 2 folds for each of 75 candidates, totalling 150 fits\n"
     ]
    },
    {
     "name": "stderr",
     "output_type": "stream",
     "text": [
      "[Parallel(n_jobs=-1)]: Using backend LokyBackend with 8 concurrent workers.\n",
      "[Parallel(n_jobs=-1)]: Done  34 tasks      | elapsed:    1.4s\n",
      "[Parallel(n_jobs=-1)]: Done 150 out of 150 | elapsed:    6.4s finished\n",
      "[Parallel(n_jobs=-1)]: Using backend LokyBackend with 8 concurrent workers.\n"
     ]
    },
    {
     "name": "stdout",
     "output_type": "stream",
     "text": [
      "With components  3.0 the CV score is  0.8428571428571429\n",
      "{'learning_rate': 0.1, 'n_estimators': 23}\n",
      "Fitting 2 folds for each of 75 candidates, totalling 150 fits\n"
     ]
    },
    {
     "name": "stderr",
     "output_type": "stream",
     "text": [
      "[Parallel(n_jobs=-1)]: Done  34 tasks      | elapsed:    1.7s\n",
      "[Parallel(n_jobs=-1)]: Done 150 out of 150 | elapsed:    6.8s finished\n"
     ]
    },
    {
     "name": "stdout",
     "output_type": "stream",
     "text": [
      "With components  4.0 the CV score is  0.8746031746031746\n",
      "{'learning_rate': 1, 'n_estimators': 91}\n",
      "Fitting 2 folds for each of 75 candidates, totalling 150 fits\n"
     ]
    },
    {
     "name": "stderr",
     "output_type": "stream",
     "text": [
      "[Parallel(n_jobs=-1)]: Using backend LokyBackend with 8 concurrent workers.\n",
      "[Parallel(n_jobs=-1)]: Done  34 tasks      | elapsed:    1.6s\n",
      "[Parallel(n_jobs=-1)]: Done 150 out of 150 | elapsed:    7.1s finished\n"
     ]
    },
    {
     "name": "stdout",
     "output_type": "stream",
     "text": [
      "With components  5.0 the CV score is  0.8682539682539683\n",
      "{'learning_rate': 1, 'n_estimators': 186}\n",
      "Fitting 2 folds for each of 75 candidates, totalling 150 fits\n"
     ]
    },
    {
     "name": "stderr",
     "output_type": "stream",
     "text": [
      "[Parallel(n_jobs=-1)]: Using backend LokyBackend with 8 concurrent workers.\n",
      "[Parallel(n_jobs=-1)]: Done  34 tasks      | elapsed:    1.7s\n",
      "[Parallel(n_jobs=-1)]: Done 150 out of 150 | elapsed:    7.3s finished\n"
     ]
    },
    {
     "name": "stdout",
     "output_type": "stream",
     "text": [
      "With components  6.0 the CV score is  0.8253968253968255\n",
      "{'learning_rate': 0.01, 'n_estimators': 77}\n",
      "Fitting 2 folds for each of 75 candidates, totalling 150 fits\n"
     ]
    },
    {
     "name": "stderr",
     "output_type": "stream",
     "text": [
      "[Parallel(n_jobs=-1)]: Using backend LokyBackend with 8 concurrent workers.\n",
      "[Parallel(n_jobs=-1)]: Done  34 tasks      | elapsed:    1.6s\n",
      "[Parallel(n_jobs=-1)]: Done 150 out of 150 | elapsed:    4.7s finished\n"
     ]
    },
    {
     "name": "stdout",
     "output_type": "stream",
     "text": [
      "With components  7.0 the CV score is  0.8714285714285714\n",
      "{'learning_rate': 1, 'n_estimators': 77}\n",
      "Fitting 2 folds for each of 75 candidates, totalling 150 fits\n"
     ]
    },
    {
     "name": "stderr",
     "output_type": "stream",
     "text": [
      "[Parallel(n_jobs=-1)]: Using backend LokyBackend with 8 concurrent workers.\n",
      "[Parallel(n_jobs=-1)]: Done  34 tasks      | elapsed:    0.6s\n",
      "[Parallel(n_jobs=-1)]: Done 135 out of 150 | elapsed:    1.9s remaining:    0.2s\n",
      "[Parallel(n_jobs=-1)]: Done 150 out of 150 | elapsed:    2.4s finished\n"
     ]
    },
    {
     "name": "stdout",
     "output_type": "stream",
     "text": [
      "With components  8.0 the CV score is  0.8714285714285714\n",
      "{'learning_rate': 1, 'n_estimators': 77}\n",
      "Fitting 2 folds for each of 75 candidates, totalling 150 fits\n"
     ]
    },
    {
     "name": "stderr",
     "output_type": "stream",
     "text": [
      "[Parallel(n_jobs=-1)]: Using backend LokyBackend with 8 concurrent workers.\n",
      "[Parallel(n_jobs=-1)]: Done  34 tasks      | elapsed:    0.3s\n",
      "[Parallel(n_jobs=-1)]: Done 150 out of 150 | elapsed:    1.3s finished\n"
     ]
    },
    {
     "name": "stdout",
     "output_type": "stream",
     "text": [
      "With components  9.0 the CV score is  0.8380952380952381\n",
      "{'learning_rate': 0.01, 'n_estimators': 172}\n",
      "Fitting 2 folds for each of 75 candidates, totalling 150 fits\n"
     ]
    },
    {
     "name": "stderr",
     "output_type": "stream",
     "text": [
      "[Parallel(n_jobs=-1)]: Using backend LokyBackend with 8 concurrent workers.\n",
      "[Parallel(n_jobs=-1)]: Done  34 tasks      | elapsed:    0.1s\n",
      "[Parallel(n_jobs=-1)]: Done 150 out of 150 | elapsed:    0.6s finished\n"
     ]
    },
    {
     "name": "stdout",
     "output_type": "stream",
     "text": [
      "With components  10.0 the CV score is  0.8253968253968255\n",
      "{'learning_rate': 0.001, 'n_estimators': 91}\n"
     ]
    }
   ],
   "source": [
    "depths = np.linspace(1,10,10)\n",
    "\n",
    "# Base Estimator\n",
    "# Number of trees in random forest\n",
    "n_estimators = [int(x) for x in np.linspace(start = 10, stop = 200, num = 15)]\n",
    "# Learning Rate\n",
    "learning_rate = [1e-3,1e-2,1e-1,1,10]\n",
    "\n",
    "# Create the random grid\n",
    "param_grid = {'n_estimators': n_estimators,\n",
    "               'learning_rate': learning_rate}\n",
    "scores = []\n",
    "params_scaled = []\n",
    "for depth in depths:\n",
    "    # Create a based model\n",
    "    ada = AdaBoostClassifier(base_estimator = DecisionTreeClassifier(max_depth = depth))\n",
    "    # Instantiate the grid search model\n",
    "    grid_search = GridSearchCV(estimator = ada, param_grid = param_grid, cv = 2, n_jobs = -1, verbose = 2, scoring = 'accuracy')\n",
    "    grid_search.fit(X_train, y_train)\n",
    "    dict_boosting = cross_validate(AdaBoostClassifier(**grid_search.best_params_), X_train, y_train, cv=9, scoring='accuracy', n_jobs=-1)\n",
    "    boosting_accuracy = np.mean(dict_boosting['test_score'])\n",
    "    print('With components ', depth, 'the CV score is ', boosting_accuracy)\n",
    "    print(grid_search.best_params_)"
   ]
  },
  {
   "cell_type": "markdown",
   "metadata": {},
   "source": [
    "### Re-do everything with cross-validation only, no splitting in the traning set"
   ]
  },
  {
   "cell_type": "code",
   "execution_count": 93,
   "metadata": {},
   "outputs": [],
   "source": [
    "df = pd.concat([pd.read_csv('states/'+file) for file in os.listdir('states/')])"
   ]
  },
  {
   "cell_type": "code",
   "execution_count": 94,
   "metadata": {},
   "outputs": [],
   "source": [
    "train_df = df[df.Year != 2020]\n",
    "test_df = df[df.Year == 2020]"
   ]
  },
  {
   "cell_type": "code",
   "execution_count": 95,
   "metadata": {},
   "outputs": [],
   "source": [
    "train_df = train_df.drop(['Year', 'State'], axis = 1)\n",
    "test_df = test_df.drop(['Year', 'State'], axis = 1)"
   ]
  },
  {
   "cell_type": "code",
   "execution_count": 96,
   "metadata": {},
   "outputs": [],
   "source": [
    "X_train = train_df.drop('Result', axis=1)#.values\n",
    "y_train = train_df['Result']#.values\n",
    "X_test = test_df.drop('Result', axis=1)#.values\n",
    "y_test = test_df['Result']#.values"
   ]
  },
  {
   "cell_type": "code",
   "execution_count": 97,
   "metadata": {},
   "outputs": [],
   "source": [
    "def modelling(X_train, y_train, models, scaler=True, Poly=1, PCA_comp=0):\n",
    "    # pca is the total variance explained required. 0 means that we do not want to perform pca\n",
    "    if 'State' in X_train.columns:\n",
    "        X_train = X_train.drop('State', axis=1)\n",
    "    if 'Year' in X_train.columns:\n",
    "        X_train = X_train.drop('Year', axis=1)\n",
    "    if PCA_comp > 0 and not scaler:\n",
    "        raise ValueError('We must normalize before performing PCA')\n",
    "    if scaler:\n",
    "        # print('Normalizing the data ...')\n",
    "        scaler = MinMaxScaler().fit(X_train)\n",
    "        X_train = scaler.transform(X_train)\n",
    "    if PCA_comp > 0:\n",
    "        # print('Performing PCA ...')\n",
    "        pca = PCA(n_components=X_train.shape[1])\n",
    "        pca.fit(X_train)\n",
    "        X_train = pca.transform(X_train)\n",
    "        total_variance = np.cumsum(pca.explained_variance_ratio_)\n",
    "        for i, variance in enumerate(total_variance):\n",
    "            if variance > PCA_comp:\n",
    "                break \n",
    "        X_train = X_train[:, :i+1]\n",
    "    if Poly > 1:\n",
    "        # print('Polynomial transformation ...')\n",
    "        poly_features = PolynomialFeatures(degree=Poly, include_bias=False).fit(X_train)\n",
    "        X_train = poly_features.transform(X_train)\n",
    "    model_cv_accuracies = []\n",
    "    # print('Modelling and gathering the predictions ..')\n",
    "    for i, model in enumerate(models):\n",
    "        model_cv = cross_validate(model, X_train, y_train, cv=5, scoring='accuracy')\n",
    "        model_cv_accuracy = np.mean(model_cv['test_score'])\n",
    "        model_cv_accuracies.append(model_cv_accuracy)\n",
    "    return models, model_cv_accuracies"
   ]
  },
  {
   "cell_type": "markdown",
   "metadata": {},
   "source": [
    "#### 1. Logistic Regression\n",
    "- PolynomialFeatures = 1, PCA = 0\n",
    "- PolynomialFeatures = 2, PCA = 0\n",
    "- PolynomialFeatures = 2, PCA = 0.9\n",
    "- PolynomialFeatures = 1, PCA = 0.9"
   ]
  },
  {
   "cell_type": "markdown",
   "metadata": {},
   "source": [
    "PolynomialFeatures = 1, PCA = 0"
   ]
  },
  {
   "cell_type": "code",
   "execution_count": 98,
   "metadata": {},
   "outputs": [
    {
     "name": "stdout",
     "output_type": "stream",
     "text": [
      "[0.8705877610255583]\n"
     ]
    }
   ],
   "source": [
    "models_considered = [LogisticRegressionCV(max_iter=1000, penalty='l1', solver='saga')]\n",
    "models_11, cv_accuracies_11 = modelling(X_train, y_train, models=models_considered, scaler=True, Poly=1, PCA_comp=0)\n",
    "print(cv_accuracies_11)"
   ]
  },
  {
   "cell_type": "markdown",
   "metadata": {},
   "source": [
    "PolynomialFeatures = 2, PCA = 0"
   ]
  },
  {
   "cell_type": "code",
   "execution_count": 99,
   "metadata": {},
   "outputs": [
    {
     "name": "stdout",
     "output_type": "stream",
     "text": [
      "[0.879464645650246]\n"
     ]
    }
   ],
   "source": [
    "models_considered = [LogisticRegressionCV(max_iter=5000, penalty='l1', solver='saga')]\n",
    "models_12, cv_accuracies_12 = modelling(X_train, y_train, models=models_considered, scaler=True, Poly=2, PCA_comp=0)\n",
    "print(cv_accuracies_12)"
   ]
  },
  {
   "cell_type": "code",
   "execution_count": 100,
   "metadata": {},
   "outputs": [
    {
     "name": "stdout",
     "output_type": "stream",
     "text": [
      "0.879464645650246\n",
      "0.96\n"
     ]
    }
   ],
   "source": [
    "poly_features = PolynomialFeatures(degree=2, include_bias=False).fit(X_train)\n",
    "scaler = MinMaxScaler().fit(X_train)\n",
    "X_train1 = scaler.transform(X_train)\n",
    "X_test1 = scaler.transform(X_test)\n",
    "\n",
    "X_train_poly = poly_features.transform(X_train1)\n",
    "X_test_poly = poly_features.transform(X_test1)\n",
    "model = LogisticRegressionCV(max_iter=5000, penalty='l1', solver='saga')\n",
    "print(np.mean(cross_validate(model, X_train_poly, y_train, cv=5, scoring='accuracy')['test_score']))\n",
    "model.fit(X_train_poly, y_train)\n",
    "y_pred_test = model.predict(X_train_poly)\n",
    "print(model.score(X_test_poly, y_test))"
   ]
  },
  {
   "cell_type": "code",
   "execution_count": 102,
   "metadata": {},
   "outputs": [],
   "source": [
    "#from sklearn.metrics import confusion_matrix\n",
    "\n",
    "#confusion_matrix(y_true, y_pred)"
   ]
  },
  {
   "cell_type": "markdown",
   "metadata": {},
   "source": [
    "PolynomialFeatures = 2, PCA = 0.9"
   ]
  },
  {
   "cell_type": "code",
   "execution_count": 103,
   "metadata": {},
   "outputs": [
    {
     "name": "stdout",
     "output_type": "stream",
     "text": [
      "[0.8476900749818593]\n"
     ]
    }
   ],
   "source": [
    "models_considered = [LogisticRegressionCV(max_iter=5000, penalty='l1', solver='saga')]\n",
    "models_13, cv_accuracies_13 = modelling(X_train, y_train, models=models_considered, scaler=True, Poly=2, PCA_comp=0.9)\n",
    "print(cv_accuracies_13)"
   ]
  },
  {
   "cell_type": "markdown",
   "metadata": {},
   "source": [
    "PolynomialFeatures = 1, PCA = 0.9"
   ]
  },
  {
   "cell_type": "code",
   "execution_count": 104,
   "metadata": {},
   "outputs": [
    {
     "name": "stdout",
     "output_type": "stream",
     "text": [
      "[0.7640248327017657]\n"
     ]
    }
   ],
   "source": [
    "models_considered = [LogisticRegressionCV(max_iter=5000, penalty='l1', solver='saga')]\n",
    "models_14, cv_accuracies_14 = modelling(X_train, y_train, models=models_considered, scaler=True, Poly=1, PCA_comp=0.9)\n",
    "print(cv_accuracies_14)"
   ]
  },
  {
   "cell_type": "code",
   "execution_count": 106,
   "metadata": {},
   "outputs": [
    {
     "name": "stdout",
     "output_type": "stream",
     "text": [
      "0.8705877610255583 0.879464645650246 0.8476900749818593 0.7640248327017657\n"
     ]
    }
   ],
   "source": [
    "lreg1 = cv_accuracies_11[0]\n",
    "lreg2 = cv_accuracies_12[0]\n",
    "lreg3 = cv_accuracies_13[0]\n",
    "lreg4 = cv_accuracies_14[0]\n",
    "print(lreg1,lreg2,lreg3,lreg4)"
   ]
  },
  {
   "cell_type": "markdown",
   "metadata": {},
   "source": [
    "#### 2. Decision Tree Classifier\n",
    "- PolynomialFeatures = 1, PCA = 0\n",
    "- PolynomialFeatures = 2, PCA = 0\n",
    "- PolynomialFeatures = 2, PCA = 0.9\n",
    "- PolynomialFeatures = 1, PCA = 0.9"
   ]
  },
  {
   "cell_type": "markdown",
   "metadata": {},
   "source": [
    "PolynomialFeatures = 1, PCA = 0"
   ]
  },
  {
   "cell_type": "code",
   "execution_count": 107,
   "metadata": {},
   "outputs": [
    {
     "name": "stdout",
     "output_type": "stream",
     "text": [
      "DecisionTreeClassifier(max_depth=1): 0.8262033379021204\n",
      "-------------------------------------------------------\n",
      "DecisionTreeClassifier(max_depth=2): 0.8262033379021204\n",
      "-------------------------------------------------------\n",
      "DecisionTreeClassifier(max_depth=3): 0.8604611787470773\n",
      "-------------------------------------------------------\n",
      "DecisionTreeClassifier(max_depth=4): 0.8693058131097317\n",
      "-------------------------------------------------------\n",
      "DecisionTreeClassifier(max_depth=5): 0.8464403773280658\n",
      "-------------------------------------------------------\n",
      "DecisionTreeClassifier(max_depth=6): 0.8477223252438927\n",
      "-------------------------------------------------------\n",
      "DecisionTreeClassifier(max_depth=7): 0.8489639603321777\n",
      "-------------------------------------------------------\n",
      "DecisionTreeClassifier(max_depth=8): 0.8464323147625576\n",
      "-------------------------------------------------------\n",
      "DecisionTreeClassifier(max_depth=9): 0.8413609610578087\n",
      "-------------------------------------------------------\n"
     ]
    }
   ],
   "source": [
    "depths = np.arange(1, 10, 1)\n",
    "for depth in depths:\n",
    "    models_considered = [DecisionTreeClassifier(max_depth=depth)]\n",
    "    models_21, cv_accuracies_21 = modelling(X_train, y_train, models=models_considered, scaler=True, Poly=1, PCA_comp=0)\n",
    "    print(\"{0}: {1}\".format(models_21[0], cv_accuracies_21[0]))\n",
    "    print('-'*55)"
   ]
  },
  {
   "cell_type": "code",
   "execution_count": 108,
   "metadata": {},
   "outputs": [
    {
     "name": "stdout",
     "output_type": "stream",
     "text": [
      "[0.8693058131097317]\n"
     ]
    }
   ],
   "source": [
    "mod1, dtree1 = modelling(X_train, y_train, models=[DecisionTreeClassifier(max_depth=4)], scaler=True, Poly=1, PCA_comp=0)\n",
    "print(dtree1)"
   ]
  },
  {
   "cell_type": "markdown",
   "metadata": {},
   "source": [
    "PolynomialFeatures = 2, PCA = 0"
   ]
  },
  {
   "cell_type": "code",
   "execution_count": 110,
   "metadata": {},
   "outputs": [
    {
     "name": "stdout",
     "output_type": "stream",
     "text": [
      "DecisionTreeClassifier(max_depth=1): 0.8300088688220593\n",
      "-------------------------------------------------------\n",
      "DecisionTreeClassifier(max_depth=2): 0.8300088688220593\n",
      "-------------------------------------------------------\n",
      "DecisionTreeClassifier(max_depth=3): 0.8414254615818753\n",
      "-------------------------------------------------------\n",
      "DecisionTreeClassifier(max_depth=4): 0.8325243892606627\n",
      "-------------------------------------------------------\n",
      "DecisionTreeClassifier(max_depth=5): 0.8286866080786908\n",
      "-------------------------------------------------------\n",
      "DecisionTreeClassifier(max_depth=6): 0.8401032008385068\n",
      "-------------------------------------------------------\n",
      "DecisionTreeClassifier(max_depth=7): 0.8438926066274288\n",
      "-------------------------------------------------------\n",
      "DecisionTreeClassifier(max_depth=8): 0.8362815447875513\n",
      "-------------------------------------------------------\n",
      "DecisionTreeClassifier(max_depth=9): 0.8261227122470369\n",
      "-------------------------------------------------------\n"
     ]
    }
   ],
   "source": [
    "depths = np.arange(1, 10, 1)\n",
    "for depth in depths:\n",
    "    models_considered = [DecisionTreeClassifier(max_depth=depth)]\n",
    "    models_22, cv_accuracies_22 = modelling(X_train, y_train, models=models_considered, scaler=True, Poly=2, PCA_comp=0)\n",
    "    print(\"{0}: {1}\".format(models_22[0], cv_accuracies_22[0]))\n",
    "    print('-'*55)"
   ]
  },
  {
   "cell_type": "code",
   "execution_count": 117,
   "metadata": {},
   "outputs": [
    {
     "name": "stdout",
     "output_type": "stream",
     "text": [
      "[0.8451745545432555]\n"
     ]
    }
   ],
   "source": [
    "mod2, dtree2 = modelling(X_train, y_train, models=[DecisionTreeClassifier(max_depth=7)], scaler=True, Poly=2, PCA_comp=0)\n",
    "print(dtree2)"
   ]
  },
  {
   "cell_type": "markdown",
   "metadata": {},
   "source": [
    "PolynomialFeatures = 2, PCA = 0.9"
   ]
  },
  {
   "cell_type": "code",
   "execution_count": 118,
   "metadata": {},
   "outputs": [
    {
     "name": "stdout",
     "output_type": "stream",
     "text": [
      "DecisionTreeClassifier(max_depth=1): 0.7804402160767556\n",
      "-------------------------------------------------------\n",
      "DecisionTreeClassifier(max_depth=2): 0.8032895267274046\n",
      "-------------------------------------------------------\n",
      "DecisionTreeClassifier(max_depth=3): 0.8312021285172942\n",
      "-------------------------------------------------------\n",
      "DecisionTreeClassifier(max_depth=4): 0.803273401596388\n",
      "-------------------------------------------------------\n",
      "DecisionTreeClassifier(max_depth=5): 0.8273320970732886\n",
      "-------------------------------------------------------\n",
      "DecisionTreeClassifier(max_depth=6): 0.8261065871160203\n",
      "-------------------------------------------------------\n",
      "DecisionTreeClassifier(max_depth=7): 0.8108844634362654\n",
      "-------------------------------------------------------\n",
      "DecisionTreeClassifier(max_depth=8): 0.8171974522292995\n",
      "-------------------------------------------------------\n",
      "DecisionTreeClassifier(max_depth=9): 0.8057889220349915\n",
      "-------------------------------------------------------\n"
     ]
    }
   ],
   "source": [
    "depths = np.arange(1, 10, 1)\n",
    "for depth in depths:\n",
    "    models_considered = [DecisionTreeClassifier(max_depth=depth)]\n",
    "    models_23, cv_accuracies_23 = modelling(X_train, y_train, models=models_considered, scaler=True, Poly=2, PCA_comp=0.9)\n",
    "    print(\"{0}: {1}\".format(models_23[0], cv_accuracies_23[0]))\n",
    "    print('-'*55)"
   ]
  },
  {
   "cell_type": "code",
   "execution_count": 120,
   "metadata": {},
   "outputs": [
    {
     "name": "stdout",
     "output_type": "stream",
     "text": [
      "[0.827340159638797]\n"
     ]
    }
   ],
   "source": [
    "mod3, dtree3 = modelling(X_train, y_train, models=[DecisionTreeClassifier(max_depth=5)], scaler=True, Poly=2, PCA_comp=0.9)\n",
    "print(dtree3)"
   ]
  },
  {
   "cell_type": "markdown",
   "metadata": {},
   "source": [
    "PolynomialFeatures = 1, PCA = 0.9"
   ]
  },
  {
   "cell_type": "code",
   "execution_count": 121,
   "metadata": {},
   "outputs": [
    {
     "name": "stdout",
     "output_type": "stream",
     "text": [
      "DecisionTreeClassifier(max_depth=1): 0.765339030879626\n",
      "-------------------------------------------------------\n",
      "DecisionTreeClassifier(max_depth=2): 0.7589292913004918\n",
      "-------------------------------------------------------\n",
      "DecisionTreeClassifier(max_depth=3): 0.7881157784406998\n",
      "-------------------------------------------------------\n",
      "DecisionTreeClassifier(max_depth=4): 0.8096347657824718\n",
      "-------------------------------------------------------\n",
      "DecisionTreeClassifier(max_depth=5): 0.8121986616141257\n",
      "-------------------------------------------------------\n",
      "DecisionTreeClassifier(max_depth=6): 0.8159800048375393\n",
      "-------------------------------------------------------\n",
      "DecisionTreeClassifier(max_depth=7): 0.8197694106264614\n",
      "-------------------------------------------------------\n",
      "DecisionTreeClassifier(max_depth=8): 0.8210432959767798\n",
      "-------------------------------------------------------\n",
      "DecisionTreeClassifier(max_depth=9): 0.8083286301701202\n",
      "-------------------------------------------------------\n"
     ]
    }
   ],
   "source": [
    "depths = np.arange(1, 10, 1)\n",
    "for depth in depths:\n",
    "    models_considered = [DecisionTreeClassifier(max_depth=depth)]\n",
    "    models_24, cv_accuracies_24 = modelling(X_train, y_train, models=models_considered, scaler=True, Poly=1, PCA_comp=0.9)\n",
    "    print(\"{0}: {1}\".format(models_24[0], cv_accuracies_24[0]))\n",
    "    print('-'*55)"
   ]
  },
  {
   "cell_type": "code",
   "execution_count": 122,
   "metadata": {},
   "outputs": [
    {
     "name": "stdout",
     "output_type": "stream",
     "text": [
      "[0.8223171813270984]\n"
     ]
    }
   ],
   "source": [
    "mod4, dtree4 = modelling(X_train, y_train, models=[DecisionTreeClassifier(max_depth=7)], scaler=True, Poly=1, PCA_comp=0.9)\n",
    "print(dtree4)"
   ]
  },
  {
   "cell_type": "markdown",
   "metadata": {},
   "source": [
    "#### 3. Random Forrest Classifier"
   ]
  },
  {
   "cell_type": "code",
   "execution_count": 123,
   "metadata": {},
   "outputs": [
    {
     "name": "stdout",
     "output_type": "stream",
     "text": [
      "Fitting 2 folds for each of 1728 candidates, totalling 3456 fits\n"
     ]
    },
    {
     "name": "stderr",
     "output_type": "stream",
     "text": [
      "[Parallel(n_jobs=-1)]: Using backend LokyBackend with 8 concurrent workers.\n",
      "[Parallel(n_jobs=-1)]: Done  34 tasks      | elapsed:    4.3s\n",
      "[Parallel(n_jobs=-1)]: Done 184 tasks      | elapsed:   13.9s\n",
      "[Parallel(n_jobs=-1)]: Done 434 tasks      | elapsed:   29.5s\n",
      "[Parallel(n_jobs=-1)]: Done 784 tasks      | elapsed:   52.4s\n",
      "[Parallel(n_jobs=-1)]: Done 1234 tasks      | elapsed:  1.4min\n",
      "[Parallel(n_jobs=-1)]: Done 1784 tasks      | elapsed:  2.0min\n",
      "[Parallel(n_jobs=-1)]: Done 2434 tasks      | elapsed:  2.6min\n",
      "[Parallel(n_jobs=-1)]: Done 3184 tasks      | elapsed:  3.4min\n",
      "[Parallel(n_jobs=-1)]: Done 3456 out of 3456 | elapsed:  3.6min finished\n"
     ]
    }
   ],
   "source": [
    "# Number of trees in random forest\n",
    "n_estimators_over = [50, 90, 110, 150, 200, 300, 400, 500]\n",
    "# Number of features to consider at every split\n",
    "max_features = ['auto', 'sqrt']\n",
    "# Maximum number of levels in tree\n",
    "max_depth_over = [int(x) for x in np.linspace(1, 10, num=6)]\n",
    "# Minimum number of samples required to split a node\n",
    "min_samples_split = [1, 2, 3]\n",
    "# Minimum number of samples required at each leaf node\n",
    "min_samples_leaf = [1, 4, 5]\n",
    "# Method of selecting samples for training each tree\n",
    "bootstrap = [True, False]\n",
    "# Create the random grid\n",
    "random_grid = {'n_estimators': n_estimators_over,\n",
    "               'max_features': max_features,\n",
    "               'max_depth': max_depth_over,\n",
    "               'min_samples_split': min_samples_split,\n",
    "               'min_samples_leaf': min_samples_leaf,\n",
    "               'bootstrap': bootstrap,\n",
    "\n",
    "               }\n",
    "# Use the random grid to search for best hyperparameters\n",
    "\n",
    "rf = RandomForestClassifier()\n",
    "random_model = GridSearchCV(estimator=rf, param_grid=random_grid, verbose=1,\n",
    "                                    scoring='accuracy',\n",
    "                                    n_jobs=-1, return_train_score=True, cv=2, refit=True)\n",
    "random_model.fit(X_train, y_train)\n",
    "dict_rf = cross_validate(RandomForestClassifier(**random_model.best_params_), X_train, y_train, cv=9, scoring='accuracy')\n",
    "rf_initial_accuracy = np.mean(dict_rf['test_score'])"
   ]
  },
  {
   "cell_type": "code",
   "execution_count": 125,
   "metadata": {},
   "outputs": [
    {
     "name": "stdout",
     "output_type": "stream",
     "text": [
      "{'bootstrap': True, 'max_depth': 6, 'max_features': 'sqrt', 'min_samples_leaf': 1, 'min_samples_split': 3, 'n_estimators': 50}\n",
      "0.8870457448043654\n"
     ]
    }
   ],
   "source": [
    "print(random_model.best_params_)\n",
    "print(rf_initial_accuracy)\n",
    "rf1 = rf_initial_accuracy"
   ]
  },
  {
   "cell_type": "code",
   "execution_count": 126,
   "metadata": {},
   "outputs": [
    {
     "data": {
      "text/plain": [
       "0.93"
      ]
     },
     "execution_count": 126,
     "metadata": {},
     "output_type": "execute_result"
    }
   ],
   "source": [
    "rf = RandomForestClassifier(bootstrap = True, max_depth = 8, max_features = 'sqrt', min_samples_leaf = 1, min_samples_split = 2, n_estimators = 50)\n",
    "rf.fit(X_train, y_train)\n",
    "rf.score(X_test, y_test)"
   ]
  },
  {
   "cell_type": "markdown",
   "metadata": {},
   "source": [
    "#### 4. Ada Boost Classifier"
   ]
  },
  {
   "cell_type": "code",
   "execution_count": 128,
   "metadata": {},
   "outputs": [
    {
     "name": "stdout",
     "output_type": "stream",
     "text": [
      "Fitting 2 folds for each of 75 candidates, totalling 150 fits\n"
     ]
    },
    {
     "name": "stderr",
     "output_type": "stream",
     "text": [
      "[Parallel(n_jobs=-1)]: Using backend LokyBackend with 8 concurrent workers.\n",
      "[Parallel(n_jobs=-1)]: Done  34 tasks      | elapsed:    1.4s\n",
      "[Parallel(n_jobs=-1)]: Done 150 out of 150 | elapsed:    5.4s finished\n"
     ]
    },
    {
     "name": "stdout",
     "output_type": "stream",
     "text": [
      "With components  1.0 the CV score is  0.8871037965865551\n",
      "{'learning_rate': 1, 'n_estimators': 132}\n",
      "Fitting 2 folds for each of 75 candidates, totalling 150 fits\n"
     ]
    },
    {
     "name": "stderr",
     "output_type": "stream",
     "text": [
      "[Parallel(n_jobs=-1)]: Using backend LokyBackend with 8 concurrent workers.\n",
      "[Parallel(n_jobs=-1)]: Done  34 tasks      | elapsed:    1.4s\n",
      "[Parallel(n_jobs=-1)]: Done 150 out of 150 | elapsed:    6.4s finished\n",
      "[Parallel(n_jobs=-1)]: Using backend LokyBackend with 8 concurrent workers.\n"
     ]
    },
    {
     "name": "stdout",
     "output_type": "stream",
     "text": [
      "With components  2.0 the CV score is  0.8503715314060141\n",
      "{'learning_rate': 0.1, 'n_estimators': 23}\n",
      "Fitting 2 folds for each of 75 candidates, totalling 150 fits\n"
     ]
    },
    {
     "name": "stderr",
     "output_type": "stream",
     "text": [
      "[Parallel(n_jobs=-1)]: Done  34 tasks      | elapsed:    1.7s\n",
      "[Parallel(n_jobs=-1)]: Done 150 out of 150 | elapsed:    7.0s finished\n"
     ]
    },
    {
     "name": "stdout",
     "output_type": "stream",
     "text": [
      "With components  3.0 the CV score is  0.8377017299431092\n",
      "{'learning_rate': 0.01, 'n_estimators': 145}\n",
      "Fitting 2 folds for each of 75 candidates, totalling 150 fits\n"
     ]
    },
    {
     "name": "stderr",
     "output_type": "stream",
     "text": [
      "[Parallel(n_jobs=-1)]: Using backend LokyBackend with 8 concurrent workers.\n",
      "[Parallel(n_jobs=-1)]: Done  34 tasks      | elapsed:    1.7s\n",
      "[Parallel(n_jobs=-1)]: Done 150 out of 150 | elapsed:    7.4s finished\n"
     ]
    },
    {
     "name": "stdout",
     "output_type": "stream",
     "text": [
      "With components  4.0 the CV score is  0.8377017299431092\n",
      "{'learning_rate': 0.01, 'n_estimators': 118}\n",
      "Fitting 2 folds for each of 75 candidates, totalling 150 fits\n"
     ]
    },
    {
     "name": "stderr",
     "output_type": "stream",
     "text": [
      "[Parallel(n_jobs=-1)]: Using backend LokyBackend with 8 concurrent workers.\n",
      "[Parallel(n_jobs=-1)]: Done  34 tasks      | elapsed:    1.8s\n",
      "[Parallel(n_jobs=-1)]: Done 150 out of 150 | elapsed:    7.8s finished\n"
     ]
    },
    {
     "name": "stdout",
     "output_type": "stream",
     "text": [
      "With components  5.0 the CV score is  0.8871037965865551\n",
      "{'learning_rate': 1, 'n_estimators': 132}\n",
      "Fitting 2 folds for each of 75 candidates, totalling 150 fits\n"
     ]
    },
    {
     "name": "stderr",
     "output_type": "stream",
     "text": [
      "[Parallel(n_jobs=-1)]: Using backend LokyBackend with 8 concurrent workers.\n",
      "[Parallel(n_jobs=-1)]: Done  34 tasks      | elapsed:    1.9s\n",
      "[Parallel(n_jobs=-1)]: Done 150 out of 150 | elapsed:    7.9s finished\n"
     ]
    },
    {
     "name": "stdout",
     "output_type": "stream",
     "text": [
      "With components  6.0 the CV score is  0.892183327528155\n",
      "{'learning_rate': 1, 'n_estimators': 64}\n",
      "Fitting 2 folds for each of 75 candidates, totalling 150 fits\n"
     ]
    },
    {
     "name": "stderr",
     "output_type": "stream",
     "text": [
      "[Parallel(n_jobs=-1)]: Using backend LokyBackend with 8 concurrent workers.\n",
      "[Parallel(n_jobs=-1)]: Done  34 tasks      | elapsed:    1.6s\n",
      "[Parallel(n_jobs=-1)]: Done 150 out of 150 | elapsed:    5.8s finished\n"
     ]
    },
    {
     "name": "stdout",
     "output_type": "stream",
     "text": [
      "With components  7.0 the CV score is  0.892183327528155\n",
      "{'learning_rate': 1, 'n_estimators': 64}\n",
      "Fitting 2 folds for each of 75 candidates, totalling 150 fits\n"
     ]
    },
    {
     "name": "stderr",
     "output_type": "stream",
     "text": [
      "[Parallel(n_jobs=-1)]: Using backend LokyBackend with 8 concurrent workers.\n",
      "[Parallel(n_jobs=-1)]: Done  34 tasks      | elapsed:    0.8s\n",
      "[Parallel(n_jobs=-1)]: Done 150 out of 150 | elapsed:    2.3s finished\n"
     ]
    },
    {
     "name": "stdout",
     "output_type": "stream",
     "text": [
      "With components  8.0 the CV score is  0.892183327528155\n",
      "{'learning_rate': 1, 'n_estimators': 64}\n",
      "Fitting 2 folds for each of 75 candidates, totalling 150 fits\n"
     ]
    },
    {
     "name": "stderr",
     "output_type": "stream",
     "text": [
      "[Parallel(n_jobs=-1)]: Using backend LokyBackend with 8 concurrent workers.\n",
      "[Parallel(n_jobs=-1)]: Done  34 tasks      | elapsed:    0.1s\n",
      "[Parallel(n_jobs=-1)]: Done 150 out of 150 | elapsed:    1.2s finished\n"
     ]
    },
    {
     "name": "stdout",
     "output_type": "stream",
     "text": [
      "With components  9.0 the CV score is  0.8719377684894927\n",
      "{'learning_rate': 0.1, 'n_estimators': 50}\n",
      "Fitting 2 folds for each of 75 candidates, totalling 150 fits\n"
     ]
    },
    {
     "name": "stderr",
     "output_type": "stream",
     "text": [
      "[Parallel(n_jobs=-1)]: Using backend LokyBackend with 8 concurrent workers.\n",
      "[Parallel(n_jobs=-1)]: Done  34 tasks      | elapsed:    0.2s\n"
     ]
    },
    {
     "name": "stdout",
     "output_type": "stream",
     "text": [
      "With components  10.0 the CV score is  0.8313305468477883\n",
      "{'learning_rate': 0.01, 'n_estimators': 37}\n"
     ]
    },
    {
     "name": "stderr",
     "output_type": "stream",
     "text": [
      "[Parallel(n_jobs=-1)]: Done 150 out of 150 | elapsed:    0.6s finished\n"
     ]
    }
   ],
   "source": [
    "depths = np.linspace(1,10,10)\n",
    "\n",
    "# Base Estimator\n",
    "# Number of trees in random forest\n",
    "n_estimators = [int(x) for x in np.linspace(start = 10, stop = 200, num = 15)]\n",
    "# Learning Rate\n",
    "learning_rate = [1e-3,1e-2,1e-1,1,10]\n",
    "\n",
    "# Create the random grid\n",
    "param_grid = {'n_estimators': n_estimators,\n",
    "               'learning_rate': learning_rate}\n",
    "scores = []\n",
    "params_scaled = []\n",
    "for depth in depths:\n",
    "    # Create a based model\n",
    "    ada = AdaBoostClassifier(base_estimator = DecisionTreeClassifier(max_depth = depth))\n",
    "    # Instantiate the grid search model\n",
    "    grid_search = GridSearchCV(estimator = ada, param_grid = param_grid, cv = 2, n_jobs = -1, verbose = 2, scoring = 'accuracy')\n",
    "    grid_search.fit(X_train, y_train)\n",
    "    dict_boosting = cross_validate(AdaBoostClassifier(**grid_search.best_params_), X_train, y_train, cv=9, scoring='accuracy', n_jobs=-1)\n",
    "    boosting_accuracy = np.mean(dict_boosting['test_score'])\n",
    "    print('With components ', depth, 'the CV score is ', boosting_accuracy)\n",
    "    print(grid_search.best_params_)\n",
    "    if depth == 7:\n",
    "        ada1 = boosting_accuracy"
   ]
  },
  {
   "cell_type": "code",
   "execution_count": 129,
   "metadata": {},
   "outputs": [
    {
     "data": {
      "text/plain": [
       "0.93"
      ]
     },
     "execution_count": 129,
     "metadata": {},
     "output_type": "execute_result"
    }
   ],
   "source": [
    "ada = AdaBoostClassifier(base_estimator = DecisionTreeClassifier(max_depth = 7), learning_rate = 1, n_estimators = 64).fit(X_train, y_train)\n",
    "ada.score(X_test,y_test)"
   ]
  },
  {
   "cell_type": "markdown",
   "metadata": {},
   "source": [
    "#### 5. Fully Connected Neural Network"
   ]
  },
  {
   "cell_type": "code",
   "execution_count": 130,
   "metadata": {},
   "outputs": [],
   "source": [
    "df = pd.concat([pd.read_csv('states/'+file) for file in os.listdir('states/')])"
   ]
  },
  {
   "cell_type": "code",
   "execution_count": 131,
   "metadata": {},
   "outputs": [],
   "source": [
    "train_df = df[base_df.Year != 2020]\n",
    "test_df = df[base_df.Year == 2020]"
   ]
  },
  {
   "cell_type": "code",
   "execution_count": 132,
   "metadata": {},
   "outputs": [],
   "source": [
    "train_df = train_df.drop(['Year', 'State'], axis = 1)\n",
    "test_df = test_df.drop(['Year', 'State'], axis = 1)"
   ]
  },
  {
   "cell_type": "code",
   "execution_count": 133,
   "metadata": {},
   "outputs": [],
   "source": [
    "X_train = train_df.drop('Result', axis=1)#.values\n",
    "y_train = train_df['Result']#.values\n",
    "X_test = test_df.drop('Result', axis=1)#.values\n",
    "y_test = test_df['Result']#.values"
   ]
  },
  {
   "cell_type": "code",
   "execution_count": 134,
   "metadata": {},
   "outputs": [
    {
     "data": {
      "text/html": [
       "<div>\n",
       "<style scoped>\n",
       "    .dataframe tbody tr th:only-of-type {\n",
       "        vertical-align: middle;\n",
       "    }\n",
       "\n",
       "    .dataframe tbody tr th {\n",
       "        vertical-align: top;\n",
       "    }\n",
       "\n",
       "    .dataframe thead th {\n",
       "        text-align: right;\n",
       "    }\n",
       "</style>\n",
       "<table border=\"1\" class=\"dataframe\">\n",
       "  <thead>\n",
       "    <tr style=\"text-align: right;\">\n",
       "      <th></th>\n",
       "      <th>month_10</th>\n",
       "      <th>month_11</th>\n",
       "      <th>month_9</th>\n",
       "      <th>republican</th>\n",
       "      <th>Rep_House_Prop</th>\n",
       "      <th>rep_loyalty</th>\n",
       "      <th>popular_vote_percentage</th>\n",
       "      <th>density</th>\n",
       "      <th>RDI</th>\n",
       "    </tr>\n",
       "  </thead>\n",
       "  <tbody>\n",
       "    <tr>\n",
       "      <th>0</th>\n",
       "      <td>51.797513</td>\n",
       "      <td>51.909088</td>\n",
       "      <td>51.657848</td>\n",
       "      <td>1</td>\n",
       "      <td>0.200000</td>\n",
       "      <td>0.5</td>\n",
       "      <td>53.37</td>\n",
       "      <td>106.259013</td>\n",
       "      <td>93086.74</td>\n",
       "    </tr>\n",
       "    <tr>\n",
       "      <th>1</th>\n",
       "      <td>37.538311</td>\n",
       "      <td>38.412820</td>\n",
       "      <td>37.298773</td>\n",
       "      <td>0</td>\n",
       "      <td>0.800000</td>\n",
       "      <td>0.5</td>\n",
       "      <td>45.65</td>\n",
       "      <td>106.259013</td>\n",
       "      <td>93086.74</td>\n",
       "    </tr>\n",
       "    <tr>\n",
       "      <th>2</th>\n",
       "      <td>41.056567</td>\n",
       "      <td>39.511030</td>\n",
       "      <td>39.876493</td>\n",
       "      <td>0</td>\n",
       "      <td>0.900000</td>\n",
       "      <td>0.7</td>\n",
       "      <td>43.01</td>\n",
       "      <td>113.717367</td>\n",
       "      <td>100758.19</td>\n",
       "    </tr>\n",
       "    <tr>\n",
       "      <th>3</th>\n",
       "      <td>35.651345</td>\n",
       "      <td>35.969860</td>\n",
       "      <td>38.271617</td>\n",
       "      <td>1</td>\n",
       "      <td>0.100000</td>\n",
       "      <td>0.7</td>\n",
       "      <td>37.45</td>\n",
       "      <td>113.717367</td>\n",
       "      <td>100758.19</td>\n",
       "    </tr>\n",
       "    <tr>\n",
       "      <th>4</th>\n",
       "      <td>46.538179</td>\n",
       "      <td>44.819709</td>\n",
       "      <td>45.546053</td>\n",
       "      <td>0</td>\n",
       "      <td>0.636364</td>\n",
       "      <td>0.5</td>\n",
       "      <td>49.23</td>\n",
       "      <td>123.352989</td>\n",
       "      <td>108448.50</td>\n",
       "    </tr>\n",
       "  </tbody>\n",
       "</table>\n",
       "</div>"
      ],
      "text/plain": [
       "    month_10   month_11    month_9  republican  Rep_House_Prop  rep_loyalty  \\\n",
       "0  51.797513  51.909088  51.657848           1        0.200000          0.5   \n",
       "1  37.538311  38.412820  37.298773           0        0.800000          0.5   \n",
       "2  41.056567  39.511030  39.876493           0        0.900000          0.7   \n",
       "3  35.651345  35.969860  38.271617           1        0.100000          0.7   \n",
       "4  46.538179  44.819709  45.546053           0        0.636364          0.5   \n",
       "\n",
       "   popular_vote_percentage     density        RDI  \n",
       "0                    53.37  106.259013   93086.74  \n",
       "1                    45.65  106.259013   93086.74  \n",
       "2                    43.01  113.717367  100758.19  \n",
       "3                    37.45  113.717367  100758.19  \n",
       "4                    49.23  123.352989  108448.50  "
      ]
     },
     "metadata": {},
     "output_type": "display_data"
    },
    {
     "data": {
      "text/html": [
       "<div>\n",
       "<style scoped>\n",
       "    .dataframe tbody tr th:only-of-type {\n",
       "        vertical-align: middle;\n",
       "    }\n",
       "\n",
       "    .dataframe tbody tr th {\n",
       "        vertical-align: top;\n",
       "    }\n",
       "\n",
       "    .dataframe thead th {\n",
       "        text-align: right;\n",
       "    }\n",
       "</style>\n",
       "<table border=\"1\" class=\"dataframe\">\n",
       "  <thead>\n",
       "    <tr style=\"text-align: right;\">\n",
       "      <th></th>\n",
       "      <th>month_10</th>\n",
       "      <th>month_11</th>\n",
       "      <th>month_9</th>\n",
       "      <th>republican</th>\n",
       "      <th>Rep_House_Prop</th>\n",
       "      <th>rep_loyalty</th>\n",
       "      <th>popular_vote_percentage</th>\n",
       "      <th>density</th>\n",
       "      <th>RDI</th>\n",
       "    </tr>\n",
       "  </thead>\n",
       "  <tbody>\n",
       "    <tr>\n",
       "      <th>16</th>\n",
       "      <td>46.657139</td>\n",
       "      <td>47.298710</td>\n",
       "      <td>47.170450</td>\n",
       "      <td>1</td>\n",
       "      <td>0.714286</td>\n",
       "      <td>1.0</td>\n",
       "      <td>46.525</td>\n",
       "      <td>180.617755</td>\n",
       "      <td>163524.50</td>\n",
       "    </tr>\n",
       "    <tr>\n",
       "      <th>17</th>\n",
       "      <td>47.604381</td>\n",
       "      <td>48.407587</td>\n",
       "      <td>45.906192</td>\n",
       "      <td>0</td>\n",
       "      <td>0.285714</td>\n",
       "      <td>1.0</td>\n",
       "      <td>52.460</td>\n",
       "      <td>180.617755</td>\n",
       "      <td>163524.50</td>\n",
       "    </tr>\n",
       "    <tr>\n",
       "      <th>16</th>\n",
       "      <td>46.311941</td>\n",
       "      <td>47.027987</td>\n",
       "      <td>46.593060</td>\n",
       "      <td>1</td>\n",
       "      <td>0.785714</td>\n",
       "      <td>0.8</td>\n",
       "      <td>46.525</td>\n",
       "      <td>197.170250</td>\n",
       "      <td>161835.04</td>\n",
       "    </tr>\n",
       "    <tr>\n",
       "      <th>17</th>\n",
       "      <td>48.855849</td>\n",
       "      <td>48.848577</td>\n",
       "      <td>47.920197</td>\n",
       "      <td>0</td>\n",
       "      <td>0.214286</td>\n",
       "      <td>0.8</td>\n",
       "      <td>52.460</td>\n",
       "      <td>197.170250</td>\n",
       "      <td>161835.04</td>\n",
       "    </tr>\n",
       "    <tr>\n",
       "      <th>12</th>\n",
       "      <td>66.209900</td>\n",
       "      <td>62.336910</td>\n",
       "      <td>66.226278</td>\n",
       "      <td>1</td>\n",
       "      <td>1.000000</td>\n",
       "      <td>1.0</td>\n",
       "      <td>46.525</td>\n",
       "      <td>5.796735</td>\n",
       "      <td>10593.19</td>\n",
       "    </tr>\n",
       "  </tbody>\n",
       "</table>\n",
       "</div>"
      ],
      "text/plain": [
       "     month_10   month_11    month_9  republican  Rep_House_Prop  rep_loyalty  \\\n",
       "16  46.657139  47.298710  47.170450           1        0.714286          1.0   \n",
       "17  47.604381  48.407587  45.906192           0        0.285714          1.0   \n",
       "16  46.311941  47.027987  46.593060           1        0.785714          0.8   \n",
       "17  48.855849  48.848577  47.920197           0        0.214286          0.8   \n",
       "12  66.209900  62.336910  66.226278           1        1.000000          1.0   \n",
       "\n",
       "    popular_vote_percentage     density        RDI  \n",
       "16                   46.525  180.617755  163524.50  \n",
       "17                   52.460  180.617755  163524.50  \n",
       "16                   46.525  197.170250  161835.04  \n",
       "17                   52.460  197.170250  161835.04  \n",
       "12                   46.525    5.796735   10593.19  "
      ]
     },
     "metadata": {},
     "output_type": "display_data"
    }
   ],
   "source": [
    "display(X_train.head())\n",
    "display(X_test.head())"
   ]
  },
  {
   "cell_type": "code",
   "execution_count": 135,
   "metadata": {},
   "outputs": [],
   "source": [
    "scaler = StandardScaler().fit(X_train)\n",
    "X_train = scaler.transform(X_train)\n",
    "X_test = scaler.transform(X_test)\n",
    "X_train = np.asarray(X_train)\n",
    "y_train = np.asarray(y_train)\n",
    "X_test = np.asarray(X_test)\n",
    "y_test = np.asarray(y_test)"
   ]
  },
  {
   "cell_type": "code",
   "execution_count": 136,
   "metadata": {},
   "outputs": [],
   "source": [
    "import tensorflow as tf\n",
    "\n",
    "# Defining an Early Stopping Condition\n",
    "callback = tf.keras.callbacks.EarlyStopping(monitor = 'val_loss', patience = 50)\n",
    "regularizer = 0.00015"
   ]
  },
  {
   "cell_type": "code",
   "execution_count": 137,
   "metadata": {},
   "outputs": [
    {
     "name": "stdout",
     "output_type": "stream",
     "text": [
      "Train on 630 samples, validate on 158 samples\n",
      "Epoch 1/50\n",
      "630/630 - 2s - loss: 0.7020 - accuracy: 0.5175 - val_loss: 0.6961 - val_accuracy: 0.6203\n",
      "Epoch 2/50\n",
      "630/630 - 0s - loss: 0.6981 - accuracy: 0.5667 - val_loss: 0.6936 - val_accuracy: 0.6835\n",
      "Epoch 3/50\n",
      "630/630 - 0s - loss: 0.6967 - accuracy: 0.5651 - val_loss: 0.6896 - val_accuracy: 0.7025\n",
      "Epoch 4/50\n",
      "630/630 - 0s - loss: 0.6883 - accuracy: 0.5937 - val_loss: 0.6833 - val_accuracy: 0.7278\n",
      "Epoch 5/50\n",
      "630/630 - 0s - loss: 0.6833 - accuracy: 0.6111 - val_loss: 0.6726 - val_accuracy: 0.7405\n",
      "Epoch 6/50\n",
      "630/630 - 0s - loss: 0.6744 - accuracy: 0.6333 - val_loss: 0.6562 - val_accuracy: 0.7405\n",
      "Epoch 7/50\n",
      "630/630 - 0s - loss: 0.6667 - accuracy: 0.6429 - val_loss: 0.6361 - val_accuracy: 0.7722\n",
      "Epoch 8/50\n",
      "630/630 - 0s - loss: 0.6605 - accuracy: 0.6619 - val_loss: 0.6165 - val_accuracy: 0.7722\n",
      "Epoch 9/50\n",
      "630/630 - 0s - loss: 0.6354 - accuracy: 0.7063 - val_loss: 0.5987 - val_accuracy: 0.8038\n",
      "Epoch 10/50\n",
      "630/630 - 0s - loss: 0.6315 - accuracy: 0.7302 - val_loss: 0.5781 - val_accuracy: 0.8165\n",
      "Epoch 11/50\n",
      "630/630 - 0s - loss: 0.6162 - accuracy: 0.7000 - val_loss: 0.5565 - val_accuracy: 0.8291\n",
      "Epoch 12/50\n",
      "630/630 - 0s - loss: 0.6146 - accuracy: 0.7254 - val_loss: 0.5426 - val_accuracy: 0.8481\n",
      "Epoch 13/50\n",
      "630/630 - 0s - loss: 0.5906 - accuracy: 0.7540 - val_loss: 0.5177 - val_accuracy: 0.8544\n",
      "Epoch 14/50\n",
      "630/630 - 0s - loss: 0.5886 - accuracy: 0.7810 - val_loss: 0.4937 - val_accuracy: 0.8481\n",
      "Epoch 15/50\n",
      "630/630 - 0s - loss: 0.5608 - accuracy: 0.7921 - val_loss: 0.4790 - val_accuracy: 0.8418\n",
      "Epoch 16/50\n",
      "630/630 - 0s - loss: 0.5565 - accuracy: 0.7952 - val_loss: 0.4672 - val_accuracy: 0.8418\n",
      "Epoch 17/50\n",
      "630/630 - 0s - loss: 0.5517 - accuracy: 0.8032 - val_loss: 0.4570 - val_accuracy: 0.8608\n",
      "Epoch 18/50\n",
      "630/630 - 0s - loss: 0.5315 - accuracy: 0.7968 - val_loss: 0.4434 - val_accuracy: 0.8671\n",
      "Epoch 19/50\n",
      "630/630 - 0s - loss: 0.5292 - accuracy: 0.8016 - val_loss: 0.4354 - val_accuracy: 0.8734\n",
      "Epoch 20/50\n",
      "630/630 - 0s - loss: 0.5045 - accuracy: 0.8206 - val_loss: 0.4264 - val_accuracy: 0.8671\n",
      "Epoch 21/50\n",
      "630/630 - 0s - loss: 0.4901 - accuracy: 0.8333 - val_loss: 0.4176 - val_accuracy: 0.8671\n",
      "Epoch 22/50\n",
      "630/630 - 0s - loss: 0.5096 - accuracy: 0.8270 - val_loss: 0.4109 - val_accuracy: 0.8797\n",
      "Epoch 23/50\n",
      "630/630 - 0s - loss: 0.5167 - accuracy: 0.8079 - val_loss: 0.4080 - val_accuracy: 0.8797\n",
      "Epoch 24/50\n",
      "630/630 - 0s - loss: 0.5044 - accuracy: 0.8238 - val_loss: 0.4028 - val_accuracy: 0.8734\n",
      "Epoch 25/50\n",
      "630/630 - 0s - loss: 0.4910 - accuracy: 0.8222 - val_loss: 0.3988 - val_accuracy: 0.8671\n",
      "Epoch 26/50\n",
      "630/630 - 0s - loss: 0.4706 - accuracy: 0.8175 - val_loss: 0.3904 - val_accuracy: 0.8797\n",
      "Epoch 27/50\n",
      "630/630 - 0s - loss: 0.4662 - accuracy: 0.8540 - val_loss: 0.3879 - val_accuracy: 0.8861\n",
      "Epoch 28/50\n",
      "630/630 - 0s - loss: 0.4692 - accuracy: 0.8397 - val_loss: 0.3830 - val_accuracy: 0.8734\n",
      "Epoch 29/50\n",
      "630/630 - 0s - loss: 0.4564 - accuracy: 0.8317 - val_loss: 0.3735 - val_accuracy: 0.8924\n",
      "Epoch 30/50\n",
      "630/630 - 0s - loss: 0.4593 - accuracy: 0.8397 - val_loss: 0.3678 - val_accuracy: 0.8987\n",
      "Epoch 31/50\n",
      "630/630 - 0s - loss: 0.4684 - accuracy: 0.8317 - val_loss: 0.3649 - val_accuracy: 0.8924\n",
      "Epoch 32/50\n",
      "630/630 - 0s - loss: 0.4466 - accuracy: 0.8381 - val_loss: 0.3612 - val_accuracy: 0.8924\n",
      "Epoch 33/50\n",
      "630/630 - 0s - loss: 0.4814 - accuracy: 0.8238 - val_loss: 0.3627 - val_accuracy: 0.8861\n",
      "Epoch 34/50\n",
      "630/630 - 0s - loss: 0.4465 - accuracy: 0.8333 - val_loss: 0.3567 - val_accuracy: 0.8924\n",
      "Epoch 35/50\n",
      "630/630 - 0s - loss: 0.4394 - accuracy: 0.8333 - val_loss: 0.3539 - val_accuracy: 0.8861\n",
      "Epoch 36/50\n",
      "630/630 - 0s - loss: 0.4529 - accuracy: 0.8381 - val_loss: 0.3483 - val_accuracy: 0.8924\n",
      "Epoch 37/50\n",
      "630/630 - 0s - loss: 0.4219 - accuracy: 0.8619 - val_loss: 0.3457 - val_accuracy: 0.8924\n",
      "Epoch 38/50\n",
      "630/630 - 0s - loss: 0.4288 - accuracy: 0.8556 - val_loss: 0.3430 - val_accuracy: 0.8861\n",
      "Epoch 39/50\n",
      "630/630 - 0s - loss: 0.4161 - accuracy: 0.8492 - val_loss: 0.3425 - val_accuracy: 0.8861\n",
      "Epoch 40/50\n",
      "630/630 - 0s - loss: 0.4161 - accuracy: 0.8540 - val_loss: 0.3407 - val_accuracy: 0.8797\n",
      "Epoch 41/50\n",
      "630/630 - 0s - loss: 0.4309 - accuracy: 0.8365 - val_loss: 0.3379 - val_accuracy: 0.8797\n",
      "Epoch 42/50\n",
      "630/630 - 0s - loss: 0.4481 - accuracy: 0.8286 - val_loss: 0.3346 - val_accuracy: 0.8734\n",
      "Epoch 43/50\n",
      "630/630 - 0s - loss: 0.4230 - accuracy: 0.8429 - val_loss: 0.3351 - val_accuracy: 0.8797\n",
      "Epoch 44/50\n",
      "630/630 - 0s - loss: 0.4293 - accuracy: 0.8429 - val_loss: 0.3306 - val_accuracy: 0.8924\n",
      "Epoch 45/50\n",
      "630/630 - 0s - loss: 0.4230 - accuracy: 0.8444 - val_loss: 0.3252 - val_accuracy: 0.8861\n",
      "Epoch 46/50\n",
      "630/630 - 0s - loss: 0.4196 - accuracy: 0.8397 - val_loss: 0.3217 - val_accuracy: 0.8861\n",
      "Epoch 47/50\n",
      "630/630 - 0s - loss: 0.4146 - accuracy: 0.8333 - val_loss: 0.3167 - val_accuracy: 0.8987\n",
      "Epoch 48/50\n",
      "630/630 - 0s - loss: 0.4088 - accuracy: 0.8413 - val_loss: 0.3214 - val_accuracy: 0.8861\n",
      "Epoch 49/50\n",
      "630/630 - 0s - loss: 0.4192 - accuracy: 0.8397 - val_loss: 0.3216 - val_accuracy: 0.8861\n",
      "Epoch 50/50\n",
      "630/630 - 0s - loss: 0.4250 - accuracy: 0.8429 - val_loss: 0.3191 - val_accuracy: 0.8861\n"
     ]
    }
   ],
   "source": [
    "model = tf.keras.models.Sequential(name = 'ANN')\n",
    "\n",
    "model.add(tf.keras.layers.Dense(6, activation='relu', input_shape=(9,), name='hidden1', kernel_regularizer = tf.keras.regularizers.l1(regularizer)))\n",
    "model.add(tf.keras.layers.Dropout(0.25))\n",
    "model.add(tf.keras.layers.Dense(6, activation='relu', name='hidden2', kernel_regularizer = tf.keras.regularizers.l1(regularizer)))\n",
    "model.add(tf.keras.layers.Dropout(0.25))\n",
    "model.add(tf.keras.layers.Dense(4, activation='relu', name='hidden3', kernel_regularizer = tf.keras.regularizers.l1(regularizer)))\n",
    "model.add(tf.keras.layers.Dropout(0.25))\n",
    "model.add(tf.keras.layers.Dense(1, activation = 'sigmoid', name = 'output'))\n",
    "\n",
    "model.compile(optimizer='adam', loss=\"binary_crossentropy\", metrics=['accuracy'])\n",
    "history = model.fit(X_train, y_train, epochs=50, batch_size=16, verbose=2, validation_split=0.2, callbacks=[callback])"
   ]
  },
  {
   "cell_type": "code",
   "execution_count": 138,
   "metadata": {},
   "outputs": [
    {
     "name": "stdout",
     "output_type": "stream",
     "text": [
      "100/1 - 0s - loss: 0.2587 - accuracy: 0.9100\n",
      "Test accuracy=0.9100000262260437\n"
     ]
    }
   ],
   "source": [
    "test_loss, test_accuracy = model.evaluate(X_test, y_test, verbose=2)\n",
    "print(f'Test accuracy={test_accuracy}')"
   ]
  },
  {
   "cell_type": "code",
   "execution_count": 160,
   "metadata": {},
   "outputs": [],
   "source": [
    "nn1=0.88610"
   ]
  },
  {
   "cell_type": "code",
   "execution_count": 139,
   "metadata": {},
   "outputs": [
    {
     "name": "stdout",
     "output_type": "stream",
     "text": [
      "Train on 551 samples, validate on 237 samples\n",
      "Epoch 1/100\n",
      "551/551 [==============================] - 1s 2ms/sample - loss: 1.0107 - accuracy: 0.2958 - val_loss: 0.9288 - val_accuracy: 0.3882\n",
      "Epoch 2/100\n",
      "551/551 [==============================] - 0s 169us/sample - loss: 0.9487 - accuracy: 0.3158 - val_loss: 0.8787 - val_accuracy: 0.4093\n",
      "Epoch 3/100\n",
      "551/551 [==============================] - 0s 170us/sample - loss: 0.8951 - accuracy: 0.3412 - val_loss: 0.8332 - val_accuracy: 0.4388\n",
      "Epoch 4/100\n",
      "551/551 [==============================] - 0s 159us/sample - loss: 0.8462 - accuracy: 0.3757 - val_loss: 0.7934 - val_accuracy: 0.4810\n",
      "Epoch 5/100\n",
      "551/551 [==============================] - 0s 172us/sample - loss: 0.8044 - accuracy: 0.4120 - val_loss: 0.7568 - val_accuracy: 0.5190\n",
      "Epoch 6/100\n",
      "551/551 [==============================] - 0s 149us/sample - loss: 0.7658 - accuracy: 0.4428 - val_loss: 0.7227 - val_accuracy: 0.5443\n",
      "Epoch 7/100\n",
      "551/551 [==============================] - 0s 137us/sample - loss: 0.7304 - accuracy: 0.4936 - val_loss: 0.6921 - val_accuracy: 0.6034\n",
      "Epoch 8/100\n",
      "551/551 [==============================] - 0s 164us/sample - loss: 0.6979 - accuracy: 0.5517 - val_loss: 0.6623 - val_accuracy: 0.6582\n",
      "Epoch 9/100\n",
      "551/551 [==============================] - 0s 167us/sample - loss: 0.6668 - accuracy: 0.6080 - val_loss: 0.6337 - val_accuracy: 0.6962\n",
      "Epoch 10/100\n",
      "551/551 [==============================] - 0s 163us/sample - loss: 0.6375 - accuracy: 0.6497 - val_loss: 0.6073 - val_accuracy: 0.7173\n",
      "Epoch 11/100\n",
      "551/551 [==============================] - 0s 178us/sample - loss: 0.6092 - accuracy: 0.6878 - val_loss: 0.5831 - val_accuracy: 0.7426\n",
      "Epoch 12/100\n",
      "551/551 [==============================] - 0s 167us/sample - loss: 0.5834 - accuracy: 0.7169 - val_loss: 0.5588 - val_accuracy: 0.7637\n",
      "Epoch 13/100\n",
      "551/551 [==============================] - 0s 154us/sample - loss: 0.5583 - accuracy: 0.7441 - val_loss: 0.5366 - val_accuracy: 0.7806\n",
      "Epoch 14/100\n",
      "551/551 [==============================] - 0s 147us/sample - loss: 0.5350 - accuracy: 0.7586 - val_loss: 0.5171 - val_accuracy: 0.8186\n",
      "Epoch 15/100\n",
      "551/551 [==============================] - 0s 151us/sample - loss: 0.5135 - accuracy: 0.7895 - val_loss: 0.4982 - val_accuracy: 0.8270\n",
      "Epoch 16/100\n",
      "551/551 [==============================] - 0s 146us/sample - loss: 0.4938 - accuracy: 0.8058 - val_loss: 0.4806 - val_accuracy: 0.8354\n",
      "Epoch 17/100\n",
      "551/551 [==============================] - 0s 147us/sample - loss: 0.4754 - accuracy: 0.8185 - val_loss: 0.4651 - val_accuracy: 0.8312\n",
      "Epoch 18/100\n",
      "551/551 [==============================] - 0s 146us/sample - loss: 0.4584 - accuracy: 0.8258 - val_loss: 0.4503 - val_accuracy: 0.8354\n",
      "Epoch 19/100\n",
      "551/551 [==============================] - 0s 147us/sample - loss: 0.4421 - accuracy: 0.8421 - val_loss: 0.4368 - val_accuracy: 0.8397\n",
      "Epoch 20/100\n",
      "551/551 [==============================] - 0s 146us/sample - loss: 0.4280 - accuracy: 0.8530 - val_loss: 0.4243 - val_accuracy: 0.8481\n",
      "Epoch 21/100\n",
      "551/551 [==============================] - 0s 141us/sample - loss: 0.4146 - accuracy: 0.8548 - val_loss: 0.4128 - val_accuracy: 0.8523\n",
      "Epoch 22/100\n",
      "551/551 [==============================] - 0s 156us/sample - loss: 0.4024 - accuracy: 0.8584 - val_loss: 0.4016 - val_accuracy: 0.8523\n",
      "Epoch 23/100\n",
      "551/551 [==============================] - 0s 163us/sample - loss: 0.3917 - accuracy: 0.8584 - val_loss: 0.3912 - val_accuracy: 0.8565\n",
      "Epoch 24/100\n",
      "551/551 [==============================] - 0s 155us/sample - loss: 0.3816 - accuracy: 0.8584 - val_loss: 0.3822 - val_accuracy: 0.8565\n",
      "Epoch 25/100\n",
      "551/551 [==============================] - 0s 167us/sample - loss: 0.3727 - accuracy: 0.8621 - val_loss: 0.3737 - val_accuracy: 0.8523\n",
      "Epoch 26/100\n",
      "551/551 [==============================] - 0s 137us/sample - loss: 0.3642 - accuracy: 0.8657 - val_loss: 0.3653 - val_accuracy: 0.8481\n",
      "Epoch 27/100\n",
      "551/551 [==============================] - 0s 151us/sample - loss: 0.3565 - accuracy: 0.8693 - val_loss: 0.3581 - val_accuracy: 0.8481\n",
      "Epoch 28/100\n",
      "551/551 [==============================] - 0s 156us/sample - loss: 0.3492 - accuracy: 0.8693 - val_loss: 0.3505 - val_accuracy: 0.8650\n",
      "Epoch 29/100\n",
      "551/551 [==============================] - 0s 134us/sample - loss: 0.3427 - accuracy: 0.8730 - val_loss: 0.3442 - val_accuracy: 0.8650\n",
      "Epoch 30/100\n",
      "551/551 [==============================] - 0s 153us/sample - loss: 0.3368 - accuracy: 0.8766 - val_loss: 0.3381 - val_accuracy: 0.8650\n",
      "Epoch 31/100\n",
      "551/551 [==============================] - 0s 152us/sample - loss: 0.3315 - accuracy: 0.8766 - val_loss: 0.3326 - val_accuracy: 0.8692\n",
      "Epoch 32/100\n",
      "551/551 [==============================] - 0s 156us/sample - loss: 0.3264 - accuracy: 0.8802 - val_loss: 0.3271 - val_accuracy: 0.8692\n",
      "Epoch 33/100\n",
      "551/551 [==============================] - 0s 153us/sample - loss: 0.3220 - accuracy: 0.8784 - val_loss: 0.3223 - val_accuracy: 0.8776\n",
      "Epoch 34/100\n",
      "551/551 [==============================] - 0s 154us/sample - loss: 0.3177 - accuracy: 0.8784 - val_loss: 0.3180 - val_accuracy: 0.8692\n",
      "Epoch 35/100\n",
      "551/551 [==============================] - 0s 151us/sample - loss: 0.3138 - accuracy: 0.8784 - val_loss: 0.3141 - val_accuracy: 0.8692\n",
      "Epoch 36/100\n",
      "551/551 [==============================] - 0s 163us/sample - loss: 0.3107 - accuracy: 0.8820 - val_loss: 0.3108 - val_accuracy: 0.8692\n",
      "Epoch 37/100\n",
      "551/551 [==============================] - 0s 193us/sample - loss: 0.3073 - accuracy: 0.8820 - val_loss: 0.3068 - val_accuracy: 0.8650\n",
      "Epoch 38/100\n",
      "551/551 [==============================] - 0s 149us/sample - loss: 0.3046 - accuracy: 0.8820 - val_loss: 0.3030 - val_accuracy: 0.8650\n",
      "Epoch 39/100\n",
      "551/551 [==============================] - 0s 142us/sample - loss: 0.3019 - accuracy: 0.8820 - val_loss: 0.2997 - val_accuracy: 0.8692\n",
      "Epoch 40/100\n",
      "551/551 [==============================] - 0s 131us/sample - loss: 0.2995 - accuracy: 0.8802 - val_loss: 0.2968 - val_accuracy: 0.8692\n",
      "Epoch 41/100\n",
      "551/551 [==============================] - 0s 141us/sample - loss: 0.2973 - accuracy: 0.8802 - val_loss: 0.2945 - val_accuracy: 0.8692\n",
      "Epoch 42/100\n",
      "551/551 [==============================] - 0s 132us/sample - loss: 0.2955 - accuracy: 0.8820 - val_loss: 0.2916 - val_accuracy: 0.8776\n",
      "Epoch 43/100\n",
      "551/551 [==============================] - 0s 143us/sample - loss: 0.2935 - accuracy: 0.8820 - val_loss: 0.2890 - val_accuracy: 0.8776\n",
      "Epoch 44/100\n",
      "551/551 [==============================] - 0s 141us/sample - loss: 0.2917 - accuracy: 0.8820 - val_loss: 0.2874 - val_accuracy: 0.8692\n",
      "Epoch 45/100\n",
      "551/551 [==============================] - 0s 132us/sample - loss: 0.2899 - accuracy: 0.8820 - val_loss: 0.2851 - val_accuracy: 0.8734\n",
      "Epoch 46/100\n",
      "551/551 [==============================] - 0s 148us/sample - loss: 0.2883 - accuracy: 0.8820 - val_loss: 0.2833 - val_accuracy: 0.8734\n",
      "Epoch 47/100\n",
      "551/551 [==============================] - 0s 161us/sample - loss: 0.2868 - accuracy: 0.8820 - val_loss: 0.2814 - val_accuracy: 0.8776\n",
      "Epoch 48/100\n",
      "551/551 [==============================] - 0s 155us/sample - loss: 0.2854 - accuracy: 0.8820 - val_loss: 0.2799 - val_accuracy: 0.8776\n",
      "Epoch 49/100\n",
      "551/551 [==============================] - 0s 139us/sample - loss: 0.2839 - accuracy: 0.8820 - val_loss: 0.2786 - val_accuracy: 0.8776\n",
      "Epoch 50/100\n",
      "551/551 [==============================] - 0s 146us/sample - loss: 0.2826 - accuracy: 0.8820 - val_loss: 0.2773 - val_accuracy: 0.8776\n",
      "Epoch 51/100\n",
      "551/551 [==============================] - 0s 148us/sample - loss: 0.2815 - accuracy: 0.8857 - val_loss: 0.2761 - val_accuracy: 0.8776\n",
      "Epoch 52/100\n",
      "551/551 [==============================] - 0s 150us/sample - loss: 0.2803 - accuracy: 0.8857 - val_loss: 0.2747 - val_accuracy: 0.8776\n",
      "Epoch 53/100\n",
      "551/551 [==============================] - 0s 168us/sample - loss: 0.2793 - accuracy: 0.8857 - val_loss: 0.2733 - val_accuracy: 0.8776\n",
      "Epoch 54/100\n",
      "551/551 [==============================] - 0s 153us/sample - loss: 0.2780 - accuracy: 0.8857 - val_loss: 0.2722 - val_accuracy: 0.8776\n",
      "Epoch 55/100\n",
      "551/551 [==============================] - 0s 155us/sample - loss: 0.2769 - accuracy: 0.8857 - val_loss: 0.2709 - val_accuracy: 0.8734\n",
      "Epoch 56/100\n",
      "551/551 [==============================] - 0s 175us/sample - loss: 0.2760 - accuracy: 0.8857 - val_loss: 0.2693 - val_accuracy: 0.8734\n",
      "Epoch 57/100\n",
      "551/551 [==============================] - 0s 153us/sample - loss: 0.2751 - accuracy: 0.8857 - val_loss: 0.2681 - val_accuracy: 0.8734\n",
      "Epoch 58/100\n",
      "551/551 [==============================] - 0s 140us/sample - loss: 0.2741 - accuracy: 0.8857 - val_loss: 0.2672 - val_accuracy: 0.8734\n",
      "Epoch 59/100\n",
      "551/551 [==============================] - 0s 171us/sample - loss: 0.2735 - accuracy: 0.8838 - val_loss: 0.2659 - val_accuracy: 0.8776\n",
      "Epoch 60/100\n",
      "551/551 [==============================] - 0s 179us/sample - loss: 0.2726 - accuracy: 0.8838 - val_loss: 0.2649 - val_accuracy: 0.8776\n",
      "Epoch 61/100\n",
      "551/551 [==============================] - 0s 170us/sample - loss: 0.2717 - accuracy: 0.8838 - val_loss: 0.2641 - val_accuracy: 0.8819\n",
      "Epoch 62/100\n",
      "551/551 [==============================] - 0s 164us/sample - loss: 0.2712 - accuracy: 0.8820 - val_loss: 0.2629 - val_accuracy: 0.8861\n",
      "Epoch 63/100\n",
      "551/551 [==============================] - 0s 148us/sample - loss: 0.2704 - accuracy: 0.8820 - val_loss: 0.2622 - val_accuracy: 0.8819\n",
      "Epoch 64/100\n",
      "551/551 [==============================] - 0s 138us/sample - loss: 0.2695 - accuracy: 0.8820 - val_loss: 0.2614 - val_accuracy: 0.8861\n",
      "Epoch 65/100\n",
      "551/551 [==============================] - 0s 169us/sample - loss: 0.2689 - accuracy: 0.8838 - val_loss: 0.2608 - val_accuracy: 0.8861\n",
      "Epoch 66/100\n",
      "551/551 [==============================] - 0s 152us/sample - loss: 0.2682 - accuracy: 0.8820 - val_loss: 0.2597 - val_accuracy: 0.8861\n",
      "Epoch 67/100\n",
      "551/551 [==============================] - 0s 143us/sample - loss: 0.2677 - accuracy: 0.8820 - val_loss: 0.2594 - val_accuracy: 0.8861\n",
      "Epoch 68/100\n",
      "551/551 [==============================] - 0s 147us/sample - loss: 0.2669 - accuracy: 0.8838 - val_loss: 0.2585 - val_accuracy: 0.8861\n",
      "Epoch 69/100\n",
      "551/551 [==============================] - 0s 147us/sample - loss: 0.2661 - accuracy: 0.8838 - val_loss: 0.2582 - val_accuracy: 0.8861\n",
      "Epoch 70/100\n",
      "551/551 [==============================] - 0s 167us/sample - loss: 0.2657 - accuracy: 0.8820 - val_loss: 0.2571 - val_accuracy: 0.8861\n",
      "Epoch 71/100\n",
      "551/551 [==============================] - 0s 153us/sample - loss: 0.2651 - accuracy: 0.8857 - val_loss: 0.2566 - val_accuracy: 0.8861\n",
      "Epoch 72/100\n",
      "551/551 [==============================] - 0s 143us/sample - loss: 0.2645 - accuracy: 0.8857 - val_loss: 0.2560 - val_accuracy: 0.8861\n",
      "Epoch 73/100\n",
      "551/551 [==============================] - 0s 180us/sample - loss: 0.2637 - accuracy: 0.8875 - val_loss: 0.2555 - val_accuracy: 0.8861\n",
      "Epoch 74/100\n",
      "551/551 [==============================] - 0s 159us/sample - loss: 0.2631 - accuracy: 0.8875 - val_loss: 0.2551 - val_accuracy: 0.8861\n",
      "Epoch 75/100\n",
      "551/551 [==============================] - 0s 315us/sample - loss: 0.2624 - accuracy: 0.8875 - val_loss: 0.2541 - val_accuracy: 0.8861\n",
      "Epoch 76/100\n",
      "551/551 [==============================] - 0s 203us/sample - loss: 0.2618 - accuracy: 0.8857 - val_loss: 0.2533 - val_accuracy: 0.8861\n",
      "Epoch 77/100\n",
      "551/551 [==============================] - 0s 152us/sample - loss: 0.2614 - accuracy: 0.8875 - val_loss: 0.2528 - val_accuracy: 0.8861\n",
      "Epoch 78/100\n",
      "551/551 [==============================] - 0s 156us/sample - loss: 0.2607 - accuracy: 0.8875 - val_loss: 0.2515 - val_accuracy: 0.8861\n",
      "Epoch 79/100\n",
      "551/551 [==============================] - 0s 147us/sample - loss: 0.2601 - accuracy: 0.8857 - val_loss: 0.2512 - val_accuracy: 0.8861\n",
      "Epoch 80/100\n",
      "551/551 [==============================] - 0s 166us/sample - loss: 0.2595 - accuracy: 0.8857 - val_loss: 0.2504 - val_accuracy: 0.8861\n",
      "Epoch 81/100\n",
      "551/551 [==============================] - 0s 149us/sample - loss: 0.2591 - accuracy: 0.8838 - val_loss: 0.2497 - val_accuracy: 0.8861\n",
      "Epoch 82/100\n",
      "551/551 [==============================] - 0s 153us/sample - loss: 0.2585 - accuracy: 0.8838 - val_loss: 0.2493 - val_accuracy: 0.8861\n",
      "Epoch 83/100\n",
      "551/551 [==============================] - 0s 152us/sample - loss: 0.2581 - accuracy: 0.8820 - val_loss: 0.2486 - val_accuracy: 0.8861\n",
      "Epoch 84/100\n",
      "551/551 [==============================] - 0s 152us/sample - loss: 0.2574 - accuracy: 0.8857 - val_loss: 0.2478 - val_accuracy: 0.8861\n",
      "Epoch 85/100\n",
      "551/551 [==============================] - 0s 153us/sample - loss: 0.2569 - accuracy: 0.8875 - val_loss: 0.2473 - val_accuracy: 0.8861\n",
      "Epoch 86/100\n",
      "551/551 [==============================] - 0s 145us/sample - loss: 0.2564 - accuracy: 0.8875 - val_loss: 0.2468 - val_accuracy: 0.8861\n",
      "Epoch 87/100\n",
      "551/551 [==============================] - 0s 147us/sample - loss: 0.2560 - accuracy: 0.8875 - val_loss: 0.2466 - val_accuracy: 0.8861\n",
      "Epoch 88/100\n",
      "551/551 [==============================] - 0s 159us/sample - loss: 0.2556 - accuracy: 0.8857 - val_loss: 0.2458 - val_accuracy: 0.8861\n",
      "Epoch 89/100\n",
      "551/551 [==============================] - 0s 152us/sample - loss: 0.2552 - accuracy: 0.8857 - val_loss: 0.2453 - val_accuracy: 0.8861\n",
      "Epoch 90/100\n",
      "551/551 [==============================] - 0s 146us/sample - loss: 0.2546 - accuracy: 0.8857 - val_loss: 0.2444 - val_accuracy: 0.8861\n",
      "Epoch 91/100\n",
      "551/551 [==============================] - 0s 187us/sample - loss: 0.2542 - accuracy: 0.8838 - val_loss: 0.2441 - val_accuracy: 0.8861\n",
      "Epoch 92/100\n",
      "551/551 [==============================] - 0s 173us/sample - loss: 0.2537 - accuracy: 0.8857 - val_loss: 0.2437 - val_accuracy: 0.8861\n",
      "Epoch 93/100\n",
      "551/551 [==============================] - 0s 166us/sample - loss: 0.2534 - accuracy: 0.8838 - val_loss: 0.2431 - val_accuracy: 0.8861\n",
      "Epoch 94/100\n",
      "551/551 [==============================] - 0s 167us/sample - loss: 0.2528 - accuracy: 0.8857 - val_loss: 0.2429 - val_accuracy: 0.8861\n",
      "Epoch 95/100\n",
      "551/551 [==============================] - 0s 169us/sample - loss: 0.2524 - accuracy: 0.8857 - val_loss: 0.2423 - val_accuracy: 0.8861\n",
      "Epoch 96/100\n",
      "551/551 [==============================] - 0s 160us/sample - loss: 0.2521 - accuracy: 0.8838 - val_loss: 0.2422 - val_accuracy: 0.8861\n",
      "Epoch 97/100\n",
      "551/551 [==============================] - 0s 152us/sample - loss: 0.2515 - accuracy: 0.8838 - val_loss: 0.2419 - val_accuracy: 0.8861\n",
      "Epoch 98/100\n",
      "551/551 [==============================] - 0s 147us/sample - loss: 0.2514 - accuracy: 0.8875 - val_loss: 0.2411 - val_accuracy: 0.8861\n",
      "Epoch 99/100\n",
      "551/551 [==============================] - 0s 149us/sample - loss: 0.2509 - accuracy: 0.8893 - val_loss: 0.2411 - val_accuracy: 0.8861\n",
      "Epoch 100/100\n",
      "551/551 [==============================] - 0s 156us/sample - loss: 0.2503 - accuracy: 0.8893 - val_loss: 0.2403 - val_accuracy: 0.8861\n"
     ]
    }
   ],
   "source": [
    "model_simple = tf.keras.models.Sequential(name = 'ANN')\n",
    "\n",
    "model_simple.add(tf.keras.layers.Dense(6, activation='relu', input_shape=(9,), name='hidden1'))\n",
    "model_simple.add(tf.keras.layers.Dense(1, activation = 'sigmoid', name = 'output'))\n",
    "\n",
    "model_simple.compile(optimizer='adam', loss=\"binary_crossentropy\", metrics=['accuracy'])\n",
    "history = model_simple.fit(X_train, y_train, epochs=100, batch_size=32, verbose=1, validation_split=0.3)"
   ]
  },
  {
   "cell_type": "code",
   "execution_count": 140,
   "metadata": {},
   "outputs": [
    {
     "name": "stdout",
     "output_type": "stream",
     "text": [
      "100/1 - 0s - loss: 0.1026 - accuracy: 0.9400\n",
      "Test accuracy=0.9399999976158142\n"
     ]
    }
   ],
   "source": [
    "test_loss1, test_accuracy1 = model_simple.evaluate(X_test, y_test, verbose=2)\n",
    "print(f'Test accuracy={test_accuracy1}')"
   ]
  },
  {
   "cell_type": "code",
   "execution_count": 144,
   "metadata": {},
   "outputs": [],
   "source": [
    "nn2=0.8861"
   ]
  },
  {
   "cell_type": "code",
   "execution_count": 148,
   "metadata": {},
   "outputs": [
    {
     "name": "stdout",
     "output_type": "stream",
     "text": [
      "[0.8705877610255583, 0.879464645650246, 0.8476900749818593, 0.7640248327017657, 0.8693058131097317, 0.8451745545432555, 0.827340159638797, 0.8223171813270984, 0.8870457448043654, 0.892183327528155, 0.8861, 0.8861]\n"
     ]
    }
   ],
   "source": [
    "lst_val = [lreg1,lreg2,lreg3,lreg4,dtree1[0],dtree2[0],dtree3[0],dtree4[0],rf1,ada1,nn1,nn2]\n",
    "model = ['LogisticRegressionCV, PolynomialFeatures = 1, PCA = 1'\n",
    "         ,'LogisticRegressionCV, PolynomialFeatures = 2, PCA = 1'\n",
    "         ,'LogisticRegressionCV, PolynomialFeatures = 2, PCA = 0.9'\n",
    "         ,'LogisticRegressionCV, PolynomialFeatures = 1, PCA = 0.9'\n",
    "         ,'DecisionTreeClassifier, PolynomialFeatures = 1, PCA = 1, max_depth = 4'\n",
    "         ,'DecisionTreeClassifier, PolynomialFeatures = 2, PCA = 1, max_depth = 7'\n",
    "         ,'DecisionTreeClassifier, PolynomialFeatures = 2, PCA = 0.9, max_depth = 5'\n",
    "         ,'DecisionTreeClassifier, PolynomialFeatures = 1, PCA = 0.9, max_depth = 7'\n",
    "         ,'RandomForestClassifier, max_depth = 6, max_features = sqrt, n_estimators = 50'\n",
    "         ,'AdaBoostClassifier, max_depth = 7, learning_rate = 1, n_estimators = 64'\n",
    "         ,'SequentialNeuralNetwork']\n",
    "print(lst_val)"
   ]
  },
  {
   "cell_type": "code",
   "execution_count": 161,
   "metadata": {},
   "outputs": [
    {
     "data": {
      "text/html": [
       "<div>\n",
       "<style scoped>\n",
       "    .dataframe tbody tr th:only-of-type {\n",
       "        vertical-align: middle;\n",
       "    }\n",
       "\n",
       "    .dataframe tbody tr th {\n",
       "        vertical-align: top;\n",
       "    }\n",
       "\n",
       "    .dataframe thead th {\n",
       "        text-align: right;\n",
       "    }\n",
       "</style>\n",
       "<table border=\"1\" class=\"dataframe\">\n",
       "  <thead>\n",
       "    <tr style=\"text-align: right;\">\n",
       "      <th></th>\n",
       "      <th>LogisticRegressionCV</th>\n",
       "      <th>DecisionTreeClassifier</th>\n",
       "      <th>RandomForestClassifier</th>\n",
       "      <th>AdaBoostClassifier</th>\n",
       "      <th>SequentialNeuralNetwork</th>\n",
       "    </tr>\n",
       "  </thead>\n",
       "  <tbody>\n",
       "    <tr>\n",
       "      <th>Accuracy</th>\n",
       "      <td>0.87946</td>\n",
       "      <td>0.86931</td>\n",
       "      <td>0.88705</td>\n",
       "      <td>0.89218</td>\n",
       "      <td>0.8861</td>\n",
       "    </tr>\n",
       "  </tbody>\n",
       "</table>\n",
       "</div>"
      ],
      "text/plain": [
       "          LogisticRegressionCV  DecisionTreeClassifier  \\\n",
       "Accuracy               0.87946                 0.86931   \n",
       "\n",
       "          RandomForestClassifier  AdaBoostClassifier  SequentialNeuralNetwork  \n",
       "Accuracy                 0.88705             0.89218                   0.8861  "
      ]
     },
     "metadata": {},
     "output_type": "display_data"
    }
   ],
   "source": [
    "lst_vals = [np.round(lreg2,5),np.round(dtree1[0],5),np.round(rf1,5),np.round(ada1,5),nn1]\n",
    "models = ['LogisticRegressionCV'\n",
    "         ,'DecisionTreeClassifier'\n",
    "         ,'RandomForestClassifier'\n",
    "         ,'AdaBoostClassifier'\n",
    "         ,'SequentialNeuralNetwork']\n",
    "\n",
    "entire_data = pd.DataFrame(lst_vals, index=models, columns=['Accuracy'])\n",
    "display(entire_data.T)"
   ]
  },
  {
   "cell_type": "markdown",
   "metadata": {},
   "source": [
    "We have done extensive model selection in the sections above. Nevetheless, we have identified a flaw with the above modeling approach. The flaw arises from the construction of the cross-validation set. Since for every year the data set contains two observations (one for the democrat candidate, one for the republican) if once of the two observations is in the training and the oter in the CV sets respectively than the model will easily recognize and memorize the pattern and therefore the model becomes near deterministic, i.e. there is a large information leakage. \n",
    "\n",
    "In order to prevent this issue, the first approach we will try is to get rid of half the observations, in other words we will only consider the observations for one (the republican candidate) for each election year."
   ]
  },
  {
   "cell_type": "markdown",
   "metadata": {},
   "source": [
    "### Re-do everything with the reduced dataframe in order to prevent information leakage."
   ]
  },
  {
   "cell_type": "code",
   "execution_count": 221,
   "metadata": {},
   "outputs": [],
   "source": [
    "df = pd.concat([pd.read_csv('states/'+file) for file in os.listdir('states/')])\n",
    "df_republican = df[df.republican != 0]"
   ]
  },
  {
   "cell_type": "code",
   "execution_count": 222,
   "metadata": {},
   "outputs": [],
   "source": [
    "train_df = df_republican[df_republican.Year != 2020]\n",
    "test_df = df_republican[df_republican.Year == 2020]"
   ]
  },
  {
   "cell_type": "code",
   "execution_count": 223,
   "metadata": {},
   "outputs": [],
   "source": [
    "train_df = train_df.drop(['Year', 'State'], axis = 1)\n",
    "test_df = test_df.drop(['Year', 'State'], axis = 1)"
   ]
  },
  {
   "cell_type": "code",
   "execution_count": 224,
   "metadata": {},
   "outputs": [],
   "source": [
    "X_train = train_df.drop('Result', axis=1)#.values\n",
    "y_train = train_df['Result']#.values\n",
    "X_test = test_df.drop('Result', axis=1)#.values\n",
    "y_test = test_df['Result']#.values"
   ]
  },
  {
   "cell_type": "code",
   "execution_count": 225,
   "metadata": {},
   "outputs": [
    {
     "data": {
      "text/plain": [
       "(394, 9)"
      ]
     },
     "metadata": {},
     "output_type": "display_data"
    },
    {
     "data": {
      "text/plain": [
       "(50, 9)"
      ]
     },
     "metadata": {},
     "output_type": "display_data"
    }
   ],
   "source": [
    "display(X_train.shape)\n",
    "display(X_test.shape)"
   ]
  },
  {
   "cell_type": "code",
   "execution_count": 226,
   "metadata": {},
   "outputs": [],
   "source": [
    "def modelling(X_train, y_train, models, scaler=True, Poly=1, PCA_comp=0):\n",
    "    # pca is the total variance explained required. 0 means that we do not want to perform pca\n",
    "    if 'State' in X_train.columns:\n",
    "        X_train = X_train.drop('State', axis=1)\n",
    "    if 'Year' in X_train.columns:\n",
    "        X_train = X_train.drop('Year', axis=1)\n",
    "    if PCA_comp > 0 and not scaler:\n",
    "        raise ValueError('We must normalize before performing PCA')\n",
    "    if scaler:\n",
    "        # print('Normalizing the data ...')\n",
    "        scaler = MinMaxScaler().fit(X_train)\n",
    "        X_train = scaler.transform(X_train)\n",
    "    if PCA_comp > 0:\n",
    "        # print('Performing PCA ...')\n",
    "        pca = PCA(n_components=X_train.shape[1])\n",
    "        pca.fit(X_train)\n",
    "        X_train = pca.transform(X_train)\n",
    "        total_variance = np.cumsum(pca.explained_variance_ratio_)\n",
    "        for i, variance in enumerate(total_variance):\n",
    "            if variance > PCA_comp:\n",
    "                break \n",
    "        X_train = X_train[:, :i+1]\n",
    "    if Poly > 1:\n",
    "        # print('Polynomial transformation ...')\n",
    "        poly_features = PolynomialFeatures(degree=Poly, include_bias=False).fit(X_train)\n",
    "        X_train = poly_features.transform(X_train)\n",
    "    model_cv_accuracies = []\n",
    "    # print('Modelling and gathering the predictions ..')\n",
    "    for i, model in enumerate(models):\n",
    "        model_cv = cross_validate(model, X_train, y_train, cv=5, scoring='accuracy')\n",
    "        model_cv_accuracy = np.mean(model_cv['test_score'])\n",
    "        model_cv_accuracies.append(model_cv_accuracy)\n",
    "    return models, model_cv_accuracies"
   ]
  },
  {
   "cell_type": "markdown",
   "metadata": {},
   "source": [
    "#### 1. Logistic Regression\n",
    "- PolynomialFeatures = 1, PCA = 0\n",
    "- PolynomialFeatures = 2, PCA = 0\n",
    "- PolynomialFeatures = 2, PCA = 0.9\n",
    "- PolynomialFeatures = 1, PCA = 0.9"
   ]
  },
  {
   "cell_type": "markdown",
   "metadata": {},
   "source": [
    "PolynomialFeatures = 1, PCA = 0"
   ]
  },
  {
   "cell_type": "code",
   "execution_count": 227,
   "metadata": {},
   "outputs": [
    {
     "name": "stdout",
     "output_type": "stream",
     "text": [
      "[0.8858487504057123]\n"
     ]
    }
   ],
   "source": [
    "models_considered = [LogisticRegressionCV(max_iter=2000, penalty='l1', solver='saga')]\n",
    "models_11, cv_accuracies_11 = modelling(X_train, y_train, models=models_considered, scaler=True, Poly=1, PCA_comp=0)\n",
    "print(cv_accuracies_11)"
   ]
  },
  {
   "cell_type": "code",
   "execution_count": 228,
   "metadata": {},
   "outputs": [
    {
     "name": "stdout",
     "output_type": "stream",
     "text": [
      "0.8858487504057123\n"
     ]
    }
   ],
   "source": [
    "scaler = MinMaxScaler().fit(X_train)\n",
    "X_train1 = scaler.transform(X_train)\n",
    "X_test1 = scaler.transform(X_test)\n",
    "model = LogisticRegressionCV(max_iter=2000, penalty='l1', solver='saga')\n",
    "model_cv = cross_validate(model, X_train1, y_train, cv=5, scoring='accuracy')\n",
    "model_cv_accuracy = np.mean(model_cv['test_score'])\n",
    "print(model_cv_accuracy)"
   ]
  },
  {
   "cell_type": "code",
   "execution_count": 229,
   "metadata": {},
   "outputs": [
    {
     "name": "stdout",
     "output_type": "stream",
     "text": [
      "0.98\n",
      "0.8908629441624365\n"
     ]
    }
   ],
   "source": [
    "model.fit(X_train1, y_train)\n",
    "print(model.score(X_test1, y_test))\n",
    "print(model.score(X_train1, y_train))\n"
   ]
  },
  {
   "cell_type": "code",
   "execution_count": 276,
   "metadata": {},
   "outputs": [
    {
     "name": "stdout",
     "output_type": "stream",
     "text": [
      "[[23  1]\n",
      " [ 0 26]]\n"
     ]
    }
   ],
   "source": [
    "y_test_pred = model.predict(X_test1)\n",
    "c_matrix = confusion_matrix(y_test, y_test_pred)\n",
    "print(c_matrix)"
   ]
  },
  {
   "cell_type": "code",
   "execution_count": 302,
   "metadata": {},
   "outputs": [
    {
     "data": {
      "text/plain": [
       "Text(0.5, 1.0, 'Confusion Matrix, Test Data')"
      ]
     },
     "execution_count": 302,
     "metadata": {},
     "output_type": "execute_result"
    },
    {
     "data": {
      "image/png": "[encoded data removed]",
      "text/plain": [
       "<Figure size 360x288 with 2 Axes>"
      ]
     },
     "metadata": {
      "needs_background": "light"
     },
     "output_type": "display_data"
    }
   ],
   "source": [
    "data_c = pd.DataFrame(c_matrix, columns = ['True 1','True 0'], index = ['Predicted 1', 'Predicted 0'])\n",
    "fig, ax = plt.subplots(figsize=(5,4))\n",
    "ax = sns.heatmap(data_c, annot=True, fmt=\"d\", cmap = 'magma')\n",
    "ax.set_title('Confusion Matrix, Test Data')"
   ]
  },
  {
   "cell_type": "code",
   "execution_count": 230,
   "metadata": {},
   "outputs": [
    {
     "name": "stdout",
     "output_type": "stream",
     "text": [
      "[1 1 1 0 0 0 0 0 1 1 0 0 1 1 1 1 1 1 1 1 0 1 0 0 1 1 1 1 0 0 0 0 1 0 1 1 0\n",
      " 0 1 0 1 0 1 0 1 1 0 0 1 0]\n",
      "[1 1 1 0 0 0 0 0 1 1 0 0 1 1 1 1 1 1 1 1 0 1 0 0 1 1 1 1 0 0 0 0 1 0 1 0 0\n",
      " 0 1 0 1 0 1 0 1 1 0 0 1 0]\n",
      "35\n"
     ]
    }
   ],
   "source": [
    "print(model.predict(X_test1))\n",
    "y_pred_test1 = model.predict(X_test1)\n",
    "print(y_test.values)\n",
    "for idx, val in enumerate(y_test):\n",
    "    if y_pred_test1[idx] != y_test.values[idx]:\n",
    "        print(idx)"
   ]
  },
  {
   "cell_type": "markdown",
   "metadata": {},
   "source": [
    "**Wrongly predicted state is Arizona!!**\n",
    "\n",
    "**Let's explore the polls data for Arizona for 2020.**"
   ]
  },
  {
   "cell_type": "code",
   "execution_count": 231,
   "metadata": {},
   "outputs": [],
   "source": [
    "#display(X_test)"
   ]
  },
  {
   "cell_type": "code",
   "execution_count": 232,
   "metadata": {},
   "outputs": [
    {
     "data": {
      "text/plain": [
       "month_10                      45.219223\n",
       "month_11                      45.985087\n",
       "month_9                       44.397884\n",
       "republican                     1.000000\n",
       "Rep_House_Prop                 0.555556\n",
       "rep_loyalty                    1.000000\n",
       "popular_vote_percentage       46.525000\n",
       "density                       64.720190\n",
       "RDI                        92052.700000\n",
       "Name: 16, dtype: float64"
      ]
     },
     "metadata": {},
     "output_type": "display_data"
    }
   ],
   "source": [
    "display(X_test.iloc[35,:])"
   ]
  },
  {
   "cell_type": "markdown",
   "metadata": {},
   "source": [
    "We tried running different classification models (LogisticRegressionCV, DecisionTreeClassifier, RandomForrestClassifier, AdaBoostClassifier and FullyConnectedNeuralNetwork) on different datasets(first one containing features for both democrat and republican candidates and second containing only features for republican candidate). Nevertheless, we observed that the cross-validation accuracy for each of the models above was approximately $88\\%-89\\%$. Consequently, we decided to investigate what might cause this behaviour. In order to do so, since the cross-validation accuracy for each model was approximately the same, we decided to investigate the most interpretable model, LogisticRegressionCV. "
   ]
  },
  {
   "cell_type": "code",
   "execution_count": 235,
   "metadata": {},
   "outputs": [
    {
     "name": "stdout",
     "output_type": "stream",
     "text": [
      "[ 0.         17.09594642  0.          0.          0.6931257   2.97277983\n",
      " -2.41329454 -1.77406779 -0.86829943]\n",
      "['month_10', 'month_11', 'month_9', 'republican', 'Rep_House_Prop', 'rep_loyalty', 'popular_vote_percentage', 'density', 'RDI']\n"
     ]
    },
    {
     "data": {
      "text/html": [
       "<div>\n",
       "<style scoped>\n",
       "    .dataframe tbody tr th:only-of-type {\n",
       "        vertical-align: middle;\n",
       "    }\n",
       "\n",
       "    .dataframe tbody tr th {\n",
       "        vertical-align: top;\n",
       "    }\n",
       "\n",
       "    .dataframe thead th {\n",
       "        text-align: right;\n",
       "    }\n",
       "</style>\n",
       "<table border=\"1\" class=\"dataframe\">\n",
       "  <thead>\n",
       "    <tr style=\"text-align: right;\">\n",
       "      <th></th>\n",
       "      <th>coef. value</th>\n",
       "    </tr>\n",
       "  </thead>\n",
       "  <tbody>\n",
       "    <tr>\n",
       "      <th>polls_month_10</th>\n",
       "      <td>0.000000</td>\n",
       "    </tr>\n",
       "    <tr>\n",
       "      <th>polls_month_11</th>\n",
       "      <td>17.095946</td>\n",
       "    </tr>\n",
       "    <tr>\n",
       "      <th>polls_month_9</th>\n",
       "      <td>0.000000</td>\n",
       "    </tr>\n",
       "    <tr>\n",
       "      <th>republican/democrat</th>\n",
       "      <td>0.000000</td>\n",
       "    </tr>\n",
       "    <tr>\n",
       "      <th>rep_house_proportion</th>\n",
       "      <td>0.693126</td>\n",
       "    </tr>\n",
       "    <tr>\n",
       "      <th>state_loyalty</th>\n",
       "      <td>2.972780</td>\n",
       "    </tr>\n",
       "    <tr>\n",
       "      <th>popular_vote_percentage</th>\n",
       "      <td>-2.413295</td>\n",
       "    </tr>\n",
       "    <tr>\n",
       "      <th>population_density</th>\n",
       "      <td>-1.774068</td>\n",
       "    </tr>\n",
       "    <tr>\n",
       "      <th>RDI</th>\n",
       "      <td>-0.868299</td>\n",
       "    </tr>\n",
       "  </tbody>\n",
       "</table>\n",
       "</div>"
      ],
      "text/plain": [
       "                         coef. value\n",
       "polls_month_10              0.000000\n",
       "polls_month_11             17.095946\n",
       "polls_month_9               0.000000\n",
       "republican/democrat         0.000000\n",
       "rep_house_proportion        0.693126\n",
       "state_loyalty               2.972780\n",
       "popular_vote_percentage    -2.413295\n",
       "population_density         -1.774068\n",
       "RDI                        -0.868299"
      ]
     },
     "metadata": {},
     "output_type": "display_data"
    }
   ],
   "source": [
    "print(model.coef_[0])\n",
    "print(X_train.columns.tolist())\n",
    "feature_names = ['polls_month_10', 'polls_month_11', 'polls_month_9', 'republican/democrat', 'rep_house_proportion', 'state_loyalty', 'popular_vote_percentage', 'population_density', 'RDI']\n",
    "df_features = pd.DataFrame(model.coef_[0], index = feature_names, columns = ['coef. value'])\n",
    "#df_features['Features'] = feature_names\n",
    "#df_features['LogisticRegressionCV coef.'] = model.coef_[0]\n",
    "display(df_features)"
   ]
  },
  {
   "cell_type": "code",
   "execution_count": 251,
   "metadata": {},
   "outputs": [],
   "source": [
    "x_scatter = X_train['month_11']#.values\n",
    "scatter_df = pd.concat([x_scatter,y_train], axis=1)\n",
    "#y_scatter = y_train#.values\n",
    "#fig, ax = plt.subplots(figsize = (12, 6))\n",
    "#ax.scatter(x_scatter, y_scatter, color = 'indigo')"
   ]
  },
  {
   "cell_type": "code",
   "execution_count": 260,
   "metadata": {},
   "outputs": [
    {
     "data": {
      "text/plain": [
       "Text(0.5, 1.0, 'Correlation Plot, Polls Month 11 vs. Election Outcome')"
      ]
     },
     "execution_count": 260,
     "metadata": {},
     "output_type": "execute_result"
    },
    {
     "data": {
      "image/png": "[encoded data removed]",
      "text/plain": [
       "<Figure size 432x288 with 1 Axes>"
      ]
     },
     "metadata": {
      "needs_background": "light"
     },
     "output_type": "display_data"
    }
   ],
   "source": [
    "fig, ax = plt.subplots(figsize = (6, 4))\n",
    "ax = sns.scatterplot(data = scatter_df, hue = y_scatter, palette = 'magma', x = 'month_11', y = 'Result')\n",
    "ax.set_xlabel('Polls Month 11')\n",
    "ax.set_ylabel('Result')\n",
    "ax.set_title('Correlation Plot, Polls Month 11 vs. Election Outcome')"
   ]
  },
  {
   "cell_type": "code",
   "execution_count": 245,
   "metadata": {},
   "outputs": [
    {
     "data": {
      "text/html": [
       "<div>\n",
       "<style scoped>\n",
       "    .dataframe tbody tr th:only-of-type {\n",
       "        vertical-align: middle;\n",
       "    }\n",
       "\n",
       "    .dataframe tbody tr th {\n",
       "        vertical-align: top;\n",
       "    }\n",
       "\n",
       "    .dataframe thead th {\n",
       "        text-align: right;\n",
       "    }\n",
       "</style>\n",
       "<table border=\"1\" class=\"dataframe\">\n",
       "  <thead>\n",
       "    <tr style=\"text-align: right;\">\n",
       "      <th></th>\n",
       "      <th>month_10</th>\n",
       "      <th>month_11</th>\n",
       "      <th>month_9</th>\n",
       "      <th>republican</th>\n",
       "      <th>Rep_House_Prop</th>\n",
       "      <th>rep_loyalty</th>\n",
       "      <th>popular_vote_percentage</th>\n",
       "      <th>density</th>\n",
       "      <th>RDI</th>\n",
       "    </tr>\n",
       "  </thead>\n",
       "  <tbody>\n",
       "    <tr>\n",
       "      <th>0</th>\n",
       "      <td>51.797513</td>\n",
       "      <td>51.909088</td>\n",
       "      <td>51.657848</td>\n",
       "      <td>1</td>\n",
       "      <td>0.200000</td>\n",
       "      <td>0.5</td>\n",
       "      <td>53.37</td>\n",
       "      <td>106.259013</td>\n",
       "      <td>93086.74</td>\n",
       "    </tr>\n",
       "    <tr>\n",
       "      <th>3</th>\n",
       "      <td>35.651345</td>\n",
       "      <td>35.969860</td>\n",
       "      <td>38.271617</td>\n",
       "      <td>1</td>\n",
       "      <td>0.100000</td>\n",
       "      <td>0.7</td>\n",
       "      <td>37.45</td>\n",
       "      <td>113.717367</td>\n",
       "      <td>100758.19</td>\n",
       "    </tr>\n",
       "    <tr>\n",
       "      <th>5</th>\n",
       "      <td>40.574781</td>\n",
       "      <td>41.630290</td>\n",
       "      <td>40.888825</td>\n",
       "      <td>1</td>\n",
       "      <td>0.363636</td>\n",
       "      <td>0.5</td>\n",
       "      <td>40.72</td>\n",
       "      <td>123.352989</td>\n",
       "      <td>108448.50</td>\n",
       "    </tr>\n",
       "    <tr>\n",
       "      <th>7</th>\n",
       "      <td>48.459137</td>\n",
       "      <td>50.952625</td>\n",
       "      <td>44.657240</td>\n",
       "      <td>1</td>\n",
       "      <td>0.727273</td>\n",
       "      <td>0.7</td>\n",
       "      <td>47.87</td>\n",
       "      <td>138.411248</td>\n",
       "      <td>115406.50</td>\n",
       "    </tr>\n",
       "    <tr>\n",
       "      <th>8</th>\n",
       "      <td>54.915037</td>\n",
       "      <td>54.194542</td>\n",
       "      <td>55.351526</td>\n",
       "      <td>1</td>\n",
       "      <td>0.727273</td>\n",
       "      <td>0.8</td>\n",
       "      <td>50.73</td>\n",
       "      <td>147.528675</td>\n",
       "      <td>123452.01</td>\n",
       "    </tr>\n",
       "    <tr>\n",
       "      <th>...</th>\n",
       "      <td>...</td>\n",
       "      <td>...</td>\n",
       "      <td>...</td>\n",
       "      <td>...</td>\n",
       "      <td>...</td>\n",
       "      <td>...</td>\n",
       "      <td>...</td>\n",
       "      <td>...</td>\n",
       "      <td>...</td>\n",
       "    </tr>\n",
       "    <tr>\n",
       "      <th>7</th>\n",
       "      <td>29.539093</td>\n",
       "      <td>31.266380</td>\n",
       "      <td>25.226051</td>\n",
       "      <td>1</td>\n",
       "      <td>0.000000</td>\n",
       "      <td>0.1</td>\n",
       "      <td>47.87</td>\n",
       "      <td>679.785113</td>\n",
       "      <td>20180.30</td>\n",
       "    </tr>\n",
       "    <tr>\n",
       "      <th>8</th>\n",
       "      <td>33.548488</td>\n",
       "      <td>36.403905</td>\n",
       "      <td>32.340723</td>\n",
       "      <td>1</td>\n",
       "      <td>0.000000</td>\n",
       "      <td>0.0</td>\n",
       "      <td>50.73</td>\n",
       "      <td>695.520388</td>\n",
       "      <td>20902.54</td>\n",
       "    </tr>\n",
       "    <tr>\n",
       "      <th>11</th>\n",
       "      <td>31.364580</td>\n",
       "      <td>35.565489</td>\n",
       "      <td>34.538435</td>\n",
       "      <td>1</td>\n",
       "      <td>0.000000</td>\n",
       "      <td>0.0</td>\n",
       "      <td>45.66</td>\n",
       "      <td>682.849838</td>\n",
       "      <td>21656.08</td>\n",
       "    </tr>\n",
       "    <tr>\n",
       "      <th>13</th>\n",
       "      <td>34.297437</td>\n",
       "      <td>34.454458</td>\n",
       "      <td>33.094150</td>\n",
       "      <td>1</td>\n",
       "      <td>0.000000</td>\n",
       "      <td>0.0</td>\n",
       "      <td>47.20</td>\n",
       "      <td>681.318447</td>\n",
       "      <td>22373.87</td>\n",
       "    </tr>\n",
       "    <tr>\n",
       "      <th>14</th>\n",
       "      <td>35.844058</td>\n",
       "      <td>36.953955</td>\n",
       "      <td>39.107901</td>\n",
       "      <td>1</td>\n",
       "      <td>0.000000</td>\n",
       "      <td>0.0</td>\n",
       "      <td>46.09</td>\n",
       "      <td>683.770874</td>\n",
       "      <td>23319.69</td>\n",
       "    </tr>\n",
       "  </tbody>\n",
       "</table>\n",
       "<p>394 rows × 9 columns</p>\n",
       "</div>"
      ],
      "text/plain": [
       "     month_10   month_11    month_9  republican  Rep_House_Prop  rep_loyalty  \\\n",
       "0   51.797513  51.909088  51.657848           1        0.200000          0.5   \n",
       "3   35.651345  35.969860  38.271617           1        0.100000          0.7   \n",
       "5   40.574781  41.630290  40.888825           1        0.363636          0.5   \n",
       "7   48.459137  50.952625  44.657240           1        0.727273          0.7   \n",
       "8   54.915037  54.194542  55.351526           1        0.727273          0.8   \n",
       "..        ...        ...        ...         ...             ...          ...   \n",
       "7   29.539093  31.266380  25.226051           1        0.000000          0.1   \n",
       "8   33.548488  36.403905  32.340723           1        0.000000          0.0   \n",
       "11  31.364580  35.565489  34.538435           1        0.000000          0.0   \n",
       "13  34.297437  34.454458  33.094150           1        0.000000          0.0   \n",
       "14  35.844058  36.953955  39.107901           1        0.000000          0.0   \n",
       "\n",
       "    popular_vote_percentage     density        RDI  \n",
       "0                     53.37  106.259013   93086.74  \n",
       "3                     37.45  113.717367  100758.19  \n",
       "5                     40.72  123.352989  108448.50  \n",
       "7                     47.87  138.411248  115406.50  \n",
       "8                     50.73  147.528675  123452.01  \n",
       "..                      ...         ...        ...  \n",
       "7                     47.87  679.785113   20180.30  \n",
       "8                     50.73  695.520388   20902.54  \n",
       "11                    45.66  682.849838   21656.08  \n",
       "13                    47.20  681.318447   22373.87  \n",
       "14                    46.09  683.770874   23319.69  \n",
       "\n",
       "[394 rows x 9 columns]"
      ]
     },
     "metadata": {},
     "output_type": "display_data"
    },
    {
     "data": {
      "image/png": "[encoded data removed]",
      "text/plain": [
       "<Figure size 1482.38x1440 with 72 Axes>"
      ]
     },
     "metadata": {
      "needs_background": "light"
     },
     "output_type": "display_data"
    }
   ],
   "source": [
    "import seaborn as sns\n",
    "import matplotlib.pyplot as plt\n",
    "display(X_train)\n",
    "X_plot = X_train.drop('republican', axis=1)\n",
    "X_plot = pd.concat([X_plot,y_train], axis=1)\n",
    "sns.pairplot(X_plot, hue='Result', palette = 'magma')\n",
    "plt.show()"
   ]
  },
  {
   "cell_type": "markdown",
   "metadata": {},
   "source": [
    "From the cell above we observe that the model recognizes *polls_month_11* as the most important (indicative) feature for predicting the election outcome on state level. This observation makes perfect sense, as there is a high correlation between the polls results from the days before the election and the election outcome. We also observe that the model recognizes the high correlation between the polls in month_11 and the polls for the previous two moths and due to the Lasso regularization used, the model zeroes the coefficients of the other two features.\n",
    "\n",
    "The observation above, that the model recognizes the *polls_month_11* feature and the most indicative feature to predict the elections winner could be a beneficial circumstance for this case. Namely in many articles (name and reference a few here) it was reported that the pollsters have learned a lot about the mistakes the made when polling for the 2016 elections, they have learned from their mistakes and they have changed their polling model. Consequently one would expect that this year's polls are less biased and thus more indicative of the actual elections outcome."
   ]
  },
  {
   "cell_type": "markdown",
   "metadata": {},
   "source": [
    "In order to test the observations above, in addition we will try out two alternative models. The first one will contain only one feature *polls_month_11* and the other will contain all the other features except *polls_month_11*."
   ]
  },
  {
   "cell_type": "markdown",
   "metadata": {},
   "source": [
    "**- polls_month_11 only feature**"
   ]
  },
  {
   "cell_type": "code",
   "execution_count": 177,
   "metadata": {},
   "outputs": [
    {
     "name": "stdout",
     "output_type": "stream",
     "text": [
      "0.8301200908795845\n"
     ]
    }
   ],
   "source": [
    "X_train_11 = X_train[['month_11']]\n",
    "X_test_11 = X_test[['month_11']]\n",
    "scaler = MinMaxScaler().fit(X_train_11)\n",
    "X_train_11s = scaler.transform(X_train_11)\n",
    "X_test_11s = scaler.transform(X_test_11)\n",
    "model = LogisticRegressionCV(max_iter=2000, penalty='l1', solver='saga')\n",
    "model_cv = cross_validate(model, X_train_11s, y_train, cv=5, scoring='accuracy')\n",
    "model_cv_accuracy = np.mean(model_cv['test_score'])\n",
    "print(model_cv_accuracy)"
   ]
  },
  {
   "cell_type": "code",
   "execution_count": 178,
   "metadata": {},
   "outputs": [
    {
     "name": "stdout",
     "output_type": "stream",
     "text": [
      "0.94\n"
     ]
    }
   ],
   "source": [
    "model.fit(X_train_11s, y_train)\n",
    "print(model.score(X_test_11s, y_test))"
   ]
  },
  {
   "cell_type": "markdown",
   "metadata": {},
   "source": [
    "**- all features except polls_month_11**"
   ]
  },
  {
   "cell_type": "code",
   "execution_count": 179,
   "metadata": {},
   "outputs": [
    {
     "name": "stdout",
     "output_type": "stream",
     "text": [
      "0.8579681921454073\n"
     ]
    }
   ],
   "source": [
    "X_train_12 = X_train.drop(['month_11'], axis=1)\n",
    "X_test_12 = X_test.drop(['month_11'], axis=1)\n",
    "scaler = MinMaxScaler().fit(X_train_12)\n",
    "X_train_12s = scaler.transform(X_train_12)\n",
    "X_test_12s = scaler.transform(X_test_12)\n",
    "model = LogisticRegressionCV(max_iter=2000, penalty='l1', solver='saga')\n",
    "model_cv = cross_validate(model, X_train_12s, y_train, cv=5, scoring='accuracy')\n",
    "model_cv_accuracy = np.mean(model_cv['test_score'])\n",
    "print(model_cv_accuracy)"
   ]
  },
  {
   "cell_type": "code",
   "execution_count": 180,
   "metadata": {},
   "outputs": [
    {
     "name": "stdout",
     "output_type": "stream",
     "text": [
      "0.98\n"
     ]
    }
   ],
   "source": [
    "model.fit(X_train_12s, y_train)\n",
    "print(model.score(X_test_12s, y_test))"
   ]
  },
  {
   "cell_type": "code",
   "execution_count": 181,
   "metadata": {},
   "outputs": [
    {
     "name": "stdout",
     "output_type": "stream",
     "text": [
      "[ 8.43180872  0.          0.          0.26820818  2.98166197  0.\n",
      " -0.32719933  0.        ]\n"
     ]
    },
    {
     "data": {
      "text/html": [
       "<div>\n",
       "<style scoped>\n",
       "    .dataframe tbody tr th:only-of-type {\n",
       "        vertical-align: middle;\n",
       "    }\n",
       "\n",
       "    .dataframe tbody tr th {\n",
       "        vertical-align: top;\n",
       "    }\n",
       "\n",
       "    .dataframe thead th {\n",
       "        text-align: right;\n",
       "    }\n",
       "</style>\n",
       "<table border=\"1\" class=\"dataframe\">\n",
       "  <thead>\n",
       "    <tr style=\"text-align: right;\">\n",
       "      <th></th>\n",
       "      <th>Features</th>\n",
       "      <th>LogisticRegressionCV coef.</th>\n",
       "    </tr>\n",
       "  </thead>\n",
       "  <tbody>\n",
       "    <tr>\n",
       "      <th>0</th>\n",
       "      <td>polls_month_10</td>\n",
       "      <td>8.431809</td>\n",
       "    </tr>\n",
       "    <tr>\n",
       "      <th>1</th>\n",
       "      <td>polls_month_9</td>\n",
       "      <td>0.000000</td>\n",
       "    </tr>\n",
       "    <tr>\n",
       "      <th>2</th>\n",
       "      <td>republican/democrat</td>\n",
       "      <td>0.000000</td>\n",
       "    </tr>\n",
       "    <tr>\n",
       "      <th>3</th>\n",
       "      <td>rep_house_proportion</td>\n",
       "      <td>0.268208</td>\n",
       "    </tr>\n",
       "    <tr>\n",
       "      <th>4</th>\n",
       "      <td>state_loyalty</td>\n",
       "      <td>2.981662</td>\n",
       "    </tr>\n",
       "    <tr>\n",
       "      <th>5</th>\n",
       "      <td>popular_vote_percentage</td>\n",
       "      <td>0.000000</td>\n",
       "    </tr>\n",
       "    <tr>\n",
       "      <th>6</th>\n",
       "      <td>population_density</td>\n",
       "      <td>-0.327199</td>\n",
       "    </tr>\n",
       "    <tr>\n",
       "      <th>7</th>\n",
       "      <td>RDI</td>\n",
       "      <td>0.000000</td>\n",
       "    </tr>\n",
       "  </tbody>\n",
       "</table>\n",
       "</div>"
      ],
      "text/plain": [
       "                  Features  LogisticRegressionCV coef.\n",
       "0           polls_month_10                    8.431809\n",
       "1            polls_month_9                    0.000000\n",
       "2      republican/democrat                    0.000000\n",
       "3     rep_house_proportion                    0.268208\n",
       "4            state_loyalty                    2.981662\n",
       "5  popular_vote_percentage                    0.000000\n",
       "6       population_density                   -0.327199\n",
       "7                      RDI                    0.000000"
      ]
     },
     "metadata": {},
     "output_type": "display_data"
    }
   ],
   "source": [
    "print(model.coef_[0])\n",
    "feature_names = ['polls_month_10', 'polls_month_9', 'republican/democrat', 'rep_house_proportion', 'state_loyalty', 'popular_vote_percentage', 'population_density', 'RDI']\n",
    "df_features1 = pd.DataFrame()\n",
    "df_features1['Features'] = feature_names\n",
    "df_features1['LogisticRegressionCV coef.'] = model.coef_[0]\n",
    "display(df_features1)"
   ]
  },
  {
   "cell_type": "markdown",
   "metadata": {},
   "source": [
    "From the analysis above we can make the following observations:\n",
    "- Using only the *polls_month_11* feature, the cross-validation accuracy of the model is still fairly high $(83.26\\%)$. In other words, there is a high correlation between the elections outcome and the polls from the elections month, as expected.\n",
    "- Using all feature except *polls_month_11* feature, the cross-validation accuracy of the model reduces in comparison to the model including *polls_month_11* by approximately $2\\%$ to $85.6\\%$. Furthermore, we observe that the model picks up the *polls_months_10* as the most important feature. This behaviour is indeed what we expected, since the previous LogisticRegressionCV model, zeros the *polls_month_10* feature due to its high correlation with the *polls_months_11* feature. \n",
    "\n",
    "Overall as mentioned above, we expect that the accuracy of our model on the test data would increase due to the novel approaches used to conduct the polls for the 2020 elections."
   ]
  },
  {
   "cell_type": "markdown",
   "metadata": {},
   "source": [
    "### Only thing left to do at this point is feature importance!"
   ]
  },
  {
   "cell_type": "code",
   "execution_count": 264,
   "metadata": {},
   "outputs": [],
   "source": [
    "from sklearn.inspection import permutation_importance\n",
    "result = permutation_importance(model, X_test1, y_test, n_jobs=-1)"
   ]
  },
  {
   "cell_type": "code",
   "execution_count": 271,
   "metadata": {},
   "outputs": [
    {
     "data": {
      "image/png": "[encoded data removed]",
      "text/plain": [
       "<Figure size 1296x432 with 1 Axes>"
      ]
     },
     "metadata": {
      "needs_background": "light"
     },
     "output_type": "display_data"
    }
   ],
   "source": [
    "sorted_idx = result.importances_mean.argsort()\n",
    "sorted_idx_10 = sorted_idx[-10:]\n",
    "\n",
    "fig, ax = plt.subplots(1, figsize = (18, 6))\n",
    "ax.bar(x = X_test.columns[sorted_idx_10], height = result.importances_mean[sorted_idx_10], color = 'indigo')\n",
    "ax.set_title('Feature Importance for LogirsticRegressionCV Model', size=14)\n",
    "plt.show(fig)"
   ]
  },
  {
   "cell_type": "markdown",
   "metadata": {},
   "source": [
    "PolynomialFeatures = 2, PCA = 0"
   ]
  },
  {
   "cell_type": "code",
   "execution_count": 182,
   "metadata": {},
   "outputs": [
    {
     "name": "stdout",
     "output_type": "stream",
     "text": [
      "[0.8808179162609543]\n"
     ]
    }
   ],
   "source": [
    "models_considered = [LogisticRegressionCV(max_iter=5000, penalty='l1', solver='saga')]\n",
    "models_12, cv_accuracies_12 = modelling(X_train, y_train, models=models_considered, scaler=True, Poly=2, PCA_comp=0)\n",
    "print(cv_accuracies_12)"
   ]
  },
  {
   "cell_type": "code",
   "execution_count": 183,
   "metadata": {},
   "outputs": [
    {
     "name": "stdout",
     "output_type": "stream",
     "text": [
      "0.8808179162609543\n",
      "0.98\n"
     ]
    }
   ],
   "source": [
    "poly_features = PolynomialFeatures(degree=2, include_bias=False).fit(X_train)\n",
    "scaler = MinMaxScaler().fit(X_train)\n",
    "X_train1 = scaler.transform(X_train)\n",
    "X_test1 = scaler.transform(X_test)\n",
    "\n",
    "X_train_poly = poly_features.transform(X_train1)\n",
    "X_test_poly = poly_features.transform(X_test1)\n",
    "model = LogisticRegressionCV(max_iter=5000, penalty='l1', solver='saga')\n",
    "print(np.mean(cross_validate(model, X_train_poly, y_train, cv=5, scoring='accuracy')['test_score']))\n",
    "model.fit(X_train_poly, y_train)\n",
    "print(model.score(X_test_poly, y_test))\n"
   ]
  },
  {
   "cell_type": "code",
   "execution_count": 184,
   "metadata": {},
   "outputs": [
    {
     "name": "stdout",
     "output_type": "stream",
     "text": [
      "[[ 0.          8.83703813  0.          0.          0.          0.9267199\n",
      "   0.         -0.09023908  0.          0.          0.          0.\n",
      "   0.          0.          0.          0.          0.          0.\n",
      "   0.          0.          0.          0.          0.          0.\n",
      "   0.          0.          0.          0.          0.          0.01591448\n",
      "   0.          0.          0.          0.          0.          0.\n",
      "   0.          0.          0.          0.42020037  0.          0.\n",
      "   0.          0.          1.93230571  0.          0.          0.\n",
      "   0.          0.          0.          0.          0.          0.        ]]\n"
     ]
    },
    {
     "data": {
      "text/plain": [
       "['x0',\n",
       " 'x1',\n",
       " 'x2',\n",
       " 'x3',\n",
       " 'x4',\n",
       " 'x5',\n",
       " 'x6',\n",
       " 'x7',\n",
       " 'x8',\n",
       " 'x0^2',\n",
       " 'x0 x1',\n",
       " 'x0 x2',\n",
       " 'x0 x3',\n",
       " 'x0 x4',\n",
       " 'x0 x5',\n",
       " 'x0 x6',\n",
       " 'x0 x7',\n",
       " 'x0 x8',\n",
       " 'x1^2',\n",
       " 'x1 x2',\n",
       " 'x1 x3',\n",
       " 'x1 x4',\n",
       " 'x1 x5',\n",
       " 'x1 x6',\n",
       " 'x1 x7',\n",
       " 'x1 x8',\n",
       " 'x2^2',\n",
       " 'x2 x3',\n",
       " 'x2 x4',\n",
       " 'x2 x5',\n",
       " 'x2 x6',\n",
       " 'x2 x7',\n",
       " 'x2 x8',\n",
       " 'x3^2',\n",
       " 'x3 x4',\n",
       " 'x3 x5',\n",
       " 'x3 x6',\n",
       " 'x3 x7',\n",
       " 'x3 x8',\n",
       " 'x4^2',\n",
       " 'x4 x5',\n",
       " 'x4 x6',\n",
       " 'x4 x7',\n",
       " 'x4 x8',\n",
       " 'x5^2',\n",
       " 'x5 x6',\n",
       " 'x5 x7',\n",
       " 'x5 x8',\n",
       " 'x6^2',\n",
       " 'x6 x7',\n",
       " 'x6 x8',\n",
       " 'x7^2',\n",
       " 'x7 x8',\n",
       " 'x8^2']"
      ]
     },
     "execution_count": 184,
     "metadata": {},
     "output_type": "execute_result"
    }
   ],
   "source": [
    "y_pred_test = model.predict(X_test_poly)\n",
    "print(model.coef_)\n",
    "poly_features.get_feature_names()"
   ]
  },
  {
   "cell_type": "markdown",
   "metadata": {},
   "source": [
    "**Things to do next, maybe build a simple model only feature month_11, and then we can compare accuracies, could be very similar!!!**\n",
    "\n",
    "**In the result do analysis on what happened here!!**\n",
    "\n",
    "**Maybe build a model without this month_11 feature!!**\n",
    "\n",
    "permutation importance from HW8 use it maybe for the final report."
   ]
  },
  {
   "cell_type": "code",
   "execution_count": 185,
   "metadata": {},
   "outputs": [
    {
     "data": {
      "text/html": [
       "<div>\n",
       "<style scoped>\n",
       "    .dataframe tbody tr th:only-of-type {\n",
       "        vertical-align: middle;\n",
       "    }\n",
       "\n",
       "    .dataframe tbody tr th {\n",
       "        vertical-align: top;\n",
       "    }\n",
       "\n",
       "    .dataframe thead th {\n",
       "        text-align: right;\n",
       "    }\n",
       "</style>\n",
       "<table border=\"1\" class=\"dataframe\">\n",
       "  <thead>\n",
       "    <tr style=\"text-align: right;\">\n",
       "      <th></th>\n",
       "      <th>month_10</th>\n",
       "      <th>month_11</th>\n",
       "      <th>month_9</th>\n",
       "      <th>republican</th>\n",
       "      <th>Rep_House_Prop</th>\n",
       "      <th>rep_loyalty</th>\n",
       "      <th>popular_vote_percentage</th>\n",
       "      <th>density</th>\n",
       "      <th>RDI</th>\n",
       "    </tr>\n",
       "  </thead>\n",
       "  <tbody>\n",
       "    <tr>\n",
       "      <th>0</th>\n",
       "      <td>51.797513</td>\n",
       "      <td>51.909088</td>\n",
       "      <td>51.657848</td>\n",
       "      <td>1</td>\n",
       "      <td>0.200000</td>\n",
       "      <td>0.5</td>\n",
       "      <td>53.37</td>\n",
       "      <td>106.259013</td>\n",
       "      <td>93086.74</td>\n",
       "    </tr>\n",
       "    <tr>\n",
       "      <th>3</th>\n",
       "      <td>35.651345</td>\n",
       "      <td>35.969860</td>\n",
       "      <td>38.271617</td>\n",
       "      <td>1</td>\n",
       "      <td>0.100000</td>\n",
       "      <td>0.7</td>\n",
       "      <td>37.45</td>\n",
       "      <td>113.717367</td>\n",
       "      <td>100758.19</td>\n",
       "    </tr>\n",
       "    <tr>\n",
       "      <th>5</th>\n",
       "      <td>40.574781</td>\n",
       "      <td>41.630290</td>\n",
       "      <td>40.888825</td>\n",
       "      <td>1</td>\n",
       "      <td>0.363636</td>\n",
       "      <td>0.5</td>\n",
       "      <td>40.72</td>\n",
       "      <td>123.352989</td>\n",
       "      <td>108448.50</td>\n",
       "    </tr>\n",
       "    <tr>\n",
       "      <th>7</th>\n",
       "      <td>48.459137</td>\n",
       "      <td>50.952625</td>\n",
       "      <td>44.657240</td>\n",
       "      <td>1</td>\n",
       "      <td>0.727273</td>\n",
       "      <td>0.7</td>\n",
       "      <td>47.87</td>\n",
       "      <td>138.411248</td>\n",
       "      <td>115406.50</td>\n",
       "    </tr>\n",
       "    <tr>\n",
       "      <th>8</th>\n",
       "      <td>54.915037</td>\n",
       "      <td>54.194542</td>\n",
       "      <td>55.351526</td>\n",
       "      <td>1</td>\n",
       "      <td>0.727273</td>\n",
       "      <td>0.8</td>\n",
       "      <td>50.73</td>\n",
       "      <td>147.528675</td>\n",
       "      <td>123452.01</td>\n",
       "    </tr>\n",
       "    <tr>\n",
       "      <th>...</th>\n",
       "      <td>...</td>\n",
       "      <td>...</td>\n",
       "      <td>...</td>\n",
       "      <td>...</td>\n",
       "      <td>...</td>\n",
       "      <td>...</td>\n",
       "      <td>...</td>\n",
       "      <td>...</td>\n",
       "      <td>...</td>\n",
       "    </tr>\n",
       "    <tr>\n",
       "      <th>7</th>\n",
       "      <td>29.539093</td>\n",
       "      <td>31.266380</td>\n",
       "      <td>25.226051</td>\n",
       "      <td>1</td>\n",
       "      <td>0.000000</td>\n",
       "      <td>0.1</td>\n",
       "      <td>47.87</td>\n",
       "      <td>679.785113</td>\n",
       "      <td>20180.30</td>\n",
       "    </tr>\n",
       "    <tr>\n",
       "      <th>8</th>\n",
       "      <td>33.548488</td>\n",
       "      <td>36.403905</td>\n",
       "      <td>32.340723</td>\n",
       "      <td>1</td>\n",
       "      <td>0.000000</td>\n",
       "      <td>0.0</td>\n",
       "      <td>50.73</td>\n",
       "      <td>695.520388</td>\n",
       "      <td>20902.54</td>\n",
       "    </tr>\n",
       "    <tr>\n",
       "      <th>11</th>\n",
       "      <td>31.364580</td>\n",
       "      <td>35.565489</td>\n",
       "      <td>34.538435</td>\n",
       "      <td>1</td>\n",
       "      <td>0.000000</td>\n",
       "      <td>0.0</td>\n",
       "      <td>45.66</td>\n",
       "      <td>682.849838</td>\n",
       "      <td>21656.08</td>\n",
       "    </tr>\n",
       "    <tr>\n",
       "      <th>13</th>\n",
       "      <td>34.297437</td>\n",
       "      <td>34.454458</td>\n",
       "      <td>33.094150</td>\n",
       "      <td>1</td>\n",
       "      <td>0.000000</td>\n",
       "      <td>0.0</td>\n",
       "      <td>47.20</td>\n",
       "      <td>681.318447</td>\n",
       "      <td>22373.87</td>\n",
       "    </tr>\n",
       "    <tr>\n",
       "      <th>14</th>\n",
       "      <td>35.844058</td>\n",
       "      <td>36.953955</td>\n",
       "      <td>39.107901</td>\n",
       "      <td>1</td>\n",
       "      <td>0.000000</td>\n",
       "      <td>0.0</td>\n",
       "      <td>46.09</td>\n",
       "      <td>683.770874</td>\n",
       "      <td>23319.69</td>\n",
       "    </tr>\n",
       "  </tbody>\n",
       "</table>\n",
       "<p>394 rows × 9 columns</p>\n",
       "</div>"
      ],
      "text/plain": [
       "     month_10   month_11    month_9  republican  Rep_House_Prop  rep_loyalty  \\\n",
       "0   51.797513  51.909088  51.657848           1        0.200000          0.5   \n",
       "3   35.651345  35.969860  38.271617           1        0.100000          0.7   \n",
       "5   40.574781  41.630290  40.888825           1        0.363636          0.5   \n",
       "7   48.459137  50.952625  44.657240           1        0.727273          0.7   \n",
       "8   54.915037  54.194542  55.351526           1        0.727273          0.8   \n",
       "..        ...        ...        ...         ...             ...          ...   \n",
       "7   29.539093  31.266380  25.226051           1        0.000000          0.1   \n",
       "8   33.548488  36.403905  32.340723           1        0.000000          0.0   \n",
       "11  31.364580  35.565489  34.538435           1        0.000000          0.0   \n",
       "13  34.297437  34.454458  33.094150           1        0.000000          0.0   \n",
       "14  35.844058  36.953955  39.107901           1        0.000000          0.0   \n",
       "\n",
       "    popular_vote_percentage     density        RDI  \n",
       "0                     53.37  106.259013   93086.74  \n",
       "3                     37.45  113.717367  100758.19  \n",
       "5                     40.72  123.352989  108448.50  \n",
       "7                     47.87  138.411248  115406.50  \n",
       "8                     50.73  147.528675  123452.01  \n",
       "..                      ...         ...        ...  \n",
       "7                     47.87  679.785113   20180.30  \n",
       "8                     50.73  695.520388   20902.54  \n",
       "11                    45.66  682.849838   21656.08  \n",
       "13                    47.20  681.318447   22373.87  \n",
       "14                    46.09  683.770874   23319.69  \n",
       "\n",
       "[394 rows x 9 columns]"
      ]
     },
     "metadata": {},
     "output_type": "display_data"
    }
   ],
   "source": [
    "display(X_train)"
   ]
  },
  {
   "cell_type": "code",
   "execution_count": 186,
   "metadata": {},
   "outputs": [
    {
     "data": {
      "text/plain": [
       "array([[23,  1],\n",
       "       [ 0, 26]])"
      ]
     },
     "execution_count": 186,
     "metadata": {},
     "output_type": "execute_result"
    }
   ],
   "source": [
    "from sklearn.metrics import confusion_matrix\n",
    "\n",
    "confusion_matrix(y_test, y_pred_test)"
   ]
  },
  {
   "cell_type": "markdown",
   "metadata": {},
   "source": [
    "PolynomialFeatures = 2, PCA = 0.9"
   ]
  },
  {
   "cell_type": "code",
   "execution_count": 187,
   "metadata": {},
   "outputs": [
    {
     "name": "stdout",
     "output_type": "stream",
     "text": [
      "[0.8808179162609543]\n"
     ]
    }
   ],
   "source": [
    "models_considered = [LogisticRegressionCV(max_iter=5000, penalty='l1', solver='saga')]\n",
    "models_13, cv_accuracies_13 = modelling(X_train, y_train, models=models_considered, scaler=True, Poly=2, PCA_comp=0.9)\n",
    "print(cv_accuracies_13)"
   ]
  },
  {
   "cell_type": "markdown",
   "metadata": {},
   "source": [
    "PolynomialFeatures = 1, PCA = 0.9"
   ]
  },
  {
   "cell_type": "code",
   "execution_count": 188,
   "metadata": {},
   "outputs": [
    {
     "name": "stdout",
     "output_type": "stream",
     "text": [
      "[0.8884453099642974]\n"
     ]
    }
   ],
   "source": [
    "models_considered = [LogisticRegressionCV(max_iter=5000, penalty='l1', solver='saga')]\n",
    "models_14, cv_accuracies_14 = modelling(X_train, y_train, models=models_considered, scaler=True, Poly=1, PCA_comp=0.9)\n",
    "print(cv_accuracies_14)"
   ]
  },
  {
   "cell_type": "code",
   "execution_count": 216,
   "metadata": {},
   "outputs": [],
   "source": [
    "lreg = 0.88585"
   ]
  },
  {
   "cell_type": "markdown",
   "metadata": {},
   "source": [
    "#### 2. Decision Tree Classifier\n",
    "- PolynomialFeatures = 1, PCA = 0\n",
    "- PolynomialFeatures = 2, PCA = 0\n",
    "- PolynomialFeatures = 2, PCA = 0.9\n",
    "- PolynomialFeatures = 1, PCA = 0.9"
   ]
  },
  {
   "cell_type": "markdown",
   "metadata": {},
   "source": [
    "PolynomialFeatures = 1, PCA = 0"
   ]
  },
  {
   "cell_type": "code",
   "execution_count": 190,
   "metadata": {},
   "outputs": [
    {
     "name": "stdout",
     "output_type": "stream",
     "text": [
      "DecisionTreeClassifier(max_depth=1): 0.840181759169101\n",
      "-------------------------------------------------------\n",
      "DecisionTreeClassifier(max_depth=2): 0.8173644920480363\n",
      "-------------------------------------------------------\n",
      "DecisionTreeClassifier(max_depth=3): 0.840084388185654\n",
      "-------------------------------------------------------\n",
      "DecisionTreeClassifier(max_depth=4): 0.8630314832846478\n",
      "-------------------------------------------------------\n",
      "DecisionTreeClassifier(max_depth=5): 0.8451801363193768\n",
      "-------------------------------------------------------\n",
      "DecisionTreeClassifier(max_depth=6): 0.8326192794547225\n",
      "-------------------------------------------------------\n",
      "DecisionTreeClassifier(max_depth=7): 0.8529049010061669\n",
      "-------------------------------------------------------\n",
      "DecisionTreeClassifier(max_depth=8): 0.8427458617332035\n",
      "-------------------------------------------------------\n",
      "DecisionTreeClassifier(max_depth=9): 0.840181759169101\n",
      "-------------------------------------------------------\n"
     ]
    }
   ],
   "source": [
    "depths = np.arange(1, 10, 1)\n",
    "for depth in depths:\n",
    "    models_considered = [DecisionTreeClassifier(max_depth=depth)]\n",
    "    models_21, cv_accuracies_21 = modelling(X_train, y_train, models=models_considered, scaler=True, Poly=1, PCA_comp=0)\n",
    "    print(\"{0}: {1}\".format(models_21[0], cv_accuracies_21[0]))\n",
    "    print('-'*55)"
   ]
  },
  {
   "cell_type": "markdown",
   "metadata": {},
   "source": [
    "PolynomialFeatures = 2, PCA = 0"
   ]
  },
  {
   "cell_type": "code",
   "execution_count": 191,
   "metadata": {},
   "outputs": [
    {
     "name": "stdout",
     "output_type": "stream",
     "text": [
      "DecisionTreeClassifier(max_depth=1): 0.8807530022719897\n",
      "-------------------------------------------------------\n",
      "DecisionTreeClassifier(max_depth=2): 0.8503083414475819\n",
      "-------------------------------------------------------\n",
      "DecisionTreeClassifier(max_depth=3): 0.8527426160337553\n",
      "-------------------------------------------------------\n",
      "DecisionTreeClassifier(max_depth=4): 0.8554365465757872\n",
      "-------------------------------------------------------\n",
      "DecisionTreeClassifier(max_depth=5): 0.8477766958779618\n",
      "-------------------------------------------------------\n",
      "DecisionTreeClassifier(max_depth=6): 0.8452125933138591\n",
      "-------------------------------------------------------\n",
      "DecisionTreeClassifier(max_depth=7): 0.8273937033430704\n",
      "-------------------------------------------------------\n",
      "DecisionTreeClassifier(max_depth=8): 0.8248620577734502\n",
      "-------------------------------------------------------\n",
      "DecisionTreeClassifier(max_depth=9): 0.837682570593963\n",
      "-------------------------------------------------------\n"
     ]
    }
   ],
   "source": [
    "depths = np.arange(1, 10, 1)\n",
    "for depth in depths:\n",
    "    models_considered = [DecisionTreeClassifier(max_depth=depth)]\n",
    "    models_22, cv_accuracies_22 = modelling(X_train, y_train, models=models_considered, scaler=True, Poly=2, PCA_comp=0)\n",
    "    print(\"{0}: {1}\".format(models_22[0], cv_accuracies_22[0]))\n",
    "    print('-'*55)"
   ]
  },
  {
   "cell_type": "markdown",
   "metadata": {},
   "source": [
    "PolynomialFeatures = 2, PCA = 0.9"
   ]
  },
  {
   "cell_type": "code",
   "execution_count": 192,
   "metadata": {},
   "outputs": [
    {
     "name": "stdout",
     "output_type": "stream",
     "text": [
      "DecisionTreeClassifier(max_depth=1): 0.8757221681272315\n",
      "-------------------------------------------------------\n",
      "DecisionTreeClassifier(max_depth=2): 0.8757221681272315\n",
      "-------------------------------------------------------\n",
      "DecisionTreeClassifier(max_depth=3): 0.8681272314183707\n",
      "-------------------------------------------------------\n",
      "DecisionTreeClassifier(max_depth=4): 0.8654333008763387\n",
      "-------------------------------------------------------\n",
      "DecisionTreeClassifier(max_depth=5): 0.8630314832846478\n",
      "-------------------------------------------------------\n",
      "DecisionTreeClassifier(max_depth=6): 0.8426484907497566\n",
      "-------------------------------------------------------\n",
      "DecisionTreeClassifier(max_depth=7): 0.8172671210645893\n",
      "-------------------------------------------------------\n",
      "DecisionTreeClassifier(max_depth=8): 0.8324569944823109\n",
      "-------------------------------------------------------\n",
      "DecisionTreeClassifier(max_depth=9): 0.8426160337552743\n",
      "-------------------------------------------------------\n"
     ]
    }
   ],
   "source": [
    "depths = np.arange(1, 10, 1)\n",
    "for depth in depths:\n",
    "    models_considered = [DecisionTreeClassifier(max_depth=depth)]\n",
    "    models_23, cv_accuracies_23 = modelling(X_train, y_train, models=models_considered, scaler=True, Poly=2, PCA_comp=0.9)\n",
    "    print(\"{0}: {1}\".format(models_23[0], cv_accuracies_23[0]))\n",
    "    print('-'*55)"
   ]
  },
  {
   "cell_type": "markdown",
   "metadata": {},
   "source": [
    "PolynomialFeatures = 1, PCA = 0.9"
   ]
  },
  {
   "cell_type": "code",
   "execution_count": 193,
   "metadata": {},
   "outputs": [
    {
     "name": "stdout",
     "output_type": "stream",
     "text": [
      "DecisionTreeClassifier(max_depth=1): 0.8757221681272315\n",
      "-------------------------------------------------------\n",
      "DecisionTreeClassifier(max_depth=2): 0.8782538136968517\n",
      "-------------------------------------------------------\n",
      "DecisionTreeClassifier(max_depth=3): 0.86053229470951\n",
      "-------------------------------------------------------\n",
      "DecisionTreeClassifier(max_depth=4): 0.842583576760792\n",
      "-------------------------------------------------------\n",
      "DecisionTreeClassifier(max_depth=5): 0.8451476793248945\n",
      "-------------------------------------------------------\n",
      "DecisionTreeClassifier(max_depth=6): 0.8527750730282376\n",
      "-------------------------------------------------------\n",
      "DecisionTreeClassifier(max_depth=7): 0.8502109704641351\n",
      "-------------------------------------------------------\n",
      "DecisionTreeClassifier(max_depth=8): 0.8374553716325869\n",
      "-------------------------------------------------------\n",
      "DecisionTreeClassifier(max_depth=9): 0.8477117818889971\n",
      "-------------------------------------------------------\n"
     ]
    }
   ],
   "source": [
    "depths = np.arange(1, 10, 1)\n",
    "for depth in depths:\n",
    "    models_considered = [DecisionTreeClassifier(max_depth=depth)]\n",
    "    models_24, cv_accuracies_24 = modelling(X_train, y_train, models=models_considered, scaler=True, Poly=1, PCA_comp=0.9)\n",
    "    print(\"{0}: {1}\".format(models_24[0], cv_accuracies_24[0]))\n",
    "    print('-'*55)"
   ]
  },
  {
   "cell_type": "code",
   "execution_count": 194,
   "metadata": {},
   "outputs": [],
   "source": [
    "dtree = 0.88075"
   ]
  },
  {
   "cell_type": "markdown",
   "metadata": {},
   "source": [
    "#### 3. Random Forrest Classifier"
   ]
  },
  {
   "cell_type": "code",
   "execution_count": 195,
   "metadata": {},
   "outputs": [
    {
     "name": "stdout",
     "output_type": "stream",
     "text": [
      "Fitting 2 folds for each of 1728 candidates, totalling 3456 fits\n"
     ]
    },
    {
     "name": "stderr",
     "output_type": "stream",
     "text": [
      "[Parallel(n_jobs=-1)]: Using backend LokyBackend with 8 concurrent workers.\n",
      "[Parallel(n_jobs=-1)]: Done  34 tasks      | elapsed:    4.1s\n",
      "[Parallel(n_jobs=-1)]: Done 184 tasks      | elapsed:   13.6s\n",
      "[Parallel(n_jobs=-1)]: Done 434 tasks      | elapsed:   29.0s\n",
      "[Parallel(n_jobs=-1)]: Done 784 tasks      | elapsed:   50.8s\n",
      "[Parallel(n_jobs=-1)]: Done 1234 tasks      | elapsed:  1.3min\n",
      "[Parallel(n_jobs=-1)]: Done 1784 tasks      | elapsed:  1.9min\n",
      "[Parallel(n_jobs=-1)]: Done 2434 tasks      | elapsed:  2.5min\n",
      "[Parallel(n_jobs=-1)]: Done 3184 tasks      | elapsed:  3.1min\n",
      "[Parallel(n_jobs=-1)]: Done 3456 out of 3456 | elapsed:  3.4min finished\n"
     ]
    }
   ],
   "source": [
    "# Number of trees in random forest\n",
    "n_estimators_over = [50, 90, 110, 150, 200, 300, 400, 500]\n",
    "# Number of features to consider at every split\n",
    "max_features = ['auto', 'sqrt']\n",
    "# Maximum number of levels in tree\n",
    "max_depth_over = [int(x) for x in np.linspace(1, 10, num=6)]\n",
    "# Minimum number of samples required to split a node\n",
    "min_samples_split = [1, 2, 3]\n",
    "# Minimum number of samples required at each leaf node\n",
    "min_samples_leaf = [1, 4, 5]\n",
    "# Method of selecting samples for training each tree\n",
    "bootstrap = [True, False]\n",
    "# Create the random grid\n",
    "random_grid = {'n_estimators': n_estimators_over,\n",
    "               'max_features': max_features,\n",
    "               'max_depth': max_depth_over,\n",
    "               'min_samples_split': min_samples_split,\n",
    "               'min_samples_leaf': min_samples_leaf,\n",
    "               'bootstrap': bootstrap,\n",
    "\n",
    "               }\n",
    "# Use the random grid to search for best hyperparameters\n",
    "\n",
    "rf = RandomForestClassifier()\n",
    "random_model = GridSearchCV(estimator=rf, param_grid=random_grid, verbose=1,\n",
    "                                    scoring='accuracy',\n",
    "                                    n_jobs=-1, return_train_score=True, cv=2, refit=True)\n",
    "random_model.fit(X_train, y_train)\n",
    "dict_rf = cross_validate(RandomForestClassifier(**random_model.best_params_), X_train, y_train, cv=9, scoring='accuracy')\n",
    "rf_initial_accuracy = np.mean(dict_rf['test_score'])"
   ]
  },
  {
   "cell_type": "code",
   "execution_count": 196,
   "metadata": {},
   "outputs": [
    {
     "name": "stdout",
     "output_type": "stream",
     "text": [
      "{'bootstrap': True, 'max_depth': 8, 'max_features': 'auto', 'min_samples_leaf': 5, 'min_samples_split': 2, 'n_estimators': 90}\n",
      "0.8986962649753347\n"
     ]
    }
   ],
   "source": [
    "print(random_model.best_params_)\n",
    "print(rf_initial_accuracy)"
   ]
  },
  {
   "cell_type": "code",
   "execution_count": 197,
   "metadata": {},
   "outputs": [
    {
     "data": {
      "text/plain": [
       "0.96"
      ]
     },
     "execution_count": 197,
     "metadata": {},
     "output_type": "execute_result"
    }
   ],
   "source": [
    "rf = RandomForestClassifier(bootstrap = True, max_depth = 4, max_features = 'auto', min_samples_leaf = 1, min_samples_split = 3, n_estimators = 50)\n",
    "rf.fit(X_train, y_train)\n",
    "rf.score(X_test, y_test)"
   ]
  },
  {
   "cell_type": "code",
   "execution_count": 198,
   "metadata": {},
   "outputs": [],
   "source": [
    "rf=rf_initial_accuracy"
   ]
  },
  {
   "cell_type": "markdown",
   "metadata": {},
   "source": [
    "#### 4. Ada Boost Classifier"
   ]
  },
  {
   "cell_type": "code",
   "execution_count": 200,
   "metadata": {},
   "outputs": [
    {
     "name": "stdout",
     "output_type": "stream",
     "text": [
      "Fitting 2 folds for each of 75 candidates, totalling 150 fits\n"
     ]
    },
    {
     "name": "stderr",
     "output_type": "stream",
     "text": [
      "[Parallel(n_jobs=-1)]: Using backend LokyBackend with 8 concurrent workers.\n",
      "[Parallel(n_jobs=-1)]: Done  34 tasks      | elapsed:    1.4s\n",
      "[Parallel(n_jobs=-1)]: Done 150 out of 150 | elapsed:    5.1s finished\n"
     ]
    },
    {
     "name": "stdout",
     "output_type": "stream",
     "text": [
      "With components  1.0 the CV score is  0.8784355179704018\n",
      "{'learning_rate': 0.1, 'n_estimators': 77}\n",
      "Fitting 2 folds for each of 75 candidates, totalling 150 fits\n"
     ]
    },
    {
     "name": "stderr",
     "output_type": "stream",
     "text": [
      "[Parallel(n_jobs=-1)]: Using backend LokyBackend with 8 concurrent workers.\n",
      "[Parallel(n_jobs=-1)]: Done  34 tasks      | elapsed:    1.2s\n",
      "[Parallel(n_jobs=-1)]: Done 150 out of 150 | elapsed:    5.7s finished\n"
     ]
    },
    {
     "name": "stdout",
     "output_type": "stream",
     "text": [
      "With components  2.0 the CV score is  0.8554733380314775\n",
      "{'learning_rate': 0.01, 'n_estimators': 91}\n",
      "Fitting 2 folds for each of 75 candidates, totalling 150 fits\n"
     ]
    },
    {
     "name": "stderr",
     "output_type": "stream",
     "text": [
      "[Parallel(n_jobs=-1)]: Using backend LokyBackend with 8 concurrent workers.\n",
      "[Parallel(n_jobs=-1)]: Done  34 tasks      | elapsed:    1.4s\n",
      "[Parallel(n_jobs=-1)]: Done 150 out of 150 | elapsed:    6.4s finished\n"
     ]
    },
    {
     "name": "stdout",
     "output_type": "stream",
     "text": [
      "With components  3.0 the CV score is  0.8501291989664082\n",
      "{'learning_rate': 1, 'n_estimators': 77}\n",
      "Fitting 2 folds for each of 75 candidates, totalling 150 fits\n"
     ]
    },
    {
     "name": "stderr",
     "output_type": "stream",
     "text": [
      "[Parallel(n_jobs=-1)]: Using backend LokyBackend with 8 concurrent workers.\n",
      "[Parallel(n_jobs=-1)]: Done  34 tasks      | elapsed:    1.8s\n",
      "[Parallel(n_jobs=-1)]: Done 150 out of 150 | elapsed:    8.5s finished\n"
     ]
    },
    {
     "name": "stdout",
     "output_type": "stream",
     "text": [
      "With components  4.0 the CV score is  0.8628729151984965\n",
      "{'learning_rate': 1, 'n_estimators': 118}\n",
      "Fitting 2 folds for each of 75 candidates, totalling 150 fits\n"
     ]
    },
    {
     "name": "stderr",
     "output_type": "stream",
     "text": [
      "[Parallel(n_jobs=-1)]: Using backend LokyBackend with 8 concurrent workers.\n",
      "[Parallel(n_jobs=-1)]: Done  34 tasks      | elapsed:    1.3s\n",
      "[Parallel(n_jobs=-1)]: Done 150 out of 150 | elapsed:    5.1s finished\n"
     ]
    },
    {
     "name": "stdout",
     "output_type": "stream",
     "text": [
      "With components  5.0 the CV score is  0.8577049565421658\n",
      "{'learning_rate': 1, 'n_estimators': 37}\n",
      "Fitting 2 folds for each of 75 candidates, totalling 150 fits\n"
     ]
    },
    {
     "name": "stderr",
     "output_type": "stream",
     "text": [
      "[Parallel(n_jobs=-1)]: Using backend LokyBackend with 8 concurrent workers.\n",
      "[Parallel(n_jobs=-1)]: Done  34 tasks      | elapsed:    0.9s\n",
      "[Parallel(n_jobs=-1)]: Done 150 out of 150 | elapsed:    2.5s finished\n"
     ]
    },
    {
     "name": "stdout",
     "output_type": "stream",
     "text": [
      "With components  6.0 the CV score is  0.855297157622739\n",
      "{'learning_rate': 1, 'n_estimators': 145}\n",
      "Fitting 2 folds for each of 75 candidates, totalling 150 fits\n"
     ]
    },
    {
     "name": "stderr",
     "output_type": "stream",
     "text": [
      "[Parallel(n_jobs=-1)]: Using backend LokyBackend with 8 concurrent workers.\n",
      "[Parallel(n_jobs=-1)]: Done  34 tasks      | elapsed:    0.2s\n",
      "[Parallel(n_jobs=-1)]: Done 150 out of 150 | elapsed:    0.5s finished\n"
     ]
    },
    {
     "name": "stdout",
     "output_type": "stream",
     "text": [
      "With components  7.0 the CV score is  0.7208127789523138\n",
      "{'learning_rate': 10, 'n_estimators': 77}\n",
      "Fitting 2 folds for each of 75 candidates, totalling 150 fits\n"
     ]
    },
    {
     "name": "stderr",
     "output_type": "stream",
     "text": [
      "[Parallel(n_jobs=-1)]: Using backend LokyBackend with 8 concurrent workers.\n",
      "[Parallel(n_jobs=-1)]: Done  34 tasks      | elapsed:    0.2s\n",
      "[Parallel(n_jobs=-1)]: Done 150 out of 150 | elapsed:    0.7s finished\n"
     ]
    },
    {
     "name": "stdout",
     "output_type": "stream",
     "text": [
      "With components  8.0 the CV score is  0.8577049565421658\n",
      "{'learning_rate': 1, 'n_estimators': 37}\n",
      "Fitting 2 folds for each of 75 candidates, totalling 150 fits\n"
     ]
    },
    {
     "name": "stderr",
     "output_type": "stream",
     "text": [
      "[Parallel(n_jobs=-1)]: Using backend LokyBackend with 8 concurrent workers.\n",
      "[Parallel(n_jobs=-1)]: Done  34 tasks      | elapsed:    0.2s\n",
      "[Parallel(n_jobs=-1)]: Done 150 out of 150 | elapsed:    0.6s finished\n"
     ]
    },
    {
     "name": "stdout",
     "output_type": "stream",
     "text": [
      "With components  9.0 the CV score is  0.8784355179704018\n",
      "{'learning_rate': 0.1, 'n_estimators': 77}\n",
      "Fitting 2 folds for each of 75 candidates, totalling 150 fits\n"
     ]
    },
    {
     "name": "stderr",
     "output_type": "stream",
     "text": [
      "[Parallel(n_jobs=-1)]: Using backend LokyBackend with 8 concurrent workers.\n",
      "[Parallel(n_jobs=-1)]: Done  34 tasks      | elapsed:    0.2s\n",
      "[Parallel(n_jobs=-1)]: Done 135 out of 150 | elapsed:    0.6s remaining:    0.1s\n",
      "[Parallel(n_jobs=-1)]: Done 150 out of 150 | elapsed:    0.6s finished\n"
     ]
    },
    {
     "name": "stdout",
     "output_type": "stream",
     "text": [
      "With components  10.0 the CV score is  0.8783180643645759\n",
      "{'learning_rate': 0.01, 'n_estimators': 159}\n"
     ]
    }
   ],
   "source": [
    "depths = np.linspace(1,10,10)\n",
    "\n",
    "# Base Estimator\n",
    "# Number of trees in random forest\n",
    "n_estimators = [int(x) for x in np.linspace(start = 10, stop = 200, num = 15)]\n",
    "# Learning Rate\n",
    "learning_rate = [1e-3,1e-2,1e-1,1,10]\n",
    "\n",
    "# Create the random grid\n",
    "param_grid = {'n_estimators': n_estimators,\n",
    "               'learning_rate': learning_rate}\n",
    "scores = []\n",
    "params_scaled = []\n",
    "for depth in depths:\n",
    "    # Create a based model\n",
    "    ada = AdaBoostClassifier(base_estimator = DecisionTreeClassifier(max_depth = depth))\n",
    "    # Instantiate the grid search model\n",
    "    grid_search = GridSearchCV(estimator = ada, param_grid = param_grid, cv = 2, n_jobs = -1, verbose = 2, scoring = 'accuracy')\n",
    "    grid_search.fit(X_train, y_train)\n",
    "    dict_boosting = cross_validate(AdaBoostClassifier(**grid_search.best_params_), X_train, y_train, cv=9, scoring='accuracy', n_jobs=-1)\n",
    "    boosting_accuracy = np.mean(dict_boosting['test_score'])\n",
    "    print('With components ', depth, 'the CV score is ', boosting_accuracy)\n",
    "    print(grid_search.best_params_)"
   ]
  },
  {
   "cell_type": "code",
   "execution_count": 201,
   "metadata": {},
   "outputs": [
    {
     "data": {
      "text/plain": [
       "0.94"
      ]
     },
     "execution_count": 201,
     "metadata": {},
     "output_type": "execute_result"
    }
   ],
   "source": [
    "ada = AdaBoostClassifier(base_estimator = DecisionTreeClassifier(max_depth = 1), learning_rate = 0.1, n_estimators = 77).fit(X_train, y_train)\n",
    "ada.score(X_test,y_test)"
   ]
  },
  {
   "cell_type": "code",
   "execution_count": 202,
   "metadata": {},
   "outputs": [],
   "source": [
    "ada=0.87831"
   ]
  },
  {
   "cell_type": "markdown",
   "metadata": {},
   "source": [
    "#### 5. Fully Connected Neural Network"
   ]
  },
  {
   "cell_type": "code",
   "execution_count": 203,
   "metadata": {},
   "outputs": [],
   "source": [
    "df = pd.concat([pd.read_csv('states/'+file) for file in os.listdir('states/')])\n",
    "df_republican = df[df.republican != 0]"
   ]
  },
  {
   "cell_type": "code",
   "execution_count": 204,
   "metadata": {},
   "outputs": [],
   "source": [
    "train_df = df_republican[df_republican.Year != 2020]\n",
    "test_df = df_republican[df_republican.Year == 2020]"
   ]
  },
  {
   "cell_type": "code",
   "execution_count": 205,
   "metadata": {},
   "outputs": [],
   "source": [
    "train_df = train_df.drop(['Year', 'State'], axis = 1)\n",
    "test_df = test_df.drop(['Year', 'State'], axis = 1)"
   ]
  },
  {
   "cell_type": "code",
   "execution_count": 206,
   "metadata": {},
   "outputs": [],
   "source": [
    "X_train = train_df.drop('Result', axis=1)#.values\n",
    "y_train = train_df['Result']#.values\n",
    "X_test = test_df.drop('Result', axis=1)#.values\n",
    "y_test = test_df['Result']#.values"
   ]
  },
  {
   "cell_type": "code",
   "execution_count": 207,
   "metadata": {},
   "outputs": [
    {
     "data": {
      "text/html": [
       "<div>\n",
       "<style scoped>\n",
       "    .dataframe tbody tr th:only-of-type {\n",
       "        vertical-align: middle;\n",
       "    }\n",
       "\n",
       "    .dataframe tbody tr th {\n",
       "        vertical-align: top;\n",
       "    }\n",
       "\n",
       "    .dataframe thead th {\n",
       "        text-align: right;\n",
       "    }\n",
       "</style>\n",
       "<table border=\"1\" class=\"dataframe\">\n",
       "  <thead>\n",
       "    <tr style=\"text-align: right;\">\n",
       "      <th></th>\n",
       "      <th>month_10</th>\n",
       "      <th>month_11</th>\n",
       "      <th>month_9</th>\n",
       "      <th>republican</th>\n",
       "      <th>Rep_House_Prop</th>\n",
       "      <th>rep_loyalty</th>\n",
       "      <th>popular_vote_percentage</th>\n",
       "      <th>density</th>\n",
       "      <th>RDI</th>\n",
       "    </tr>\n",
       "  </thead>\n",
       "  <tbody>\n",
       "    <tr>\n",
       "      <th>0</th>\n",
       "      <td>51.797513</td>\n",
       "      <td>51.909088</td>\n",
       "      <td>51.657848</td>\n",
       "      <td>1</td>\n",
       "      <td>0.200000</td>\n",
       "      <td>0.5</td>\n",
       "      <td>53.37</td>\n",
       "      <td>106.259013</td>\n",
       "      <td>93086.74</td>\n",
       "    </tr>\n",
       "    <tr>\n",
       "      <th>3</th>\n",
       "      <td>35.651345</td>\n",
       "      <td>35.969860</td>\n",
       "      <td>38.271617</td>\n",
       "      <td>1</td>\n",
       "      <td>0.100000</td>\n",
       "      <td>0.7</td>\n",
       "      <td>37.45</td>\n",
       "      <td>113.717367</td>\n",
       "      <td>100758.19</td>\n",
       "    </tr>\n",
       "    <tr>\n",
       "      <th>5</th>\n",
       "      <td>40.574781</td>\n",
       "      <td>41.630290</td>\n",
       "      <td>40.888825</td>\n",
       "      <td>1</td>\n",
       "      <td>0.363636</td>\n",
       "      <td>0.5</td>\n",
       "      <td>40.72</td>\n",
       "      <td>123.352989</td>\n",
       "      <td>108448.50</td>\n",
       "    </tr>\n",
       "    <tr>\n",
       "      <th>7</th>\n",
       "      <td>48.459137</td>\n",
       "      <td>50.952625</td>\n",
       "      <td>44.657240</td>\n",
       "      <td>1</td>\n",
       "      <td>0.727273</td>\n",
       "      <td>0.7</td>\n",
       "      <td>47.87</td>\n",
       "      <td>138.411248</td>\n",
       "      <td>115406.50</td>\n",
       "    </tr>\n",
       "    <tr>\n",
       "      <th>8</th>\n",
       "      <td>54.915037</td>\n",
       "      <td>54.194542</td>\n",
       "      <td>55.351526</td>\n",
       "      <td>1</td>\n",
       "      <td>0.727273</td>\n",
       "      <td>0.8</td>\n",
       "      <td>50.73</td>\n",
       "      <td>147.528675</td>\n",
       "      <td>123452.01</td>\n",
       "    </tr>\n",
       "  </tbody>\n",
       "</table>\n",
       "</div>"
      ],
      "text/plain": [
       "    month_10   month_11    month_9  republican  Rep_House_Prop  rep_loyalty  \\\n",
       "0  51.797513  51.909088  51.657848           1        0.200000          0.5   \n",
       "3  35.651345  35.969860  38.271617           1        0.100000          0.7   \n",
       "5  40.574781  41.630290  40.888825           1        0.363636          0.5   \n",
       "7  48.459137  50.952625  44.657240           1        0.727273          0.7   \n",
       "8  54.915037  54.194542  55.351526           1        0.727273          0.8   \n",
       "\n",
       "   popular_vote_percentage     density        RDI  \n",
       "0                    53.37  106.259013   93086.74  \n",
       "3                    37.45  113.717367  100758.19  \n",
       "5                    40.72  123.352989  108448.50  \n",
       "7                    47.87  138.411248  115406.50  \n",
       "8                    50.73  147.528675  123452.01  "
      ]
     },
     "metadata": {},
     "output_type": "display_data"
    },
    {
     "data": {
      "text/html": [
       "<div>\n",
       "<style scoped>\n",
       "    .dataframe tbody tr th:only-of-type {\n",
       "        vertical-align: middle;\n",
       "    }\n",
       "\n",
       "    .dataframe tbody tr th {\n",
       "        vertical-align: top;\n",
       "    }\n",
       "\n",
       "    .dataframe thead th {\n",
       "        text-align: right;\n",
       "    }\n",
       "</style>\n",
       "<table border=\"1\" class=\"dataframe\">\n",
       "  <thead>\n",
       "    <tr style=\"text-align: right;\">\n",
       "      <th></th>\n",
       "      <th>month_10</th>\n",
       "      <th>month_11</th>\n",
       "      <th>month_9</th>\n",
       "      <th>republican</th>\n",
       "      <th>Rep_House_Prop</th>\n",
       "      <th>rep_loyalty</th>\n",
       "      <th>popular_vote_percentage</th>\n",
       "      <th>density</th>\n",
       "      <th>RDI</th>\n",
       "    </tr>\n",
       "  </thead>\n",
       "  <tbody>\n",
       "    <tr>\n",
       "      <th>16</th>\n",
       "      <td>46.657139</td>\n",
       "      <td>47.298710</td>\n",
       "      <td>47.170450</td>\n",
       "      <td>1</td>\n",
       "      <td>0.714286</td>\n",
       "      <td>1.0</td>\n",
       "      <td>46.525</td>\n",
       "      <td>180.617755</td>\n",
       "      <td>163524.50</td>\n",
       "    </tr>\n",
       "    <tr>\n",
       "      <th>16</th>\n",
       "      <td>46.311941</td>\n",
       "      <td>47.027987</td>\n",
       "      <td>46.593060</td>\n",
       "      <td>1</td>\n",
       "      <td>0.785714</td>\n",
       "      <td>0.8</td>\n",
       "      <td>46.525</td>\n",
       "      <td>197.170250</td>\n",
       "      <td>161835.04</td>\n",
       "    </tr>\n",
       "    <tr>\n",
       "      <th>12</th>\n",
       "      <td>66.209900</td>\n",
       "      <td>62.336910</td>\n",
       "      <td>66.226278</td>\n",
       "      <td>1</td>\n",
       "      <td>1.000000</td>\n",
       "      <td>1.0</td>\n",
       "      <td>46.525</td>\n",
       "      <td>5.796735</td>\n",
       "      <td>10593.19</td>\n",
       "    </tr>\n",
       "    <tr>\n",
       "      <th>16</th>\n",
       "      <td>42.653251</td>\n",
       "      <td>42.836953</td>\n",
       "      <td>43.010549</td>\n",
       "      <td>1</td>\n",
       "      <td>0.000000</td>\n",
       "      <td>0.0</td>\n",
       "      <td>46.525</td>\n",
       "      <td>146.642070</td>\n",
       "      <td>29220.57</td>\n",
       "    </tr>\n",
       "    <tr>\n",
       "      <th>16</th>\n",
       "      <td>43.585778</td>\n",
       "      <td>43.795763</td>\n",
       "      <td>43.493822</td>\n",
       "      <td>1</td>\n",
       "      <td>0.625000</td>\n",
       "      <td>0.4</td>\n",
       "      <td>46.525</td>\n",
       "      <td>89.335603</td>\n",
       "      <td>119627.08</td>\n",
       "    </tr>\n",
       "  </tbody>\n",
       "</table>\n",
       "</div>"
      ],
      "text/plain": [
       "     month_10   month_11    month_9  republican  Rep_House_Prop  rep_loyalty  \\\n",
       "16  46.657139  47.298710  47.170450           1        0.714286          1.0   \n",
       "16  46.311941  47.027987  46.593060           1        0.785714          0.8   \n",
       "12  66.209900  62.336910  66.226278           1        1.000000          1.0   \n",
       "16  42.653251  42.836953  43.010549           1        0.000000          0.0   \n",
       "16  43.585778  43.795763  43.493822           1        0.625000          0.4   \n",
       "\n",
       "    popular_vote_percentage     density        RDI  \n",
       "16                   46.525  180.617755  163524.50  \n",
       "16                   46.525  197.170250  161835.04  \n",
       "12                   46.525    5.796735   10593.19  \n",
       "16                   46.525  146.642070   29220.57  \n",
       "16                   46.525   89.335603  119627.08  "
      ]
     },
     "metadata": {},
     "output_type": "display_data"
    }
   ],
   "source": [
    "display(X_train.head())\n",
    "display(X_test.head())"
   ]
  },
  {
   "cell_type": "code",
   "execution_count": 208,
   "metadata": {},
   "outputs": [],
   "source": [
    "scaler = StandardScaler().fit(X_train)\n",
    "X_train = scaler.transform(X_train)\n",
    "X_test = scaler.transform(X_test)\n",
    "X_train = np.asarray(X_train)\n",
    "y_train = np.asarray(y_train)\n",
    "X_test = np.asarray(X_test)\n",
    "y_test = np.asarray(y_test)"
   ]
  },
  {
   "cell_type": "code",
   "execution_count": 209,
   "metadata": {},
   "outputs": [],
   "source": [
    "import tensorflow as tf\n",
    "\n",
    "# Defining an Early Stopping Condition\n",
    "callback = tf.keras.callbacks.EarlyStopping(monitor = 'val_loss', patience = 50)\n",
    "regularizer = 0.00015"
   ]
  },
  {
   "cell_type": "code",
   "execution_count": 210,
   "metadata": {},
   "outputs": [
    {
     "name": "stdout",
     "output_type": "stream",
     "text": [
      "Train on 315 samples, validate on 79 samples\n",
      "Epoch 1/40\n",
      "315/315 - 2s - loss: 0.6913 - accuracy: 0.5968 - val_loss: 0.7436 - val_accuracy: 0.4304\n",
      "Epoch 2/40\n",
      "315/315 - 0s - loss: 0.6496 - accuracy: 0.6000 - val_loss: 0.7096 - val_accuracy: 0.4557\n",
      "Epoch 3/40\n",
      "315/315 - 0s - loss: 0.6343 - accuracy: 0.5905 - val_loss: 0.6873 - val_accuracy: 0.4810\n",
      "Epoch 4/40\n",
      "315/315 - 0s - loss: 0.6238 - accuracy: 0.6159 - val_loss: 0.6663 - val_accuracy: 0.5443\n",
      "Epoch 5/40\n",
      "315/315 - 0s - loss: 0.5890 - accuracy: 0.6571 - val_loss: 0.6469 - val_accuracy: 0.6456\n",
      "Epoch 6/40\n",
      "315/315 - 0s - loss: 0.6049 - accuracy: 0.6413 - val_loss: 0.6274 - val_accuracy: 0.7089\n",
      "Epoch 7/40\n",
      "315/315 - 0s - loss: 0.5632 - accuracy: 0.6857 - val_loss: 0.6121 - val_accuracy: 0.7342\n",
      "Epoch 8/40\n",
      "315/315 - 0s - loss: 0.5597 - accuracy: 0.6952 - val_loss: 0.5982 - val_accuracy: 0.7468\n",
      "Epoch 9/40\n",
      "315/315 - 0s - loss: 0.5560 - accuracy: 0.7079 - val_loss: 0.5857 - val_accuracy: 0.7722\n",
      "Epoch 10/40\n",
      "315/315 - 0s - loss: 0.5704 - accuracy: 0.7143 - val_loss: 0.5754 - val_accuracy: 0.7975\n",
      "Epoch 11/40\n",
      "315/315 - 0s - loss: 0.5187 - accuracy: 0.7587 - val_loss: 0.5666 - val_accuracy: 0.7975\n",
      "Epoch 12/40\n",
      "315/315 - 0s - loss: 0.5230 - accuracy: 0.7778 - val_loss: 0.5586 - val_accuracy: 0.8101\n",
      "Epoch 13/40\n",
      "315/315 - 0s - loss: 0.5128 - accuracy: 0.7587 - val_loss: 0.5516 - val_accuracy: 0.8354\n",
      "Epoch 14/40\n",
      "315/315 - 0s - loss: 0.4853 - accuracy: 0.8381 - val_loss: 0.5456 - val_accuracy: 0.8228\n",
      "Epoch 15/40\n",
      "315/315 - 0s - loss: 0.4987 - accuracy: 0.7873 - val_loss: 0.5405 - val_accuracy: 0.8228\n",
      "Epoch 16/40\n",
      "315/315 - 0s - loss: 0.4861 - accuracy: 0.7810 - val_loss: 0.5348 - val_accuracy: 0.8608\n",
      "Epoch 17/40\n",
      "315/315 - 0s - loss: 0.4783 - accuracy: 0.8063 - val_loss: 0.5301 - val_accuracy: 0.8608\n",
      "Epoch 18/40\n",
      "315/315 - 0s - loss: 0.4903 - accuracy: 0.7905 - val_loss: 0.5252 - val_accuracy: 0.8608\n",
      "Epoch 19/40\n",
      "315/315 - 0s - loss: 0.5135 - accuracy: 0.7810 - val_loss: 0.5208 - val_accuracy: 0.8608\n",
      "Epoch 20/40\n",
      "315/315 - 0s - loss: 0.4812 - accuracy: 0.8127 - val_loss: 0.5166 - val_accuracy: 0.8608\n",
      "Epoch 21/40\n",
      "315/315 - 0s - loss: 0.4601 - accuracy: 0.8222 - val_loss: 0.5131 - val_accuracy: 0.8608\n",
      "Epoch 22/40\n",
      "315/315 - 0s - loss: 0.4718 - accuracy: 0.8349 - val_loss: 0.5100 - val_accuracy: 0.8608\n",
      "Epoch 23/40\n",
      "315/315 - 0s - loss: 0.4795 - accuracy: 0.8000 - val_loss: 0.5070 - val_accuracy: 0.8608\n",
      "Epoch 24/40\n",
      "315/315 - 0s - loss: 0.4490 - accuracy: 0.8476 - val_loss: 0.5049 - val_accuracy: 0.8608\n",
      "Epoch 25/40\n",
      "315/315 - 0s - loss: 0.4413 - accuracy: 0.8603 - val_loss: 0.5008 - val_accuracy: 0.8861\n",
      "Epoch 26/40\n",
      "315/315 - 0s - loss: 0.4461 - accuracy: 0.8032 - val_loss: 0.4978 - val_accuracy: 0.8861\n",
      "Epoch 27/40\n",
      "315/315 - 0s - loss: 0.4581 - accuracy: 0.8286 - val_loss: 0.4941 - val_accuracy: 0.8987\n",
      "Epoch 28/40\n",
      "315/315 - 0s - loss: 0.4691 - accuracy: 0.8063 - val_loss: 0.4907 - val_accuracy: 0.8987\n",
      "Epoch 29/40\n",
      "315/315 - 0s - loss: 0.4448 - accuracy: 0.8349 - val_loss: 0.4880 - val_accuracy: 0.8987\n",
      "Epoch 30/40\n",
      "315/315 - 0s - loss: 0.4347 - accuracy: 0.8254 - val_loss: 0.4852 - val_accuracy: 0.8987\n",
      "Epoch 31/40\n",
      "315/315 - 0s - loss: 0.4158 - accuracy: 0.8413 - val_loss: 0.4824 - val_accuracy: 0.8987\n",
      "Epoch 32/40\n",
      "315/315 - 0s - loss: 0.4340 - accuracy: 0.8540 - val_loss: 0.4812 - val_accuracy: 0.8987\n",
      "Epoch 33/40\n",
      "315/315 - 0s - loss: 0.4161 - accuracy: 0.8444 - val_loss: 0.4799 - val_accuracy: 0.8987\n",
      "Epoch 34/40\n",
      "315/315 - 0s - loss: 0.4444 - accuracy: 0.8222 - val_loss: 0.4780 - val_accuracy: 0.8987\n",
      "Epoch 35/40\n",
      "315/315 - 0s - loss: 0.4329 - accuracy: 0.8444 - val_loss: 0.4751 - val_accuracy: 0.8987\n",
      "Epoch 36/40\n",
      "315/315 - 0s - loss: 0.4535 - accuracy: 0.8095 - val_loss: 0.4714 - val_accuracy: 0.8987\n",
      "Epoch 37/40\n",
      "315/315 - 0s - loss: 0.4053 - accuracy: 0.8571 - val_loss: 0.4695 - val_accuracy: 0.8987\n",
      "Epoch 38/40\n",
      "315/315 - 0s - loss: 0.4400 - accuracy: 0.8571 - val_loss: 0.4663 - val_accuracy: 0.8987\n",
      "Epoch 39/40\n",
      "315/315 - 0s - loss: 0.4267 - accuracy: 0.8381 - val_loss: 0.4630 - val_accuracy: 0.8987\n",
      "Epoch 40/40\n",
      "315/315 - 0s - loss: 0.4123 - accuracy: 0.8508 - val_loss: 0.4632 - val_accuracy: 0.8987\n"
     ]
    }
   ],
   "source": [
    "model = tf.keras.models.Sequential(name = 'ANN')\n",
    "\n",
    "model.add(tf.keras.layers.Dense(6, activation='relu', input_shape=(9,), name='hidden1', kernel_regularizer = tf.keras.regularizers.l1(regularizer)))\n",
    "model.add(tf.keras.layers.Dropout(0.25))\n",
    "model.add(tf.keras.layers.Dense(6, activation='relu', name='hidden2', kernel_regularizer = tf.keras.regularizers.l1(regularizer)))\n",
    "model.add(tf.keras.layers.Dropout(0.25))\n",
    "model.add(tf.keras.layers.Dense(4, activation='relu', name='hidden3', kernel_regularizer = tf.keras.regularizers.l1(regularizer)))\n",
    "model.add(tf.keras.layers.Dropout(0.25))\n",
    "model.add(tf.keras.layers.Dense(1, activation = 'sigmoid', name = 'output'))\n",
    "\n",
    "model.compile(optimizer='adam', loss=\"binary_crossentropy\", metrics=['accuracy'])\n",
    "history = model.fit(X_train, y_train, epochs=40, batch_size=16, verbose=2, validation_split=0.2, callbacks=[callback])"
   ]
  },
  {
   "cell_type": "code",
   "execution_count": 211,
   "metadata": {},
   "outputs": [
    {
     "name": "stdout",
     "output_type": "stream",
     "text": [
      "50/1 - 0s - loss: 0.3428 - accuracy: 0.9600\n",
      "Test accuracy=0.9599999785423279\n"
     ]
    }
   ],
   "source": [
    "test_loss, test_accuracy = model.evaluate(X_test, y_test, verbose=2)\n",
    "print(f'Test accuracy={test_accuracy}')"
   ]
  },
  {
   "cell_type": "code",
   "execution_count": 212,
   "metadata": {},
   "outputs": [
    {
     "name": "stdout",
     "output_type": "stream",
     "text": [
      "Train on 275 samples, validate on 119 samples\n",
      "Epoch 1/150\n",
      "275/275 [==============================] - 1s 3ms/sample - loss: 0.7159 - accuracy: 0.4291 - val_loss: 0.5892 - val_accuracy: 0.6050\n",
      "Epoch 2/150\n",
      "275/275 [==============================] - 0s 231us/sample - loss: 0.6941 - accuracy: 0.4545 - val_loss: 0.5710 - val_accuracy: 0.6218\n",
      "Epoch 3/150\n",
      "275/275 [==============================] - 0s 310us/sample - loss: 0.6728 - accuracy: 0.4873 - val_loss: 0.5543 - val_accuracy: 0.6303\n",
      "Epoch 4/150\n",
      "275/275 [==============================] - 0s 319us/sample - loss: 0.6549 - accuracy: 0.5055 - val_loss: 0.5388 - val_accuracy: 0.6723\n",
      "Epoch 5/150\n",
      "275/275 [==============================] - 0s 255us/sample - loss: 0.6377 - accuracy: 0.5600 - val_loss: 0.5249 - val_accuracy: 0.7311\n",
      "Epoch 6/150\n",
      "275/275 [==============================] - 0s 418us/sample - loss: 0.6219 - accuracy: 0.6073 - val_loss: 0.5117 - val_accuracy: 0.7647\n",
      "Epoch 7/150\n",
      "275/275 [==============================] - 0s 363us/sample - loss: 0.6067 - accuracy: 0.6545 - val_loss: 0.4993 - val_accuracy: 0.7647\n",
      "Epoch 8/150\n",
      "275/275 [==============================] - 0s 255us/sample - loss: 0.5927 - accuracy: 0.6873 - val_loss: 0.4870 - val_accuracy: 0.7731\n",
      "Epoch 9/150\n",
      "275/275 [==============================] - 0s 257us/sample - loss: 0.5784 - accuracy: 0.7273 - val_loss: 0.4753 - val_accuracy: 0.8067\n",
      "Epoch 10/150\n",
      "275/275 [==============================] - 0s 249us/sample - loss: 0.5649 - accuracy: 0.7455 - val_loss: 0.4640 - val_accuracy: 0.8235\n",
      "Epoch 11/150\n",
      "275/275 [==============================] - 0s 267us/sample - loss: 0.5519 - accuracy: 0.7527 - val_loss: 0.4527 - val_accuracy: 0.8319\n",
      "Epoch 12/150\n",
      "275/275 [==============================] - 0s 387us/sample - loss: 0.5388 - accuracy: 0.7636 - val_loss: 0.4418 - val_accuracy: 0.8571\n",
      "Epoch 13/150\n",
      "275/275 [==============================] - 0s 359us/sample - loss: 0.5267 - accuracy: 0.7709 - val_loss: 0.4311 - val_accuracy: 0.8571\n",
      "Epoch 14/150\n",
      "275/275 [==============================] - 0s 274us/sample - loss: 0.5146 - accuracy: 0.7745 - val_loss: 0.4210 - val_accuracy: 0.8655\n",
      "Epoch 15/150\n",
      "275/275 [==============================] - 0s 247us/sample - loss: 0.5029 - accuracy: 0.7818 - val_loss: 0.4113 - val_accuracy: 0.8655\n",
      "Epoch 16/150\n",
      "275/275 [==============================] - 0s 246us/sample - loss: 0.4914 - accuracy: 0.7855 - val_loss: 0.4020 - val_accuracy: 0.8655\n",
      "Epoch 17/150\n",
      "275/275 [==============================] - 0s 242us/sample - loss: 0.4810 - accuracy: 0.7927 - val_loss: 0.3925 - val_accuracy: 0.8655\n",
      "Epoch 18/150\n",
      "275/275 [==============================] - 0s 260us/sample - loss: 0.4698 - accuracy: 0.7964 - val_loss: 0.3837 - val_accuracy: 0.8739\n",
      "Epoch 19/150\n",
      "275/275 [==============================] - 0s 271us/sample - loss: 0.4596 - accuracy: 0.8109 - val_loss: 0.3752 - val_accuracy: 0.8739\n",
      "Epoch 20/150\n",
      "275/275 [==============================] - 0s 240us/sample - loss: 0.4498 - accuracy: 0.8109 - val_loss: 0.3671 - val_accuracy: 0.8739\n",
      "Epoch 21/150\n",
      "275/275 [==============================] - 0s 248us/sample - loss: 0.4404 - accuracy: 0.8182 - val_loss: 0.3594 - val_accuracy: 0.8739\n",
      "Epoch 22/150\n",
      "275/275 [==============================] - 0s 268us/sample - loss: 0.4312 - accuracy: 0.8182 - val_loss: 0.3522 - val_accuracy: 0.8739\n",
      "Epoch 23/150\n",
      "275/275 [==============================] - 0s 252us/sample - loss: 0.4228 - accuracy: 0.8182 - val_loss: 0.3454 - val_accuracy: 0.8739\n",
      "Epoch 24/150\n",
      "275/275 [==============================] - 0s 237us/sample - loss: 0.4144 - accuracy: 0.8182 - val_loss: 0.3392 - val_accuracy: 0.8739\n",
      "Epoch 25/150\n",
      "275/275 [==============================] - 0s 283us/sample - loss: 0.4068 - accuracy: 0.8255 - val_loss: 0.3332 - val_accuracy: 0.8739\n",
      "Epoch 26/150\n",
      "275/275 [==============================] - 0s 257us/sample - loss: 0.3995 - accuracy: 0.8327 - val_loss: 0.3274 - val_accuracy: 0.8739\n",
      "Epoch 27/150\n",
      "275/275 [==============================] - 0s 252us/sample - loss: 0.3925 - accuracy: 0.8400 - val_loss: 0.3219 - val_accuracy: 0.8739\n",
      "Epoch 28/150\n",
      "275/275 [==============================] - 0s 233us/sample - loss: 0.3860 - accuracy: 0.8509 - val_loss: 0.3172 - val_accuracy: 0.8739\n",
      "Epoch 29/150\n",
      "275/275 [==============================] - 0s 227us/sample - loss: 0.3793 - accuracy: 0.8509 - val_loss: 0.3128 - val_accuracy: 0.8739\n",
      "Epoch 30/150\n",
      "275/275 [==============================] - 0s 252us/sample - loss: 0.3736 - accuracy: 0.8545 - val_loss: 0.3085 - val_accuracy: 0.8739\n",
      "Epoch 31/150\n",
      "275/275 [==============================] - 0s 280us/sample - loss: 0.3682 - accuracy: 0.8582 - val_loss: 0.3045 - val_accuracy: 0.8739\n",
      "Epoch 32/150\n",
      "275/275 [==============================] - 0s 255us/sample - loss: 0.3628 - accuracy: 0.8582 - val_loss: 0.3007 - val_accuracy: 0.8739\n",
      "Epoch 33/150\n",
      "275/275 [==============================] - 0s 231us/sample - loss: 0.3581 - accuracy: 0.8582 - val_loss: 0.2970 - val_accuracy: 0.8739\n",
      "Epoch 34/150\n",
      "275/275 [==============================] - 0s 232us/sample - loss: 0.3533 - accuracy: 0.8582 - val_loss: 0.2937 - val_accuracy: 0.8739\n",
      "Epoch 35/150\n",
      "275/275 [==============================] - 0s 231us/sample - loss: 0.3488 - accuracy: 0.8655 - val_loss: 0.2908 - val_accuracy: 0.8739\n",
      "Epoch 36/150\n",
      "275/275 [==============================] - 0s 225us/sample - loss: 0.3446 - accuracy: 0.8655 - val_loss: 0.2882 - val_accuracy: 0.8739\n",
      "Epoch 37/150\n",
      "275/275 [==============================] - 0s 277us/sample - loss: 0.3407 - accuracy: 0.8655 - val_loss: 0.2856 - val_accuracy: 0.8655\n",
      "Epoch 38/150\n",
      "275/275 [==============================] - 0s 205us/sample - loss: 0.3370 - accuracy: 0.8655 - val_loss: 0.2832 - val_accuracy: 0.8655\n",
      "Epoch 39/150\n",
      "275/275 [==============================] - 0s 247us/sample - loss: 0.3335 - accuracy: 0.8655 - val_loss: 0.2806 - val_accuracy: 0.8655\n",
      "Epoch 40/150\n",
      "275/275 [==============================] - 0s 257us/sample - loss: 0.3299 - accuracy: 0.8655 - val_loss: 0.2787 - val_accuracy: 0.8655\n",
      "Epoch 41/150\n",
      "275/275 [==============================] - 0s 210us/sample - loss: 0.3266 - accuracy: 0.8691 - val_loss: 0.2769 - val_accuracy: 0.8655\n",
      "Epoch 42/150\n",
      "275/275 [==============================] - 0s 255us/sample - loss: 0.3236 - accuracy: 0.8691 - val_loss: 0.2753 - val_accuracy: 0.8655\n",
      "Epoch 43/150\n",
      "275/275 [==============================] - 0s 251us/sample - loss: 0.3208 - accuracy: 0.8691 - val_loss: 0.2734 - val_accuracy: 0.8655\n",
      "Epoch 44/150\n",
      "275/275 [==============================] - 0s 278us/sample - loss: 0.3178 - accuracy: 0.8691 - val_loss: 0.2718 - val_accuracy: 0.8655\n",
      "Epoch 45/150\n",
      "275/275 [==============================] - 0s 244us/sample - loss: 0.3150 - accuracy: 0.8691 - val_loss: 0.2704 - val_accuracy: 0.8655\n",
      "Epoch 46/150\n",
      "275/275 [==============================] - 0s 217us/sample - loss: 0.3126 - accuracy: 0.8691 - val_loss: 0.2691 - val_accuracy: 0.8655\n",
      "Epoch 47/150\n",
      "275/275 [==============================] - 0s 207us/sample - loss: 0.3101 - accuracy: 0.8691 - val_loss: 0.2678 - val_accuracy: 0.8655\n",
      "Epoch 48/150\n",
      "275/275 [==============================] - 0s 249us/sample - loss: 0.3077 - accuracy: 0.8691 - val_loss: 0.2666 - val_accuracy: 0.8655\n",
      "Epoch 49/150\n",
      "275/275 [==============================] - 0s 266us/sample - loss: 0.3055 - accuracy: 0.8691 - val_loss: 0.2655 - val_accuracy: 0.8655\n",
      "Epoch 50/150\n",
      "275/275 [==============================] - 0s 261us/sample - loss: 0.3032 - accuracy: 0.8727 - val_loss: 0.2645 - val_accuracy: 0.8739\n",
      "Epoch 51/150\n",
      "275/275 [==============================] - 0s 255us/sample - loss: 0.3012 - accuracy: 0.8727 - val_loss: 0.2636 - val_accuracy: 0.8739\n",
      "Epoch 52/150\n",
      "275/275 [==============================] - 0s 205us/sample - loss: 0.2992 - accuracy: 0.8764 - val_loss: 0.2627 - val_accuracy: 0.8739\n",
      "Epoch 53/150\n",
      "275/275 [==============================] - 0s 261us/sample - loss: 0.2973 - accuracy: 0.8764 - val_loss: 0.2617 - val_accuracy: 0.8739\n",
      "Epoch 54/150\n",
      "275/275 [==============================] - 0s 253us/sample - loss: 0.2956 - accuracy: 0.8764 - val_loss: 0.2607 - val_accuracy: 0.8739\n",
      "Epoch 55/150\n",
      "275/275 [==============================] - 0s 262us/sample - loss: 0.2939 - accuracy: 0.8764 - val_loss: 0.2598 - val_accuracy: 0.8739\n",
      "Epoch 56/150\n",
      "275/275 [==============================] - 0s 247us/sample - loss: 0.2921 - accuracy: 0.8764 - val_loss: 0.2592 - val_accuracy: 0.8739\n",
      "Epoch 57/150\n",
      "275/275 [==============================] - 0s 253us/sample - loss: 0.2904 - accuracy: 0.8764 - val_loss: 0.2584 - val_accuracy: 0.8739\n",
      "Epoch 58/150\n",
      "275/275 [==============================] - 0s 239us/sample - loss: 0.2888 - accuracy: 0.8764 - val_loss: 0.2578 - val_accuracy: 0.8739\n",
      "Epoch 59/150\n",
      "275/275 [==============================] - 0s 237us/sample - loss: 0.2874 - accuracy: 0.8764 - val_loss: 0.2570 - val_accuracy: 0.8739\n",
      "Epoch 60/150\n",
      "275/275 [==============================] - 0s 271us/sample - loss: 0.2858 - accuracy: 0.8800 - val_loss: 0.2564 - val_accuracy: 0.8824\n",
      "Epoch 61/150\n",
      "275/275 [==============================] - 0s 283us/sample - loss: 0.2845 - accuracy: 0.8836 - val_loss: 0.2557 - val_accuracy: 0.8824\n",
      "Epoch 62/150\n",
      "275/275 [==============================] - 0s 281us/sample - loss: 0.2832 - accuracy: 0.8836 - val_loss: 0.2550 - val_accuracy: 0.8824\n",
      "Epoch 63/150\n",
      "275/275 [==============================] - 0s 260us/sample - loss: 0.2819 - accuracy: 0.8836 - val_loss: 0.2546 - val_accuracy: 0.8824\n",
      "Epoch 64/150\n",
      "275/275 [==============================] - 0s 241us/sample - loss: 0.2808 - accuracy: 0.8836 - val_loss: 0.2541 - val_accuracy: 0.8824\n",
      "Epoch 65/150\n",
      "275/275 [==============================] - 0s 242us/sample - loss: 0.2797 - accuracy: 0.8836 - val_loss: 0.2538 - val_accuracy: 0.8824\n",
      "Epoch 66/150\n",
      "275/275 [==============================] - 0s 274us/sample - loss: 0.2784 - accuracy: 0.8836 - val_loss: 0.2534 - val_accuracy: 0.8824\n",
      "Epoch 67/150\n",
      "275/275 [==============================] - 0s 278us/sample - loss: 0.2774 - accuracy: 0.8836 - val_loss: 0.2531 - val_accuracy: 0.8824\n",
      "Epoch 68/150\n",
      "275/275 [==============================] - 0s 271us/sample - loss: 0.2763 - accuracy: 0.8836 - val_loss: 0.2528 - val_accuracy: 0.8824\n",
      "Epoch 69/150\n",
      "275/275 [==============================] - 0s 255us/sample - loss: 0.2754 - accuracy: 0.8836 - val_loss: 0.2523 - val_accuracy: 0.8824\n",
      "Epoch 70/150\n",
      "275/275 [==============================] - 0s 256us/sample - loss: 0.2743 - accuracy: 0.8836 - val_loss: 0.2520 - val_accuracy: 0.8824\n",
      "Epoch 71/150\n",
      "275/275 [==============================] - 0s 258us/sample - loss: 0.2733 - accuracy: 0.8836 - val_loss: 0.2518 - val_accuracy: 0.8824\n",
      "Epoch 72/150\n",
      "275/275 [==============================] - 0s 238us/sample - loss: 0.2721 - accuracy: 0.8836 - val_loss: 0.2517 - val_accuracy: 0.8824\n",
      "Epoch 73/150\n",
      "275/275 [==============================] - 0s 240us/sample - loss: 0.2712 - accuracy: 0.8836 - val_loss: 0.2517 - val_accuracy: 0.8908\n",
      "Epoch 74/150\n",
      "275/275 [==============================] - 0s 240us/sample - loss: 0.2703 - accuracy: 0.8836 - val_loss: 0.2517 - val_accuracy: 0.8908\n",
      "Epoch 75/150\n",
      "275/275 [==============================] - 0s 251us/sample - loss: 0.2692 - accuracy: 0.8836 - val_loss: 0.2515 - val_accuracy: 0.8992\n",
      "Epoch 76/150\n",
      "275/275 [==============================] - 0s 236us/sample - loss: 0.2684 - accuracy: 0.8836 - val_loss: 0.2514 - val_accuracy: 0.8992\n",
      "Epoch 77/150\n",
      "275/275 [==============================] - 0s 254us/sample - loss: 0.2675 - accuracy: 0.8836 - val_loss: 0.2512 - val_accuracy: 0.8992\n",
      "Epoch 78/150\n",
      "275/275 [==============================] - 0s 229us/sample - loss: 0.2668 - accuracy: 0.8836 - val_loss: 0.2511 - val_accuracy: 0.8992\n",
      "Epoch 79/150\n",
      "275/275 [==============================] - 0s 275us/sample - loss: 0.2659 - accuracy: 0.8836 - val_loss: 0.2510 - val_accuracy: 0.8992\n",
      "Epoch 80/150\n",
      "275/275 [==============================] - 0s 297us/sample - loss: 0.2652 - accuracy: 0.8836 - val_loss: 0.2507 - val_accuracy: 0.8992\n",
      "Epoch 81/150\n",
      "275/275 [==============================] - 0s 265us/sample - loss: 0.2644 - accuracy: 0.8836 - val_loss: 0.2506 - val_accuracy: 0.8992\n",
      "Epoch 82/150\n",
      "275/275 [==============================] - 0s 267us/sample - loss: 0.2637 - accuracy: 0.8836 - val_loss: 0.2504 - val_accuracy: 0.8992\n",
      "Epoch 83/150\n",
      "275/275 [==============================] - 0s 277us/sample - loss: 0.2630 - accuracy: 0.8836 - val_loss: 0.2504 - val_accuracy: 0.8992\n",
      "Epoch 84/150\n",
      "275/275 [==============================] - 0s 259us/sample - loss: 0.2623 - accuracy: 0.8836 - val_loss: 0.2502 - val_accuracy: 0.8992\n",
      "Epoch 85/150\n",
      "275/275 [==============================] - 0s 246us/sample - loss: 0.2618 - accuracy: 0.8873 - val_loss: 0.2501 - val_accuracy: 0.9076\n",
      "Epoch 86/150\n",
      "275/275 [==============================] - 0s 244us/sample - loss: 0.2611 - accuracy: 0.8873 - val_loss: 0.2501 - val_accuracy: 0.9076\n",
      "Epoch 87/150\n",
      "275/275 [==============================] - 0s 245us/sample - loss: 0.2605 - accuracy: 0.8873 - val_loss: 0.2501 - val_accuracy: 0.9076\n",
      "Epoch 88/150\n",
      "275/275 [==============================] - 0s 250us/sample - loss: 0.2598 - accuracy: 0.8873 - val_loss: 0.2500 - val_accuracy: 0.9076\n",
      "Epoch 89/150\n",
      "275/275 [==============================] - 0s 253us/sample - loss: 0.2593 - accuracy: 0.8873 - val_loss: 0.2499 - val_accuracy: 0.9076\n",
      "Epoch 90/150\n",
      "275/275 [==============================] - 0s 243us/sample - loss: 0.2586 - accuracy: 0.8873 - val_loss: 0.2497 - val_accuracy: 0.9076\n",
      "Epoch 91/150\n",
      "275/275 [==============================] - 0s 249us/sample - loss: 0.2581 - accuracy: 0.8873 - val_loss: 0.2496 - val_accuracy: 0.8992\n",
      "Epoch 92/150\n",
      "275/275 [==============================] - 0s 272us/sample - loss: 0.2575 - accuracy: 0.8873 - val_loss: 0.2495 - val_accuracy: 0.8992\n",
      "Epoch 93/150\n",
      "275/275 [==============================] - 0s 253us/sample - loss: 0.2567 - accuracy: 0.8873 - val_loss: 0.2496 - val_accuracy: 0.8992\n",
      "Epoch 94/150\n",
      "275/275 [==============================] - 0s 244us/sample - loss: 0.2562 - accuracy: 0.8873 - val_loss: 0.2498 - val_accuracy: 0.8992\n",
      "Epoch 95/150\n",
      "275/275 [==============================] - 0s 267us/sample - loss: 0.2556 - accuracy: 0.8909 - val_loss: 0.2497 - val_accuracy: 0.8992\n",
      "Epoch 96/150\n",
      "275/275 [==============================] - 0s 220us/sample - loss: 0.2551 - accuracy: 0.8909 - val_loss: 0.2498 - val_accuracy: 0.8992\n",
      "Epoch 97/150\n",
      "275/275 [==============================] - 0s 259us/sample - loss: 0.2545 - accuracy: 0.8909 - val_loss: 0.2500 - val_accuracy: 0.8992\n",
      "Epoch 98/150\n",
      "275/275 [==============================] - 0s 222us/sample - loss: 0.2539 - accuracy: 0.8909 - val_loss: 0.2500 - val_accuracy: 0.8992\n",
      "Epoch 99/150\n",
      "275/275 [==============================] - 0s 255us/sample - loss: 0.2535 - accuracy: 0.8909 - val_loss: 0.2501 - val_accuracy: 0.8992\n",
      "Epoch 100/150\n",
      "275/275 [==============================] - 0s 261us/sample - loss: 0.2530 - accuracy: 0.8909 - val_loss: 0.2498 - val_accuracy: 0.8992\n",
      "Epoch 101/150\n",
      "275/275 [==============================] - 0s 256us/sample - loss: 0.2524 - accuracy: 0.8909 - val_loss: 0.2499 - val_accuracy: 0.8992\n",
      "Epoch 102/150\n",
      "275/275 [==============================] - 0s 255us/sample - loss: 0.2520 - accuracy: 0.8909 - val_loss: 0.2501 - val_accuracy: 0.8992\n",
      "Epoch 103/150\n",
      "275/275 [==============================] - 0s 269us/sample - loss: 0.2515 - accuracy: 0.8909 - val_loss: 0.2500 - val_accuracy: 0.8992\n",
      "Epoch 104/150\n",
      "275/275 [==============================] - 0s 270us/sample - loss: 0.2510 - accuracy: 0.8945 - val_loss: 0.2499 - val_accuracy: 0.8992\n",
      "Epoch 105/150\n",
      "275/275 [==============================] - 0s 195us/sample - loss: 0.2506 - accuracy: 0.8945 - val_loss: 0.2499 - val_accuracy: 0.8992\n",
      "Epoch 106/150\n",
      "275/275 [==============================] - 0s 195us/sample - loss: 0.2502 - accuracy: 0.8945 - val_loss: 0.2501 - val_accuracy: 0.8992\n",
      "Epoch 107/150\n",
      "275/275 [==============================] - 0s 192us/sample - loss: 0.2498 - accuracy: 0.8982 - val_loss: 0.2500 - val_accuracy: 0.8992\n",
      "Epoch 108/150\n",
      "275/275 [==============================] - 0s 188us/sample - loss: 0.2493 - accuracy: 0.8982 - val_loss: 0.2501 - val_accuracy: 0.8992\n",
      "Epoch 109/150\n",
      "275/275 [==============================] - 0s 265us/sample - loss: 0.2488 - accuracy: 0.8982 - val_loss: 0.2501 - val_accuracy: 0.8992\n",
      "Epoch 110/150\n",
      "275/275 [==============================] - 0s 259us/sample - loss: 0.2485 - accuracy: 0.8982 - val_loss: 0.2499 - val_accuracy: 0.8992\n",
      "Epoch 111/150\n"
     ]
    },
    {
     "name": "stdout",
     "output_type": "stream",
     "text": [
      "275/275 [==============================] - 0s 240us/sample - loss: 0.2481 - accuracy: 0.9018 - val_loss: 0.2502 - val_accuracy: 0.8992\n",
      "Epoch 112/150\n",
      "275/275 [==============================] - 0s 251us/sample - loss: 0.2476 - accuracy: 0.9018 - val_loss: 0.2502 - val_accuracy: 0.8992\n",
      "Epoch 113/150\n",
      "275/275 [==============================] - 0s 253us/sample - loss: 0.2473 - accuracy: 0.9018 - val_loss: 0.2504 - val_accuracy: 0.8992\n",
      "Epoch 114/150\n",
      "275/275 [==============================] - 0s 268us/sample - loss: 0.2469 - accuracy: 0.9018 - val_loss: 0.2504 - val_accuracy: 0.8992\n",
      "Epoch 115/150\n",
      "275/275 [==============================] - 0s 251us/sample - loss: 0.2466 - accuracy: 0.9018 - val_loss: 0.2505 - val_accuracy: 0.8992\n",
      "Epoch 116/150\n",
      "275/275 [==============================] - 0s 255us/sample - loss: 0.2461 - accuracy: 0.9018 - val_loss: 0.2506 - val_accuracy: 0.8992\n",
      "Epoch 117/150\n",
      "275/275 [==============================] - 0s 281us/sample - loss: 0.2457 - accuracy: 0.9018 - val_loss: 0.2508 - val_accuracy: 0.8992\n",
      "Epoch 118/150\n",
      "275/275 [==============================] - 0s 275us/sample - loss: 0.2454 - accuracy: 0.9018 - val_loss: 0.2509 - val_accuracy: 0.8992\n",
      "Epoch 119/150\n",
      "275/275 [==============================] - 0s 273us/sample - loss: 0.2452 - accuracy: 0.9018 - val_loss: 0.2514 - val_accuracy: 0.8992\n",
      "Epoch 120/150\n",
      "275/275 [==============================] - 0s 271us/sample - loss: 0.2446 - accuracy: 0.9018 - val_loss: 0.2514 - val_accuracy: 0.8992\n",
      "Epoch 121/150\n",
      "275/275 [==============================] - 0s 268us/sample - loss: 0.2442 - accuracy: 0.9018 - val_loss: 0.2514 - val_accuracy: 0.8992\n",
      "Epoch 122/150\n",
      "275/275 [==============================] - 0s 286us/sample - loss: 0.2440 - accuracy: 0.8982 - val_loss: 0.2513 - val_accuracy: 0.8992\n",
      "Epoch 123/150\n",
      "275/275 [==============================] - 0s 260us/sample - loss: 0.2436 - accuracy: 0.8982 - val_loss: 0.2515 - val_accuracy: 0.8992\n",
      "Epoch 124/150\n",
      "275/275 [==============================] - 0s 235us/sample - loss: 0.2432 - accuracy: 0.9018 - val_loss: 0.2515 - val_accuracy: 0.8992\n",
      "Epoch 125/150\n",
      "275/275 [==============================] - 0s 235us/sample - loss: 0.2429 - accuracy: 0.9018 - val_loss: 0.2516 - val_accuracy: 0.8992\n",
      "Epoch 126/150\n",
      "275/275 [==============================] - 0s 241us/sample - loss: 0.2426 - accuracy: 0.9018 - val_loss: 0.2515 - val_accuracy: 0.8992\n",
      "Epoch 127/150\n",
      "275/275 [==============================] - 0s 240us/sample - loss: 0.2422 - accuracy: 0.9018 - val_loss: 0.2515 - val_accuracy: 0.8992\n",
      "Epoch 128/150\n",
      "275/275 [==============================] - 0s 245us/sample - loss: 0.2420 - accuracy: 0.9018 - val_loss: 0.2516 - val_accuracy: 0.8992\n",
      "Epoch 129/150\n",
      "275/275 [==============================] - 0s 226us/sample - loss: 0.2416 - accuracy: 0.9018 - val_loss: 0.2519 - val_accuracy: 0.8992\n",
      "Epoch 130/150\n",
      "275/275 [==============================] - 0s 256us/sample - loss: 0.2413 - accuracy: 0.9018 - val_loss: 0.2520 - val_accuracy: 0.8992\n",
      "Epoch 131/150\n",
      "275/275 [==============================] - 0s 262us/sample - loss: 0.2410 - accuracy: 0.9018 - val_loss: 0.2523 - val_accuracy: 0.8992\n",
      "Epoch 132/150\n",
      "275/275 [==============================] - 0s 255us/sample - loss: 0.2408 - accuracy: 0.9018 - val_loss: 0.2525 - val_accuracy: 0.8992\n",
      "Epoch 133/150\n",
      "275/275 [==============================] - 0s 260us/sample - loss: 0.2405 - accuracy: 0.9018 - val_loss: 0.2527 - val_accuracy: 0.8992\n",
      "Epoch 134/150\n",
      "275/275 [==============================] - 0s 276us/sample - loss: 0.2402 - accuracy: 0.9055 - val_loss: 0.2527 - val_accuracy: 0.8992\n",
      "Epoch 135/150\n",
      "275/275 [==============================] - 0s 264us/sample - loss: 0.2400 - accuracy: 0.9055 - val_loss: 0.2528 - val_accuracy: 0.8992\n",
      "Epoch 136/150\n",
      "275/275 [==============================] - 0s 287us/sample - loss: 0.2396 - accuracy: 0.9055 - val_loss: 0.2531 - val_accuracy: 0.8992\n",
      "Epoch 137/150\n",
      "275/275 [==============================] - 0s 235us/sample - loss: 0.2394 - accuracy: 0.9055 - val_loss: 0.2533 - val_accuracy: 0.8992\n",
      "Epoch 138/150\n",
      "275/275 [==============================] - 0s 276us/sample - loss: 0.2391 - accuracy: 0.9055 - val_loss: 0.2535 - val_accuracy: 0.8992\n",
      "Epoch 139/150\n",
      "275/275 [==============================] - 0s 285us/sample - loss: 0.2389 - accuracy: 0.9055 - val_loss: 0.2535 - val_accuracy: 0.8992\n",
      "Epoch 140/150\n",
      "275/275 [==============================] - 0s 250us/sample - loss: 0.2386 - accuracy: 0.9055 - val_loss: 0.2537 - val_accuracy: 0.8992\n",
      "Epoch 141/150\n",
      "275/275 [==============================] - 0s 252us/sample - loss: 0.2384 - accuracy: 0.9055 - val_loss: 0.2539 - val_accuracy: 0.8992\n",
      "Epoch 142/150\n",
      "275/275 [==============================] - 0s 259us/sample - loss: 0.2382 - accuracy: 0.9055 - val_loss: 0.2540 - val_accuracy: 0.8992\n",
      "Epoch 143/150\n",
      "275/275 [==============================] - 0s 245us/sample - loss: 0.2379 - accuracy: 0.9055 - val_loss: 0.2540 - val_accuracy: 0.8992\n",
      "Epoch 144/150\n",
      "275/275 [==============================] - 0s 236us/sample - loss: 0.2377 - accuracy: 0.9055 - val_loss: 0.2541 - val_accuracy: 0.8992\n",
      "Epoch 145/150\n",
      "275/275 [==============================] - 0s 255us/sample - loss: 0.2374 - accuracy: 0.9055 - val_loss: 0.2543 - val_accuracy: 0.8992\n",
      "Epoch 146/150\n",
      "275/275 [==============================] - 0s 249us/sample - loss: 0.2372 - accuracy: 0.9055 - val_loss: 0.2543 - val_accuracy: 0.8992\n",
      "Epoch 147/150\n",
      "275/275 [==============================] - 0s 256us/sample - loss: 0.2370 - accuracy: 0.9055 - val_loss: 0.2546 - val_accuracy: 0.8992\n",
      "Epoch 148/150\n",
      "275/275 [==============================] - 0s 283us/sample - loss: 0.2368 - accuracy: 0.9055 - val_loss: 0.2549 - val_accuracy: 0.8992\n",
      "Epoch 149/150\n",
      "275/275 [==============================] - 0s 277us/sample - loss: 0.2365 - accuracy: 0.9055 - val_loss: 0.2548 - val_accuracy: 0.8992\n",
      "Epoch 150/150\n",
      "275/275 [==============================] - 0s 279us/sample - loss: 0.2363 - accuracy: 0.9055 - val_loss: 0.2551 - val_accuracy: 0.8992\n"
     ]
    }
   ],
   "source": [
    "model_simple = tf.keras.models.Sequential(name = 'ANN')\n",
    "\n",
    "model_simple.add(tf.keras.layers.Dense(6, activation='relu', input_shape=(9,), name='hidden1'))\n",
    "model_simple.add(tf.keras.layers.Dense(1, activation = 'sigmoid', name = 'output'))\n",
    "\n",
    "model_simple.compile(optimizer='adam', loss=\"binary_crossentropy\", metrics=['accuracy'])\n",
    "history = model_simple.fit(X_train, y_train, epochs=150, batch_size=32, verbose=1, validation_split=0.3)"
   ]
  },
  {
   "cell_type": "code",
   "execution_count": 213,
   "metadata": {},
   "outputs": [
    {
     "name": "stdout",
     "output_type": "stream",
     "text": [
      "50/1 - 0s - loss: 0.1595 - accuracy: 0.9800\n",
      "Test accuracy=0.9800000190734863\n"
     ]
    }
   ],
   "source": [
    "test_loss1, test_accuracy1 = model_simple.evaluate(X_test, y_test, verbose=2)\n",
    "print(f'Test accuracy={test_accuracy1}')"
   ]
  },
  {
   "cell_type": "code",
   "execution_count": 214,
   "metadata": {},
   "outputs": [],
   "source": [
    "nn = 0.8992"
   ]
  },
  {
   "cell_type": "code",
   "execution_count": 218,
   "metadata": {},
   "outputs": [
    {
     "data": {
      "text/html": [
       "<div>\n",
       "<style scoped>\n",
       "    .dataframe tbody tr th:only-of-type {\n",
       "        vertical-align: middle;\n",
       "    }\n",
       "\n",
       "    .dataframe tbody tr th {\n",
       "        vertical-align: top;\n",
       "    }\n",
       "\n",
       "    .dataframe thead th {\n",
       "        text-align: right;\n",
       "    }\n",
       "</style>\n",
       "<table border=\"1\" class=\"dataframe\">\n",
       "  <thead>\n",
       "    <tr style=\"text-align: right;\">\n",
       "      <th></th>\n",
       "      <th>LogisticRegressionCV</th>\n",
       "      <th>DecisionTreeClassifier</th>\n",
       "      <th>RandomForestClassifier</th>\n",
       "      <th>AdaBoostClassifier</th>\n",
       "      <th>SequentialNeuralNetwork</th>\n",
       "    </tr>\n",
       "  </thead>\n",
       "  <tbody>\n",
       "    <tr>\n",
       "      <th>Accuracy</th>\n",
       "      <td>0.88585</td>\n",
       "      <td>0.88075</td>\n",
       "      <td>0.8987</td>\n",
       "      <td>0.87831</td>\n",
       "      <td>0.8992</td>\n",
       "    </tr>\n",
       "  </tbody>\n",
       "</table>\n",
       "</div>"
      ],
      "text/plain": [
       "          LogisticRegressionCV  DecisionTreeClassifier  \\\n",
       "Accuracy               0.88585                 0.88075   \n",
       "\n",
       "          RandomForestClassifier  AdaBoostClassifier  SequentialNeuralNetwork  \n",
       "Accuracy                  0.8987             0.87831                   0.8992  "
      ]
     },
     "metadata": {},
     "output_type": "display_data"
    }
   ],
   "source": [
    "lst_vals = [lreg,dtree,np.round(rf,5),ada,nn]\n",
    "models = ['LogisticRegressionCV'\n",
    "         ,'DecisionTreeClassifier'\n",
    "         ,'RandomForestClassifier'\n",
    "         ,'AdaBoostClassifier'\n",
    "         ,'SequentialNeuralNetwork']\n",
    "\n",
    "entire_data = pd.DataFrame(lst_vals, index=models, columns=['Accuracy'])\n",
    "display(entire_data.T)"
   ]
  },
  {
   "cell_type": "code",
   "execution_count": null,
   "metadata": {},
   "outputs": [],
   "source": []
  }
 ],
 "metadata": {
  "kernelspec": {
   "display_name": "Python 3",
   "language": "python",
   "name": "python3"
  },
  "language_info": {
   "codemirror_mode": {
    "name": "ipython",
    "version": 3
   },
   "file_extension": ".py",
   "mimetype": "text/x-python",
   "name": "python",
   "nbconvert_exporter": "python",
   "pygments_lexer": "ipython3",
   "version": "3.7.8"
  }
 },
 "nbformat": 4,
 "nbformat_minor": 4
}
